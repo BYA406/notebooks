{
 "cells": [
  {
   "cell_type": "markdown",
   "id": "02de4adc",
   "metadata": {},
   "source": [
    "## Getting World Map Countries Indicators"
   ]
  },
  {
   "cell_type": "markdown",
   "id": "9ab393b9",
   "metadata": {},
   "source": [
    "#### Importing Dependencies"
   ]
  },
  {
   "cell_type": "code",
   "execution_count": 1,
   "id": "ba3e973f",
   "metadata": {},
   "outputs": [],
   "source": [
    "import tradingeconomics as te\n",
    "import pandas as pd\n",
    "import numpy as np\n",
    "import pycountry\n",
    "import plotly.graph_objects as go\n",
    "import plotly.express as px\n",
    "\n"
   ]
  },
  {
   "cell_type": "markdown",
   "id": "d03b499a",
   "metadata": {},
   "source": [
    "#### API login\n"
   ]
  },
  {
   "cell_type": "code",
   "execution_count": 2,
   "id": "4b416966",
   "metadata": {},
   "outputs": [
    {
     "data": {
      "text/plain": [
       "'You are logged in as a kjq3jx15aswdmed:77vy8tb3e7s5d45'"
      ]
     },
     "execution_count": 2,
     "metadata": {},
     "output_type": "execute_result"
    }
   ],
   "source": [
    "te.login('kjq3jx15aswdmed:77vy8tb3e7s5d45') # Signup for a free API key at https://developer.tradingeconomics.com/"
   ]
  },
  {
   "cell_type": "markdown",
   "id": "36989706",
   "metadata": {},
   "source": [
    "### Importing Data"
   ]
  },
  {
   "cell_type": "markdown",
   "id": "565a9cec",
   "metadata": {},
   "source": [
    "#### Function for Specific "
   ]
  },
  {
   "cell_type": "code",
   "execution_count": 75,
   "id": "0ccf7b5b",
   "metadata": {
    "scrolled": true
   },
   "outputs": [],
   "source": [
    "temp_df = te.getIndicatorData(country='united states', output_type='df')\n"
   ]
  },
  {
   "cell_type": "code",
   "execution_count": 88,
   "id": "38f3757a",
   "metadata": {
    "scrolled": true
   },
   "outputs": [
    {
     "data": {
      "text/html": [
       "<div>\n",
       "<style scoped>\n",
       "    .dataframe tbody tr th:only-of-type {\n",
       "        vertical-align: middle;\n",
       "    }\n",
       "\n",
       "    .dataframe tbody tr th {\n",
       "        vertical-align: top;\n",
       "    }\n",
       "\n",
       "    .dataframe thead th {\n",
       "        text-align: right;\n",
       "    }\n",
       "</style>\n",
       "<table border=\"1\" class=\"dataframe\">\n",
       "  <thead>\n",
       "    <tr style=\"text-align: right;\">\n",
       "      <th></th>\n",
       "      <th>Country</th>\n",
       "      <th>Category</th>\n",
       "      <th>Title</th>\n",
       "      <th>LatestValue</th>\n",
       "      <th>LatestValueDate</th>\n",
       "      <th>Source</th>\n",
       "      <th>Unit</th>\n",
       "      <th>URL</th>\n",
       "      <th>CategoryGroup</th>\n",
       "      <th>Adjustment</th>\n",
       "      <th>Frequency</th>\n",
       "      <th>HistoricalDataSymbol</th>\n",
       "      <th>CreateDate</th>\n",
       "      <th>PreviousValue</th>\n",
       "      <th>PreviousValueDate</th>\n",
       "    </tr>\n",
       "  </thead>\n",
       "  <tbody>\n",
       "    <tr>\n",
       "      <th>1</th>\n",
       "      <td>United States</td>\n",
       "      <td>ADP Employment Change</td>\n",
       "      <td>United States ADP Employment Change</td>\n",
       "      <td>374.00</td>\n",
       "      <td>2021-08-31T00:00:00</td>\n",
       "      <td>Automatic Data Processing, Inc.</td>\n",
       "      <td>Thousand</td>\n",
       "      <td>/united-states/adp-employment-change</td>\n",
       "      <td>Labour</td>\n",
       "      <td>SA</td>\n",
       "      <td>Monthly</td>\n",
       "      <td>UNITEDSTAADPEMPCHA</td>\n",
       "      <td>2014-04-30T13:57:00</td>\n",
       "      <td>326.00</td>\n",
       "      <td>2021-07-31T00:00:00</td>\n",
       "    </tr>\n",
       "    <tr>\n",
       "      <th>11</th>\n",
       "      <td>United States</td>\n",
       "      <td>Average Hourly Earnings</td>\n",
       "      <td>United States Average Hourly Earnings</td>\n",
       "      <td>0.60</td>\n",
       "      <td>2021-08-31T00:00:00</td>\n",
       "      <td>U.S. Bureau of Labor Statistics</td>\n",
       "      <td>percent</td>\n",
       "      <td>/united-states/average-hourly-earnings</td>\n",
       "      <td>Labour</td>\n",
       "      <td>Current Prices, SA</td>\n",
       "      <td>Monthly</td>\n",
       "      <td>UNITEDSTAAVEHOUEAR</td>\n",
       "      <td>2014-05-02T13:46:00</td>\n",
       "      <td>0.40</td>\n",
       "      <td>2021-07-31T00:00:00</td>\n",
       "    </tr>\n",
       "    <tr>\n",
       "      <th>12</th>\n",
       "      <td>United States</td>\n",
       "      <td>Average Weekly Hours</td>\n",
       "      <td>United States Average Weekly Hours</td>\n",
       "      <td>34.70</td>\n",
       "      <td>2021-08-31T00:00:00</td>\n",
       "      <td>U.S. Bureau of Labor Statistics</td>\n",
       "      <td>Hours</td>\n",
       "      <td>/united-states/average-weekly-hours</td>\n",
       "      <td>Labour</td>\n",
       "      <td></td>\n",
       "      <td>Monthly</td>\n",
       "      <td>UNITEDSTAAVEWEEHOU</td>\n",
       "      <td>2014-05-02T13:47:00</td>\n",
       "      <td>34.70</td>\n",
       "      <td>2021-07-31T00:00:00</td>\n",
       "    </tr>\n",
       "    <tr>\n",
       "      <th>27</th>\n",
       "      <td>United States</td>\n",
       "      <td>Challenger Job Cuts</td>\n",
       "      <td>United States Challenger Job Cuts</td>\n",
       "      <td>15723.00</td>\n",
       "      <td>2021-08-31T00:00:00</td>\n",
       "      <td>Challenger, Gray and Christmas, Inc.</td>\n",
       "      <td>Persons</td>\n",
       "      <td>/united-states/challenger-job-cuts</td>\n",
       "      <td>Labour</td>\n",
       "      <td>NSA</td>\n",
       "      <td>Monthly</td>\n",
       "      <td>UNITEDSTACHAJOBCUT</td>\n",
       "      <td>2014-03-06T12:35:00</td>\n",
       "      <td>18942.00</td>\n",
       "      <td>2021-07-31T00:00:00</td>\n",
       "    </tr>\n",
       "    <tr>\n",
       "      <th>39</th>\n",
       "      <td>United States</td>\n",
       "      <td>Continuing Jobless Claims</td>\n",
       "      <td>United States Continuing Jobless Claims</td>\n",
       "      <td>2748.00</td>\n",
       "      <td>2021-08-21T00:00:00</td>\n",
       "      <td>U.S. Department of Labor</td>\n",
       "      <td>Thousand</td>\n",
       "      <td>/united-states/continuing-jobless-claims</td>\n",
       "      <td>Labour</td>\n",
       "      <td>Volume, SA</td>\n",
       "      <td>Weekly</td>\n",
       "      <td>UNITEDSTACONJOBCLA</td>\n",
       "      <td>2014-05-15T18:12:00</td>\n",
       "      <td>2908.00</td>\n",
       "      <td>2021-08-14T00:00:00</td>\n",
       "    </tr>\n",
       "    <tr>\n",
       "      <th>76</th>\n",
       "      <td>United States</td>\n",
       "      <td>Employed Persons</td>\n",
       "      <td>United States Employed Persons</td>\n",
       "      <td>153154.00</td>\n",
       "      <td>2021-08-31T00:00:00</td>\n",
       "      <td>U.S. Bureau of Labor Statistics</td>\n",
       "      <td>Thousand</td>\n",
       "      <td>/united-states/employed-persons</td>\n",
       "      <td>Labour</td>\n",
       "      <td>Volume, SA</td>\n",
       "      <td>Monthly</td>\n",
       "      <td>UNITEDSTAEMPPER</td>\n",
       "      <td>2013-11-08T14:09:00</td>\n",
       "      <td>152645.00</td>\n",
       "      <td>2021-07-31T00:00:00</td>\n",
       "    </tr>\n",
       "    <tr>\n",
       "      <th>77</th>\n",
       "      <td>United States</td>\n",
       "      <td>Employment Cost Index</td>\n",
       "      <td>United States Employment Cost Index QoQ</td>\n",
       "      <td>0.70</td>\n",
       "      <td>2021-06-30T00:00:00</td>\n",
       "      <td>U.S. Bureau of Labor Statistics</td>\n",
       "      <td>percent</td>\n",
       "      <td>/united-states/employment-cost-index</td>\n",
       "      <td>Labour</td>\n",
       "      <td>SA</td>\n",
       "      <td>Quarterly</td>\n",
       "      <td>UNITEDSTAEMPCOSIND</td>\n",
       "      <td>2015-07-31T15:16:00</td>\n",
       "      <td>0.90</td>\n",
       "      <td>2021-03-31T00:00:00</td>\n",
       "    </tr>\n",
       "    <tr>\n",
       "      <th>78</th>\n",
       "      <td>United States</td>\n",
       "      <td>Employment Rate</td>\n",
       "      <td>United States Employment Rate</td>\n",
       "      <td>58.50</td>\n",
       "      <td>2021-08-31T00:00:00</td>\n",
       "      <td>U.S. Bureau of Labor Statistics</td>\n",
       "      <td>percent</td>\n",
       "      <td>/united-states/employment-rate</td>\n",
       "      <td>Labour</td>\n",
       "      <td>SA</td>\n",
       "      <td>Monthly</td>\n",
       "      <td>UNITEDSTAEMPRAT</td>\n",
       "      <td>2015-11-20T16:28:00</td>\n",
       "      <td>58.40</td>\n",
       "      <td>2021-07-31T00:00:00</td>\n",
       "    </tr>\n",
       "    <tr>\n",
       "      <th>90</th>\n",
       "      <td>United States</td>\n",
       "      <td>Full Time Employment</td>\n",
       "      <td>United States Full Time Employment</td>\n",
       "      <td>127436.00</td>\n",
       "      <td>2021-08-31T00:00:00</td>\n",
       "      <td>U.S. Bureau of Labor Statistics</td>\n",
       "      <td>Thousand</td>\n",
       "      <td>/united-states/full-time-employment</td>\n",
       "      <td>Labour</td>\n",
       "      <td>SA</td>\n",
       "      <td>Monthly</td>\n",
       "      <td>UNITEDSTAFULTIMEMP</td>\n",
       "      <td>2015-12-28T17:40:00</td>\n",
       "      <td>127466.00</td>\n",
       "      <td>2021-07-31T00:00:00</td>\n",
       "    </tr>\n",
       "    <tr>\n",
       "      <th>116</th>\n",
       "      <td>United States</td>\n",
       "      <td>Government Payrolls</td>\n",
       "      <td>United States Government Payrolls</td>\n",
       "      <td>-8.00</td>\n",
       "      <td>2021-08-31T00:00:00</td>\n",
       "      <td>U.S. Bureau of Labor Statistics</td>\n",
       "      <td>Thousand</td>\n",
       "      <td>/united-states/government-payrolls</td>\n",
       "      <td>Labour</td>\n",
       "      <td>SA</td>\n",
       "      <td>Monthly</td>\n",
       "      <td>UNITEDSTAGOVPAY</td>\n",
       "      <td>2014-08-01T16:18:00</td>\n",
       "      <td>255.00</td>\n",
       "      <td>2021-07-31T00:00:00</td>\n",
       "    </tr>\n",
       "    <tr>\n",
       "      <th>139</th>\n",
       "      <td>United States</td>\n",
       "      <td>Initial Jobless Claims</td>\n",
       "      <td>United States Initial Jobless Claims</td>\n",
       "      <td>340.00</td>\n",
       "      <td>2021-08-28T00:00:00</td>\n",
       "      <td>U.S. Department of Labor</td>\n",
       "      <td>Thousand</td>\n",
       "      <td>/united-states/jobless-claims</td>\n",
       "      <td>Labour</td>\n",
       "      <td>Volume, SA</td>\n",
       "      <td>Weekly</td>\n",
       "      <td>IJCUSA</td>\n",
       "      <td>2014-05-15T18:06:00</td>\n",
       "      <td>354.00</td>\n",
       "      <td>2021-08-21T00:00:00</td>\n",
       "    </tr>\n",
       "    <tr>\n",
       "      <th>144</th>\n",
       "      <td>United States</td>\n",
       "      <td>Job Offers</td>\n",
       "      <td>United States Job Openings</td>\n",
       "      <td>10073.00</td>\n",
       "      <td>2021-06-30T00:00:00</td>\n",
       "      <td>U.S. Bureau of Labor Statistics</td>\n",
       "      <td>Thousand</td>\n",
       "      <td>/united-states/job-offers</td>\n",
       "      <td>Labour</td>\n",
       "      <td>SA</td>\n",
       "      <td>Monthly</td>\n",
       "      <td>UNITEDSTAJOBOFF</td>\n",
       "      <td>2014-10-11T21:45:00</td>\n",
       "      <td>9483.00</td>\n",
       "      <td>2021-05-31T00:00:00</td>\n",
       "    </tr>\n",
       "    <tr>\n",
       "      <th>145</th>\n",
       "      <td>United States</td>\n",
       "      <td>Job Vacancies</td>\n",
       "      <td>United States Job Openings NSA</td>\n",
       "      <td>10342.00</td>\n",
       "      <td>2021-06-30T00:00:00</td>\n",
       "      <td>U.S. Bureau of Labor Statistics</td>\n",
       "      <td>Thousand</td>\n",
       "      <td>/united-states/job-vacancies</td>\n",
       "      <td>Labour</td>\n",
       "      <td>Volume, NSA</td>\n",
       "      <td>Monthly</td>\n",
       "      <td>UNITEDSTAJOBVAC</td>\n",
       "      <td>2012-09-29T00:19:00</td>\n",
       "      <td>9478.00</td>\n",
       "      <td>2021-05-31T00:00:00</td>\n",
       "    </tr>\n",
       "    <tr>\n",
       "      <th>146</th>\n",
       "      <td>United States</td>\n",
       "      <td>Jobless Claims 4-week Average</td>\n",
       "      <td>United States Jobless Claims 4-week Average</td>\n",
       "      <td>355.00</td>\n",
       "      <td>2021-08-28T00:00:00</td>\n",
       "      <td>U.S. Department of Labor</td>\n",
       "      <td>Thousand</td>\n",
       "      <td>/united-states/jobless-claims-4-week-average</td>\n",
       "      <td>Labour</td>\n",
       "      <td>Volume, SA</td>\n",
       "      <td>Weekly</td>\n",
       "      <td>UNITEDSTAJC4A</td>\n",
       "      <td>2020-03-29T12:53:00</td>\n",
       "      <td>366.75</td>\n",
       "      <td>2021-08-21T00:00:00</td>\n",
       "    </tr>\n",
       "    <tr>\n",
       "      <th>148</th>\n",
       "      <td>United States</td>\n",
       "      <td>Labor Force Participation Rate</td>\n",
       "      <td>United States Labor Force Participation Rate</td>\n",
       "      <td>61.70</td>\n",
       "      <td>2021-08-31T00:00:00</td>\n",
       "      <td>U.S. Bureau of Labor Statistics</td>\n",
       "      <td>percent</td>\n",
       "      <td>/united-states/labor-force-participation-rate</td>\n",
       "      <td>Labour</td>\n",
       "      <td>SA</td>\n",
       "      <td>Monthly</td>\n",
       "      <td>UNITEDSTALABFORPARRA</td>\n",
       "      <td>2014-08-28T13:13:00</td>\n",
       "      <td>61.70</td>\n",
       "      <td>2021-07-31T00:00:00</td>\n",
       "    </tr>\n",
       "    <tr>\n",
       "      <th>149</th>\n",
       "      <td>United States</td>\n",
       "      <td>Labour Costs</td>\n",
       "      <td>United States Nonfarm Unit Labour Cost</td>\n",
       "      <td>118.60</td>\n",
       "      <td>2021-06-30T00:00:00</td>\n",
       "      <td>U.S. Bureau of Labor Statistics</td>\n",
       "      <td>points</td>\n",
       "      <td>/united-states/labour-costs</td>\n",
       "      <td>Labour</td>\n",
       "      <td>2012=100, SA</td>\n",
       "      <td>Quarterly</td>\n",
       "      <td>UNITEDSTALABCOS</td>\n",
       "      <td>2014-08-28T12:47:00</td>\n",
       "      <td>118.23</td>\n",
       "      <td>2021-03-31T00:00:00</td>\n",
       "    </tr>\n",
       "    <tr>\n",
       "      <th>157</th>\n",
       "      <td>United States</td>\n",
       "      <td>Long Term Unemployment Rate</td>\n",
       "      <td>United States Long Term Unemployment Rate</td>\n",
       "      <td>1.97</td>\n",
       "      <td>2021-08-31T00:00:00</td>\n",
       "      <td>U.S. Bureau of Labor Statistics</td>\n",
       "      <td>percent</td>\n",
       "      <td>/united-states/long-term-unemployment-rate</td>\n",
       "      <td>Labour</td>\n",
       "      <td></td>\n",
       "      <td>Monthly</td>\n",
       "      <td>UNITEDSTALONTERUNERA</td>\n",
       "      <td>2013-11-20T11:46:00</td>\n",
       "      <td>2.12</td>\n",
       "      <td>2021-07-31T00:00:00</td>\n",
       "    </tr>\n",
       "    <tr>\n",
       "      <th>158</th>\n",
       "      <td>United States</td>\n",
       "      <td>Manufacturing Payrolls</td>\n",
       "      <td>United States Manufacturing Payrolls</td>\n",
       "      <td>37.00</td>\n",
       "      <td>2021-08-31T00:00:00</td>\n",
       "      <td>U.S. Bureau of Labor Statistics</td>\n",
       "      <td>Thousand</td>\n",
       "      <td>/united-states/manufacturing-payrolls</td>\n",
       "      <td>Labour</td>\n",
       "      <td>SA</td>\n",
       "      <td>Monthly</td>\n",
       "      <td>UNITEDSTAMANPAY</td>\n",
       "      <td>2014-06-06T13:39:00</td>\n",
       "      <td>52.00</td>\n",
       "      <td>2021-07-31T00:00:00</td>\n",
       "    </tr>\n",
       "    <tr>\n",
       "      <th>163</th>\n",
       "      <td>United States</td>\n",
       "      <td>Minimum Wages</td>\n",
       "      <td>United States Federal Minimum Hourly Wage</td>\n",
       "      <td>7.25</td>\n",
       "      <td>2020-12-31T00:00:00</td>\n",
       "      <td>Department of Labor</td>\n",
       "      <td>USD/Hour</td>\n",
       "      <td>/united-states/minimum-wages</td>\n",
       "      <td>Labour</td>\n",
       "      <td></td>\n",
       "      <td>Yearly</td>\n",
       "      <td>UNITEDSTAMINWAG</td>\n",
       "      <td>2014-11-20T16:28:00</td>\n",
       "      <td>7.25</td>\n",
       "      <td>2019-12-31T00:00:00</td>\n",
       "    </tr>\n",
       "    <tr>\n",
       "      <th>176</th>\n",
       "      <td>United States</td>\n",
       "      <td>Non Farm Payrolls</td>\n",
       "      <td>United States Non Farm Payrolls</td>\n",
       "      <td>235.00</td>\n",
       "      <td>2021-08-31T00:00:00</td>\n",
       "      <td>U.S. Bureau of Labor Statistics</td>\n",
       "      <td>Thousand</td>\n",
       "      <td>/united-states/non-farm-payrolls</td>\n",
       "      <td>Labour</td>\n",
       "      <td></td>\n",
       "      <td>Monthly</td>\n",
       "      <td>NFP TCH</td>\n",
       "      <td>2014-02-07T14:16:00</td>\n",
       "      <td>1053.00</td>\n",
       "      <td>2021-07-31T00:00:00</td>\n",
       "    </tr>\n",
       "    <tr>\n",
       "      <th>178</th>\n",
       "      <td>United States</td>\n",
       "      <td>Nonfarm Payrolls Private</td>\n",
       "      <td>United States Nonfarm Payrolls - Private</td>\n",
       "      <td>243.00</td>\n",
       "      <td>2021-08-31T00:00:00</td>\n",
       "      <td>U.S. Bureau of Labor Statistics</td>\n",
       "      <td>Thousand</td>\n",
       "      <td>/united-states/nonfarm-payrolls-private</td>\n",
       "      <td>Labour</td>\n",
       "      <td></td>\n",
       "      <td>Monthly</td>\n",
       "      <td>UNITEDSTANONPAY-PRI</td>\n",
       "      <td>2014-06-06T13:38:00</td>\n",
       "      <td>798.00</td>\n",
       "      <td>2021-07-31T00:00:00</td>\n",
       "    </tr>\n",
       "    <tr>\n",
       "      <th>182</th>\n",
       "      <td>United States</td>\n",
       "      <td>Pandemic Unemployment Assistance Claims</td>\n",
       "      <td>United States Pandemic Unemployment Assistance...</td>\n",
       "      <td>117.71</td>\n",
       "      <td>2021-08-21T00:00:00</td>\n",
       "      <td>U.S. Department of Labor</td>\n",
       "      <td>Thousand</td>\n",
       "      <td>/united-states/pandemic-unemployment-assistanc...</td>\n",
       "      <td>Labour</td>\n",
       "      <td>Volume, NSA</td>\n",
       "      <td>Weekly</td>\n",
       "      <td>UNITEDSTAPUAC</td>\n",
       "      <td>2020-11-09T13:48:00</td>\n",
       "      <td>108.08</td>\n",
       "      <td>2021-08-14T00:00:00</td>\n",
       "    </tr>\n",
       "    <tr>\n",
       "      <th>183</th>\n",
       "      <td>United States</td>\n",
       "      <td>Part Time Employment</td>\n",
       "      <td>United States Part Time Employment</td>\n",
       "      <td>25783.00</td>\n",
       "      <td>2021-08-31T00:00:00</td>\n",
       "      <td>U.S. Bureau of Labor Statistics</td>\n",
       "      <td>Thousand</td>\n",
       "      <td>/united-states/part-time-employment</td>\n",
       "      <td>Labour</td>\n",
       "      <td>SA</td>\n",
       "      <td>Monthly</td>\n",
       "      <td>UNITEDSTAPARTIMEMP</td>\n",
       "      <td>2015-11-24T14:52:00</td>\n",
       "      <td>25360.00</td>\n",
       "      <td>2021-07-31T00:00:00</td>\n",
       "    </tr>\n",
       "    <tr>\n",
       "      <th>191</th>\n",
       "      <td>United States</td>\n",
       "      <td>Population</td>\n",
       "      <td>United States Population</td>\n",
       "      <td>329.48</td>\n",
       "      <td>2020-12-31T00:00:00</td>\n",
       "      <td>U.S. Census Bureau</td>\n",
       "      <td>Million</td>\n",
       "      <td>/united-states/population</td>\n",
       "      <td>Labour</td>\n",
       "      <td></td>\n",
       "      <td>Yearly</td>\n",
       "      <td>USA SP.POP.TOTL</td>\n",
       "      <td>2014-09-10T16:29:00</td>\n",
       "      <td>328.33</td>\n",
       "      <td>2019-12-31T00:00:00</td>\n",
       "    </tr>\n",
       "    <tr>\n",
       "      <th>196</th>\n",
       "      <td>United States</td>\n",
       "      <td>Productivity</td>\n",
       "      <td>United States Nonfarm Labour Productivity</td>\n",
       "      <td>112.70</td>\n",
       "      <td>2021-06-30T00:00:00</td>\n",
       "      <td>U.S. Bureau of Labor Statistics</td>\n",
       "      <td>points</td>\n",
       "      <td>/united-states/productivity</td>\n",
       "      <td>Labour</td>\n",
       "      <td>2012=100, SA</td>\n",
       "      <td>Quarterly</td>\n",
       "      <td>UNITEDSTAPRO</td>\n",
       "      <td>2014-08-28T13:01:00</td>\n",
       "      <td>112.10</td>\n",
       "      <td>2021-03-31T00:00:00</td>\n",
       "    </tr>\n",
       "    <tr>\n",
       "      <th>203</th>\n",
       "      <td>United States</td>\n",
       "      <td>Retirement Age Men</td>\n",
       "      <td>United States Retirement Age - Men</td>\n",
       "      <td>66.00</td>\n",
       "      <td>2020-12-31T00:00:00</td>\n",
       "      <td>Internal Revenue Service</td>\n",
       "      <td></td>\n",
       "      <td>/united-states/retirement-age-men</td>\n",
       "      <td>Labour</td>\n",
       "      <td></td>\n",
       "      <td>Yearly</td>\n",
       "      <td>UnitedStRetAgeMen</td>\n",
       "      <td>2013-11-27T18:24:00</td>\n",
       "      <td>66.00</td>\n",
       "      <td>2019-12-31T00:00:00</td>\n",
       "    </tr>\n",
       "    <tr>\n",
       "      <th>204</th>\n",
       "      <td>United States</td>\n",
       "      <td>Retirement Age Women</td>\n",
       "      <td>United States Retirement Age - Women</td>\n",
       "      <td>66.00</td>\n",
       "      <td>2020-12-31T00:00:00</td>\n",
       "      <td>Internal Revenue Service</td>\n",
       "      <td></td>\n",
       "      <td>/united-states/retirement-age-women</td>\n",
       "      <td>Labour</td>\n",
       "      <td></td>\n",
       "      <td>Yearly</td>\n",
       "      <td>UnitedStRetAgeWom</td>\n",
       "      <td>2013-11-27T18:28:00</td>\n",
       "      <td>66.00</td>\n",
       "      <td>2019-12-31T00:00:00</td>\n",
       "    </tr>\n",
       "    <tr>\n",
       "      <th>219</th>\n",
       "      <td>United States</td>\n",
       "      <td>Unemployed Persons</td>\n",
       "      <td>United States Unemployed Persons</td>\n",
       "      <td>8384.00</td>\n",
       "      <td>2021-08-31T00:00:00</td>\n",
       "      <td>U.S. Bureau of Labor Statistics</td>\n",
       "      <td>Thousand</td>\n",
       "      <td>/united-states/unemployed-persons</td>\n",
       "      <td>Labour</td>\n",
       "      <td>Volume, SA</td>\n",
       "      <td>Monthly</td>\n",
       "      <td>UNITEDSTAUNEPER</td>\n",
       "      <td>2013-11-08T14:13:00</td>\n",
       "      <td>8702.00</td>\n",
       "      <td>2021-07-31T00:00:00</td>\n",
       "    </tr>\n",
       "    <tr>\n",
       "      <th>220</th>\n",
       "      <td>United States</td>\n",
       "      <td>Unemployment Rate</td>\n",
       "      <td>United States Unemployment Rate</td>\n",
       "      <td>5.20</td>\n",
       "      <td>2021-08-31T00:00:00</td>\n",
       "      <td>U.S. Bureau of Labor Statistics</td>\n",
       "      <td>percent</td>\n",
       "      <td>/united-states/unemployment-rate</td>\n",
       "      <td>Labour</td>\n",
       "      <td></td>\n",
       "      <td>Monthly</td>\n",
       "      <td>USURTOT</td>\n",
       "      <td>2012-02-23T11:41:00</td>\n",
       "      <td>5.40</td>\n",
       "      <td>2021-07-31T00:00:00</td>\n",
       "    </tr>\n",
       "    <tr>\n",
       "      <th>221</th>\n",
       "      <td>United States</td>\n",
       "      <td>Wage Growth</td>\n",
       "      <td>United States Wages and Salaries Growth</td>\n",
       "      <td>10.10</td>\n",
       "      <td>2021-07-31T00:00:00</td>\n",
       "      <td>U.S. Bureau of Economic Analysis</td>\n",
       "      <td>percent</td>\n",
       "      <td>/united-states/wage-growth</td>\n",
       "      <td>Labour</td>\n",
       "      <td>Current Prices, SA</td>\n",
       "      <td>Monthly</td>\n",
       "      <td>UNITEDSTAWAGGRO</td>\n",
       "      <td>2015-02-25T18:22:00</td>\n",
       "      <td>10.24</td>\n",
       "      <td>2021-06-30T00:00:00</td>\n",
       "    </tr>\n",
       "    <tr>\n",
       "      <th>222</th>\n",
       "      <td>United States</td>\n",
       "      <td>Wages</td>\n",
       "      <td>United States Average Hourly Wages</td>\n",
       "      <td>25.99</td>\n",
       "      <td>2021-08-31T00:00:00</td>\n",
       "      <td>U.S. Bureau of Labor Statistics</td>\n",
       "      <td>USD/Hour</td>\n",
       "      <td>/united-states/wages</td>\n",
       "      <td>Labour</td>\n",
       "      <td>Current Prices, SA</td>\n",
       "      <td>Monthly</td>\n",
       "      <td>UNITEDSTAWAG</td>\n",
       "      <td>2012-09-29T00:23:00</td>\n",
       "      <td>25.85</td>\n",
       "      <td>2021-07-31T00:00:00</td>\n",
       "    </tr>\n",
       "    <tr>\n",
       "      <th>223</th>\n",
       "      <td>United States</td>\n",
       "      <td>Wages in Manufacturing</td>\n",
       "      <td>United States Average Hourly Wages in Manufact...</td>\n",
       "      <td>23.95</td>\n",
       "      <td>2021-08-31T00:00:00</td>\n",
       "      <td>U.S. Bureau of Labor Statistics</td>\n",
       "      <td>USD/Hour</td>\n",
       "      <td>/united-states/wages-in-manufacturing</td>\n",
       "      <td>Labour</td>\n",
       "      <td>Current Prices, NSA</td>\n",
       "      <td>Monthly</td>\n",
       "      <td>UNITEDSTAWAGINMAN</td>\n",
       "      <td>2014-04-17T11:00:00</td>\n",
       "      <td>23.81</td>\n",
       "      <td>2021-07-31T00:00:00</td>\n",
       "    </tr>\n",
       "    <tr>\n",
       "      <th>226</th>\n",
       "      <td>United States</td>\n",
       "      <td>Youth Unemployment Rate</td>\n",
       "      <td>United States Youth Unemployment Rate</td>\n",
       "      <td>9.90</td>\n",
       "      <td>2021-08-31T00:00:00</td>\n",
       "      <td>U.S. Bureau of Labor Statistics</td>\n",
       "      <td>percent</td>\n",
       "      <td>/united-states/youth-unemployment-rate</td>\n",
       "      <td>Labour</td>\n",
       "      <td>SA</td>\n",
       "      <td>Monthly</td>\n",
       "      <td>UnitedStaYouUneRat</td>\n",
       "      <td>2013-11-06T17:08:00</td>\n",
       "      <td>9.20</td>\n",
       "      <td>2021-07-31T00:00:00</td>\n",
       "    </tr>\n",
       "  </tbody>\n",
       "</table>\n",
       "</div>"
      ],
      "text/plain": [
       "           Country                                 Category  \\\n",
       "1    United States                    ADP Employment Change   \n",
       "11   United States                  Average Hourly Earnings   \n",
       "12   United States                     Average Weekly Hours   \n",
       "27   United States                      Challenger Job Cuts   \n",
       "39   United States                Continuing Jobless Claims   \n",
       "76   United States                         Employed Persons   \n",
       "77   United States                    Employment Cost Index   \n",
       "78   United States                          Employment Rate   \n",
       "90   United States                     Full Time Employment   \n",
       "116  United States                      Government Payrolls   \n",
       "139  United States                   Initial Jobless Claims   \n",
       "144  United States                               Job Offers   \n",
       "145  United States                            Job Vacancies   \n",
       "146  United States            Jobless Claims 4-week Average   \n",
       "148  United States           Labor Force Participation Rate   \n",
       "149  United States                             Labour Costs   \n",
       "157  United States              Long Term Unemployment Rate   \n",
       "158  United States                   Manufacturing Payrolls   \n",
       "163  United States                            Minimum Wages   \n",
       "176  United States                        Non Farm Payrolls   \n",
       "178  United States                 Nonfarm Payrolls Private   \n",
       "182  United States  Pandemic Unemployment Assistance Claims   \n",
       "183  United States                     Part Time Employment   \n",
       "191  United States                               Population   \n",
       "196  United States                             Productivity   \n",
       "203  United States                       Retirement Age Men   \n",
       "204  United States                     Retirement Age Women   \n",
       "219  United States                       Unemployed Persons   \n",
       "220  United States                        Unemployment Rate   \n",
       "221  United States                              Wage Growth   \n",
       "222  United States                                    Wages   \n",
       "223  United States                   Wages in Manufacturing   \n",
       "226  United States                  Youth Unemployment Rate   \n",
       "\n",
       "                                                 Title  LatestValue  \\\n",
       "1                  United States ADP Employment Change       374.00   \n",
       "11               United States Average Hourly Earnings         0.60   \n",
       "12                  United States Average Weekly Hours        34.70   \n",
       "27                   United States Challenger Job Cuts     15723.00   \n",
       "39             United States Continuing Jobless Claims      2748.00   \n",
       "76                      United States Employed Persons    153154.00   \n",
       "77             United States Employment Cost Index QoQ         0.70   \n",
       "78                       United States Employment Rate        58.50   \n",
       "90                  United States Full Time Employment    127436.00   \n",
       "116                  United States Government Payrolls        -8.00   \n",
       "139               United States Initial Jobless Claims       340.00   \n",
       "144                         United States Job Openings     10073.00   \n",
       "145                     United States Job Openings NSA     10342.00   \n",
       "146        United States Jobless Claims 4-week Average       355.00   \n",
       "148       United States Labor Force Participation Rate        61.70   \n",
       "149             United States Nonfarm Unit Labour Cost       118.60   \n",
       "157          United States Long Term Unemployment Rate         1.97   \n",
       "158               United States Manufacturing Payrolls        37.00   \n",
       "163          United States Federal Minimum Hourly Wage         7.25   \n",
       "176                    United States Non Farm Payrolls       235.00   \n",
       "178           United States Nonfarm Payrolls - Private       243.00   \n",
       "182  United States Pandemic Unemployment Assistance...       117.71   \n",
       "183                 United States Part Time Employment     25783.00   \n",
       "191                           United States Population       329.48   \n",
       "196          United States Nonfarm Labour Productivity       112.70   \n",
       "203                 United States Retirement Age - Men        66.00   \n",
       "204               United States Retirement Age - Women        66.00   \n",
       "219                   United States Unemployed Persons      8384.00   \n",
       "220                    United States Unemployment Rate         5.20   \n",
       "221            United States Wages and Salaries Growth        10.10   \n",
       "222                 United States Average Hourly Wages        25.99   \n",
       "223  United States Average Hourly Wages in Manufact...        23.95   \n",
       "226              United States Youth Unemployment Rate         9.90   \n",
       "\n",
       "         LatestValueDate                                Source      Unit  \\\n",
       "1    2021-08-31T00:00:00       Automatic Data Processing, Inc.  Thousand   \n",
       "11   2021-08-31T00:00:00       U.S. Bureau of Labor Statistics   percent   \n",
       "12   2021-08-31T00:00:00       U.S. Bureau of Labor Statistics     Hours   \n",
       "27   2021-08-31T00:00:00  Challenger, Gray and Christmas, Inc.   Persons   \n",
       "39   2021-08-21T00:00:00              U.S. Department of Labor  Thousand   \n",
       "76   2021-08-31T00:00:00       U.S. Bureau of Labor Statistics  Thousand   \n",
       "77   2021-06-30T00:00:00       U.S. Bureau of Labor Statistics   percent   \n",
       "78   2021-08-31T00:00:00       U.S. Bureau of Labor Statistics   percent   \n",
       "90   2021-08-31T00:00:00       U.S. Bureau of Labor Statistics  Thousand   \n",
       "116  2021-08-31T00:00:00       U.S. Bureau of Labor Statistics  Thousand   \n",
       "139  2021-08-28T00:00:00              U.S. Department of Labor  Thousand   \n",
       "144  2021-06-30T00:00:00       U.S. Bureau of Labor Statistics  Thousand   \n",
       "145  2021-06-30T00:00:00       U.S. Bureau of Labor Statistics  Thousand   \n",
       "146  2021-08-28T00:00:00              U.S. Department of Labor  Thousand   \n",
       "148  2021-08-31T00:00:00       U.S. Bureau of Labor Statistics   percent   \n",
       "149  2021-06-30T00:00:00       U.S. Bureau of Labor Statistics    points   \n",
       "157  2021-08-31T00:00:00       U.S. Bureau of Labor Statistics   percent   \n",
       "158  2021-08-31T00:00:00       U.S. Bureau of Labor Statistics  Thousand   \n",
       "163  2020-12-31T00:00:00                   Department of Labor  USD/Hour   \n",
       "176  2021-08-31T00:00:00       U.S. Bureau of Labor Statistics  Thousand   \n",
       "178  2021-08-31T00:00:00       U.S. Bureau of Labor Statistics  Thousand   \n",
       "182  2021-08-21T00:00:00              U.S. Department of Labor  Thousand   \n",
       "183  2021-08-31T00:00:00       U.S. Bureau of Labor Statistics  Thousand   \n",
       "191  2020-12-31T00:00:00                    U.S. Census Bureau   Million   \n",
       "196  2021-06-30T00:00:00       U.S. Bureau of Labor Statistics    points   \n",
       "203  2020-12-31T00:00:00              Internal Revenue Service             \n",
       "204  2020-12-31T00:00:00              Internal Revenue Service             \n",
       "219  2021-08-31T00:00:00       U.S. Bureau of Labor Statistics  Thousand   \n",
       "220  2021-08-31T00:00:00       U.S. Bureau of Labor Statistics   percent   \n",
       "221  2021-07-31T00:00:00      U.S. Bureau of Economic Analysis   percent   \n",
       "222  2021-08-31T00:00:00       U.S. Bureau of Labor Statistics  USD/Hour   \n",
       "223  2021-08-31T00:00:00       U.S. Bureau of Labor Statistics  USD/Hour   \n",
       "226  2021-08-31T00:00:00       U.S. Bureau of Labor Statistics   percent   \n",
       "\n",
       "                                                   URL CategoryGroup  \\\n",
       "1                 /united-states/adp-employment-change        Labour   \n",
       "11              /united-states/average-hourly-earnings        Labour   \n",
       "12                 /united-states/average-weekly-hours        Labour   \n",
       "27                  /united-states/challenger-job-cuts        Labour   \n",
       "39            /united-states/continuing-jobless-claims        Labour   \n",
       "76                     /united-states/employed-persons        Labour   \n",
       "77                /united-states/employment-cost-index        Labour   \n",
       "78                      /united-states/employment-rate        Labour   \n",
       "90                 /united-states/full-time-employment        Labour   \n",
       "116                 /united-states/government-payrolls        Labour   \n",
       "139                      /united-states/jobless-claims        Labour   \n",
       "144                          /united-states/job-offers        Labour   \n",
       "145                       /united-states/job-vacancies        Labour   \n",
       "146       /united-states/jobless-claims-4-week-average        Labour   \n",
       "148      /united-states/labor-force-participation-rate        Labour   \n",
       "149                        /united-states/labour-costs        Labour   \n",
       "157         /united-states/long-term-unemployment-rate        Labour   \n",
       "158              /united-states/manufacturing-payrolls        Labour   \n",
       "163                       /united-states/minimum-wages        Labour   \n",
       "176                   /united-states/non-farm-payrolls        Labour   \n",
       "178            /united-states/nonfarm-payrolls-private        Labour   \n",
       "182  /united-states/pandemic-unemployment-assistanc...        Labour   \n",
       "183                /united-states/part-time-employment        Labour   \n",
       "191                          /united-states/population        Labour   \n",
       "196                        /united-states/productivity        Labour   \n",
       "203                  /united-states/retirement-age-men        Labour   \n",
       "204                /united-states/retirement-age-women        Labour   \n",
       "219                  /united-states/unemployed-persons        Labour   \n",
       "220                   /united-states/unemployment-rate        Labour   \n",
       "221                         /united-states/wage-growth        Labour   \n",
       "222                               /united-states/wages        Labour   \n",
       "223              /united-states/wages-in-manufacturing        Labour   \n",
       "226             /united-states/youth-unemployment-rate        Labour   \n",
       "\n",
       "              Adjustment  Frequency  HistoricalDataSymbol  \\\n",
       "1                     SA    Monthly    UNITEDSTAADPEMPCHA   \n",
       "11    Current Prices, SA    Monthly    UNITEDSTAAVEHOUEAR   \n",
       "12                          Monthly    UNITEDSTAAVEWEEHOU   \n",
       "27                   NSA    Monthly    UNITEDSTACHAJOBCUT   \n",
       "39            Volume, SA     Weekly    UNITEDSTACONJOBCLA   \n",
       "76            Volume, SA    Monthly       UNITEDSTAEMPPER   \n",
       "77                    SA  Quarterly    UNITEDSTAEMPCOSIND   \n",
       "78                    SA    Monthly       UNITEDSTAEMPRAT   \n",
       "90                    SA    Monthly    UNITEDSTAFULTIMEMP   \n",
       "116                   SA    Monthly       UNITEDSTAGOVPAY   \n",
       "139           Volume, SA     Weekly                IJCUSA   \n",
       "144                   SA    Monthly       UNITEDSTAJOBOFF   \n",
       "145          Volume, NSA    Monthly       UNITEDSTAJOBVAC   \n",
       "146           Volume, SA     Weekly         UNITEDSTAJC4A   \n",
       "148                   SA    Monthly  UNITEDSTALABFORPARRA   \n",
       "149         2012=100, SA  Quarterly       UNITEDSTALABCOS   \n",
       "157                         Monthly  UNITEDSTALONTERUNERA   \n",
       "158                   SA    Monthly       UNITEDSTAMANPAY   \n",
       "163                          Yearly       UNITEDSTAMINWAG   \n",
       "176                         Monthly               NFP TCH   \n",
       "178                         Monthly   UNITEDSTANONPAY-PRI   \n",
       "182          Volume, NSA     Weekly         UNITEDSTAPUAC   \n",
       "183                   SA    Monthly    UNITEDSTAPARTIMEMP   \n",
       "191                          Yearly       USA SP.POP.TOTL   \n",
       "196         2012=100, SA  Quarterly          UNITEDSTAPRO   \n",
       "203                          Yearly     UnitedStRetAgeMen   \n",
       "204                          Yearly     UnitedStRetAgeWom   \n",
       "219           Volume, SA    Monthly       UNITEDSTAUNEPER   \n",
       "220                         Monthly               USURTOT   \n",
       "221   Current Prices, SA    Monthly       UNITEDSTAWAGGRO   \n",
       "222   Current Prices, SA    Monthly          UNITEDSTAWAG   \n",
       "223  Current Prices, NSA    Monthly     UNITEDSTAWAGINMAN   \n",
       "226                   SA    Monthly    UnitedStaYouUneRat   \n",
       "\n",
       "              CreateDate  PreviousValue    PreviousValueDate  \n",
       "1    2014-04-30T13:57:00         326.00  2021-07-31T00:00:00  \n",
       "11   2014-05-02T13:46:00           0.40  2021-07-31T00:00:00  \n",
       "12   2014-05-02T13:47:00          34.70  2021-07-31T00:00:00  \n",
       "27   2014-03-06T12:35:00       18942.00  2021-07-31T00:00:00  \n",
       "39   2014-05-15T18:12:00        2908.00  2021-08-14T00:00:00  \n",
       "76   2013-11-08T14:09:00      152645.00  2021-07-31T00:00:00  \n",
       "77   2015-07-31T15:16:00           0.90  2021-03-31T00:00:00  \n",
       "78   2015-11-20T16:28:00          58.40  2021-07-31T00:00:00  \n",
       "90   2015-12-28T17:40:00      127466.00  2021-07-31T00:00:00  \n",
       "116  2014-08-01T16:18:00         255.00  2021-07-31T00:00:00  \n",
       "139  2014-05-15T18:06:00         354.00  2021-08-21T00:00:00  \n",
       "144  2014-10-11T21:45:00        9483.00  2021-05-31T00:00:00  \n",
       "145  2012-09-29T00:19:00        9478.00  2021-05-31T00:00:00  \n",
       "146  2020-03-29T12:53:00         366.75  2021-08-21T00:00:00  \n",
       "148  2014-08-28T13:13:00          61.70  2021-07-31T00:00:00  \n",
       "149  2014-08-28T12:47:00         118.23  2021-03-31T00:00:00  \n",
       "157  2013-11-20T11:46:00           2.12  2021-07-31T00:00:00  \n",
       "158  2014-06-06T13:39:00          52.00  2021-07-31T00:00:00  \n",
       "163  2014-11-20T16:28:00           7.25  2019-12-31T00:00:00  \n",
       "176  2014-02-07T14:16:00        1053.00  2021-07-31T00:00:00  \n",
       "178  2014-06-06T13:38:00         798.00  2021-07-31T00:00:00  \n",
       "182  2020-11-09T13:48:00         108.08  2021-08-14T00:00:00  \n",
       "183  2015-11-24T14:52:00       25360.00  2021-07-31T00:00:00  \n",
       "191  2014-09-10T16:29:00         328.33  2019-12-31T00:00:00  \n",
       "196  2014-08-28T13:01:00         112.10  2021-03-31T00:00:00  \n",
       "203  2013-11-27T18:24:00          66.00  2019-12-31T00:00:00  \n",
       "204  2013-11-27T18:28:00          66.00  2019-12-31T00:00:00  \n",
       "219  2013-11-08T14:13:00        8702.00  2021-07-31T00:00:00  \n",
       "220  2012-02-23T11:41:00           5.40  2021-07-31T00:00:00  \n",
       "221  2015-02-25T18:22:00          10.24  2021-06-30T00:00:00  \n",
       "222  2012-09-29T00:23:00          25.85  2021-07-31T00:00:00  \n",
       "223  2014-04-17T11:00:00          23.81  2021-07-31T00:00:00  \n",
       "226  2013-11-06T17:08:00           9.20  2021-07-31T00:00:00  "
      ]
     },
     "execution_count": 88,
     "metadata": {},
     "output_type": "execute_result"
    }
   ],
   "source": [
    "temp_df.query('CategoryGroup == [\"Labour\"]')"
   ]
  },
  {
   "cell_type": "markdown",
   "id": "811c05b1",
   "metadata": {},
   "source": [
    "comparar os valores de um pais em relação a média internacional ou em relação as melhores valores. \n",
    "Average Weekly Hours Employed Persons Minimum Wages Retirement Age Men Unemployed Persons\n",
    "\n"
   ]
  },
  {
   "cell_type": "markdown",
   "id": "dad70cff",
   "metadata": {},
   "source": [
    "### Get the best values for indicators"
   ]
  },
  {
   "cell_type": "code",
   "execution_count": 189,
   "id": "b96071d3",
   "metadata": {},
   "outputs": [],
   "source": [
    "def getBestIndicatorValuesAndCountry(indicator):\n",
    "    df = te.getIndicatorData(country='all', indicators=indicator, output_type='df').sort_values('LatestValue').tail(1)[['Country','Category','LatestValue','Unit']]\n",
    "    \n",
    "    return df\n",
    "\n",
    "def getAllIndicators():\n",
    "    df = te.getIndicatorData()\n",
    "    \n",
    "    return df['Category'].values\n",
    "    \n",
    "    "
   ]
  },
  {
   "cell_type": "code",
   "execution_count": 176,
   "id": "a82629fd",
   "metadata": {},
   "outputs": [],
   "source": [
    "df2 = te.getIndicatorData(country='all', indicators='GDP', output_type='df').sort_values('LatestValue').tail(1)[['Country','Category','LatestValue','Unit']]\n"
   ]
  },
  {
   "cell_type": "code",
   "execution_count": 188,
   "id": "5acae484",
   "metadata": {},
   "outputs": [
    {
     "data": {
      "text/html": [
       "<div>\n",
       "<style scoped>\n",
       "    .dataframe tbody tr th:only-of-type {\n",
       "        vertical-align: middle;\n",
       "    }\n",
       "\n",
       "    .dataframe tbody tr th {\n",
       "        vertical-align: top;\n",
       "    }\n",
       "\n",
       "    .dataframe thead th {\n",
       "        text-align: right;\n",
       "    }\n",
       "</style>\n",
       "<table border=\"1\" class=\"dataframe\">\n",
       "  <thead>\n",
       "    <tr style=\"text-align: right;\">\n",
       "      <th></th>\n",
       "      <th>Country</th>\n",
       "      <th>Category</th>\n",
       "      <th>LatestValue</th>\n",
       "      <th>Unit</th>\n",
       "    </tr>\n",
       "  </thead>\n",
       "  <tbody>\n",
       "    <tr>\n",
       "      <th>192</th>\n",
       "      <td>United States</td>\n",
       "      <td>GDP</td>\n",
       "      <td>20936.6</td>\n",
       "      <td>USD Billion</td>\n",
       "    </tr>\n",
       "  </tbody>\n",
       "</table>\n",
       "</div>"
      ],
      "text/plain": [
       "           Country Category  LatestValue         Unit\n",
       "192  United States      GDP      20936.6  USD Billion"
      ]
     },
     "execution_count": 188,
     "metadata": {},
     "output_type": "execute_result"
    }
   ],
   "source": [
    "df2"
   ]
  },
  {
   "cell_type": "code",
   "execution_count": 161,
   "id": "a996be02",
   "metadata": {},
   "outputs": [
    {
     "name": "stdout",
     "output_type": "stream",
     "text": [
      "Without country indication only a list of available indicators will be returned...\n"
     ]
    }
   ],
   "source": [
    "x = getAllIndicators()"
   ]
  },
  {
   "cell_type": "code",
   "execution_count": 190,
   "id": "d40e796d",
   "metadata": {
    "scrolled": false
   },
   "outputs": [
    {
     "data": {
      "text/plain": [
       "[           Country Category  LatestValue         Unit\n",
       " 192  United States      GDP      20936.6  USD Billion,\n",
       "     Country          Category  LatestValue          Unit\n",
       " 78  Ireland  Balance of Trade    4769041.0  EUR Thousand,\n",
       "      Country              Category  LatestValue Unit\n",
       " 1  Singapore  Average Weekly Hours         44.0     ]"
      ]
     },
     "execution_count": 190,
     "metadata": {},
     "output_type": "execute_result"
    }
   ],
   "source": [
    "indicadores = ['GDP','Balance of Trade','Average Weekly Hours']\n",
    "lista_final = []\n",
    "for item in indicadores:\n",
    "    lista_final.append(getBestIndicatorValuesAndCountry(item))\n",
    "\n",
    "lista_final"
   ]
  },
  {
   "cell_type": "code",
   "execution_count": 194,
   "id": "9cab18cd",
   "metadata": {},
   "outputs": [],
   "source": [
    "dataframe = pd.DataFrame()\n"
   ]
  },
  {
   "cell_type": "code",
   "execution_count": 197,
   "id": "e363122d",
   "metadata": {},
   "outputs": [
    {
     "name": "stdout",
     "output_type": "stream",
     "text": [
      "           Country Category  LatestValue         Unit\n",
      "192  United States      GDP      20936.6  USD Billion\n",
      "    Country          Category  LatestValue          Unit\n",
      "78  Ireland  Balance of Trade    4769041.0  EUR Thousand\n",
      "     Country              Category  LatestValue Unit\n",
      "1  Singapore  Average Weekly Hours         44.0     \n"
     ]
    }
   ],
   "source": [
    "for item in lista_final:\n",
    "    print(item)"
   ]
  },
  {
   "cell_type": "code",
   "execution_count": 196,
   "id": "58968356",
   "metadata": {},
   "outputs": [
    {
     "data": {
      "text/html": [
       "<div>\n",
       "<style scoped>\n",
       "    .dataframe tbody tr th:only-of-type {\n",
       "        vertical-align: middle;\n",
       "    }\n",
       "\n",
       "    .dataframe tbody tr th {\n",
       "        vertical-align: top;\n",
       "    }\n",
       "\n",
       "    .dataframe thead th {\n",
       "        text-align: right;\n",
       "    }\n",
       "</style>\n",
       "<table border=\"1\" class=\"dataframe\">\n",
       "  <thead>\n",
       "    <tr style=\"text-align: right;\">\n",
       "      <th></th>\n",
       "    </tr>\n",
       "  </thead>\n",
       "  <tbody>\n",
       "  </tbody>\n",
       "</table>\n",
       "</div>"
      ],
      "text/plain": [
       "Empty DataFrame\n",
       "Columns: []\n",
       "Index: []"
      ]
     },
     "execution_count": 196,
     "metadata": {},
     "output_type": "execute_result"
    }
   ],
   "source": [
    "dataframe"
   ]
  },
  {
   "cell_type": "code",
   "execution_count": 167,
   "id": "26e597a6",
   "metadata": {},
   "outputs": [
    {
     "data": {
      "text/html": [
       "<div>\n",
       "<style scoped>\n",
       "    .dataframe tbody tr th:only-of-type {\n",
       "        vertical-align: middle;\n",
       "    }\n",
       "\n",
       "    .dataframe tbody tr th {\n",
       "        vertical-align: top;\n",
       "    }\n",
       "\n",
       "    .dataframe thead th {\n",
       "        text-align: right;\n",
       "    }\n",
       "</style>\n",
       "<table border=\"1\" class=\"dataframe\">\n",
       "  <thead>\n",
       "    <tr style=\"text-align: right;\">\n",
       "      <th></th>\n",
       "      <th>Country</th>\n",
       "      <th>Category</th>\n",
       "      <th>LatestValue</th>\n",
       "      <th>Unit</th>\n",
       "    </tr>\n",
       "  </thead>\n",
       "  <tbody>\n",
       "    <tr>\n",
       "      <th>0</th>\n",
       "      <td>{192: 'United States'}</td>\n",
       "      <td>{192: 'GDP'}</td>\n",
       "      <td>{192: 20936.6}</td>\n",
       "      <td>{192: 'USD Billion'}</td>\n",
       "    </tr>\n",
       "    <tr>\n",
       "      <th>1</th>\n",
       "      <td>{78: 'Ireland'}</td>\n",
       "      <td>{78: 'Balance of Trade'}</td>\n",
       "      <td>{78: 4769041.0}</td>\n",
       "      <td>{78: 'EUR Thousand'}</td>\n",
       "    </tr>\n",
       "    <tr>\n",
       "      <th>2</th>\n",
       "      <td>{1: 'Singapore'}</td>\n",
       "      <td>{1: 'Average Weekly Hours'}</td>\n",
       "      <td>{1: 44.0}</td>\n",
       "      <td>{1: ''}</td>\n",
       "    </tr>\n",
       "  </tbody>\n",
       "</table>\n",
       "</div>"
      ],
      "text/plain": [
       "                  Country                     Category      LatestValue  \\\n",
       "0  {192: 'United States'}                 {192: 'GDP'}   {192: 20936.6}   \n",
       "1         {78: 'Ireland'}     {78: 'Balance of Trade'}  {78: 4769041.0}   \n",
       "2        {1: 'Singapore'}  {1: 'Average Weekly Hours'}        {1: 44.0}   \n",
       "\n",
       "                   Unit  \n",
       "0  {192: 'USD Billion'}  \n",
       "1  {78: 'EUR Thousand'}  \n",
       "2               {1: ''}  "
      ]
     },
     "execution_count": 167,
     "metadata": {},
     "output_type": "execute_result"
    }
   ],
   "source": [
    "pd.DataFrame(lista_final)"
   ]
  },
  {
   "cell_type": "code",
   "execution_count": 156,
   "id": "a0208662",
   "metadata": {
    "scrolled": true
   },
   "outputs": [
    {
     "name": "stdout",
     "output_type": "stream",
     "text": [
      "1 Month Bill Yield\n",
      "2 Year Note Yield\n",
      "20 Year bond Yield\n",
      "3 Month Bill Yield\n",
      "3 Year Note Yield\n",
      "30 Year bond-Yield\n",
      "5 Year Note Yield\n",
      "52 Week Bill Yield\n",
      "6 Month Bill Yield\n",
      "7 Year Note Yield\n",
      "Adp Employment Change\n",
      "API Crude Imports\n",
      "API Crude Oil Stock Change\n",
      "API Crude Runs\n",
      "API Cushing Number\n",
      "API Distillate Stocks\n",
      "API Gasoline Stocks\n",
      "API Heating Oil\n",
      "API Product Imports\n",
      "Asylum Applications\n",
      "Auto Exports\n",
      "Average Hourly Earnings\n",
      "Average Weekly Hours\n",
      "Balance of Trade\n",
      "Bank Lending Rate\n",
      "Bankruptcies\n",
      "Banks Balance Sheet\n",
      "Building Permits\n",
      "Business Climate Indicator\n",
      "Business Confidence\n",
      "Business Inventories\n",
      "Capacity Utilization\n",
      "Capital Flows\n",
      "Car Production\n",
      "Car Registrations\n",
      "Case Shiller Home Price Index\n",
      "Cash Reserve Ratio\n",
      "Cbi Distributive Trades\n",
      "Cement Production\n",
      "Central Bank Balance Sheet\n",
      "Chain Store Sales\n",
      "Challenger Job Cuts\n",
      "Changes in Inventories\n",
      "Chicago Fed National Activity Index\n",
      "Chicago PMI\n",
      "Claimant Count Change\n",
      "Coincident Index\n",
      "Commodity\n",
      "Competitiveness Index\n",
      "Competitiveness Rank\n",
      "Composite PMI\n",
      "Construction Orders\n",
      "Construction Output\n",
      "Construction PMI\n",
      "Construction Spending\n",
      "Consumer Confidence\n",
      "Consumer Confidence Price Trends\n",
      "Consumer Credit\n",
      "Consumer Price Index CPI\n",
      "Consumer Spending\n",
      "Continuing Jobless Claims\n",
      "Copper Production\n",
      "Core Consumer Prices\n",
      "Core Inflation Rate\n",
      "Core Pce Price Index\n",
      "Core Producer Prices\n",
      "Coronavirus Cases\n",
      "Coronavirus Deaths\n",
      "Coronavirus Recovered\n",
      "Coronavirus Vaccination Rate\n",
      "Coronavirus Vaccination Total\n",
      "Corporate Profits\n",
      "Corporate Tax Rate\n",
      "Corruption Index\n",
      "Corruption Rank\n",
      "Cpi Core Core\n",
      "Cpi Housing Utilities\n",
      "Cpi Median\n",
      "CPI Transportation\n",
      "Cpi Trimmed-mean\n",
      "Credit Card Spending\n",
      "Credit Rating\n",
      "Crude Oil Imports\n",
      "Crude Oil Production\n",
      "Crude Oil Rigs\n",
      "Crude Oil Stocks Change\n",
      "Currency\n",
      "Current Account\n",
      "Current Account to GDP\n",
      "Cushing Crude Oil Stocks\n",
      "Dallas Fed Manufacturing Index\n",
      "Deposit Growth\n",
      "Deposit Interest Rate\n",
      "Disposable Personal Income\n",
      "Distillate Fuel Production\n",
      "Distillate Stocks\n",
      "Domestic Exports of Non Oil (nodx) (%yoy)\n",
      "Durable Goods Orders\n",
      "Durable Goods Orders Ex Defense\n",
      "Durable Goods Orders Ex Transportation\n",
      "Ease of Doing Business\n",
      "Economic Activity Index\n",
      "Economic Optimism Index\n",
      "Economy Watchers Survey\n",
      "Electricity Production\n",
      "Employed Persons\n",
      "Employment Change\n",
      "Employment Cost Index\n",
      "Employment Rate\n",
      "Existing Home Sales\n",
      "Export Prices\n",
      "Exports\n",
      "Exports of Non-oil Domestic Exports Of\n",
      "External Debt\n",
      "Factory Orders\n",
      "Factory Orders Ex Transportation\n",
      "Fiscal Expenditure\n",
      "Fixed Asset Investment\n",
      "Food Inflation\n",
      "Foreign Bond Investment\n",
      "Foreign Direct Investment\n",
      "Foreign Exchange Reserves\n",
      "Foreign Stock Investment\n",
      "Full Time Employment\n",
      "Gasoline Prices\n",
      "Gasoline Production\n",
      "Gasoline Stocks Change\n",
      "GDP\n",
      "GDP Annual Growth Rate\n",
      "GDP Constant Prices\n",
      "GDP Deflator\n",
      "GDP From Agriculture\n",
      "GDP From Construction\n",
      "GDP From Manufacturing\n",
      "GDP From Mining\n",
      "GDP From Public Administration\n",
      "GDP From Services\n",
      "GDP From Transport\n",
      "GDP From Utilities\n",
      "Gdp Growth Annualized\n",
      "GDP Growth Rate\n",
      "GDP per capita\n",
      "GDP per capita PPP\n",
      "Global Dairy Trade Price Index\n",
      "Gold Production\n",
      "Gold Reserves\n",
      "Goods Trade Balance\n",
      "Government Bond 10Y\n",
      "Government Budget\n",
      "Government Budget Value\n",
      "Government Debt\n",
      "Government Debt to GDP\n",
      "Government Payrolls\n",
      "Government Revenues\n",
      "Government Spending\n",
      "Government Spending to GDP\n",
      "Grain Stocks Corn\n",
      "Grain Stocks Soy\n",
      "Grain Stocks Wheat\n",
      "Gross Fixed Capital Formation\n",
      "Gross National Product\n",
      "Harmonised Consumer Prices\n",
      "Heating Oil Stocks\n",
      "Home Loans\n",
      "Home Ownership Rate\n",
      "Hospital Beds\n",
      "Hospitals\n",
      "Household Spending\n",
      "Households Debt To GDP\n",
      "Households Debt To Income\n",
      "Housing Index\n",
      "Housing Starts\n",
      "ICU Beds\n",
      "Import Prices\n",
      "Imports\n",
      "Industrial Production\n",
      "Industrial Production Mom\n",
      "Industrial Sentiment\n",
      "Inflation Expectations\n",
      "Inflation Rate\n",
      "Inflation Rate Mom\n",
      "Initial Jobless Claims\n",
      "Interbank Rate\n",
      "Interest Rate\n",
      "Internet Speed\n",
      "IP Addresses\n",
      "Job Advertisements\n",
      "Job Offers\n",
      "Job Vacancies\n",
      "Jobless Claims 4-week Average\n",
      "Jobs To Applications Ratio\n",
      "Kansas Fed Manufacturing Index\n",
      "Labor Force Participation Rate\n",
      "Labour Costs\n",
      "Leading Economic Index\n",
      "Lending Rate\n",
      "Lmi Inventory Costs\n",
      "Lmi Logistics Managers Index Current\n",
      "Lmi Logistics Managers Index Future\n",
      "Lmi Transportation Prices\n",
      "Lmi Warehouse Prices\n",
      "Loan Growth\n",
      "Loans To Banks\n",
      "Loans To Private Sector\n",
      "Long Term Unemployment Rate\n",
      "Machine Tool Orders\n",
      "Machinery Orders\n",
      "Manufacturing Payrolls\n",
      "Manufacturing PMI\n",
      "Manufacturing Production\n",
      "Manufacturing Sales\n",
      "Medical Doctors\n",
      "Military Expenditure\n",
      "Minimum Wages\n",
      "Mining Production\n",
      "Money Supply M0\n",
      "Money Supply M1\n",
      "Money Supply M2\n",
      "Money Supply M3\n",
      "Mortgage Applications\n",
      "Mortgage Approvals\n",
      "Mortgage Rate\n",
      "Nahb Housing Market Index\n",
      "Nationwide Housing Prices\n",
      "Natural Gas Stocks Change\n",
      "Net Long Term Tic Flows\n",
      "New Home Sales\n",
      "New Orders\n",
      "NFIB Business Optimism Index\n",
      "Non Farm Payrolls\n",
      "Non Manufacturing PMI\n",
      "Non Oil Exports\n",
      "Nonfarm Payrolls Private\n",
      "Nurses\n",
      "NY Empire State Manufacturing Index\n",
      "Oil Exports\n",
      "Pandemic Unemployment Assistance Claims\n",
      "Part Time Employment\n",
      "Pce Price Index\n",
      "Pending Home Sales\n",
      "Personal Income\n",
      "Personal Income Tax Rate\n",
      "Personal Savings\n",
      "Personal Spending\n",
      "Philadelphia Fed Manufacturing Index\n",
      "Population\n",
      "Private Debt to GDP\n",
      "Private Investment\n",
      "Private Sector Credit\n",
      "Producer Prices\n",
      "Producer Prices Change\n",
      "Productivity\n",
      "Redbook Index\n",
      "Refinery Crude Runs\n",
      "Remittances\n",
      "Repo Rate\n",
      "Retail Price Index\n",
      "Retail Sales Ex Autos\n",
      "Retail Sales Ex Fuel\n",
      "Retail Sales MoM\n",
      "Retail Sales YoY\n",
      "Retirement Age Men\n",
      "Retirement Age Women\n",
      "Reuters Tankan Index\n",
      "Reverse Repo Rate\n",
      "Richmond Fed Manufacturing Index\n",
      "Sales Tax Rate\n",
      "Services PMI\n",
      "Services Sentiment\n",
      "Single Family Home Prices\n",
      "Small Business Sentiment\n",
      "Social Security Rate\n",
      "Social Security Rate For Companies\n",
      "Social Security Rate For Employees\n",
      "Steel Production\n",
      "Stock Market\n",
      "Tax Revenue\n",
      "Terms of Trade\n",
      "Terrorism Index\n",
      "Tertiary Industry Index\n",
      "Tokyo Cpi\n",
      "Total Vehicle Sales\n",
      "Tourism Revenues\n",
      "Tourist Arrivals\n",
      "Treasury Cash Balance\n",
      "Unemployed Persons\n",
      "Unemployment Change\n",
      "Unemployment Rate\n",
      "Wage Growth\n",
      "Wages\n",
      "Wages in Manufacturing\n",
      "Weapons Sales\n",
      "Wholesale Inventories\n",
      "Wholesale Prices\n",
      "Wholesale Sales\n",
      "Youth Unemployment Rate\n",
      "Zew Economic Sentiment Index\n"
     ]
    }
   ],
   "source": [
    "for item in x.values:\n",
    "    print(item)\n"
   ]
  },
  {
   "cell_type": "code",
   "execution_count": 127,
   "id": "06783236",
   "metadata": {
    "scrolled": true
   },
   "outputs": [
    {
     "data": {
      "text/plain": [
       "{'Country': {192: 'United States'},\n",
       " 'Category': {192: 'GDP'},\n",
       " 'LatestValue': {192: 20936.6},\n",
       " 'Unit': {192: 'USD Billion'}}"
      ]
     },
     "execution_count": 127,
     "metadata": {},
     "output_type": "execute_result"
    }
   ],
   "source": [
    "\n",
    "x = df.to_dict()\n",
    "x"
   ]
  },
  {
   "cell_type": "code",
   "execution_count": 133,
   "id": "855275ba",
   "metadata": {},
   "outputs": [
    {
     "data": {
      "text/plain": [
       "'United States'"
      ]
     },
     "execution_count": 133,
     "metadata": {},
     "output_type": "execute_result"
    }
   ],
   "source": [
    "\n"
   ]
  },
  {
   "cell_type": "code",
   "execution_count": 79,
   "id": "29ce2021",
   "metadata": {
    "scrolled": true
   },
   "outputs": [
    {
     "data": {
      "text/html": [
       "<div>\n",
       "<style scoped>\n",
       "    .dataframe tbody tr th:only-of-type {\n",
       "        vertical-align: middle;\n",
       "    }\n",
       "\n",
       "    .dataframe tbody tr th {\n",
       "        vertical-align: top;\n",
       "    }\n",
       "\n",
       "    .dataframe thead th {\n",
       "        text-align: right;\n",
       "    }\n",
       "</style>\n",
       "<table border=\"1\" class=\"dataframe\">\n",
       "  <thead>\n",
       "    <tr style=\"text-align: right;\">\n",
       "      <th></th>\n",
       "      <th>Category</th>\n",
       "      <th>LatestValue</th>\n",
       "      <th>Unit</th>\n",
       "    </tr>\n",
       "  </thead>\n",
       "  <tbody>\n",
       "    <tr>\n",
       "      <th>44</th>\n",
       "      <td>Coronavirus Cases</td>\n",
       "      <td>3.994499e+07</td>\n",
       "      <td>Persons</td>\n",
       "    </tr>\n",
       "    <tr>\n",
       "      <th>45</th>\n",
       "      <td>Coronavirus Deaths</td>\n",
       "      <td>6.484680e+05</td>\n",
       "      <td>Persons</td>\n",
       "    </tr>\n",
       "    <tr>\n",
       "      <th>46</th>\n",
       "      <td>Coronavirus Recovered</td>\n",
       "      <td>1.630666e+07</td>\n",
       "      <td>Persons</td>\n",
       "    </tr>\n",
       "    <tr>\n",
       "      <th>47</th>\n",
       "      <td>Coronavirus Vaccination Rate</td>\n",
       "      <td>1.113500e+02</td>\n",
       "      <td>doses per 100 people</td>\n",
       "    </tr>\n",
       "    <tr>\n",
       "      <th>48</th>\n",
       "      <td>Coronavirus Vaccination Total</td>\n",
       "      <td>3.744889e+08</td>\n",
       "      <td>doses</td>\n",
       "    </tr>\n",
       "    <tr>\n",
       "      <th>0</th>\n",
       "      <td>20 Year bond Yield</td>\n",
       "      <td>2.030000e+00</td>\n",
       "      <td>%</td>\n",
       "    </tr>\n",
       "    <tr>\n",
       "      <th>63</th>\n",
       "      <td>Currency</td>\n",
       "      <td>9.227000e+01</td>\n",
       "      <td></td>\n",
       "    </tr>\n",
       "    <tr>\n",
       "      <th>111</th>\n",
       "      <td>Government Bond 10Y</td>\n",
       "      <td>1.330000e+00</td>\n",
       "      <td>percent</td>\n",
       "    </tr>\n",
       "    <tr>\n",
       "      <th>213</th>\n",
       "      <td>Stock Market</td>\n",
       "      <td>3.546137e+04</td>\n",
       "      <td>points</td>\n",
       "    </tr>\n",
       "    <tr>\n",
       "      <th>140</th>\n",
       "      <td>Interbank Rate</td>\n",
       "      <td>1.200000e-01</td>\n",
       "      <td>percent</td>\n",
       "    </tr>\n",
       "    <tr>\n",
       "      <th>141</th>\n",
       "      <td>Interest Rate</td>\n",
       "      <td>2.500000e-01</td>\n",
       "      <td>percent</td>\n",
       "    </tr>\n",
       "    <tr>\n",
       "      <th>199</th>\n",
       "      <td>Repo Rate</td>\n",
       "      <td>6.000000e-02</td>\n",
       "      <td></td>\n",
       "    </tr>\n",
       "  </tbody>\n",
       "</table>\n",
       "</div>"
      ],
      "text/plain": [
       "                          Category   LatestValue                  Unit\n",
       "44               Coronavirus Cases  3.994499e+07               Persons\n",
       "45              Coronavirus Deaths  6.484680e+05               Persons\n",
       "46           Coronavirus Recovered  1.630666e+07               Persons\n",
       "47    Coronavirus Vaccination Rate  1.113500e+02  doses per 100 people\n",
       "48   Coronavirus Vaccination Total  3.744889e+08                 doses\n",
       "0               20 Year bond Yield  2.030000e+00                     %\n",
       "63                        Currency  9.227000e+01                      \n",
       "111            Government Bond 10Y  1.330000e+00               percent\n",
       "213                   Stock Market  3.546137e+04                points\n",
       "140                 Interbank Rate  1.200000e-01               percent\n",
       "141                  Interest Rate  2.500000e-01               percent\n",
       "199                      Repo Rate  6.000000e-02                      "
      ]
     },
     "execution_count": 79,
     "metadata": {},
     "output_type": "execute_result"
    }
   ],
   "source": [
    "temp_df.query('Frequency == \"Daily\"').sort_values('CategoryGroup')[['Category','LatestValue', 'Unit']]"
   ]
  },
  {
   "cell_type": "code",
   "execution_count": 80,
   "id": "cb699fc2",
   "metadata": {},
   "outputs": [],
   "source": [
    "to_plot_3=temp_df.query('Frequency == \"Daily\"').sort_values('CategoryGroup')[['Category','LatestValue', 'Unit']]"
   ]
  },
  {
   "cell_type": "code",
   "execution_count": 81,
   "id": "c8de0ae2",
   "metadata": {
    "scrolled": false
   },
   "outputs": [
    {
     "data": {
      "application/vnd.plotly.v1+json": {
       "config": {
        "plotlyServerURL": "https://plot.ly"
       },
       "data": [
        {
         "alignmentgroup": "True",
         "hovertemplate": "Category=%{x}<br>LatestValue=%{y}<extra></extra>",
         "legendgroup": "Coronavirus Cases",
         "marker": {
          "color": "#636efa",
          "pattern": {
           "shape": ""
          }
         },
         "name": "Coronavirus Cases",
         "offsetgroup": "Coronavirus Cases",
         "orientation": "v",
         "showlegend": true,
         "textposition": "auto",
         "type": "bar",
         "x": [
          "Coronavirus Cases"
         ],
         "xaxis": "x",
         "y": [
          39944987
         ],
         "yaxis": "y"
        },
        {
         "alignmentgroup": "True",
         "hovertemplate": "Category=%{x}<br>LatestValue=%{y}<extra></extra>",
         "legendgroup": "Coronavirus Deaths",
         "marker": {
          "color": "#EF553B",
          "pattern": {
           "shape": ""
          }
         },
         "name": "Coronavirus Deaths",
         "offsetgroup": "Coronavirus Deaths",
         "orientation": "v",
         "showlegend": true,
         "textposition": "auto",
         "type": "bar",
         "x": [
          "Coronavirus Deaths"
         ],
         "xaxis": "x",
         "y": [
          648468
         ],
         "yaxis": "y"
        },
        {
         "alignmentgroup": "True",
         "hovertemplate": "Category=%{x}<br>LatestValue=%{y}<extra></extra>",
         "legendgroup": "Coronavirus Recovered",
         "marker": {
          "color": "#00cc96",
          "pattern": {
           "shape": ""
          }
         },
         "name": "Coronavirus Recovered",
         "offsetgroup": "Coronavirus Recovered",
         "orientation": "v",
         "showlegend": true,
         "textposition": "auto",
         "type": "bar",
         "x": [
          "Coronavirus Recovered"
         ],
         "xaxis": "x",
         "y": [
          16306656
         ],
         "yaxis": "y"
        },
        {
         "alignmentgroup": "True",
         "hovertemplate": "Category=%{x}<br>LatestValue=%{y}<extra></extra>",
         "legendgroup": "Coronavirus Vaccination Rate",
         "marker": {
          "color": "#ab63fa",
          "pattern": {
           "shape": ""
          }
         },
         "name": "Coronavirus Vaccination Rate",
         "offsetgroup": "Coronavirus Vaccination Rate",
         "orientation": "v",
         "showlegend": true,
         "textposition": "auto",
         "type": "bar",
         "x": [
          "Coronavirus Vaccination Rate"
         ],
         "xaxis": "x",
         "y": [
          111.35
         ],
         "yaxis": "y"
        },
        {
         "alignmentgroup": "True",
         "hovertemplate": "Category=%{x}<br>LatestValue=%{y}<extra></extra>",
         "legendgroup": "Coronavirus Vaccination Total",
         "marker": {
          "color": "#FFA15A",
          "pattern": {
           "shape": ""
          }
         },
         "name": "Coronavirus Vaccination Total",
         "offsetgroup": "Coronavirus Vaccination Total",
         "orientation": "v",
         "showlegend": true,
         "textposition": "auto",
         "type": "bar",
         "x": [
          "Coronavirus Vaccination Total"
         ],
         "xaxis": "x",
         "y": [
          374488924
         ],
         "yaxis": "y"
        },
        {
         "alignmentgroup": "True",
         "hovertemplate": "Category=%{x}<br>LatestValue=%{y}<extra></extra>",
         "legendgroup": "20 Year bond Yield",
         "marker": {
          "color": "#19d3f3",
          "pattern": {
           "shape": ""
          }
         },
         "name": "20 Year bond Yield",
         "offsetgroup": "20 Year bond Yield",
         "orientation": "v",
         "showlegend": true,
         "textposition": "auto",
         "type": "bar",
         "x": [
          "20 Year bond Yield"
         ],
         "xaxis": "x",
         "y": [
          2.03
         ],
         "yaxis": "y"
        },
        {
         "alignmentgroup": "True",
         "hovertemplate": "Category=%{x}<br>LatestValue=%{y}<extra></extra>",
         "legendgroup": "Currency",
         "marker": {
          "color": "#FF6692",
          "pattern": {
           "shape": ""
          }
         },
         "name": "Currency",
         "offsetgroup": "Currency",
         "orientation": "v",
         "showlegend": true,
         "textposition": "auto",
         "type": "bar",
         "x": [
          "Currency"
         ],
         "xaxis": "x",
         "y": [
          92.27
         ],
         "yaxis": "y"
        },
        {
         "alignmentgroup": "True",
         "hovertemplate": "Category=%{x}<br>LatestValue=%{y}<extra></extra>",
         "legendgroup": "Government Bond 10Y",
         "marker": {
          "color": "#B6E880",
          "pattern": {
           "shape": ""
          }
         },
         "name": "Government Bond 10Y",
         "offsetgroup": "Government Bond 10Y",
         "orientation": "v",
         "showlegend": true,
         "textposition": "auto",
         "type": "bar",
         "x": [
          "Government Bond 10Y"
         ],
         "xaxis": "x",
         "y": [
          1.33
         ],
         "yaxis": "y"
        },
        {
         "alignmentgroup": "True",
         "hovertemplate": "Category=%{x}<br>LatestValue=%{y}<extra></extra>",
         "legendgroup": "Stock Market",
         "marker": {
          "color": "#FF97FF",
          "pattern": {
           "shape": ""
          }
         },
         "name": "Stock Market",
         "offsetgroup": "Stock Market",
         "orientation": "v",
         "showlegend": true,
         "textposition": "auto",
         "type": "bar",
         "x": [
          "Stock Market"
         ],
         "xaxis": "x",
         "y": [
          35461.37
         ],
         "yaxis": "y"
        },
        {
         "alignmentgroup": "True",
         "hovertemplate": "Category=%{x}<br>LatestValue=%{y}<extra></extra>",
         "legendgroup": "Interbank Rate",
         "marker": {
          "color": "#FECB52",
          "pattern": {
           "shape": ""
          }
         },
         "name": "Interbank Rate",
         "offsetgroup": "Interbank Rate",
         "orientation": "v",
         "showlegend": true,
         "textposition": "auto",
         "type": "bar",
         "x": [
          "Interbank Rate"
         ],
         "xaxis": "x",
         "y": [
          0.12
         ],
         "yaxis": "y"
        },
        {
         "alignmentgroup": "True",
         "hovertemplate": "Category=%{x}<br>LatestValue=%{y}<extra></extra>",
         "legendgroup": "Interest Rate",
         "marker": {
          "color": "#636efa",
          "pattern": {
           "shape": ""
          }
         },
         "name": "Interest Rate",
         "offsetgroup": "Interest Rate",
         "orientation": "v",
         "showlegend": true,
         "textposition": "auto",
         "type": "bar",
         "x": [
          "Interest Rate"
         ],
         "xaxis": "x",
         "y": [
          0.25
         ],
         "yaxis": "y"
        },
        {
         "alignmentgroup": "True",
         "hovertemplate": "Category=%{x}<br>LatestValue=%{y}<extra></extra>",
         "legendgroup": "Repo Rate",
         "marker": {
          "color": "#EF553B",
          "pattern": {
           "shape": ""
          }
         },
         "name": "Repo Rate",
         "offsetgroup": "Repo Rate",
         "orientation": "v",
         "showlegend": true,
         "textposition": "auto",
         "type": "bar",
         "x": [
          "Repo Rate"
         ],
         "xaxis": "x",
         "y": [
          0.06
         ],
         "yaxis": "y"
        }
       ],
       "layout": {
        "barmode": "relative",
        "legend": {
         "title": {
          "text": "Category"
         },
         "tracegroupgap": 0
        },
        "template": {
         "data": {
          "bar": [
           {
            "error_x": {
             "color": "#2a3f5f"
            },
            "error_y": {
             "color": "#2a3f5f"
            },
            "marker": {
             "line": {
              "color": "#E5ECF6",
              "width": 0.5
             },
             "pattern": {
              "fillmode": "overlay",
              "size": 10,
              "solidity": 0.2
             }
            },
            "type": "bar"
           }
          ],
          "barpolar": [
           {
            "marker": {
             "line": {
              "color": "#E5ECF6",
              "width": 0.5
             },
             "pattern": {
              "fillmode": "overlay",
              "size": 10,
              "solidity": 0.2
             }
            },
            "type": "barpolar"
           }
          ],
          "carpet": [
           {
            "aaxis": {
             "endlinecolor": "#2a3f5f",
             "gridcolor": "white",
             "linecolor": "white",
             "minorgridcolor": "white",
             "startlinecolor": "#2a3f5f"
            },
            "baxis": {
             "endlinecolor": "#2a3f5f",
             "gridcolor": "white",
             "linecolor": "white",
             "minorgridcolor": "white",
             "startlinecolor": "#2a3f5f"
            },
            "type": "carpet"
           }
          ],
          "choropleth": [
           {
            "colorbar": {
             "outlinewidth": 0,
             "ticks": ""
            },
            "type": "choropleth"
           }
          ],
          "contour": [
           {
            "colorbar": {
             "outlinewidth": 0,
             "ticks": ""
            },
            "colorscale": [
             [
              0,
              "#0d0887"
             ],
             [
              0.1111111111111111,
              "#46039f"
             ],
             [
              0.2222222222222222,
              "#7201a8"
             ],
             [
              0.3333333333333333,
              "#9c179e"
             ],
             [
              0.4444444444444444,
              "#bd3786"
             ],
             [
              0.5555555555555556,
              "#d8576b"
             ],
             [
              0.6666666666666666,
              "#ed7953"
             ],
             [
              0.7777777777777778,
              "#fb9f3a"
             ],
             [
              0.8888888888888888,
              "#fdca26"
             ],
             [
              1,
              "#f0f921"
             ]
            ],
            "type": "contour"
           }
          ],
          "contourcarpet": [
           {
            "colorbar": {
             "outlinewidth": 0,
             "ticks": ""
            },
            "type": "contourcarpet"
           }
          ],
          "heatmap": [
           {
            "colorbar": {
             "outlinewidth": 0,
             "ticks": ""
            },
            "colorscale": [
             [
              0,
              "#0d0887"
             ],
             [
              0.1111111111111111,
              "#46039f"
             ],
             [
              0.2222222222222222,
              "#7201a8"
             ],
             [
              0.3333333333333333,
              "#9c179e"
             ],
             [
              0.4444444444444444,
              "#bd3786"
             ],
             [
              0.5555555555555556,
              "#d8576b"
             ],
             [
              0.6666666666666666,
              "#ed7953"
             ],
             [
              0.7777777777777778,
              "#fb9f3a"
             ],
             [
              0.8888888888888888,
              "#fdca26"
             ],
             [
              1,
              "#f0f921"
             ]
            ],
            "type": "heatmap"
           }
          ],
          "heatmapgl": [
           {
            "colorbar": {
             "outlinewidth": 0,
             "ticks": ""
            },
            "colorscale": [
             [
              0,
              "#0d0887"
             ],
             [
              0.1111111111111111,
              "#46039f"
             ],
             [
              0.2222222222222222,
              "#7201a8"
             ],
             [
              0.3333333333333333,
              "#9c179e"
             ],
             [
              0.4444444444444444,
              "#bd3786"
             ],
             [
              0.5555555555555556,
              "#d8576b"
             ],
             [
              0.6666666666666666,
              "#ed7953"
             ],
             [
              0.7777777777777778,
              "#fb9f3a"
             ],
             [
              0.8888888888888888,
              "#fdca26"
             ],
             [
              1,
              "#f0f921"
             ]
            ],
            "type": "heatmapgl"
           }
          ],
          "histogram": [
           {
            "marker": {
             "pattern": {
              "fillmode": "overlay",
              "size": 10,
              "solidity": 0.2
             }
            },
            "type": "histogram"
           }
          ],
          "histogram2d": [
           {
            "colorbar": {
             "outlinewidth": 0,
             "ticks": ""
            },
            "colorscale": [
             [
              0,
              "#0d0887"
             ],
             [
              0.1111111111111111,
              "#46039f"
             ],
             [
              0.2222222222222222,
              "#7201a8"
             ],
             [
              0.3333333333333333,
              "#9c179e"
             ],
             [
              0.4444444444444444,
              "#bd3786"
             ],
             [
              0.5555555555555556,
              "#d8576b"
             ],
             [
              0.6666666666666666,
              "#ed7953"
             ],
             [
              0.7777777777777778,
              "#fb9f3a"
             ],
             [
              0.8888888888888888,
              "#fdca26"
             ],
             [
              1,
              "#f0f921"
             ]
            ],
            "type": "histogram2d"
           }
          ],
          "histogram2dcontour": [
           {
            "colorbar": {
             "outlinewidth": 0,
             "ticks": ""
            },
            "colorscale": [
             [
              0,
              "#0d0887"
             ],
             [
              0.1111111111111111,
              "#46039f"
             ],
             [
              0.2222222222222222,
              "#7201a8"
             ],
             [
              0.3333333333333333,
              "#9c179e"
             ],
             [
              0.4444444444444444,
              "#bd3786"
             ],
             [
              0.5555555555555556,
              "#d8576b"
             ],
             [
              0.6666666666666666,
              "#ed7953"
             ],
             [
              0.7777777777777778,
              "#fb9f3a"
             ],
             [
              0.8888888888888888,
              "#fdca26"
             ],
             [
              1,
              "#f0f921"
             ]
            ],
            "type": "histogram2dcontour"
           }
          ],
          "mesh3d": [
           {
            "colorbar": {
             "outlinewidth": 0,
             "ticks": ""
            },
            "type": "mesh3d"
           }
          ],
          "parcoords": [
           {
            "line": {
             "colorbar": {
              "outlinewidth": 0,
              "ticks": ""
             }
            },
            "type": "parcoords"
           }
          ],
          "pie": [
           {
            "automargin": true,
            "type": "pie"
           }
          ],
          "scatter": [
           {
            "marker": {
             "colorbar": {
              "outlinewidth": 0,
              "ticks": ""
             }
            },
            "type": "scatter"
           }
          ],
          "scatter3d": [
           {
            "line": {
             "colorbar": {
              "outlinewidth": 0,
              "ticks": ""
             }
            },
            "marker": {
             "colorbar": {
              "outlinewidth": 0,
              "ticks": ""
             }
            },
            "type": "scatter3d"
           }
          ],
          "scattercarpet": [
           {
            "marker": {
             "colorbar": {
              "outlinewidth": 0,
              "ticks": ""
             }
            },
            "type": "scattercarpet"
           }
          ],
          "scattergeo": [
           {
            "marker": {
             "colorbar": {
              "outlinewidth": 0,
              "ticks": ""
             }
            },
            "type": "scattergeo"
           }
          ],
          "scattergl": [
           {
            "marker": {
             "colorbar": {
              "outlinewidth": 0,
              "ticks": ""
             }
            },
            "type": "scattergl"
           }
          ],
          "scattermapbox": [
           {
            "marker": {
             "colorbar": {
              "outlinewidth": 0,
              "ticks": ""
             }
            },
            "type": "scattermapbox"
           }
          ],
          "scatterpolar": [
           {
            "marker": {
             "colorbar": {
              "outlinewidth": 0,
              "ticks": ""
             }
            },
            "type": "scatterpolar"
           }
          ],
          "scatterpolargl": [
           {
            "marker": {
             "colorbar": {
              "outlinewidth": 0,
              "ticks": ""
             }
            },
            "type": "scatterpolargl"
           }
          ],
          "scatterternary": [
           {
            "marker": {
             "colorbar": {
              "outlinewidth": 0,
              "ticks": ""
             }
            },
            "type": "scatterternary"
           }
          ],
          "surface": [
           {
            "colorbar": {
             "outlinewidth": 0,
             "ticks": ""
            },
            "colorscale": [
             [
              0,
              "#0d0887"
             ],
             [
              0.1111111111111111,
              "#46039f"
             ],
             [
              0.2222222222222222,
              "#7201a8"
             ],
             [
              0.3333333333333333,
              "#9c179e"
             ],
             [
              0.4444444444444444,
              "#bd3786"
             ],
             [
              0.5555555555555556,
              "#d8576b"
             ],
             [
              0.6666666666666666,
              "#ed7953"
             ],
             [
              0.7777777777777778,
              "#fb9f3a"
             ],
             [
              0.8888888888888888,
              "#fdca26"
             ],
             [
              1,
              "#f0f921"
             ]
            ],
            "type": "surface"
           }
          ],
          "table": [
           {
            "cells": {
             "fill": {
              "color": "#EBF0F8"
             },
             "line": {
              "color": "white"
             }
            },
            "header": {
             "fill": {
              "color": "#C8D4E3"
             },
             "line": {
              "color": "white"
             }
            },
            "type": "table"
           }
          ]
         },
         "layout": {
          "annotationdefaults": {
           "arrowcolor": "#2a3f5f",
           "arrowhead": 0,
           "arrowwidth": 1
          },
          "autotypenumbers": "strict",
          "coloraxis": {
           "colorbar": {
            "outlinewidth": 0,
            "ticks": ""
           }
          },
          "colorscale": {
           "diverging": [
            [
             0,
             "#8e0152"
            ],
            [
             0.1,
             "#c51b7d"
            ],
            [
             0.2,
             "#de77ae"
            ],
            [
             0.3,
             "#f1b6da"
            ],
            [
             0.4,
             "#fde0ef"
            ],
            [
             0.5,
             "#f7f7f7"
            ],
            [
             0.6,
             "#e6f5d0"
            ],
            [
             0.7,
             "#b8e186"
            ],
            [
             0.8,
             "#7fbc41"
            ],
            [
             0.9,
             "#4d9221"
            ],
            [
             1,
             "#276419"
            ]
           ],
           "sequential": [
            [
             0,
             "#0d0887"
            ],
            [
             0.1111111111111111,
             "#46039f"
            ],
            [
             0.2222222222222222,
             "#7201a8"
            ],
            [
             0.3333333333333333,
             "#9c179e"
            ],
            [
             0.4444444444444444,
             "#bd3786"
            ],
            [
             0.5555555555555556,
             "#d8576b"
            ],
            [
             0.6666666666666666,
             "#ed7953"
            ],
            [
             0.7777777777777778,
             "#fb9f3a"
            ],
            [
             0.8888888888888888,
             "#fdca26"
            ],
            [
             1,
             "#f0f921"
            ]
           ],
           "sequentialminus": [
            [
             0,
             "#0d0887"
            ],
            [
             0.1111111111111111,
             "#46039f"
            ],
            [
             0.2222222222222222,
             "#7201a8"
            ],
            [
             0.3333333333333333,
             "#9c179e"
            ],
            [
             0.4444444444444444,
             "#bd3786"
            ],
            [
             0.5555555555555556,
             "#d8576b"
            ],
            [
             0.6666666666666666,
             "#ed7953"
            ],
            [
             0.7777777777777778,
             "#fb9f3a"
            ],
            [
             0.8888888888888888,
             "#fdca26"
            ],
            [
             1,
             "#f0f921"
            ]
           ]
          },
          "colorway": [
           "#636efa",
           "#EF553B",
           "#00cc96",
           "#ab63fa",
           "#FFA15A",
           "#19d3f3",
           "#FF6692",
           "#B6E880",
           "#FF97FF",
           "#FECB52"
          ],
          "font": {
           "color": "#2a3f5f"
          },
          "geo": {
           "bgcolor": "white",
           "lakecolor": "white",
           "landcolor": "#E5ECF6",
           "showlakes": true,
           "showland": true,
           "subunitcolor": "white"
          },
          "hoverlabel": {
           "align": "left"
          },
          "hovermode": "closest",
          "mapbox": {
           "style": "light"
          },
          "paper_bgcolor": "white",
          "plot_bgcolor": "#E5ECF6",
          "polar": {
           "angularaxis": {
            "gridcolor": "white",
            "linecolor": "white",
            "ticks": ""
           },
           "bgcolor": "#E5ECF6",
           "radialaxis": {
            "gridcolor": "white",
            "linecolor": "white",
            "ticks": ""
           }
          },
          "scene": {
           "xaxis": {
            "backgroundcolor": "#E5ECF6",
            "gridcolor": "white",
            "gridwidth": 2,
            "linecolor": "white",
            "showbackground": true,
            "ticks": "",
            "zerolinecolor": "white"
           },
           "yaxis": {
            "backgroundcolor": "#E5ECF6",
            "gridcolor": "white",
            "gridwidth": 2,
            "linecolor": "white",
            "showbackground": true,
            "ticks": "",
            "zerolinecolor": "white"
           },
           "zaxis": {
            "backgroundcolor": "#E5ECF6",
            "gridcolor": "white",
            "gridwidth": 2,
            "linecolor": "white",
            "showbackground": true,
            "ticks": "",
            "zerolinecolor": "white"
           }
          },
          "shapedefaults": {
           "line": {
            "color": "#2a3f5f"
           }
          },
          "ternary": {
           "aaxis": {
            "gridcolor": "white",
            "linecolor": "white",
            "ticks": ""
           },
           "baxis": {
            "gridcolor": "white",
            "linecolor": "white",
            "ticks": ""
           },
           "bgcolor": "#E5ECF6",
           "caxis": {
            "gridcolor": "white",
            "linecolor": "white",
            "ticks": ""
           }
          },
          "title": {
           "x": 0.05
          },
          "xaxis": {
           "automargin": true,
           "gridcolor": "white",
           "linecolor": "white",
           "ticks": "",
           "title": {
            "standoff": 15
           },
           "zerolinecolor": "white",
           "zerolinewidth": 2
          },
          "yaxis": {
           "automargin": true,
           "gridcolor": "white",
           "linecolor": "white",
           "ticks": "",
           "title": {
            "standoff": 15
           },
           "zerolinecolor": "white",
           "zerolinewidth": 2
          }
         }
        },
        "title": {
         "text": "Long-Form Input"
        },
        "xaxis": {
         "anchor": "y",
         "categoryarray": [
          "Coronavirus Cases",
          "Coronavirus Deaths",
          "Coronavirus Recovered",
          "Coronavirus Vaccination Rate",
          "Coronavirus Vaccination Total",
          "20 Year bond Yield",
          "Currency",
          "Government Bond 10Y",
          "Stock Market",
          "Interbank Rate",
          "Interest Rate",
          "Repo Rate"
         ],
         "categoryorder": "array",
         "domain": [
          0,
          1
         ],
         "title": {
          "text": "Category"
         }
        },
        "yaxis": {
         "anchor": "x",
         "domain": [
          0,
          1
         ],
         "title": {
          "text": "LatestValue"
         }
        }
       }
      },
      "text/html": [
       "<div>                            <div id=\"915883b8-c80e-470d-91e7-6fd0dcb7452b\" class=\"plotly-graph-div\" style=\"height:525px; width:100%;\"></div>            <script type=\"text/javascript\">                require([\"plotly\"], function(Plotly) {                    window.PLOTLYENV=window.PLOTLYENV || {};                                    if (document.getElementById(\"915883b8-c80e-470d-91e7-6fd0dcb7452b\")) {                    Plotly.newPlot(                        \"915883b8-c80e-470d-91e7-6fd0dcb7452b\",                        [{\"alignmentgroup\":\"True\",\"hovertemplate\":\"Category=%{x}<br>LatestValue=%{y}<extra></extra>\",\"legendgroup\":\"Coronavirus Cases\",\"marker\":{\"color\":\"#636efa\",\"pattern\":{\"shape\":\"\"}},\"name\":\"Coronavirus Cases\",\"offsetgroup\":\"Coronavirus Cases\",\"orientation\":\"v\",\"showlegend\":true,\"textposition\":\"auto\",\"type\":\"bar\",\"x\":[\"Coronavirus Cases\"],\"xaxis\":\"x\",\"y\":[39944987.0],\"yaxis\":\"y\"},{\"alignmentgroup\":\"True\",\"hovertemplate\":\"Category=%{x}<br>LatestValue=%{y}<extra></extra>\",\"legendgroup\":\"Coronavirus Deaths\",\"marker\":{\"color\":\"#EF553B\",\"pattern\":{\"shape\":\"\"}},\"name\":\"Coronavirus Deaths\",\"offsetgroup\":\"Coronavirus Deaths\",\"orientation\":\"v\",\"showlegend\":true,\"textposition\":\"auto\",\"type\":\"bar\",\"x\":[\"Coronavirus Deaths\"],\"xaxis\":\"x\",\"y\":[648468.0],\"yaxis\":\"y\"},{\"alignmentgroup\":\"True\",\"hovertemplate\":\"Category=%{x}<br>LatestValue=%{y}<extra></extra>\",\"legendgroup\":\"Coronavirus Recovered\",\"marker\":{\"color\":\"#00cc96\",\"pattern\":{\"shape\":\"\"}},\"name\":\"Coronavirus Recovered\",\"offsetgroup\":\"Coronavirus Recovered\",\"orientation\":\"v\",\"showlegend\":true,\"textposition\":\"auto\",\"type\":\"bar\",\"x\":[\"Coronavirus Recovered\"],\"xaxis\":\"x\",\"y\":[16306656.0],\"yaxis\":\"y\"},{\"alignmentgroup\":\"True\",\"hovertemplate\":\"Category=%{x}<br>LatestValue=%{y}<extra></extra>\",\"legendgroup\":\"Coronavirus Vaccination Rate\",\"marker\":{\"color\":\"#ab63fa\",\"pattern\":{\"shape\":\"\"}},\"name\":\"Coronavirus Vaccination Rate\",\"offsetgroup\":\"Coronavirus Vaccination Rate\",\"orientation\":\"v\",\"showlegend\":true,\"textposition\":\"auto\",\"type\":\"bar\",\"x\":[\"Coronavirus Vaccination Rate\"],\"xaxis\":\"x\",\"y\":[111.35],\"yaxis\":\"y\"},{\"alignmentgroup\":\"True\",\"hovertemplate\":\"Category=%{x}<br>LatestValue=%{y}<extra></extra>\",\"legendgroup\":\"Coronavirus Vaccination Total\",\"marker\":{\"color\":\"#FFA15A\",\"pattern\":{\"shape\":\"\"}},\"name\":\"Coronavirus Vaccination Total\",\"offsetgroup\":\"Coronavirus Vaccination Total\",\"orientation\":\"v\",\"showlegend\":true,\"textposition\":\"auto\",\"type\":\"bar\",\"x\":[\"Coronavirus Vaccination Total\"],\"xaxis\":\"x\",\"y\":[374488924.0],\"yaxis\":\"y\"},{\"alignmentgroup\":\"True\",\"hovertemplate\":\"Category=%{x}<br>LatestValue=%{y}<extra></extra>\",\"legendgroup\":\"20 Year bond Yield\",\"marker\":{\"color\":\"#19d3f3\",\"pattern\":{\"shape\":\"\"}},\"name\":\"20 Year bond Yield\",\"offsetgroup\":\"20 Year bond Yield\",\"orientation\":\"v\",\"showlegend\":true,\"textposition\":\"auto\",\"type\":\"bar\",\"x\":[\"20 Year bond Yield\"],\"xaxis\":\"x\",\"y\":[2.03],\"yaxis\":\"y\"},{\"alignmentgroup\":\"True\",\"hovertemplate\":\"Category=%{x}<br>LatestValue=%{y}<extra></extra>\",\"legendgroup\":\"Currency\",\"marker\":{\"color\":\"#FF6692\",\"pattern\":{\"shape\":\"\"}},\"name\":\"Currency\",\"offsetgroup\":\"Currency\",\"orientation\":\"v\",\"showlegend\":true,\"textposition\":\"auto\",\"type\":\"bar\",\"x\":[\"Currency\"],\"xaxis\":\"x\",\"y\":[92.27],\"yaxis\":\"y\"},{\"alignmentgroup\":\"True\",\"hovertemplate\":\"Category=%{x}<br>LatestValue=%{y}<extra></extra>\",\"legendgroup\":\"Government Bond 10Y\",\"marker\":{\"color\":\"#B6E880\",\"pattern\":{\"shape\":\"\"}},\"name\":\"Government Bond 10Y\",\"offsetgroup\":\"Government Bond 10Y\",\"orientation\":\"v\",\"showlegend\":true,\"textposition\":\"auto\",\"type\":\"bar\",\"x\":[\"Government Bond 10Y\"],\"xaxis\":\"x\",\"y\":[1.33],\"yaxis\":\"y\"},{\"alignmentgroup\":\"True\",\"hovertemplate\":\"Category=%{x}<br>LatestValue=%{y}<extra></extra>\",\"legendgroup\":\"Stock Market\",\"marker\":{\"color\":\"#FF97FF\",\"pattern\":{\"shape\":\"\"}},\"name\":\"Stock Market\",\"offsetgroup\":\"Stock Market\",\"orientation\":\"v\",\"showlegend\":true,\"textposition\":\"auto\",\"type\":\"bar\",\"x\":[\"Stock Market\"],\"xaxis\":\"x\",\"y\":[35461.37],\"yaxis\":\"y\"},{\"alignmentgroup\":\"True\",\"hovertemplate\":\"Category=%{x}<br>LatestValue=%{y}<extra></extra>\",\"legendgroup\":\"Interbank Rate\",\"marker\":{\"color\":\"#FECB52\",\"pattern\":{\"shape\":\"\"}},\"name\":\"Interbank Rate\",\"offsetgroup\":\"Interbank Rate\",\"orientation\":\"v\",\"showlegend\":true,\"textposition\":\"auto\",\"type\":\"bar\",\"x\":[\"Interbank Rate\"],\"xaxis\":\"x\",\"y\":[0.12],\"yaxis\":\"y\"},{\"alignmentgroup\":\"True\",\"hovertemplate\":\"Category=%{x}<br>LatestValue=%{y}<extra></extra>\",\"legendgroup\":\"Interest Rate\",\"marker\":{\"color\":\"#636efa\",\"pattern\":{\"shape\":\"\"}},\"name\":\"Interest Rate\",\"offsetgroup\":\"Interest Rate\",\"orientation\":\"v\",\"showlegend\":true,\"textposition\":\"auto\",\"type\":\"bar\",\"x\":[\"Interest Rate\"],\"xaxis\":\"x\",\"y\":[0.25],\"yaxis\":\"y\"},{\"alignmentgroup\":\"True\",\"hovertemplate\":\"Category=%{x}<br>LatestValue=%{y}<extra></extra>\",\"legendgroup\":\"Repo Rate\",\"marker\":{\"color\":\"#EF553B\",\"pattern\":{\"shape\":\"\"}},\"name\":\"Repo Rate\",\"offsetgroup\":\"Repo Rate\",\"orientation\":\"v\",\"showlegend\":true,\"textposition\":\"auto\",\"type\":\"bar\",\"x\":[\"Repo Rate\"],\"xaxis\":\"x\",\"y\":[0.06],\"yaxis\":\"y\"}],                        {\"barmode\":\"relative\",\"legend\":{\"title\":{\"text\":\"Category\"},\"tracegroupgap\":0},\"template\":{\"data\":{\"bar\":[{\"error_x\":{\"color\":\"#2a3f5f\"},\"error_y\":{\"color\":\"#2a3f5f\"},\"marker\":{\"line\":{\"color\":\"#E5ECF6\",\"width\":0.5},\"pattern\":{\"fillmode\":\"overlay\",\"size\":10,\"solidity\":0.2}},\"type\":\"bar\"}],\"barpolar\":[{\"marker\":{\"line\":{\"color\":\"#E5ECF6\",\"width\":0.5},\"pattern\":{\"fillmode\":\"overlay\",\"size\":10,\"solidity\":0.2}},\"type\":\"barpolar\"}],\"carpet\":[{\"aaxis\":{\"endlinecolor\":\"#2a3f5f\",\"gridcolor\":\"white\",\"linecolor\":\"white\",\"minorgridcolor\":\"white\",\"startlinecolor\":\"#2a3f5f\"},\"baxis\":{\"endlinecolor\":\"#2a3f5f\",\"gridcolor\":\"white\",\"linecolor\":\"white\",\"minorgridcolor\":\"white\",\"startlinecolor\":\"#2a3f5f\"},\"type\":\"carpet\"}],\"choropleth\":[{\"colorbar\":{\"outlinewidth\":0,\"ticks\":\"\"},\"type\":\"choropleth\"}],\"contour\":[{\"colorbar\":{\"outlinewidth\":0,\"ticks\":\"\"},\"colorscale\":[[0.0,\"#0d0887\"],[0.1111111111111111,\"#46039f\"],[0.2222222222222222,\"#7201a8\"],[0.3333333333333333,\"#9c179e\"],[0.4444444444444444,\"#bd3786\"],[0.5555555555555556,\"#d8576b\"],[0.6666666666666666,\"#ed7953\"],[0.7777777777777778,\"#fb9f3a\"],[0.8888888888888888,\"#fdca26\"],[1.0,\"#f0f921\"]],\"type\":\"contour\"}],\"contourcarpet\":[{\"colorbar\":{\"outlinewidth\":0,\"ticks\":\"\"},\"type\":\"contourcarpet\"}],\"heatmap\":[{\"colorbar\":{\"outlinewidth\":0,\"ticks\":\"\"},\"colorscale\":[[0.0,\"#0d0887\"],[0.1111111111111111,\"#46039f\"],[0.2222222222222222,\"#7201a8\"],[0.3333333333333333,\"#9c179e\"],[0.4444444444444444,\"#bd3786\"],[0.5555555555555556,\"#d8576b\"],[0.6666666666666666,\"#ed7953\"],[0.7777777777777778,\"#fb9f3a\"],[0.8888888888888888,\"#fdca26\"],[1.0,\"#f0f921\"]],\"type\":\"heatmap\"}],\"heatmapgl\":[{\"colorbar\":{\"outlinewidth\":0,\"ticks\":\"\"},\"colorscale\":[[0.0,\"#0d0887\"],[0.1111111111111111,\"#46039f\"],[0.2222222222222222,\"#7201a8\"],[0.3333333333333333,\"#9c179e\"],[0.4444444444444444,\"#bd3786\"],[0.5555555555555556,\"#d8576b\"],[0.6666666666666666,\"#ed7953\"],[0.7777777777777778,\"#fb9f3a\"],[0.8888888888888888,\"#fdca26\"],[1.0,\"#f0f921\"]],\"type\":\"heatmapgl\"}],\"histogram\":[{\"marker\":{\"pattern\":{\"fillmode\":\"overlay\",\"size\":10,\"solidity\":0.2}},\"type\":\"histogram\"}],\"histogram2d\":[{\"colorbar\":{\"outlinewidth\":0,\"ticks\":\"\"},\"colorscale\":[[0.0,\"#0d0887\"],[0.1111111111111111,\"#46039f\"],[0.2222222222222222,\"#7201a8\"],[0.3333333333333333,\"#9c179e\"],[0.4444444444444444,\"#bd3786\"],[0.5555555555555556,\"#d8576b\"],[0.6666666666666666,\"#ed7953\"],[0.7777777777777778,\"#fb9f3a\"],[0.8888888888888888,\"#fdca26\"],[1.0,\"#f0f921\"]],\"type\":\"histogram2d\"}],\"histogram2dcontour\":[{\"colorbar\":{\"outlinewidth\":0,\"ticks\":\"\"},\"colorscale\":[[0.0,\"#0d0887\"],[0.1111111111111111,\"#46039f\"],[0.2222222222222222,\"#7201a8\"],[0.3333333333333333,\"#9c179e\"],[0.4444444444444444,\"#bd3786\"],[0.5555555555555556,\"#d8576b\"],[0.6666666666666666,\"#ed7953\"],[0.7777777777777778,\"#fb9f3a\"],[0.8888888888888888,\"#fdca26\"],[1.0,\"#f0f921\"]],\"type\":\"histogram2dcontour\"}],\"mesh3d\":[{\"colorbar\":{\"outlinewidth\":0,\"ticks\":\"\"},\"type\":\"mesh3d\"}],\"parcoords\":[{\"line\":{\"colorbar\":{\"outlinewidth\":0,\"ticks\":\"\"}},\"type\":\"parcoords\"}],\"pie\":[{\"automargin\":true,\"type\":\"pie\"}],\"scatter\":[{\"marker\":{\"colorbar\":{\"outlinewidth\":0,\"ticks\":\"\"}},\"type\":\"scatter\"}],\"scatter3d\":[{\"line\":{\"colorbar\":{\"outlinewidth\":0,\"ticks\":\"\"}},\"marker\":{\"colorbar\":{\"outlinewidth\":0,\"ticks\":\"\"}},\"type\":\"scatter3d\"}],\"scattercarpet\":[{\"marker\":{\"colorbar\":{\"outlinewidth\":0,\"ticks\":\"\"}},\"type\":\"scattercarpet\"}],\"scattergeo\":[{\"marker\":{\"colorbar\":{\"outlinewidth\":0,\"ticks\":\"\"}},\"type\":\"scattergeo\"}],\"scattergl\":[{\"marker\":{\"colorbar\":{\"outlinewidth\":0,\"ticks\":\"\"}},\"type\":\"scattergl\"}],\"scattermapbox\":[{\"marker\":{\"colorbar\":{\"outlinewidth\":0,\"ticks\":\"\"}},\"type\":\"scattermapbox\"}],\"scatterpolar\":[{\"marker\":{\"colorbar\":{\"outlinewidth\":0,\"ticks\":\"\"}},\"type\":\"scatterpolar\"}],\"scatterpolargl\":[{\"marker\":{\"colorbar\":{\"outlinewidth\":0,\"ticks\":\"\"}},\"type\":\"scatterpolargl\"}],\"scatterternary\":[{\"marker\":{\"colorbar\":{\"outlinewidth\":0,\"ticks\":\"\"}},\"type\":\"scatterternary\"}],\"surface\":[{\"colorbar\":{\"outlinewidth\":0,\"ticks\":\"\"},\"colorscale\":[[0.0,\"#0d0887\"],[0.1111111111111111,\"#46039f\"],[0.2222222222222222,\"#7201a8\"],[0.3333333333333333,\"#9c179e\"],[0.4444444444444444,\"#bd3786\"],[0.5555555555555556,\"#d8576b\"],[0.6666666666666666,\"#ed7953\"],[0.7777777777777778,\"#fb9f3a\"],[0.8888888888888888,\"#fdca26\"],[1.0,\"#f0f921\"]],\"type\":\"surface\"}],\"table\":[{\"cells\":{\"fill\":{\"color\":\"#EBF0F8\"},\"line\":{\"color\":\"white\"}},\"header\":{\"fill\":{\"color\":\"#C8D4E3\"},\"line\":{\"color\":\"white\"}},\"type\":\"table\"}]},\"layout\":{\"annotationdefaults\":{\"arrowcolor\":\"#2a3f5f\",\"arrowhead\":0,\"arrowwidth\":1},\"autotypenumbers\":\"strict\",\"coloraxis\":{\"colorbar\":{\"outlinewidth\":0,\"ticks\":\"\"}},\"colorscale\":{\"diverging\":[[0,\"#8e0152\"],[0.1,\"#c51b7d\"],[0.2,\"#de77ae\"],[0.3,\"#f1b6da\"],[0.4,\"#fde0ef\"],[0.5,\"#f7f7f7\"],[0.6,\"#e6f5d0\"],[0.7,\"#b8e186\"],[0.8,\"#7fbc41\"],[0.9,\"#4d9221\"],[1,\"#276419\"]],\"sequential\":[[0.0,\"#0d0887\"],[0.1111111111111111,\"#46039f\"],[0.2222222222222222,\"#7201a8\"],[0.3333333333333333,\"#9c179e\"],[0.4444444444444444,\"#bd3786\"],[0.5555555555555556,\"#d8576b\"],[0.6666666666666666,\"#ed7953\"],[0.7777777777777778,\"#fb9f3a\"],[0.8888888888888888,\"#fdca26\"],[1.0,\"#f0f921\"]],\"sequentialminus\":[[0.0,\"#0d0887\"],[0.1111111111111111,\"#46039f\"],[0.2222222222222222,\"#7201a8\"],[0.3333333333333333,\"#9c179e\"],[0.4444444444444444,\"#bd3786\"],[0.5555555555555556,\"#d8576b\"],[0.6666666666666666,\"#ed7953\"],[0.7777777777777778,\"#fb9f3a\"],[0.8888888888888888,\"#fdca26\"],[1.0,\"#f0f921\"]]},\"colorway\":[\"#636efa\",\"#EF553B\",\"#00cc96\",\"#ab63fa\",\"#FFA15A\",\"#19d3f3\",\"#FF6692\",\"#B6E880\",\"#FF97FF\",\"#FECB52\"],\"font\":{\"color\":\"#2a3f5f\"},\"geo\":{\"bgcolor\":\"white\",\"lakecolor\":\"white\",\"landcolor\":\"#E5ECF6\",\"showlakes\":true,\"showland\":true,\"subunitcolor\":\"white\"},\"hoverlabel\":{\"align\":\"left\"},\"hovermode\":\"closest\",\"mapbox\":{\"style\":\"light\"},\"paper_bgcolor\":\"white\",\"plot_bgcolor\":\"#E5ECF6\",\"polar\":{\"angularaxis\":{\"gridcolor\":\"white\",\"linecolor\":\"white\",\"ticks\":\"\"},\"bgcolor\":\"#E5ECF6\",\"radialaxis\":{\"gridcolor\":\"white\",\"linecolor\":\"white\",\"ticks\":\"\"}},\"scene\":{\"xaxis\":{\"backgroundcolor\":\"#E5ECF6\",\"gridcolor\":\"white\",\"gridwidth\":2,\"linecolor\":\"white\",\"showbackground\":true,\"ticks\":\"\",\"zerolinecolor\":\"white\"},\"yaxis\":{\"backgroundcolor\":\"#E5ECF6\",\"gridcolor\":\"white\",\"gridwidth\":2,\"linecolor\":\"white\",\"showbackground\":true,\"ticks\":\"\",\"zerolinecolor\":\"white\"},\"zaxis\":{\"backgroundcolor\":\"#E5ECF6\",\"gridcolor\":\"white\",\"gridwidth\":2,\"linecolor\":\"white\",\"showbackground\":true,\"ticks\":\"\",\"zerolinecolor\":\"white\"}},\"shapedefaults\":{\"line\":{\"color\":\"#2a3f5f\"}},\"ternary\":{\"aaxis\":{\"gridcolor\":\"white\",\"linecolor\":\"white\",\"ticks\":\"\"},\"baxis\":{\"gridcolor\":\"white\",\"linecolor\":\"white\",\"ticks\":\"\"},\"bgcolor\":\"#E5ECF6\",\"caxis\":{\"gridcolor\":\"white\",\"linecolor\":\"white\",\"ticks\":\"\"}},\"title\":{\"x\":0.05},\"xaxis\":{\"automargin\":true,\"gridcolor\":\"white\",\"linecolor\":\"white\",\"ticks\":\"\",\"title\":{\"standoff\":15},\"zerolinecolor\":\"white\",\"zerolinewidth\":2},\"yaxis\":{\"automargin\":true,\"gridcolor\":\"white\",\"linecolor\":\"white\",\"ticks\":\"\",\"title\":{\"standoff\":15},\"zerolinecolor\":\"white\",\"zerolinewidth\":2}}},\"title\":{\"text\":\"Long-Form Input\"},\"xaxis\":{\"anchor\":\"y\",\"categoryarray\":[\"Coronavirus Cases\",\"Coronavirus Deaths\",\"Coronavirus Recovered\",\"Coronavirus Vaccination Rate\",\"Coronavirus Vaccination Total\",\"20 Year bond Yield\",\"Currency\",\"Government Bond 10Y\",\"Stock Market\",\"Interbank Rate\",\"Interest Rate\",\"Repo Rate\"],\"categoryorder\":\"array\",\"domain\":[0.0,1.0],\"title\":{\"text\":\"Category\"}},\"yaxis\":{\"anchor\":\"x\",\"domain\":[0.0,1.0],\"title\":{\"text\":\"LatestValue\"}}},                        {\"responsive\": true}                    ).then(function(){\n",
       "                            \n",
       "var gd = document.getElementById('915883b8-c80e-470d-91e7-6fd0dcb7452b');\n",
       "var x = new MutationObserver(function (mutations, observer) {{\n",
       "        var display = window.getComputedStyle(gd).display;\n",
       "        if (!display || display === 'none') {{\n",
       "            console.log([gd, 'removed!']);\n",
       "            Plotly.purge(gd);\n",
       "            observer.disconnect();\n",
       "        }}\n",
       "}});\n",
       "\n",
       "// Listen for the removal of the full notebook cells\n",
       "var notebookContainer = gd.closest('#notebook-container');\n",
       "if (notebookContainer) {{\n",
       "    x.observe(notebookContainer, {childList: true});\n",
       "}}\n",
       "\n",
       "// Listen for the clearing of the current output cell\n",
       "var outputEl = gd.closest('.output');\n",
       "if (outputEl) {{\n",
       "    x.observe(outputEl, {childList: true});\n",
       "}}\n",
       "\n",
       "                        })                };                });            </script>        </div>"
      ]
     },
     "metadata": {},
     "output_type": "display_data"
    }
   ],
   "source": [
    "\n",
    "\n",
    "fig = px.bar(to_plot_3, x=\"Category\", y=\"LatestValue\", color=\"Category\", title=\"Long-Form Input\")\n",
    "fig.show()\n",
    "\n"
   ]
  },
  {
   "cell_type": "code",
   "execution_count": 45,
   "id": "bd000835",
   "metadata": {},
   "outputs": [],
   "source": [
    "def getIndicatorData(indicator=None, output_type=None):\n",
    "    d = {\n",
    "        'url_base': 'https://api.tradingeconomics.com/country',\n",
    "        'country': '/all',\n",
    "        'indicator_tag' : f'/{quote(indicator)}',\n",
    "        'key': f'?c={glob.apikey}',\n",
    "        'output_type' : ''\n",
    "    }\n",
    "\n",
    "    api_url_request = \"%s%s%s%s\" % (d['url_base'], d['country'],d['indicator_tag'],  d['key']) \n",
    "    return fn.dataRequest(api_request=api_url_request, output_type=output_type)"
   ]
  },
  {
   "cell_type": "code",
   "execution_count": 47,
   "id": "2c691eb3",
   "metadata": {},
   "outputs": [],
   "source": [
    "temp_df2 = getIndicatorData(indicator=\"Coronavirus Cases\", output_type='df')"
   ]
  },
  {
   "cell_type": "code",
   "execution_count": null,
   "id": "17de2a79",
   "metadata": {},
   "outputs": [],
   "source": []
  },
  {
   "cell_type": "code",
   "execution_count": 56,
   "id": "2de38a9b",
   "metadata": {
    "scrolled": true
   },
   "outputs": [
    {
     "data": {
      "text/html": [
       "<div>\n",
       "<style scoped>\n",
       "    .dataframe tbody tr th:only-of-type {\n",
       "        vertical-align: middle;\n",
       "    }\n",
       "\n",
       "    .dataframe tbody tr th {\n",
       "        vertical-align: top;\n",
       "    }\n",
       "\n",
       "    .dataframe thead th {\n",
       "        text-align: right;\n",
       "    }\n",
       "</style>\n",
       "<table border=\"1\" class=\"dataframe\">\n",
       "  <thead>\n",
       "    <tr style=\"text-align: right;\">\n",
       "      <th></th>\n",
       "      <th>Country</th>\n",
       "      <th>Category</th>\n",
       "      <th>Title</th>\n",
       "      <th>LatestValueDate</th>\n",
       "      <th>LatestValue</th>\n",
       "      <th>Source</th>\n",
       "      <th>Unit</th>\n",
       "      <th>URL</th>\n",
       "      <th>CategoryGroup</th>\n",
       "      <th>Adjustment</th>\n",
       "      <th>Frequency</th>\n",
       "      <th>HistoricalDataSymbol</th>\n",
       "      <th>CreateDate</th>\n",
       "      <th>PreviousValue</th>\n",
       "      <th>PreviousValueDate</th>\n",
       "    </tr>\n",
       "  </thead>\n",
       "  <tbody>\n",
       "    <tr>\n",
       "      <th>173</th>\n",
       "      <td>World</td>\n",
       "      <td>Coronavirus Cases</td>\n",
       "      <td>World Coronavirus COVID-19 Cases</td>\n",
       "      <td>2021-09-03T00:00:00</td>\n",
       "      <td>218946836.0</td>\n",
       "      <td>World Health Organization</td>\n",
       "      <td>Persons</td>\n",
       "      <td>/world/coronavirus-cases</td>\n",
       "      <td>Health</td>\n",
       "      <td></td>\n",
       "      <td>Daily</td>\n",
       "      <td>WORLDCORCAS</td>\n",
       "      <td>2020-03-09T10:07:00</td>\n",
       "      <td>218259004.0</td>\n",
       "      <td>2021-09-02T00:00:00</td>\n",
       "    </tr>\n",
       "  </tbody>\n",
       "</table>\n",
       "</div>"
      ],
      "text/plain": [
       "    Country           Category                             Title  \\\n",
       "173   World  Coronavirus Cases  World Coronavirus COVID-19 Cases   \n",
       "\n",
       "         LatestValueDate  LatestValue                     Source     Unit  \\\n",
       "173  2021-09-03T00:00:00  218946836.0  World Health Organization  Persons   \n",
       "\n",
       "                          URL CategoryGroup Adjustment Frequency  \\\n",
       "173  /world/coronavirus-cases        Health                Daily   \n",
       "\n",
       "    HistoricalDataSymbol           CreateDate  PreviousValue  \\\n",
       "173          WORLDCORCAS  2020-03-09T10:07:00    218259004.0   \n",
       "\n",
       "       PreviousValueDate  \n",
       "173  2021-09-02T00:00:00  "
      ]
     },
     "execution_count": 56,
     "metadata": {},
     "output_type": "execute_result"
    }
   ],
   "source": [
    "temp_df2.query(\"Country == 'World'\")"
   ]
  },
  {
   "cell_type": "code",
   "execution_count": 57,
   "id": "be83d832",
   "metadata": {},
   "outputs": [
    {
     "data": {
      "text/html": [
       "<div>\n",
       "<style scoped>\n",
       "    .dataframe tbody tr th:only-of-type {\n",
       "        vertical-align: middle;\n",
       "    }\n",
       "\n",
       "    .dataframe tbody tr th {\n",
       "        vertical-align: top;\n",
       "    }\n",
       "\n",
       "    .dataframe thead th {\n",
       "        text-align: right;\n",
       "    }\n",
       "</style>\n",
       "<table border=\"1\" class=\"dataframe\">\n",
       "  <thead>\n",
       "    <tr style=\"text-align: right;\">\n",
       "      <th></th>\n",
       "      <th>Country</th>\n",
       "      <th>Category</th>\n",
       "      <th>Title</th>\n",
       "      <th>LatestValueDate</th>\n",
       "      <th>LatestValue</th>\n",
       "      <th>Source</th>\n",
       "      <th>Unit</th>\n",
       "      <th>URL</th>\n",
       "      <th>CategoryGroup</th>\n",
       "      <th>Adjustment</th>\n",
       "      <th>Frequency</th>\n",
       "      <th>HistoricalDataSymbol</th>\n",
       "      <th>CreateDate</th>\n",
       "      <th>PreviousValue</th>\n",
       "      <th>PreviousValueDate</th>\n",
       "    </tr>\n",
       "  </thead>\n",
       "  <tbody>\n",
       "    <tr>\n",
       "      <th>173</th>\n",
       "      <td>World</td>\n",
       "      <td>Coronavirus Cases</td>\n",
       "      <td>World Coronavirus COVID-19 Cases</td>\n",
       "      <td>2021-09-03T00:00:00</td>\n",
       "      <td>218946836.0</td>\n",
       "      <td>World Health Organization</td>\n",
       "      <td>Persons</td>\n",
       "      <td>/world/coronavirus-cases</td>\n",
       "      <td>Health</td>\n",
       "      <td></td>\n",
       "      <td>Daily</td>\n",
       "      <td>WORLDCORCAS</td>\n",
       "      <td>2020-03-09T10:07:00</td>\n",
       "      <td>218259004.0</td>\n",
       "      <td>2021-09-02T00:00:00</td>\n",
       "    </tr>\n",
       "  </tbody>\n",
       "</table>\n",
       "</div>"
      ],
      "text/plain": [
       "    Country           Category                             Title  \\\n",
       "173   World  Coronavirus Cases  World Coronavirus COVID-19 Cases   \n",
       "\n",
       "         LatestValueDate  LatestValue                     Source     Unit  \\\n",
       "173  2021-09-03T00:00:00  218946836.0  World Health Organization  Persons   \n",
       "\n",
       "                          URL CategoryGroup Adjustment Frequency  \\\n",
       "173  /world/coronavirus-cases        Health                Daily   \n",
       "\n",
       "    HistoricalDataSymbol           CreateDate  PreviousValue  \\\n",
       "173          WORLDCORCAS  2020-03-09T10:07:00    218259004.0   \n",
       "\n",
       "       PreviousValueDate  \n",
       "173  2021-09-02T00:00:00  "
      ]
     },
     "execution_count": 57,
     "metadata": {},
     "output_type": "execute_result"
    }
   ],
   "source": [
    "temp_df2.loc[lambda df: df['Country'] == 'World', :]"
   ]
  },
  {
   "cell_type": "code",
   "execution_count": 51,
   "id": "02200bb6",
   "metadata": {},
   "outputs": [],
   "source": []
  },
  {
   "cell_type": "code",
   "execution_count": 66,
   "id": "f35c0056",
   "metadata": {
    "scrolled": true
   },
   "outputs": [
    {
     "data": {
      "text/html": [
       "<div>\n",
       "<style scoped>\n",
       "    .dataframe tbody tr th:only-of-type {\n",
       "        vertical-align: middle;\n",
       "    }\n",
       "\n",
       "    .dataframe tbody tr th {\n",
       "        vertical-align: top;\n",
       "    }\n",
       "\n",
       "    .dataframe thead th {\n",
       "        text-align: right;\n",
       "    }\n",
       "</style>\n",
       "<table border=\"1\" class=\"dataframe\">\n",
       "  <thead>\n",
       "    <tr style=\"text-align: right;\">\n",
       "      <th></th>\n",
       "      <th>Country</th>\n",
       "      <th>Category</th>\n",
       "      <th>Title</th>\n",
       "      <th>LatestValueDate</th>\n",
       "      <th>LatestValue</th>\n",
       "      <th>Source</th>\n",
       "      <th>Unit</th>\n",
       "      <th>URL</th>\n",
       "      <th>CategoryGroup</th>\n",
       "      <th>Adjustment</th>\n",
       "      <th>Frequency</th>\n",
       "      <th>HistoricalDataSymbol</th>\n",
       "      <th>CreateDate</th>\n",
       "      <th>PreviousValue</th>\n",
       "      <th>PreviousValueDate</th>\n",
       "    </tr>\n",
       "  </thead>\n",
       "  <tbody>\n",
       "    <tr>\n",
       "      <th>0</th>\n",
       "      <td>Afghanistan</td>\n",
       "      <td>Coronavirus Cases</td>\n",
       "      <td>Afghanistan Coronavirus COVID-19 Cases</td>\n",
       "      <td>2021-09-03T00:00:00</td>\n",
       "      <td>153375.0</td>\n",
       "      <td>World Health Organization</td>\n",
       "      <td>Persons</td>\n",
       "      <td>/afghanistan/coronavirus-cases</td>\n",
       "      <td>Health</td>\n",
       "      <td></td>\n",
       "      <td>Daily</td>\n",
       "      <td>AFCOVIDCT</td>\n",
       "      <td>2020-03-04T15:55:00</td>\n",
       "      <td>153306.0</td>\n",
       "      <td>2021-09-02T00:00:00</td>\n",
       "    </tr>\n",
       "    <tr>\n",
       "      <th>1</th>\n",
       "      <td>Albania</td>\n",
       "      <td>Coronavirus Cases</td>\n",
       "      <td>Albania Coronavirus COVID-19 Cases</td>\n",
       "      <td>2021-09-03T00:00:00</td>\n",
       "      <td>148222.0</td>\n",
       "      <td>World Health Organization</td>\n",
       "      <td>Persons</td>\n",
       "      <td>/albania/coronavirus-cases</td>\n",
       "      <td>Health</td>\n",
       "      <td></td>\n",
       "      <td>Daily</td>\n",
       "      <td>ALCOVIDCT</td>\n",
       "      <td>2020-03-04T15:55:00</td>\n",
       "      <td>147369.0</td>\n",
       "      <td>2021-09-02T00:00:00</td>\n",
       "    </tr>\n",
       "    <tr>\n",
       "      <th>2</th>\n",
       "      <td>Algeria</td>\n",
       "      <td>Coronavirus Cases</td>\n",
       "      <td>Algeria Coronavirus COVID-19 Cases</td>\n",
       "      <td>2021-09-03T00:00:00</td>\n",
       "      <td>196915.0</td>\n",
       "      <td>World Health Organization</td>\n",
       "      <td>Persons</td>\n",
       "      <td>/algeria/coronavirus-cases</td>\n",
       "      <td>Health</td>\n",
       "      <td></td>\n",
       "      <td>Daily</td>\n",
       "      <td>DZCOVIDCT</td>\n",
       "      <td>2020-03-04T15:55:00</td>\n",
       "      <td>196527.0</td>\n",
       "      <td>2021-09-02T00:00:00</td>\n",
       "    </tr>\n",
       "    <tr>\n",
       "      <th>3</th>\n",
       "      <td>Andorra</td>\n",
       "      <td>Coronavirus Cases</td>\n",
       "      <td>Andorra Coronavirus COVID-19 Cases</td>\n",
       "      <td>2021-09-03T00:00:00</td>\n",
       "      <td>15052.0</td>\n",
       "      <td>World Health Organization</td>\n",
       "      <td>Persons</td>\n",
       "      <td>/andorra/coronavirus-cases</td>\n",
       "      <td>Health</td>\n",
       "      <td></td>\n",
       "      <td>Daily</td>\n",
       "      <td>ADCOVIDCT</td>\n",
       "      <td>2020-03-04T15:55:00</td>\n",
       "      <td>15046.0</td>\n",
       "      <td>2021-09-02T00:00:00</td>\n",
       "    </tr>\n",
       "    <tr>\n",
       "      <th>4</th>\n",
       "      <td>Angola</td>\n",
       "      <td>Coronavirus Cases</td>\n",
       "      <td>Angola Coronavirus COVID-19 Cases</td>\n",
       "      <td>2021-09-03T00:00:00</td>\n",
       "      <td>48004.0</td>\n",
       "      <td>World Health Organization</td>\n",
       "      <td>Persons</td>\n",
       "      <td>/angola/coronavirus-cases</td>\n",
       "      <td>Health</td>\n",
       "      <td></td>\n",
       "      <td>Daily</td>\n",
       "      <td>AOCOVIDCT</td>\n",
       "      <td>2020-03-04T15:55:00</td>\n",
       "      <td>47781.0</td>\n",
       "      <td>2021-09-02T00:00:00</td>\n",
       "    </tr>\n",
       "    <tr>\n",
       "      <th>...</th>\n",
       "      <td>...</td>\n",
       "      <td>...</td>\n",
       "      <td>...</td>\n",
       "      <td>...</td>\n",
       "      <td>...</td>\n",
       "      <td>...</td>\n",
       "      <td>...</td>\n",
       "      <td>...</td>\n",
       "      <td>...</td>\n",
       "      <td>...</td>\n",
       "      <td>...</td>\n",
       "      <td>...</td>\n",
       "      <td>...</td>\n",
       "      <td>...</td>\n",
       "      <td>...</td>\n",
       "    </tr>\n",
       "    <tr>\n",
       "      <th>171</th>\n",
       "      <td>Venezuela</td>\n",
       "      <td>Coronavirus Cases</td>\n",
       "      <td>Venezuela Coronavirus COVID-19 Cases</td>\n",
       "      <td>2021-09-03T00:00:00</td>\n",
       "      <td>336088.0</td>\n",
       "      <td>World Health Organization</td>\n",
       "      <td>Persons</td>\n",
       "      <td>/venezuela/coronavirus-cases</td>\n",
       "      <td>Health</td>\n",
       "      <td></td>\n",
       "      <td>Daily</td>\n",
       "      <td>VECOVIDCT</td>\n",
       "      <td>2020-03-04T15:55:00</td>\n",
       "      <td>335233.0</td>\n",
       "      <td>2021-09-02T00:00:00</td>\n",
       "    </tr>\n",
       "    <tr>\n",
       "      <th>172</th>\n",
       "      <td>Vietnam</td>\n",
       "      <td>Coronavirus Cases</td>\n",
       "      <td>Vietnam Coronavirus COVID-19 Cases</td>\n",
       "      <td>2021-09-03T00:00:00</td>\n",
       "      <td>486727.0</td>\n",
       "      <td>World Health Organization</td>\n",
       "      <td>Persons</td>\n",
       "      <td>/vietnam/coronavirus-cases</td>\n",
       "      <td>Health</td>\n",
       "      <td></td>\n",
       "      <td>Daily</td>\n",
       "      <td>VNCOVIDCT</td>\n",
       "      <td>2020-03-04T15:55:00</td>\n",
       "      <td>473530.0</td>\n",
       "      <td>2021-09-02T00:00:00</td>\n",
       "    </tr>\n",
       "    <tr>\n",
       "      <th>173</th>\n",
       "      <td>World</td>\n",
       "      <td>Coronavirus Cases</td>\n",
       "      <td>World Coronavirus COVID-19 Cases</td>\n",
       "      <td>2021-09-03T00:00:00</td>\n",
       "      <td>218946836.0</td>\n",
       "      <td>World Health Organization</td>\n",
       "      <td>Persons</td>\n",
       "      <td>/world/coronavirus-cases</td>\n",
       "      <td>Health</td>\n",
       "      <td></td>\n",
       "      <td>Daily</td>\n",
       "      <td>WORLDCORCAS</td>\n",
       "      <td>2020-03-09T10:07:00</td>\n",
       "      <td>218259004.0</td>\n",
       "      <td>2021-09-02T00:00:00</td>\n",
       "    </tr>\n",
       "    <tr>\n",
       "      <th>174</th>\n",
       "      <td>Zambia</td>\n",
       "      <td>Coronavirus Cases</td>\n",
       "      <td>Zambia Coronavirus COVID-19 Cases</td>\n",
       "      <td>2021-09-03T00:00:00</td>\n",
       "      <td>206705.0</td>\n",
       "      <td>World Health Organization</td>\n",
       "      <td>Persons</td>\n",
       "      <td>/zambia/coronavirus-cases</td>\n",
       "      <td>Health</td>\n",
       "      <td></td>\n",
       "      <td>Daily</td>\n",
       "      <td>ZMCOVIDCT</td>\n",
       "      <td>2020-03-04T15:55:00</td>\n",
       "      <td>206522.0</td>\n",
       "      <td>2021-09-02T00:00:00</td>\n",
       "    </tr>\n",
       "    <tr>\n",
       "      <th>175</th>\n",
       "      <td>Zimbabwe</td>\n",
       "      <td>Coronavirus Cases</td>\n",
       "      <td>Zimbabwe Coronavirus COVID-19 Cases</td>\n",
       "      <td>2021-09-03T00:00:00</td>\n",
       "      <td>125118.0</td>\n",
       "      <td>World Health Organization</td>\n",
       "      <td>Persons</td>\n",
       "      <td>/zimbabwe/coronavirus-cases</td>\n",
       "      <td>Health</td>\n",
       "      <td></td>\n",
       "      <td>Daily</td>\n",
       "      <td>ZWCOVIDCT</td>\n",
       "      <td>2020-03-04T15:55:00</td>\n",
       "      <td>124960.0</td>\n",
       "      <td>2021-09-02T00:00:00</td>\n",
       "    </tr>\n",
       "  </tbody>\n",
       "</table>\n",
       "<p>176 rows × 15 columns</p>\n",
       "</div>"
      ],
      "text/plain": [
       "         Country           Category                                   Title  \\\n",
       "0    Afghanistan  Coronavirus Cases  Afghanistan Coronavirus COVID-19 Cases   \n",
       "1        Albania  Coronavirus Cases      Albania Coronavirus COVID-19 Cases   \n",
       "2        Algeria  Coronavirus Cases      Algeria Coronavirus COVID-19 Cases   \n",
       "3        Andorra  Coronavirus Cases      Andorra Coronavirus COVID-19 Cases   \n",
       "4         Angola  Coronavirus Cases       Angola Coronavirus COVID-19 Cases   \n",
       "..           ...                ...                                     ...   \n",
       "171    Venezuela  Coronavirus Cases    Venezuela Coronavirus COVID-19 Cases   \n",
       "172      Vietnam  Coronavirus Cases      Vietnam Coronavirus COVID-19 Cases   \n",
       "173        World  Coronavirus Cases        World Coronavirus COVID-19 Cases   \n",
       "174       Zambia  Coronavirus Cases       Zambia Coronavirus COVID-19 Cases   \n",
       "175     Zimbabwe  Coronavirus Cases     Zimbabwe Coronavirus COVID-19 Cases   \n",
       "\n",
       "         LatestValueDate  LatestValue                     Source     Unit  \\\n",
       "0    2021-09-03T00:00:00     153375.0  World Health Organization  Persons   \n",
       "1    2021-09-03T00:00:00     148222.0  World Health Organization  Persons   \n",
       "2    2021-09-03T00:00:00     196915.0  World Health Organization  Persons   \n",
       "3    2021-09-03T00:00:00      15052.0  World Health Organization  Persons   \n",
       "4    2021-09-03T00:00:00      48004.0  World Health Organization  Persons   \n",
       "..                   ...          ...                        ...      ...   \n",
       "171  2021-09-03T00:00:00     336088.0  World Health Organization  Persons   \n",
       "172  2021-09-03T00:00:00     486727.0  World Health Organization  Persons   \n",
       "173  2021-09-03T00:00:00  218946836.0  World Health Organization  Persons   \n",
       "174  2021-09-03T00:00:00     206705.0  World Health Organization  Persons   \n",
       "175  2021-09-03T00:00:00     125118.0  World Health Organization  Persons   \n",
       "\n",
       "                                URL CategoryGroup Adjustment Frequency  \\\n",
       "0    /afghanistan/coronavirus-cases        Health                Daily   \n",
       "1        /albania/coronavirus-cases        Health                Daily   \n",
       "2        /algeria/coronavirus-cases        Health                Daily   \n",
       "3        /andorra/coronavirus-cases        Health                Daily   \n",
       "4         /angola/coronavirus-cases        Health                Daily   \n",
       "..                              ...           ...        ...       ...   \n",
       "171    /venezuela/coronavirus-cases        Health                Daily   \n",
       "172      /vietnam/coronavirus-cases        Health                Daily   \n",
       "173        /world/coronavirus-cases        Health                Daily   \n",
       "174       /zambia/coronavirus-cases        Health                Daily   \n",
       "175     /zimbabwe/coronavirus-cases        Health                Daily   \n",
       "\n",
       "    HistoricalDataSymbol           CreateDate  PreviousValue  \\\n",
       "0              AFCOVIDCT  2020-03-04T15:55:00       153306.0   \n",
       "1              ALCOVIDCT  2020-03-04T15:55:00       147369.0   \n",
       "2              DZCOVIDCT  2020-03-04T15:55:00       196527.0   \n",
       "3              ADCOVIDCT  2020-03-04T15:55:00        15046.0   \n",
       "4              AOCOVIDCT  2020-03-04T15:55:00        47781.0   \n",
       "..                   ...                  ...            ...   \n",
       "171            VECOVIDCT  2020-03-04T15:55:00       335233.0   \n",
       "172            VNCOVIDCT  2020-03-04T15:55:00       473530.0   \n",
       "173          WORLDCORCAS  2020-03-09T10:07:00    218259004.0   \n",
       "174            ZMCOVIDCT  2020-03-04T15:55:00       206522.0   \n",
       "175            ZWCOVIDCT  2020-03-04T15:55:00       124960.0   \n",
       "\n",
       "       PreviousValueDate  \n",
       "0    2021-09-02T00:00:00  \n",
       "1    2021-09-02T00:00:00  \n",
       "2    2021-09-02T00:00:00  \n",
       "3    2021-09-02T00:00:00  \n",
       "4    2021-09-02T00:00:00  \n",
       "..                   ...  \n",
       "171  2021-09-02T00:00:00  \n",
       "172  2021-09-02T00:00:00  \n",
       "173  2021-09-02T00:00:00  \n",
       "174  2021-09-02T00:00:00  \n",
       "175  2021-09-02T00:00:00  \n",
       "\n",
       "[176 rows x 15 columns]"
      ]
     },
     "execution_count": 66,
     "metadata": {},
     "output_type": "execute_result"
    }
   ],
   "source": [
    "df2_to_plot"
   ]
  },
  {
   "cell_type": "code",
   "execution_count": 70,
   "id": "937e52d7",
   "metadata": {
    "scrolled": true
   },
   "outputs": [],
   "source": [
    "df2_to_plot=df2_to_plot.drop([173], axis=0)"
   ]
  },
  {
   "cell_type": "code",
   "execution_count": 71,
   "id": "3c473f5a",
   "metadata": {},
   "outputs": [
    {
     "data": {
      "text/html": [
       "<div>\n",
       "<style scoped>\n",
       "    .dataframe tbody tr th:only-of-type {\n",
       "        vertical-align: middle;\n",
       "    }\n",
       "\n",
       "    .dataframe tbody tr th {\n",
       "        vertical-align: top;\n",
       "    }\n",
       "\n",
       "    .dataframe thead th {\n",
       "        text-align: right;\n",
       "    }\n",
       "</style>\n",
       "<table border=\"1\" class=\"dataframe\">\n",
       "  <thead>\n",
       "    <tr style=\"text-align: right;\">\n",
       "      <th></th>\n",
       "      <th>Country</th>\n",
       "      <th>Category</th>\n",
       "      <th>Title</th>\n",
       "      <th>LatestValueDate</th>\n",
       "      <th>LatestValue</th>\n",
       "      <th>Source</th>\n",
       "      <th>Unit</th>\n",
       "      <th>URL</th>\n",
       "      <th>CategoryGroup</th>\n",
       "      <th>Adjustment</th>\n",
       "      <th>Frequency</th>\n",
       "      <th>HistoricalDataSymbol</th>\n",
       "      <th>CreateDate</th>\n",
       "      <th>PreviousValue</th>\n",
       "      <th>PreviousValueDate</th>\n",
       "    </tr>\n",
       "  </thead>\n",
       "  <tbody>\n",
       "    <tr>\n",
       "      <th>0</th>\n",
       "      <td>Afghanistan</td>\n",
       "      <td>Coronavirus Cases</td>\n",
       "      <td>Afghanistan Coronavirus COVID-19 Cases</td>\n",
       "      <td>2021-09-03T00:00:00</td>\n",
       "      <td>153375.0</td>\n",
       "      <td>World Health Organization</td>\n",
       "      <td>Persons</td>\n",
       "      <td>/afghanistan/coronavirus-cases</td>\n",
       "      <td>Health</td>\n",
       "      <td></td>\n",
       "      <td>Daily</td>\n",
       "      <td>AFCOVIDCT</td>\n",
       "      <td>2020-03-04T15:55:00</td>\n",
       "      <td>153306.0</td>\n",
       "      <td>2021-09-02T00:00:00</td>\n",
       "    </tr>\n",
       "    <tr>\n",
       "      <th>1</th>\n",
       "      <td>Albania</td>\n",
       "      <td>Coronavirus Cases</td>\n",
       "      <td>Albania Coronavirus COVID-19 Cases</td>\n",
       "      <td>2021-09-03T00:00:00</td>\n",
       "      <td>148222.0</td>\n",
       "      <td>World Health Organization</td>\n",
       "      <td>Persons</td>\n",
       "      <td>/albania/coronavirus-cases</td>\n",
       "      <td>Health</td>\n",
       "      <td></td>\n",
       "      <td>Daily</td>\n",
       "      <td>ALCOVIDCT</td>\n",
       "      <td>2020-03-04T15:55:00</td>\n",
       "      <td>147369.0</td>\n",
       "      <td>2021-09-02T00:00:00</td>\n",
       "    </tr>\n",
       "    <tr>\n",
       "      <th>2</th>\n",
       "      <td>Algeria</td>\n",
       "      <td>Coronavirus Cases</td>\n",
       "      <td>Algeria Coronavirus COVID-19 Cases</td>\n",
       "      <td>2021-09-03T00:00:00</td>\n",
       "      <td>196915.0</td>\n",
       "      <td>World Health Organization</td>\n",
       "      <td>Persons</td>\n",
       "      <td>/algeria/coronavirus-cases</td>\n",
       "      <td>Health</td>\n",
       "      <td></td>\n",
       "      <td>Daily</td>\n",
       "      <td>DZCOVIDCT</td>\n",
       "      <td>2020-03-04T15:55:00</td>\n",
       "      <td>196527.0</td>\n",
       "      <td>2021-09-02T00:00:00</td>\n",
       "    </tr>\n",
       "    <tr>\n",
       "      <th>3</th>\n",
       "      <td>Andorra</td>\n",
       "      <td>Coronavirus Cases</td>\n",
       "      <td>Andorra Coronavirus COVID-19 Cases</td>\n",
       "      <td>2021-09-03T00:00:00</td>\n",
       "      <td>15052.0</td>\n",
       "      <td>World Health Organization</td>\n",
       "      <td>Persons</td>\n",
       "      <td>/andorra/coronavirus-cases</td>\n",
       "      <td>Health</td>\n",
       "      <td></td>\n",
       "      <td>Daily</td>\n",
       "      <td>ADCOVIDCT</td>\n",
       "      <td>2020-03-04T15:55:00</td>\n",
       "      <td>15046.0</td>\n",
       "      <td>2021-09-02T00:00:00</td>\n",
       "    </tr>\n",
       "    <tr>\n",
       "      <th>4</th>\n",
       "      <td>Angola</td>\n",
       "      <td>Coronavirus Cases</td>\n",
       "      <td>Angola Coronavirus COVID-19 Cases</td>\n",
       "      <td>2021-09-03T00:00:00</td>\n",
       "      <td>48004.0</td>\n",
       "      <td>World Health Organization</td>\n",
       "      <td>Persons</td>\n",
       "      <td>/angola/coronavirus-cases</td>\n",
       "      <td>Health</td>\n",
       "      <td></td>\n",
       "      <td>Daily</td>\n",
       "      <td>AOCOVIDCT</td>\n",
       "      <td>2020-03-04T15:55:00</td>\n",
       "      <td>47781.0</td>\n",
       "      <td>2021-09-02T00:00:00</td>\n",
       "    </tr>\n",
       "    <tr>\n",
       "      <th>...</th>\n",
       "      <td>...</td>\n",
       "      <td>...</td>\n",
       "      <td>...</td>\n",
       "      <td>...</td>\n",
       "      <td>...</td>\n",
       "      <td>...</td>\n",
       "      <td>...</td>\n",
       "      <td>...</td>\n",
       "      <td>...</td>\n",
       "      <td>...</td>\n",
       "      <td>...</td>\n",
       "      <td>...</td>\n",
       "      <td>...</td>\n",
       "      <td>...</td>\n",
       "      <td>...</td>\n",
       "    </tr>\n",
       "    <tr>\n",
       "      <th>170</th>\n",
       "      <td>Uzbekistan</td>\n",
       "      <td>Coronavirus Cases</td>\n",
       "      <td>Uzbekistan Coronavirus COVID-19 Cases</td>\n",
       "      <td>2021-09-03T00:00:00</td>\n",
       "      <td>158561.0</td>\n",
       "      <td>World Health Organization</td>\n",
       "      <td>Persons</td>\n",
       "      <td>/uzbekistan/coronavirus-cases</td>\n",
       "      <td>Health</td>\n",
       "      <td></td>\n",
       "      <td>Daily</td>\n",
       "      <td>UZCOVIDCT</td>\n",
       "      <td>2020-03-04T15:55:00</td>\n",
       "      <td>157872.0</td>\n",
       "      <td>2021-09-02T00:00:00</td>\n",
       "    </tr>\n",
       "    <tr>\n",
       "      <th>171</th>\n",
       "      <td>Venezuela</td>\n",
       "      <td>Coronavirus Cases</td>\n",
       "      <td>Venezuela Coronavirus COVID-19 Cases</td>\n",
       "      <td>2021-09-03T00:00:00</td>\n",
       "      <td>336088.0</td>\n",
       "      <td>World Health Organization</td>\n",
       "      <td>Persons</td>\n",
       "      <td>/venezuela/coronavirus-cases</td>\n",
       "      <td>Health</td>\n",
       "      <td></td>\n",
       "      <td>Daily</td>\n",
       "      <td>VECOVIDCT</td>\n",
       "      <td>2020-03-04T15:55:00</td>\n",
       "      <td>335233.0</td>\n",
       "      <td>2021-09-02T00:00:00</td>\n",
       "    </tr>\n",
       "    <tr>\n",
       "      <th>172</th>\n",
       "      <td>Vietnam</td>\n",
       "      <td>Coronavirus Cases</td>\n",
       "      <td>Vietnam Coronavirus COVID-19 Cases</td>\n",
       "      <td>2021-09-03T00:00:00</td>\n",
       "      <td>486727.0</td>\n",
       "      <td>World Health Organization</td>\n",
       "      <td>Persons</td>\n",
       "      <td>/vietnam/coronavirus-cases</td>\n",
       "      <td>Health</td>\n",
       "      <td></td>\n",
       "      <td>Daily</td>\n",
       "      <td>VNCOVIDCT</td>\n",
       "      <td>2020-03-04T15:55:00</td>\n",
       "      <td>473530.0</td>\n",
       "      <td>2021-09-02T00:00:00</td>\n",
       "    </tr>\n",
       "    <tr>\n",
       "      <th>174</th>\n",
       "      <td>Zambia</td>\n",
       "      <td>Coronavirus Cases</td>\n",
       "      <td>Zambia Coronavirus COVID-19 Cases</td>\n",
       "      <td>2021-09-03T00:00:00</td>\n",
       "      <td>206705.0</td>\n",
       "      <td>World Health Organization</td>\n",
       "      <td>Persons</td>\n",
       "      <td>/zambia/coronavirus-cases</td>\n",
       "      <td>Health</td>\n",
       "      <td></td>\n",
       "      <td>Daily</td>\n",
       "      <td>ZMCOVIDCT</td>\n",
       "      <td>2020-03-04T15:55:00</td>\n",
       "      <td>206522.0</td>\n",
       "      <td>2021-09-02T00:00:00</td>\n",
       "    </tr>\n",
       "    <tr>\n",
       "      <th>175</th>\n",
       "      <td>Zimbabwe</td>\n",
       "      <td>Coronavirus Cases</td>\n",
       "      <td>Zimbabwe Coronavirus COVID-19 Cases</td>\n",
       "      <td>2021-09-03T00:00:00</td>\n",
       "      <td>125118.0</td>\n",
       "      <td>World Health Organization</td>\n",
       "      <td>Persons</td>\n",
       "      <td>/zimbabwe/coronavirus-cases</td>\n",
       "      <td>Health</td>\n",
       "      <td></td>\n",
       "      <td>Daily</td>\n",
       "      <td>ZWCOVIDCT</td>\n",
       "      <td>2020-03-04T15:55:00</td>\n",
       "      <td>124960.0</td>\n",
       "      <td>2021-09-02T00:00:00</td>\n",
       "    </tr>\n",
       "  </tbody>\n",
       "</table>\n",
       "<p>175 rows × 15 columns</p>\n",
       "</div>"
      ],
      "text/plain": [
       "         Country           Category                                   Title  \\\n",
       "0    Afghanistan  Coronavirus Cases  Afghanistan Coronavirus COVID-19 Cases   \n",
       "1        Albania  Coronavirus Cases      Albania Coronavirus COVID-19 Cases   \n",
       "2        Algeria  Coronavirus Cases      Algeria Coronavirus COVID-19 Cases   \n",
       "3        Andorra  Coronavirus Cases      Andorra Coronavirus COVID-19 Cases   \n",
       "4         Angola  Coronavirus Cases       Angola Coronavirus COVID-19 Cases   \n",
       "..           ...                ...                                     ...   \n",
       "170   Uzbekistan  Coronavirus Cases   Uzbekistan Coronavirus COVID-19 Cases   \n",
       "171    Venezuela  Coronavirus Cases    Venezuela Coronavirus COVID-19 Cases   \n",
       "172      Vietnam  Coronavirus Cases      Vietnam Coronavirus COVID-19 Cases   \n",
       "174       Zambia  Coronavirus Cases       Zambia Coronavirus COVID-19 Cases   \n",
       "175     Zimbabwe  Coronavirus Cases     Zimbabwe Coronavirus COVID-19 Cases   \n",
       "\n",
       "         LatestValueDate  LatestValue                     Source     Unit  \\\n",
       "0    2021-09-03T00:00:00     153375.0  World Health Organization  Persons   \n",
       "1    2021-09-03T00:00:00     148222.0  World Health Organization  Persons   \n",
       "2    2021-09-03T00:00:00     196915.0  World Health Organization  Persons   \n",
       "3    2021-09-03T00:00:00      15052.0  World Health Organization  Persons   \n",
       "4    2021-09-03T00:00:00      48004.0  World Health Organization  Persons   \n",
       "..                   ...          ...                        ...      ...   \n",
       "170  2021-09-03T00:00:00     158561.0  World Health Organization  Persons   \n",
       "171  2021-09-03T00:00:00     336088.0  World Health Organization  Persons   \n",
       "172  2021-09-03T00:00:00     486727.0  World Health Organization  Persons   \n",
       "174  2021-09-03T00:00:00     206705.0  World Health Organization  Persons   \n",
       "175  2021-09-03T00:00:00     125118.0  World Health Organization  Persons   \n",
       "\n",
       "                                URL CategoryGroup Adjustment Frequency  \\\n",
       "0    /afghanistan/coronavirus-cases        Health                Daily   \n",
       "1        /albania/coronavirus-cases        Health                Daily   \n",
       "2        /algeria/coronavirus-cases        Health                Daily   \n",
       "3        /andorra/coronavirus-cases        Health                Daily   \n",
       "4         /angola/coronavirus-cases        Health                Daily   \n",
       "..                              ...           ...        ...       ...   \n",
       "170   /uzbekistan/coronavirus-cases        Health                Daily   \n",
       "171    /venezuela/coronavirus-cases        Health                Daily   \n",
       "172      /vietnam/coronavirus-cases        Health                Daily   \n",
       "174       /zambia/coronavirus-cases        Health                Daily   \n",
       "175     /zimbabwe/coronavirus-cases        Health                Daily   \n",
       "\n",
       "    HistoricalDataSymbol           CreateDate  PreviousValue  \\\n",
       "0              AFCOVIDCT  2020-03-04T15:55:00       153306.0   \n",
       "1              ALCOVIDCT  2020-03-04T15:55:00       147369.0   \n",
       "2              DZCOVIDCT  2020-03-04T15:55:00       196527.0   \n",
       "3              ADCOVIDCT  2020-03-04T15:55:00        15046.0   \n",
       "4              AOCOVIDCT  2020-03-04T15:55:00        47781.0   \n",
       "..                   ...                  ...            ...   \n",
       "170            UZCOVIDCT  2020-03-04T15:55:00       157872.0   \n",
       "171            VECOVIDCT  2020-03-04T15:55:00       335233.0   \n",
       "172            VNCOVIDCT  2020-03-04T15:55:00       473530.0   \n",
       "174            ZMCOVIDCT  2020-03-04T15:55:00       206522.0   \n",
       "175            ZWCOVIDCT  2020-03-04T15:55:00       124960.0   \n",
       "\n",
       "       PreviousValueDate  \n",
       "0    2021-09-02T00:00:00  \n",
       "1    2021-09-02T00:00:00  \n",
       "2    2021-09-02T00:00:00  \n",
       "3    2021-09-02T00:00:00  \n",
       "4    2021-09-02T00:00:00  \n",
       "..                   ...  \n",
       "170  2021-09-02T00:00:00  \n",
       "171  2021-09-02T00:00:00  \n",
       "172  2021-09-02T00:00:00  \n",
       "174  2021-09-02T00:00:00  \n",
       "175  2021-09-02T00:00:00  \n",
       "\n",
       "[175 rows x 15 columns]"
      ]
     },
     "execution_count": 71,
     "metadata": {},
     "output_type": "execute_result"
    }
   ],
   "source": [
    "df2_to_plot"
   ]
  },
  {
   "cell_type": "code",
   "execution_count": 74,
   "id": "a4aeb92f",
   "metadata": {},
   "outputs": [
    {
     "data": {
      "application/vnd.plotly.v1+json": {
       "config": {
        "plotlyServerURL": "https://plot.ly"
       },
       "data": [
        {
         "alignmentgroup": "True",
         "hovertemplate": "Country=%{x}<br>LatestValue=%{y}<extra></extra>",
         "legendgroup": "Colombia",
         "marker": {
          "color": "#636efa",
          "pattern": {
           "shape": ""
          }
         },
         "name": "Colombia",
         "offsetgroup": "Colombia",
         "orientation": "v",
         "showlegend": true,
         "textposition": "auto",
         "type": "bar",
         "x": [
          "Colombia"
         ],
         "xaxis": "x",
         "y": [
          4911082
         ],
         "yaxis": "y"
        },
        {
         "alignmentgroup": "True",
         "hovertemplate": "Country=%{x}<br>LatestValue=%{y}<extra></extra>",
         "legendgroup": "Iran",
         "marker": {
          "color": "#EF553B",
          "pattern": {
           "shape": ""
          }
         },
         "name": "Iran",
         "offsetgroup": "Iran",
         "orientation": "v",
         "showlegend": true,
         "textposition": "auto",
         "type": "bar",
         "x": [
          "Iran"
         ],
         "xaxis": "x",
         "y": [
          5083133
         ],
         "yaxis": "y"
        },
        {
         "alignmentgroup": "True",
         "hovertemplate": "Country=%{x}<br>LatestValue=%{y}<extra></extra>",
         "legendgroup": "Argentina",
         "marker": {
          "color": "#00cc96",
          "pattern": {
           "shape": ""
          }
         },
         "name": "Argentina",
         "offsetgroup": "Argentina",
         "orientation": "v",
         "showlegend": true,
         "textposition": "auto",
         "type": "bar",
         "x": [
          "Argentina"
         ],
         "xaxis": "x",
         "y": [
          5148085
         ],
         "yaxis": "y"
        },
        {
         "alignmentgroup": "True",
         "hovertemplate": "Country=%{x}<br>LatestValue=%{y}<extra></extra>",
         "legendgroup": "Turkey",
         "marker": {
          "color": "#ab63fa",
          "pattern": {
           "shape": ""
          }
         },
         "name": "Turkey",
         "offsetgroup": "Turkey",
         "orientation": "v",
         "showlegend": true,
         "textposition": "auto",
         "type": "bar",
         "x": [
          "Turkey"
         ],
         "xaxis": "x",
         "y": [
          6435773
         ],
         "yaxis": "y"
        },
        {
         "alignmentgroup": "True",
         "hovertemplate": "Country=%{x}<br>LatestValue=%{y}<extra></extra>",
         "legendgroup": "France",
         "marker": {
          "color": "#FFA15A",
          "pattern": {
           "shape": ""
          }
         },
         "name": "France",
         "offsetgroup": "France",
         "orientation": "v",
         "showlegend": true,
         "textposition": "auto",
         "type": "bar",
         "x": [
          "France"
         ],
         "xaxis": "x",
         "y": [
          6812706
         ],
         "yaxis": "y"
        },
        {
         "alignmentgroup": "True",
         "hovertemplate": "Country=%{x}<br>LatestValue=%{y}<extra></extra>",
         "legendgroup": "United Kingdom",
         "marker": {
          "color": "#19d3f3",
          "pattern": {
           "shape": ""
          }
         },
         "name": "United Kingdom",
         "offsetgroup": "United Kingdom",
         "orientation": "v",
         "showlegend": true,
         "textposition": "auto",
         "type": "bar",
         "x": [
          "United Kingdom"
         ],
         "xaxis": "x",
         "y": [
          6904969
         ],
         "yaxis": "y"
        },
        {
         "alignmentgroup": "True",
         "hovertemplate": "Country=%{x}<br>LatestValue=%{y}<extra></extra>",
         "legendgroup": "Russia",
         "marker": {
          "color": "#FF6692",
          "pattern": {
           "shape": ""
          }
         },
         "name": "Russia",
         "offsetgroup": "Russia",
         "orientation": "v",
         "showlegend": true,
         "textposition": "auto",
         "type": "bar",
         "x": [
          "Russia"
         ],
         "xaxis": "x",
         "y": [
          6975174
         ],
         "yaxis": "y"
        },
        {
         "alignmentgroup": "True",
         "hovertemplate": "Country=%{x}<br>LatestValue=%{y}<extra></extra>",
         "legendgroup": "Brazil",
         "marker": {
          "color": "#B6E880",
          "pattern": {
           "shape": ""
          }
         },
         "name": "Brazil",
         "offsetgroup": "Brazil",
         "orientation": "v",
         "showlegend": true,
         "textposition": "auto",
         "type": "bar",
         "x": [
          "Brazil"
         ],
         "xaxis": "x",
         "y": [
          20830495
         ],
         "yaxis": "y"
        },
        {
         "alignmentgroup": "True",
         "hovertemplate": "Country=%{x}<br>LatestValue=%{y}<extra></extra>",
         "legendgroup": "India",
         "marker": {
          "color": "#FF97FF",
          "pattern": {
           "shape": ""
          }
         },
         "name": "India",
         "offsetgroup": "India",
         "orientation": "v",
         "showlegend": true,
         "textposition": "auto",
         "type": "bar",
         "x": [
          "India"
         ],
         "xaxis": "x",
         "y": [
          32903289
         ],
         "yaxis": "y"
        },
        {
         "alignmentgroup": "True",
         "hovertemplate": "Country=%{x}<br>LatestValue=%{y}<extra></extra>",
         "legendgroup": "United States",
         "marker": {
          "color": "#FECB52",
          "pattern": {
           "shape": ""
          }
         },
         "name": "United States",
         "offsetgroup": "United States",
         "orientation": "v",
         "showlegend": true,
         "textposition": "auto",
         "type": "bar",
         "x": [
          "United States"
         ],
         "xaxis": "x",
         "y": [
          39549299
         ],
         "yaxis": "y"
        }
       ],
       "layout": {
        "barmode": "relative",
        "legend": {
         "title": {
          "text": "Country"
         },
         "tracegroupgap": 0
        },
        "template": {
         "data": {
          "bar": [
           {
            "error_x": {
             "color": "#2a3f5f"
            },
            "error_y": {
             "color": "#2a3f5f"
            },
            "marker": {
             "line": {
              "color": "#E5ECF6",
              "width": 0.5
             },
             "pattern": {
              "fillmode": "overlay",
              "size": 10,
              "solidity": 0.2
             }
            },
            "type": "bar"
           }
          ],
          "barpolar": [
           {
            "marker": {
             "line": {
              "color": "#E5ECF6",
              "width": 0.5
             },
             "pattern": {
              "fillmode": "overlay",
              "size": 10,
              "solidity": 0.2
             }
            },
            "type": "barpolar"
           }
          ],
          "carpet": [
           {
            "aaxis": {
             "endlinecolor": "#2a3f5f",
             "gridcolor": "white",
             "linecolor": "white",
             "minorgridcolor": "white",
             "startlinecolor": "#2a3f5f"
            },
            "baxis": {
             "endlinecolor": "#2a3f5f",
             "gridcolor": "white",
             "linecolor": "white",
             "minorgridcolor": "white",
             "startlinecolor": "#2a3f5f"
            },
            "type": "carpet"
           }
          ],
          "choropleth": [
           {
            "colorbar": {
             "outlinewidth": 0,
             "ticks": ""
            },
            "type": "choropleth"
           }
          ],
          "contour": [
           {
            "colorbar": {
             "outlinewidth": 0,
             "ticks": ""
            },
            "colorscale": [
             [
              0,
              "#0d0887"
             ],
             [
              0.1111111111111111,
              "#46039f"
             ],
             [
              0.2222222222222222,
              "#7201a8"
             ],
             [
              0.3333333333333333,
              "#9c179e"
             ],
             [
              0.4444444444444444,
              "#bd3786"
             ],
             [
              0.5555555555555556,
              "#d8576b"
             ],
             [
              0.6666666666666666,
              "#ed7953"
             ],
             [
              0.7777777777777778,
              "#fb9f3a"
             ],
             [
              0.8888888888888888,
              "#fdca26"
             ],
             [
              1,
              "#f0f921"
             ]
            ],
            "type": "contour"
           }
          ],
          "contourcarpet": [
           {
            "colorbar": {
             "outlinewidth": 0,
             "ticks": ""
            },
            "type": "contourcarpet"
           }
          ],
          "heatmap": [
           {
            "colorbar": {
             "outlinewidth": 0,
             "ticks": ""
            },
            "colorscale": [
             [
              0,
              "#0d0887"
             ],
             [
              0.1111111111111111,
              "#46039f"
             ],
             [
              0.2222222222222222,
              "#7201a8"
             ],
             [
              0.3333333333333333,
              "#9c179e"
             ],
             [
              0.4444444444444444,
              "#bd3786"
             ],
             [
              0.5555555555555556,
              "#d8576b"
             ],
             [
              0.6666666666666666,
              "#ed7953"
             ],
             [
              0.7777777777777778,
              "#fb9f3a"
             ],
             [
              0.8888888888888888,
              "#fdca26"
             ],
             [
              1,
              "#f0f921"
             ]
            ],
            "type": "heatmap"
           }
          ],
          "heatmapgl": [
           {
            "colorbar": {
             "outlinewidth": 0,
             "ticks": ""
            },
            "colorscale": [
             [
              0,
              "#0d0887"
             ],
             [
              0.1111111111111111,
              "#46039f"
             ],
             [
              0.2222222222222222,
              "#7201a8"
             ],
             [
              0.3333333333333333,
              "#9c179e"
             ],
             [
              0.4444444444444444,
              "#bd3786"
             ],
             [
              0.5555555555555556,
              "#d8576b"
             ],
             [
              0.6666666666666666,
              "#ed7953"
             ],
             [
              0.7777777777777778,
              "#fb9f3a"
             ],
             [
              0.8888888888888888,
              "#fdca26"
             ],
             [
              1,
              "#f0f921"
             ]
            ],
            "type": "heatmapgl"
           }
          ],
          "histogram": [
           {
            "marker": {
             "pattern": {
              "fillmode": "overlay",
              "size": 10,
              "solidity": 0.2
             }
            },
            "type": "histogram"
           }
          ],
          "histogram2d": [
           {
            "colorbar": {
             "outlinewidth": 0,
             "ticks": ""
            },
            "colorscale": [
             [
              0,
              "#0d0887"
             ],
             [
              0.1111111111111111,
              "#46039f"
             ],
             [
              0.2222222222222222,
              "#7201a8"
             ],
             [
              0.3333333333333333,
              "#9c179e"
             ],
             [
              0.4444444444444444,
              "#bd3786"
             ],
             [
              0.5555555555555556,
              "#d8576b"
             ],
             [
              0.6666666666666666,
              "#ed7953"
             ],
             [
              0.7777777777777778,
              "#fb9f3a"
             ],
             [
              0.8888888888888888,
              "#fdca26"
             ],
             [
              1,
              "#f0f921"
             ]
            ],
            "type": "histogram2d"
           }
          ],
          "histogram2dcontour": [
           {
            "colorbar": {
             "outlinewidth": 0,
             "ticks": ""
            },
            "colorscale": [
             [
              0,
              "#0d0887"
             ],
             [
              0.1111111111111111,
              "#46039f"
             ],
             [
              0.2222222222222222,
              "#7201a8"
             ],
             [
              0.3333333333333333,
              "#9c179e"
             ],
             [
              0.4444444444444444,
              "#bd3786"
             ],
             [
              0.5555555555555556,
              "#d8576b"
             ],
             [
              0.6666666666666666,
              "#ed7953"
             ],
             [
              0.7777777777777778,
              "#fb9f3a"
             ],
             [
              0.8888888888888888,
              "#fdca26"
             ],
             [
              1,
              "#f0f921"
             ]
            ],
            "type": "histogram2dcontour"
           }
          ],
          "mesh3d": [
           {
            "colorbar": {
             "outlinewidth": 0,
             "ticks": ""
            },
            "type": "mesh3d"
           }
          ],
          "parcoords": [
           {
            "line": {
             "colorbar": {
              "outlinewidth": 0,
              "ticks": ""
             }
            },
            "type": "parcoords"
           }
          ],
          "pie": [
           {
            "automargin": true,
            "type": "pie"
           }
          ],
          "scatter": [
           {
            "marker": {
             "colorbar": {
              "outlinewidth": 0,
              "ticks": ""
             }
            },
            "type": "scatter"
           }
          ],
          "scatter3d": [
           {
            "line": {
             "colorbar": {
              "outlinewidth": 0,
              "ticks": ""
             }
            },
            "marker": {
             "colorbar": {
              "outlinewidth": 0,
              "ticks": ""
             }
            },
            "type": "scatter3d"
           }
          ],
          "scattercarpet": [
           {
            "marker": {
             "colorbar": {
              "outlinewidth": 0,
              "ticks": ""
             }
            },
            "type": "scattercarpet"
           }
          ],
          "scattergeo": [
           {
            "marker": {
             "colorbar": {
              "outlinewidth": 0,
              "ticks": ""
             }
            },
            "type": "scattergeo"
           }
          ],
          "scattergl": [
           {
            "marker": {
             "colorbar": {
              "outlinewidth": 0,
              "ticks": ""
             }
            },
            "type": "scattergl"
           }
          ],
          "scattermapbox": [
           {
            "marker": {
             "colorbar": {
              "outlinewidth": 0,
              "ticks": ""
             }
            },
            "type": "scattermapbox"
           }
          ],
          "scatterpolar": [
           {
            "marker": {
             "colorbar": {
              "outlinewidth": 0,
              "ticks": ""
             }
            },
            "type": "scatterpolar"
           }
          ],
          "scatterpolargl": [
           {
            "marker": {
             "colorbar": {
              "outlinewidth": 0,
              "ticks": ""
             }
            },
            "type": "scatterpolargl"
           }
          ],
          "scatterternary": [
           {
            "marker": {
             "colorbar": {
              "outlinewidth": 0,
              "ticks": ""
             }
            },
            "type": "scatterternary"
           }
          ],
          "surface": [
           {
            "colorbar": {
             "outlinewidth": 0,
             "ticks": ""
            },
            "colorscale": [
             [
              0,
              "#0d0887"
             ],
             [
              0.1111111111111111,
              "#46039f"
             ],
             [
              0.2222222222222222,
              "#7201a8"
             ],
             [
              0.3333333333333333,
              "#9c179e"
             ],
             [
              0.4444444444444444,
              "#bd3786"
             ],
             [
              0.5555555555555556,
              "#d8576b"
             ],
             [
              0.6666666666666666,
              "#ed7953"
             ],
             [
              0.7777777777777778,
              "#fb9f3a"
             ],
             [
              0.8888888888888888,
              "#fdca26"
             ],
             [
              1,
              "#f0f921"
             ]
            ],
            "type": "surface"
           }
          ],
          "table": [
           {
            "cells": {
             "fill": {
              "color": "#EBF0F8"
             },
             "line": {
              "color": "white"
             }
            },
            "header": {
             "fill": {
              "color": "#C8D4E3"
             },
             "line": {
              "color": "white"
             }
            },
            "type": "table"
           }
          ]
         },
         "layout": {
          "annotationdefaults": {
           "arrowcolor": "#2a3f5f",
           "arrowhead": 0,
           "arrowwidth": 1
          },
          "autotypenumbers": "strict",
          "coloraxis": {
           "colorbar": {
            "outlinewidth": 0,
            "ticks": ""
           }
          },
          "colorscale": {
           "diverging": [
            [
             0,
             "#8e0152"
            ],
            [
             0.1,
             "#c51b7d"
            ],
            [
             0.2,
             "#de77ae"
            ],
            [
             0.3,
             "#f1b6da"
            ],
            [
             0.4,
             "#fde0ef"
            ],
            [
             0.5,
             "#f7f7f7"
            ],
            [
             0.6,
             "#e6f5d0"
            ],
            [
             0.7,
             "#b8e186"
            ],
            [
             0.8,
             "#7fbc41"
            ],
            [
             0.9,
             "#4d9221"
            ],
            [
             1,
             "#276419"
            ]
           ],
           "sequential": [
            [
             0,
             "#0d0887"
            ],
            [
             0.1111111111111111,
             "#46039f"
            ],
            [
             0.2222222222222222,
             "#7201a8"
            ],
            [
             0.3333333333333333,
             "#9c179e"
            ],
            [
             0.4444444444444444,
             "#bd3786"
            ],
            [
             0.5555555555555556,
             "#d8576b"
            ],
            [
             0.6666666666666666,
             "#ed7953"
            ],
            [
             0.7777777777777778,
             "#fb9f3a"
            ],
            [
             0.8888888888888888,
             "#fdca26"
            ],
            [
             1,
             "#f0f921"
            ]
           ],
           "sequentialminus": [
            [
             0,
             "#0d0887"
            ],
            [
             0.1111111111111111,
             "#46039f"
            ],
            [
             0.2222222222222222,
             "#7201a8"
            ],
            [
             0.3333333333333333,
             "#9c179e"
            ],
            [
             0.4444444444444444,
             "#bd3786"
            ],
            [
             0.5555555555555556,
             "#d8576b"
            ],
            [
             0.6666666666666666,
             "#ed7953"
            ],
            [
             0.7777777777777778,
             "#fb9f3a"
            ],
            [
             0.8888888888888888,
             "#fdca26"
            ],
            [
             1,
             "#f0f921"
            ]
           ]
          },
          "colorway": [
           "#636efa",
           "#EF553B",
           "#00cc96",
           "#ab63fa",
           "#FFA15A",
           "#19d3f3",
           "#FF6692",
           "#B6E880",
           "#FF97FF",
           "#FECB52"
          ],
          "font": {
           "color": "#2a3f5f"
          },
          "geo": {
           "bgcolor": "white",
           "lakecolor": "white",
           "landcolor": "#E5ECF6",
           "showlakes": true,
           "showland": true,
           "subunitcolor": "white"
          },
          "hoverlabel": {
           "align": "left"
          },
          "hovermode": "closest",
          "mapbox": {
           "style": "light"
          },
          "paper_bgcolor": "white",
          "plot_bgcolor": "#E5ECF6",
          "polar": {
           "angularaxis": {
            "gridcolor": "white",
            "linecolor": "white",
            "ticks": ""
           },
           "bgcolor": "#E5ECF6",
           "radialaxis": {
            "gridcolor": "white",
            "linecolor": "white",
            "ticks": ""
           }
          },
          "scene": {
           "xaxis": {
            "backgroundcolor": "#E5ECF6",
            "gridcolor": "white",
            "gridwidth": 2,
            "linecolor": "white",
            "showbackground": true,
            "ticks": "",
            "zerolinecolor": "white"
           },
           "yaxis": {
            "backgroundcolor": "#E5ECF6",
            "gridcolor": "white",
            "gridwidth": 2,
            "linecolor": "white",
            "showbackground": true,
            "ticks": "",
            "zerolinecolor": "white"
           },
           "zaxis": {
            "backgroundcolor": "#E5ECF6",
            "gridcolor": "white",
            "gridwidth": 2,
            "linecolor": "white",
            "showbackground": true,
            "ticks": "",
            "zerolinecolor": "white"
           }
          },
          "shapedefaults": {
           "line": {
            "color": "#2a3f5f"
           }
          },
          "ternary": {
           "aaxis": {
            "gridcolor": "white",
            "linecolor": "white",
            "ticks": ""
           },
           "baxis": {
            "gridcolor": "white",
            "linecolor": "white",
            "ticks": ""
           },
           "bgcolor": "#E5ECF6",
           "caxis": {
            "gridcolor": "white",
            "linecolor": "white",
            "ticks": ""
           }
          },
          "title": {
           "x": 0.05
          },
          "xaxis": {
           "automargin": true,
           "gridcolor": "white",
           "linecolor": "white",
           "ticks": "",
           "title": {
            "standoff": 15
           },
           "zerolinecolor": "white",
           "zerolinewidth": 2
          },
          "yaxis": {
           "automargin": true,
           "gridcolor": "white",
           "linecolor": "white",
           "ticks": "",
           "title": {
            "standoff": 15
           },
           "zerolinecolor": "white",
           "zerolinewidth": 2
          }
         }
        },
        "title": {
         "text": "Long-Form Input"
        },
        "xaxis": {
         "anchor": "y",
         "categoryarray": [
          "Colombia",
          "Iran",
          "Argentina",
          "Turkey",
          "France",
          "United Kingdom",
          "Russia",
          "Brazil",
          "India",
          "United States"
         ],
         "categoryorder": "array",
         "domain": [
          0,
          1
         ],
         "title": {
          "text": "Country"
         }
        },
        "yaxis": {
         "anchor": "x",
         "domain": [
          0,
          1
         ],
         "title": {
          "text": "LatestValue"
         }
        }
       }
      },
      "text/html": [
       "<div>                            <div id=\"a02a80b4-9ee7-45d9-acb4-1e54d9b2d45a\" class=\"plotly-graph-div\" style=\"height:525px; width:100%;\"></div>            <script type=\"text/javascript\">                require([\"plotly\"], function(Plotly) {                    window.PLOTLYENV=window.PLOTLYENV || {};                                    if (document.getElementById(\"a02a80b4-9ee7-45d9-acb4-1e54d9b2d45a\")) {                    Plotly.newPlot(                        \"a02a80b4-9ee7-45d9-acb4-1e54d9b2d45a\",                        [{\"alignmentgroup\":\"True\",\"hovertemplate\":\"Country=%{x}<br>LatestValue=%{y}<extra></extra>\",\"legendgroup\":\"Colombia\",\"marker\":{\"color\":\"#636efa\",\"pattern\":{\"shape\":\"\"}},\"name\":\"Colombia\",\"offsetgroup\":\"Colombia\",\"orientation\":\"v\",\"showlegend\":true,\"textposition\":\"auto\",\"type\":\"bar\",\"x\":[\"Colombia\"],\"xaxis\":\"x\",\"y\":[4911082.0],\"yaxis\":\"y\"},{\"alignmentgroup\":\"True\",\"hovertemplate\":\"Country=%{x}<br>LatestValue=%{y}<extra></extra>\",\"legendgroup\":\"Iran\",\"marker\":{\"color\":\"#EF553B\",\"pattern\":{\"shape\":\"\"}},\"name\":\"Iran\",\"offsetgroup\":\"Iran\",\"orientation\":\"v\",\"showlegend\":true,\"textposition\":\"auto\",\"type\":\"bar\",\"x\":[\"Iran\"],\"xaxis\":\"x\",\"y\":[5083133.0],\"yaxis\":\"y\"},{\"alignmentgroup\":\"True\",\"hovertemplate\":\"Country=%{x}<br>LatestValue=%{y}<extra></extra>\",\"legendgroup\":\"Argentina\",\"marker\":{\"color\":\"#00cc96\",\"pattern\":{\"shape\":\"\"}},\"name\":\"Argentina\",\"offsetgroup\":\"Argentina\",\"orientation\":\"v\",\"showlegend\":true,\"textposition\":\"auto\",\"type\":\"bar\",\"x\":[\"Argentina\"],\"xaxis\":\"x\",\"y\":[5148085.0],\"yaxis\":\"y\"},{\"alignmentgroup\":\"True\",\"hovertemplate\":\"Country=%{x}<br>LatestValue=%{y}<extra></extra>\",\"legendgroup\":\"Turkey\",\"marker\":{\"color\":\"#ab63fa\",\"pattern\":{\"shape\":\"\"}},\"name\":\"Turkey\",\"offsetgroup\":\"Turkey\",\"orientation\":\"v\",\"showlegend\":true,\"textposition\":\"auto\",\"type\":\"bar\",\"x\":[\"Turkey\"],\"xaxis\":\"x\",\"y\":[6435773.0],\"yaxis\":\"y\"},{\"alignmentgroup\":\"True\",\"hovertemplate\":\"Country=%{x}<br>LatestValue=%{y}<extra></extra>\",\"legendgroup\":\"France\",\"marker\":{\"color\":\"#FFA15A\",\"pattern\":{\"shape\":\"\"}},\"name\":\"France\",\"offsetgroup\":\"France\",\"orientation\":\"v\",\"showlegend\":true,\"textposition\":\"auto\",\"type\":\"bar\",\"x\":[\"France\"],\"xaxis\":\"x\",\"y\":[6812706.0],\"yaxis\":\"y\"},{\"alignmentgroup\":\"True\",\"hovertemplate\":\"Country=%{x}<br>LatestValue=%{y}<extra></extra>\",\"legendgroup\":\"United Kingdom\",\"marker\":{\"color\":\"#19d3f3\",\"pattern\":{\"shape\":\"\"}},\"name\":\"United Kingdom\",\"offsetgroup\":\"United Kingdom\",\"orientation\":\"v\",\"showlegend\":true,\"textposition\":\"auto\",\"type\":\"bar\",\"x\":[\"United Kingdom\"],\"xaxis\":\"x\",\"y\":[6904969.0],\"yaxis\":\"y\"},{\"alignmentgroup\":\"True\",\"hovertemplate\":\"Country=%{x}<br>LatestValue=%{y}<extra></extra>\",\"legendgroup\":\"Russia\",\"marker\":{\"color\":\"#FF6692\",\"pattern\":{\"shape\":\"\"}},\"name\":\"Russia\",\"offsetgroup\":\"Russia\",\"orientation\":\"v\",\"showlegend\":true,\"textposition\":\"auto\",\"type\":\"bar\",\"x\":[\"Russia\"],\"xaxis\":\"x\",\"y\":[6975174.0],\"yaxis\":\"y\"},{\"alignmentgroup\":\"True\",\"hovertemplate\":\"Country=%{x}<br>LatestValue=%{y}<extra></extra>\",\"legendgroup\":\"Brazil\",\"marker\":{\"color\":\"#B6E880\",\"pattern\":{\"shape\":\"\"}},\"name\":\"Brazil\",\"offsetgroup\":\"Brazil\",\"orientation\":\"v\",\"showlegend\":true,\"textposition\":\"auto\",\"type\":\"bar\",\"x\":[\"Brazil\"],\"xaxis\":\"x\",\"y\":[20830495.0],\"yaxis\":\"y\"},{\"alignmentgroup\":\"True\",\"hovertemplate\":\"Country=%{x}<br>LatestValue=%{y}<extra></extra>\",\"legendgroup\":\"India\",\"marker\":{\"color\":\"#FF97FF\",\"pattern\":{\"shape\":\"\"}},\"name\":\"India\",\"offsetgroup\":\"India\",\"orientation\":\"v\",\"showlegend\":true,\"textposition\":\"auto\",\"type\":\"bar\",\"x\":[\"India\"],\"xaxis\":\"x\",\"y\":[32903289.0],\"yaxis\":\"y\"},{\"alignmentgroup\":\"True\",\"hovertemplate\":\"Country=%{x}<br>LatestValue=%{y}<extra></extra>\",\"legendgroup\":\"United States\",\"marker\":{\"color\":\"#FECB52\",\"pattern\":{\"shape\":\"\"}},\"name\":\"United States\",\"offsetgroup\":\"United States\",\"orientation\":\"v\",\"showlegend\":true,\"textposition\":\"auto\",\"type\":\"bar\",\"x\":[\"United States\"],\"xaxis\":\"x\",\"y\":[39549299.0],\"yaxis\":\"y\"}],                        {\"barmode\":\"relative\",\"legend\":{\"title\":{\"text\":\"Country\"},\"tracegroupgap\":0},\"template\":{\"data\":{\"bar\":[{\"error_x\":{\"color\":\"#2a3f5f\"},\"error_y\":{\"color\":\"#2a3f5f\"},\"marker\":{\"line\":{\"color\":\"#E5ECF6\",\"width\":0.5},\"pattern\":{\"fillmode\":\"overlay\",\"size\":10,\"solidity\":0.2}},\"type\":\"bar\"}],\"barpolar\":[{\"marker\":{\"line\":{\"color\":\"#E5ECF6\",\"width\":0.5},\"pattern\":{\"fillmode\":\"overlay\",\"size\":10,\"solidity\":0.2}},\"type\":\"barpolar\"}],\"carpet\":[{\"aaxis\":{\"endlinecolor\":\"#2a3f5f\",\"gridcolor\":\"white\",\"linecolor\":\"white\",\"minorgridcolor\":\"white\",\"startlinecolor\":\"#2a3f5f\"},\"baxis\":{\"endlinecolor\":\"#2a3f5f\",\"gridcolor\":\"white\",\"linecolor\":\"white\",\"minorgridcolor\":\"white\",\"startlinecolor\":\"#2a3f5f\"},\"type\":\"carpet\"}],\"choropleth\":[{\"colorbar\":{\"outlinewidth\":0,\"ticks\":\"\"},\"type\":\"choropleth\"}],\"contour\":[{\"colorbar\":{\"outlinewidth\":0,\"ticks\":\"\"},\"colorscale\":[[0.0,\"#0d0887\"],[0.1111111111111111,\"#46039f\"],[0.2222222222222222,\"#7201a8\"],[0.3333333333333333,\"#9c179e\"],[0.4444444444444444,\"#bd3786\"],[0.5555555555555556,\"#d8576b\"],[0.6666666666666666,\"#ed7953\"],[0.7777777777777778,\"#fb9f3a\"],[0.8888888888888888,\"#fdca26\"],[1.0,\"#f0f921\"]],\"type\":\"contour\"}],\"contourcarpet\":[{\"colorbar\":{\"outlinewidth\":0,\"ticks\":\"\"},\"type\":\"contourcarpet\"}],\"heatmap\":[{\"colorbar\":{\"outlinewidth\":0,\"ticks\":\"\"},\"colorscale\":[[0.0,\"#0d0887\"],[0.1111111111111111,\"#46039f\"],[0.2222222222222222,\"#7201a8\"],[0.3333333333333333,\"#9c179e\"],[0.4444444444444444,\"#bd3786\"],[0.5555555555555556,\"#d8576b\"],[0.6666666666666666,\"#ed7953\"],[0.7777777777777778,\"#fb9f3a\"],[0.8888888888888888,\"#fdca26\"],[1.0,\"#f0f921\"]],\"type\":\"heatmap\"}],\"heatmapgl\":[{\"colorbar\":{\"outlinewidth\":0,\"ticks\":\"\"},\"colorscale\":[[0.0,\"#0d0887\"],[0.1111111111111111,\"#46039f\"],[0.2222222222222222,\"#7201a8\"],[0.3333333333333333,\"#9c179e\"],[0.4444444444444444,\"#bd3786\"],[0.5555555555555556,\"#d8576b\"],[0.6666666666666666,\"#ed7953\"],[0.7777777777777778,\"#fb9f3a\"],[0.8888888888888888,\"#fdca26\"],[1.0,\"#f0f921\"]],\"type\":\"heatmapgl\"}],\"histogram\":[{\"marker\":{\"pattern\":{\"fillmode\":\"overlay\",\"size\":10,\"solidity\":0.2}},\"type\":\"histogram\"}],\"histogram2d\":[{\"colorbar\":{\"outlinewidth\":0,\"ticks\":\"\"},\"colorscale\":[[0.0,\"#0d0887\"],[0.1111111111111111,\"#46039f\"],[0.2222222222222222,\"#7201a8\"],[0.3333333333333333,\"#9c179e\"],[0.4444444444444444,\"#bd3786\"],[0.5555555555555556,\"#d8576b\"],[0.6666666666666666,\"#ed7953\"],[0.7777777777777778,\"#fb9f3a\"],[0.8888888888888888,\"#fdca26\"],[1.0,\"#f0f921\"]],\"type\":\"histogram2d\"}],\"histogram2dcontour\":[{\"colorbar\":{\"outlinewidth\":0,\"ticks\":\"\"},\"colorscale\":[[0.0,\"#0d0887\"],[0.1111111111111111,\"#46039f\"],[0.2222222222222222,\"#7201a8\"],[0.3333333333333333,\"#9c179e\"],[0.4444444444444444,\"#bd3786\"],[0.5555555555555556,\"#d8576b\"],[0.6666666666666666,\"#ed7953\"],[0.7777777777777778,\"#fb9f3a\"],[0.8888888888888888,\"#fdca26\"],[1.0,\"#f0f921\"]],\"type\":\"histogram2dcontour\"}],\"mesh3d\":[{\"colorbar\":{\"outlinewidth\":0,\"ticks\":\"\"},\"type\":\"mesh3d\"}],\"parcoords\":[{\"line\":{\"colorbar\":{\"outlinewidth\":0,\"ticks\":\"\"}},\"type\":\"parcoords\"}],\"pie\":[{\"automargin\":true,\"type\":\"pie\"}],\"scatter\":[{\"marker\":{\"colorbar\":{\"outlinewidth\":0,\"ticks\":\"\"}},\"type\":\"scatter\"}],\"scatter3d\":[{\"line\":{\"colorbar\":{\"outlinewidth\":0,\"ticks\":\"\"}},\"marker\":{\"colorbar\":{\"outlinewidth\":0,\"ticks\":\"\"}},\"type\":\"scatter3d\"}],\"scattercarpet\":[{\"marker\":{\"colorbar\":{\"outlinewidth\":0,\"ticks\":\"\"}},\"type\":\"scattercarpet\"}],\"scattergeo\":[{\"marker\":{\"colorbar\":{\"outlinewidth\":0,\"ticks\":\"\"}},\"type\":\"scattergeo\"}],\"scattergl\":[{\"marker\":{\"colorbar\":{\"outlinewidth\":0,\"ticks\":\"\"}},\"type\":\"scattergl\"}],\"scattermapbox\":[{\"marker\":{\"colorbar\":{\"outlinewidth\":0,\"ticks\":\"\"}},\"type\":\"scattermapbox\"}],\"scatterpolar\":[{\"marker\":{\"colorbar\":{\"outlinewidth\":0,\"ticks\":\"\"}},\"type\":\"scatterpolar\"}],\"scatterpolargl\":[{\"marker\":{\"colorbar\":{\"outlinewidth\":0,\"ticks\":\"\"}},\"type\":\"scatterpolargl\"}],\"scatterternary\":[{\"marker\":{\"colorbar\":{\"outlinewidth\":0,\"ticks\":\"\"}},\"type\":\"scatterternary\"}],\"surface\":[{\"colorbar\":{\"outlinewidth\":0,\"ticks\":\"\"},\"colorscale\":[[0.0,\"#0d0887\"],[0.1111111111111111,\"#46039f\"],[0.2222222222222222,\"#7201a8\"],[0.3333333333333333,\"#9c179e\"],[0.4444444444444444,\"#bd3786\"],[0.5555555555555556,\"#d8576b\"],[0.6666666666666666,\"#ed7953\"],[0.7777777777777778,\"#fb9f3a\"],[0.8888888888888888,\"#fdca26\"],[1.0,\"#f0f921\"]],\"type\":\"surface\"}],\"table\":[{\"cells\":{\"fill\":{\"color\":\"#EBF0F8\"},\"line\":{\"color\":\"white\"}},\"header\":{\"fill\":{\"color\":\"#C8D4E3\"},\"line\":{\"color\":\"white\"}},\"type\":\"table\"}]},\"layout\":{\"annotationdefaults\":{\"arrowcolor\":\"#2a3f5f\",\"arrowhead\":0,\"arrowwidth\":1},\"autotypenumbers\":\"strict\",\"coloraxis\":{\"colorbar\":{\"outlinewidth\":0,\"ticks\":\"\"}},\"colorscale\":{\"diverging\":[[0,\"#8e0152\"],[0.1,\"#c51b7d\"],[0.2,\"#de77ae\"],[0.3,\"#f1b6da\"],[0.4,\"#fde0ef\"],[0.5,\"#f7f7f7\"],[0.6,\"#e6f5d0\"],[0.7,\"#b8e186\"],[0.8,\"#7fbc41\"],[0.9,\"#4d9221\"],[1,\"#276419\"]],\"sequential\":[[0.0,\"#0d0887\"],[0.1111111111111111,\"#46039f\"],[0.2222222222222222,\"#7201a8\"],[0.3333333333333333,\"#9c179e\"],[0.4444444444444444,\"#bd3786\"],[0.5555555555555556,\"#d8576b\"],[0.6666666666666666,\"#ed7953\"],[0.7777777777777778,\"#fb9f3a\"],[0.8888888888888888,\"#fdca26\"],[1.0,\"#f0f921\"]],\"sequentialminus\":[[0.0,\"#0d0887\"],[0.1111111111111111,\"#46039f\"],[0.2222222222222222,\"#7201a8\"],[0.3333333333333333,\"#9c179e\"],[0.4444444444444444,\"#bd3786\"],[0.5555555555555556,\"#d8576b\"],[0.6666666666666666,\"#ed7953\"],[0.7777777777777778,\"#fb9f3a\"],[0.8888888888888888,\"#fdca26\"],[1.0,\"#f0f921\"]]},\"colorway\":[\"#636efa\",\"#EF553B\",\"#00cc96\",\"#ab63fa\",\"#FFA15A\",\"#19d3f3\",\"#FF6692\",\"#B6E880\",\"#FF97FF\",\"#FECB52\"],\"font\":{\"color\":\"#2a3f5f\"},\"geo\":{\"bgcolor\":\"white\",\"lakecolor\":\"white\",\"landcolor\":\"#E5ECF6\",\"showlakes\":true,\"showland\":true,\"subunitcolor\":\"white\"},\"hoverlabel\":{\"align\":\"left\"},\"hovermode\":\"closest\",\"mapbox\":{\"style\":\"light\"},\"paper_bgcolor\":\"white\",\"plot_bgcolor\":\"#E5ECF6\",\"polar\":{\"angularaxis\":{\"gridcolor\":\"white\",\"linecolor\":\"white\",\"ticks\":\"\"},\"bgcolor\":\"#E5ECF6\",\"radialaxis\":{\"gridcolor\":\"white\",\"linecolor\":\"white\",\"ticks\":\"\"}},\"scene\":{\"xaxis\":{\"backgroundcolor\":\"#E5ECF6\",\"gridcolor\":\"white\",\"gridwidth\":2,\"linecolor\":\"white\",\"showbackground\":true,\"ticks\":\"\",\"zerolinecolor\":\"white\"},\"yaxis\":{\"backgroundcolor\":\"#E5ECF6\",\"gridcolor\":\"white\",\"gridwidth\":2,\"linecolor\":\"white\",\"showbackground\":true,\"ticks\":\"\",\"zerolinecolor\":\"white\"},\"zaxis\":{\"backgroundcolor\":\"#E5ECF6\",\"gridcolor\":\"white\",\"gridwidth\":2,\"linecolor\":\"white\",\"showbackground\":true,\"ticks\":\"\",\"zerolinecolor\":\"white\"}},\"shapedefaults\":{\"line\":{\"color\":\"#2a3f5f\"}},\"ternary\":{\"aaxis\":{\"gridcolor\":\"white\",\"linecolor\":\"white\",\"ticks\":\"\"},\"baxis\":{\"gridcolor\":\"white\",\"linecolor\":\"white\",\"ticks\":\"\"},\"bgcolor\":\"#E5ECF6\",\"caxis\":{\"gridcolor\":\"white\",\"linecolor\":\"white\",\"ticks\":\"\"}},\"title\":{\"x\":0.05},\"xaxis\":{\"automargin\":true,\"gridcolor\":\"white\",\"linecolor\":\"white\",\"ticks\":\"\",\"title\":{\"standoff\":15},\"zerolinecolor\":\"white\",\"zerolinewidth\":2},\"yaxis\":{\"automargin\":true,\"gridcolor\":\"white\",\"linecolor\":\"white\",\"ticks\":\"\",\"title\":{\"standoff\":15},\"zerolinecolor\":\"white\",\"zerolinewidth\":2}}},\"title\":{\"text\":\"Long-Form Input\"},\"xaxis\":{\"anchor\":\"y\",\"categoryarray\":[\"Colombia\",\"Iran\",\"Argentina\",\"Turkey\",\"France\",\"United Kingdom\",\"Russia\",\"Brazil\",\"India\",\"United States\"],\"categoryorder\":\"array\",\"domain\":[0.0,1.0],\"title\":{\"text\":\"Country\"}},\"yaxis\":{\"anchor\":\"x\",\"domain\":[0.0,1.0],\"title\":{\"text\":\"LatestValue\"}}},                        {\"responsive\": true}                    ).then(function(){\n",
       "                            \n",
       "var gd = document.getElementById('a02a80b4-9ee7-45d9-acb4-1e54d9b2d45a');\n",
       "var x = new MutationObserver(function (mutations, observer) {{\n",
       "        var display = window.getComputedStyle(gd).display;\n",
       "        if (!display || display === 'none') {{\n",
       "            console.log([gd, 'removed!']);\n",
       "            Plotly.purge(gd);\n",
       "            observer.disconnect();\n",
       "        }}\n",
       "}});\n",
       "\n",
       "// Listen for the removal of the full notebook cells\n",
       "var notebookContainer = gd.closest('#notebook-container');\n",
       "if (notebookContainer) {{\n",
       "    x.observe(notebookContainer, {childList: true});\n",
       "}}\n",
       "\n",
       "// Listen for the clearing of the current output cell\n",
       "var outputEl = gd.closest('.output');\n",
       "if (outputEl) {{\n",
       "    x.observe(outputEl, {childList: true});\n",
       "}}\n",
       "\n",
       "                        })                };                });            </script>        </div>"
      ]
     },
     "metadata": {},
     "output_type": "display_data"
    }
   ],
   "source": [
    "fig = px.bar(df2_to_plot.sort_values(by=\"LatestValue\").tail(10), x=\"Country\", y=\"LatestValue\", color=\"Country\", title=f\"Long-Form Input\")\n",
    "fig.show()\n"
   ]
  },
  {
   "cell_type": "code",
   "execution_count": null,
   "id": "97b320e2",
   "metadata": {},
   "outputs": [],
   "source": []
  }
 ],
 "metadata": {
  "kernelspec": {
   "display_name": "Python 3",
   "language": "python",
   "name": "python3"
  },
  "language_info": {
   "codemirror_mode": {
    "name": "ipython",
    "version": 3
   },
   "file_extension": ".py",
   "mimetype": "text/x-python",
   "name": "python",
   "nbconvert_exporter": "python",
   "pygments_lexer": "ipython3",
   "version": "3.8.8"
  }
 },
 "nbformat": 4,
 "nbformat_minor": 5
}
