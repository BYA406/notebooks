{
 "cells": [
  {
   "cell_type": "markdown",
   "id": "02de4adc",
   "metadata": {},
   "source": [
    "## Getting World Map Countries Credit Rating"
   ]
  },
  {
   "cell_type": "markdown",
   "id": "9ab393b9",
   "metadata": {},
   "source": [
    "#### Importing Dependencies"
   ]
  },
  {
   "cell_type": "code",
   "execution_count": 1,
   "id": "ba3e973f",
   "metadata": {},
   "outputs": [],
   "source": [
    "import tradingeconomics as te\n",
    "import pandas as pd\n",
    "import numpy as np\n",
    "import pycountry\n",
    "import plotly.graph_objects as go\n",
    "import plotly.express as px"
   ]
  },
  {
   "cell_type": "markdown",
   "id": "d03b499a",
   "metadata": {},
   "source": [
    "#### API login\n"
   ]
  },
  {
   "cell_type": "code",
   "execution_count": 16,
   "id": "4b416966",
   "metadata": {},
   "outputs": [
    {
     "data": {
      "text/plain": [
       "'You are logged in as a jupyter:jupyter'"
      ]
     },
     "execution_count": 16,
     "metadata": {},
     "output_type": "execute_result"
    }
   ],
   "source": [
    "te.login('jupyter:jupyter') # Signup for a free API key at https://developer.tradingeconomics.com/"
   ]
  },
  {
   "cell_type": "markdown",
   "id": "36989706",
   "metadata": {},
   "source": [
    "### Importing "
   ]
  },
  {
   "cell_type": "code",
   "execution_count": 3,
   "id": "1c2fbe0b",
   "metadata": {},
   "outputs": [],
   "source": [
    "df = te.getRatings()"
   ]
  },
  {
   "cell_type": "code",
   "execution_count": 4,
   "id": "33999209",
   "metadata": {
    "scrolled": true
   },
   "outputs": [
    {
     "data": {
      "text/html": [
       "<div>\n",
       "<style scoped>\n",
       "    .dataframe tbody tr th:only-of-type {\n",
       "        vertical-align: middle;\n",
       "    }\n",
       "\n",
       "    .dataframe tbody tr th {\n",
       "        vertical-align: top;\n",
       "    }\n",
       "\n",
       "    .dataframe thead th {\n",
       "        text-align: right;\n",
       "    }\n",
       "</style>\n",
       "<table border=\"1\" class=\"dataframe\">\n",
       "  <thead>\n",
       "    <tr style=\"text-align: right;\">\n",
       "      <th></th>\n",
       "      <th>Country</th>\n",
       "      <th>TE</th>\n",
       "      <th>TE_Outlook</th>\n",
       "      <th>SP</th>\n",
       "      <th>SP_Outlook</th>\n",
       "      <th>Moodys</th>\n",
       "      <th>Moodys_Outlook</th>\n",
       "      <th>Fitch</th>\n",
       "      <th>Fitch_Outlook</th>\n",
       "      <th>Outlook</th>\n",
       "      <th>DBRS</th>\n",
       "      <th>DBRS_Outlook</th>\n",
       "    </tr>\n",
       "  </thead>\n",
       "  <tbody>\n",
       "    <tr>\n",
       "      <th>0</th>\n",
       "      <td>Albania</td>\n",
       "      <td>35</td>\n",
       "      <td>Stable</td>\n",
       "      <td>B+</td>\n",
       "      <td>Stable</td>\n",
       "      <td>B1</td>\n",
       "      <td>Stable</td>\n",
       "      <td></td>\n",
       "      <td></td>\n",
       "      <td>NaN</td>\n",
       "      <td></td>\n",
       "      <td></td>\n",
       "    </tr>\n",
       "    <tr>\n",
       "      <th>1</th>\n",
       "      <td>Andorra</td>\n",
       "      <td>62</td>\n",
       "      <td>Positive</td>\n",
       "      <td>BBB</td>\n",
       "      <td>Stable</td>\n",
       "      <td></td>\n",
       "      <td></td>\n",
       "      <td>BBB+</td>\n",
       "      <td>Stable</td>\n",
       "      <td>NaN</td>\n",
       "      <td></td>\n",
       "      <td></td>\n",
       "    </tr>\n",
       "    <tr>\n",
       "      <th>2</th>\n",
       "      <td>Angola</td>\n",
       "      <td>21</td>\n",
       "      <td>Stable</td>\n",
       "      <td>CCC+</td>\n",
       "      <td>Stable</td>\n",
       "      <td>Caa1</td>\n",
       "      <td>Stable</td>\n",
       "      <td>CCC</td>\n",
       "      <td>N/A</td>\n",
       "      <td>NaN</td>\n",
       "      <td></td>\n",
       "      <td></td>\n",
       "    </tr>\n",
       "    <tr>\n",
       "      <th>3</th>\n",
       "      <td>Argentina</td>\n",
       "      <td>15</td>\n",
       "      <td>Stable</td>\n",
       "      <td>CCC+</td>\n",
       "      <td>Stable</td>\n",
       "      <td>Ca</td>\n",
       "      <td>Stable</td>\n",
       "      <td>CCC</td>\n",
       "      <td>N/A</td>\n",
       "      <td>NaN</td>\n",
       "      <td>CCC</td>\n",
       "      <td>Stable</td>\n",
       "    </tr>\n",
       "    <tr>\n",
       "      <th>4</th>\n",
       "      <td>Armenia</td>\n",
       "      <td>16</td>\n",
       "      <td>Negative</td>\n",
       "      <td></td>\n",
       "      <td></td>\n",
       "      <td>Ba3</td>\n",
       "      <td>Stable</td>\n",
       "      <td>B+</td>\n",
       "      <td>Stable</td>\n",
       "      <td>NaN</td>\n",
       "      <td></td>\n",
       "      <td></td>\n",
       "    </tr>\n",
       "    <tr>\n",
       "      <th>...</th>\n",
       "      <td>...</td>\n",
       "      <td>...</td>\n",
       "      <td>...</td>\n",
       "      <td>...</td>\n",
       "      <td>...</td>\n",
       "      <td>...</td>\n",
       "      <td>...</td>\n",
       "      <td>...</td>\n",
       "      <td>...</td>\n",
       "      <td>...</td>\n",
       "      <td>...</td>\n",
       "      <td>...</td>\n",
       "    </tr>\n",
       "    <tr>\n",
       "      <th>149</th>\n",
       "      <td>Uruguay</td>\n",
       "      <td>55</td>\n",
       "      <td>Negative</td>\n",
       "      <td>\\tBBB</td>\n",
       "      <td>Stable</td>\n",
       "      <td>Baa2</td>\n",
       "      <td>Stable</td>\n",
       "      <td>BBB-</td>\n",
       "      <td>Negative</td>\n",
       "      <td>NaN</td>\n",
       "      <td>BBB (low)</td>\n",
       "      <td>Stable</td>\n",
       "    </tr>\n",
       "    <tr>\n",
       "      <th>150</th>\n",
       "      <td>Uzbekistan</td>\n",
       "      <td>38</td>\n",
       "      <td>Stable</td>\n",
       "      <td>BB-</td>\n",
       "      <td>Stable</td>\n",
       "      <td>B1</td>\n",
       "      <td>Positive</td>\n",
       "      <td>BB-</td>\n",
       "      <td>Stable</td>\n",
       "      <td>NaN</td>\n",
       "      <td></td>\n",
       "      <td></td>\n",
       "    </tr>\n",
       "    <tr>\n",
       "      <th>151</th>\n",
       "      <td>Venezuela</td>\n",
       "      <td>11</td>\n",
       "      <td>Negative Watch</td>\n",
       "      <td>SD</td>\n",
       "      <td>N/A</td>\n",
       "      <td>WR</td>\n",
       "      <td>N/A</td>\n",
       "      <td>RD</td>\n",
       "      <td>N/A</td>\n",
       "      <td>NaN</td>\n",
       "      <td></td>\n",
       "      <td></td>\n",
       "    </tr>\n",
       "    <tr>\n",
       "      <th>152</th>\n",
       "      <td>Vietnam</td>\n",
       "      <td>43</td>\n",
       "      <td>Stable</td>\n",
       "      <td>BB</td>\n",
       "      <td>Positive</td>\n",
       "      <td>Ba3</td>\n",
       "      <td>Positive</td>\n",
       "      <td>BB</td>\n",
       "      <td>Positive</td>\n",
       "      <td>NaN</td>\n",
       "      <td></td>\n",
       "      <td></td>\n",
       "    </tr>\n",
       "    <tr>\n",
       "      <th>153</th>\n",
       "      <td>Zambia</td>\n",
       "      <td>30</td>\n",
       "      <td>Negative</td>\n",
       "      <td>SD</td>\n",
       "      <td>N/A</td>\n",
       "      <td>Ca</td>\n",
       "      <td>Stable</td>\n",
       "      <td>RD</td>\n",
       "      <td>N/A</td>\n",
       "      <td>NaN</td>\n",
       "      <td></td>\n",
       "      <td></td>\n",
       "    </tr>\n",
       "  </tbody>\n",
       "</table>\n",
       "<p>154 rows × 12 columns</p>\n",
       "</div>"
      ],
      "text/plain": [
       "        Country  TE      TE_Outlook     SP SP_Outlook Moodys Moodys_Outlook  \\\n",
       "0       Albania  35          Stable     B+     Stable     B1         Stable   \n",
       "1       Andorra  62        Positive    BBB     Stable                         \n",
       "2        Angola  21          Stable   CCC+     Stable   Caa1         Stable   \n",
       "3     Argentina  15          Stable   CCC+     Stable     Ca         Stable   \n",
       "4       Armenia  16        Negative                      Ba3         Stable   \n",
       "..          ...  ..             ...    ...        ...    ...            ...   \n",
       "149     Uruguay  55        Negative  \\tBBB     Stable   Baa2         Stable   \n",
       "150  Uzbekistan  38          Stable    BB-     Stable     B1       Positive   \n",
       "151   Venezuela  11  Negative Watch     SD        N/A     WR            N/A   \n",
       "152     Vietnam  43          Stable     BB   Positive    Ba3       Positive   \n",
       "153      Zambia  30        Negative     SD        N/A     Ca         Stable   \n",
       "\n",
       "    Fitch Fitch_Outlook  Outlook       DBRS DBRS_Outlook  \n",
       "0                            NaN                          \n",
       "1    BBB+        Stable      NaN                          \n",
       "2     CCC           N/A      NaN                          \n",
       "3     CCC           N/A      NaN        CCC       Stable  \n",
       "4      B+        Stable      NaN                          \n",
       "..    ...           ...      ...        ...          ...  \n",
       "149  BBB-      Negative      NaN  BBB (low)       Stable  \n",
       "150   BB-        Stable      NaN                          \n",
       "151    RD           N/A      NaN                          \n",
       "152    BB      Positive      NaN                          \n",
       "153    RD           N/A      NaN                          \n",
       "\n",
       "[154 rows x 12 columns]"
      ]
     },
     "execution_count": 4,
     "metadata": {},
     "output_type": "execute_result"
    }
   ],
   "source": [
    "df"
   ]
  },
  {
   "cell_type": "markdown",
   "id": "a09f137e",
   "metadata": {},
   "source": [
    "### Parsing Country Name to Country alpha_iso3 symbol\n",
    "\n"
   ]
  },
  {
   "cell_type": "code",
   "execution_count": 5,
   "id": "a819aa13",
   "metadata": {},
   "outputs": [],
   "source": [
    "countriesWithoutISO = []\n",
    "\n",
    "missing_countries = {\n",
    "    'Bolivia' : 'Bolivia, Plurinational State of',\n",
    "'Cape Verde' : 'Cabo Verde',\n",
    "'Cayman Islands      '  : 'Cayman Islands',   \n",
    "'Czech Republic' : 'Czechia',\n",
    "'European Union' : 'European Union',\n",
    "\"Ivory Coast\" : \"Côte d'Ivoire\",\n",
    "'Laos' : \"Lao People's Democratic Republic\",\n",
    "'Macau' : 'Macao',\n",
    "'Macedonia' : 'North Macedonia',\n",
    "'Moldova' : 'Moldova, Republic of',\n",
    "'Norway              '   : 'Norway',            \n",
    "'Republic of the Congo' : 'Congo, The Democratic Republic of the',\n",
    "'Russia' : 'Russian Federation',\n",
    "'Singapore           '  : 'Singapore',          \n",
    "'South Korea' : 'Korea, Republic of',\n",
    "'St Vincent and the Grenadines' : 'Saint Vincent and the Grenadines',\n",
    "'Swaziland' : 'Eswatini',\n",
    "'Sweden              ' : 'Sweden',              \n",
    "'Taiwan' : 'Taiwan, Province of China',\n",
    "'Tanzania' : 'Tanzania, United Republic of',\n",
    "'Turkey ': 'Turkey', \n",
    "'Venezuela' : 'Venezuela, Bolivarian Republic of',\n",
    "'Vietnam' : 'Viet Nam'\n",
    "}\n",
    "\n",
    "def get_iso3(country_full_name):\n",
    "            \"\"\"\n",
    "                returns country symbol iso alpha 3 format \n",
    "            \"\"\"\n",
    "            symbol = None\n",
    "            iso = pycountry.countries.get(name=country_full_name)\n",
    "            if iso != None:\n",
    "                symbol = iso.alpha_3\n",
    "            else:\n",
    "                if country_full_name not in countriesWithoutISO:\n",
    "                    countriesWithoutISO.append(country_full_name)\n",
    "                    print('Failed to get ISO for: ' + country_full_name)\n",
    "            return symbol\n"
   ]
  },
  {
   "cell_type": "markdown",
   "id": "97c37297",
   "metadata": {},
   "source": [
    "\n",
    "### Treating the data"
   ]
  },
  {
   "cell_type": "code",
   "execution_count": 7,
   "id": "436a0d28",
   "metadata": {
    "scrolled": false
   },
   "outputs": [
    {
     "name": "stdout",
     "output_type": "stream",
     "text": [
      "Failed to get ISO for: European Union\n"
     ]
    },
    {
     "data": {
      "text/html": [
       "<div>\n",
       "<style scoped>\n",
       "    .dataframe tbody tr th:only-of-type {\n",
       "        vertical-align: middle;\n",
       "    }\n",
       "\n",
       "    .dataframe tbody tr th {\n",
       "        vertical-align: top;\n",
       "    }\n",
       "\n",
       "    .dataframe thead th {\n",
       "        text-align: right;\n",
       "    }\n",
       "</style>\n",
       "<table border=\"1\" class=\"dataframe\">\n",
       "  <thead>\n",
       "    <tr style=\"text-align: right;\">\n",
       "      <th></th>\n",
       "      <th>Country</th>\n",
       "      <th>value</th>\n",
       "      <th>iso3</th>\n",
       "    </tr>\n",
       "  </thead>\n",
       "  <tbody>\n",
       "    <tr>\n",
       "      <th>0</th>\n",
       "      <td>Albania</td>\n",
       "      <td>B+</td>\n",
       "      <td>ALB</td>\n",
       "    </tr>\n",
       "    <tr>\n",
       "      <th>1</th>\n",
       "      <td>Andorra</td>\n",
       "      <td>BBB</td>\n",
       "      <td>AND</td>\n",
       "    </tr>\n",
       "    <tr>\n",
       "      <th>2</th>\n",
       "      <td>Angola</td>\n",
       "      <td>CCC+</td>\n",
       "      <td>AGO</td>\n",
       "    </tr>\n",
       "    <tr>\n",
       "      <th>3</th>\n",
       "      <td>Argentina</td>\n",
       "      <td>CCC+</td>\n",
       "      <td>ARG</td>\n",
       "    </tr>\n",
       "    <tr>\n",
       "      <th>4</th>\n",
       "      <td>Armenia</td>\n",
       "      <td></td>\n",
       "      <td>ARM</td>\n",
       "    </tr>\n",
       "    <tr>\n",
       "      <th>...</th>\n",
       "      <td>...</td>\n",
       "      <td>...</td>\n",
       "      <td>...</td>\n",
       "    </tr>\n",
       "    <tr>\n",
       "      <th>149</th>\n",
       "      <td>Uruguay</td>\n",
       "      <td>\\tBBB</td>\n",
       "      <td>URY</td>\n",
       "    </tr>\n",
       "    <tr>\n",
       "      <th>150</th>\n",
       "      <td>Uzbekistan</td>\n",
       "      <td>BB-</td>\n",
       "      <td>UZB</td>\n",
       "    </tr>\n",
       "    <tr>\n",
       "      <th>151</th>\n",
       "      <td>Venezuela, Bolivarian Republic of</td>\n",
       "      <td>SD</td>\n",
       "      <td>VEN</td>\n",
       "    </tr>\n",
       "    <tr>\n",
       "      <th>152</th>\n",
       "      <td>Viet Nam</td>\n",
       "      <td>BB</td>\n",
       "      <td>VNM</td>\n",
       "    </tr>\n",
       "    <tr>\n",
       "      <th>153</th>\n",
       "      <td>Zambia</td>\n",
       "      <td>SD</td>\n",
       "      <td>ZMB</td>\n",
       "    </tr>\n",
       "  </tbody>\n",
       "</table>\n",
       "<p>154 rows × 3 columns</p>\n",
       "</div>"
      ],
      "text/plain": [
       "                               Country  value iso3\n",
       "0                              Albania     B+  ALB\n",
       "1                              Andorra    BBB  AND\n",
       "2                               Angola   CCC+  AGO\n",
       "3                            Argentina   CCC+  ARG\n",
       "4                              Armenia         ARM\n",
       "..                                 ...    ...  ...\n",
       "149                            Uruguay  \\tBBB  URY\n",
       "150                         Uzbekistan    BB-  UZB\n",
       "151  Venezuela, Bolivarian Republic of     SD  VEN\n",
       "152                           Viet Nam     BB  VNM\n",
       "153                             Zambia     SD  ZMB\n",
       "\n",
       "[154 rows x 3 columns]"
      ]
     },
     "execution_count": 7,
     "metadata": {},
     "output_type": "execute_result"
    }
   ],
   "source": [
    "iso3_countries_names = []\n",
    "corrected_countries_names_list = df['Country'].replace(missing_countries)   \n",
    "df_corrected_countries_names = pd.DataFrame(corrected_countries_names_list)\n",
    "df_corrected_countries_names['value'] = df['SP']\n",
    "\n",
    "for item in df_corrected_countries_names['Country']:\n",
    "    iso3_countries_names.append(get_iso3(item))\n",
    "\n",
    "df_corrected_countries_names['iso3'] = iso3_countries_names\n",
    "df_corrected_countries_names"
   ]
  },
  {
   "cell_type": "markdown",
   "id": "18f47f10",
   "metadata": {},
   "source": [
    "### Plotting"
   ]
  },
  {
   "cell_type": "code",
   "execution_count": 15,
   "id": "2a0dbcdb",
   "metadata": {},
   "outputs": [
    {
     "data": {
      "application/vnd.plotly.v1+json": {
       "config": {
        "plotlyServerURL": "https://plot.ly"
       },
       "data": [
        {
         "colorscale": [
          [
           0,
           "#636efa"
          ],
          [
           1,
           "#636efa"
          ]
         ],
         "geo": "geo",
         "hovertemplate": "<b>%{hovertext}</b><br><br>value=B+<br>iso3=%{location}<extra></extra>",
         "hovertext": [
          "Albania",
          "Bahrain",
          "Benin",
          "Bolivia, Plurinational State of",
          "Jamaica",
          "Jordan",
          "Oman",
          "Rwanda",
          "Senegal",
          "Turkey"
         ],
         "locations": [
          "ALB",
          "BHR",
          "BEN",
          "BOL",
          "JAM",
          "JOR",
          "OMN",
          "RWA",
          "SEN",
          "TUR"
         ],
         "name": "B+",
         "showlegend": true,
         "showscale": false,
         "type": "choropleth",
         "z": [
          1,
          1,
          1,
          1,
          1,
          1,
          1,
          1,
          1,
          1
         ]
        },
        {
         "colorscale": [
          [
           0,
           "#EF553B"
          ],
          [
           1,
           "#EF553B"
          ]
         ],
         "geo": "geo",
         "hovertemplate": "<b>%{hovertext}</b><br><br>value=BBB<br>iso3=%{location}<extra></extra>",
         "hovertext": [
          "Andorra",
          "Aruba",
          "Bulgaria",
          "Hungary",
          "Indonesia",
          "Italy",
          "Mexico",
          "Panama",
          "Portugal"
         ],
         "locations": [
          "AND",
          "ABW",
          "BGR",
          "HUN",
          "IDN",
          "ITA",
          "MEX",
          "PAN",
          "PRT"
         ],
         "name": "BBB",
         "showlegend": true,
         "showscale": false,
         "type": "choropleth",
         "z": [
          1,
          1,
          1,
          1,
          1,
          1,
          1,
          1,
          1
         ]
        },
        {
         "colorscale": [
          [
           0,
           "#00cc96"
          ],
          [
           1,
           "#00cc96"
          ]
         ],
         "geo": "geo",
         "hovertemplate": "<b>%{hovertext}</b><br><br>value=CCC+<br>iso3=%{location}<extra></extra>",
         "hovertext": [
          "Angola",
          "Argentina",
          "Congo",
          "Mozambique",
          "Congo, The Democratic Republic of the",
          "Sri Lanka"
         ],
         "locations": [
          "AGO",
          "ARG",
          "COG",
          "MOZ",
          "COD",
          "LKA"
         ],
         "name": "CCC+",
         "showlegend": true,
         "showscale": false,
         "type": "choropleth",
         "z": [
          1,
          1,
          1,
          1,
          1,
          1
         ]
        },
        {
         "colorscale": [
          [
           0,
           "#ab63fa"
          ],
          [
           1,
           "#ab63fa"
          ]
         ],
         "geo": "geo",
         "hovertemplate": "<b>%{hovertext}</b><br><br>value=<br>iso3=%{location}<extra></extra>",
         "hovertext": [
          "Armenia",
          "Cayman Islands",
          "Cuba",
          "Lao People's Democratic Republic",
          "Lesotho",
          "Macao",
          "Maldives",
          "Mali",
          "Mauritius",
          "Moldova, Republic of",
          "Namibia",
          "Niger",
          "San Marino",
          "Seychelles",
          "Solomon Islands",
          "Saint Vincent and the Grenadines",
          "Eswatini",
          "Tanzania, United Republic of"
         ],
         "locations": [
          "ARM",
          "CYM",
          "CUB",
          "LAO",
          "LSO",
          "MAC",
          "MDV",
          "MLI",
          "MUS",
          "MDA",
          "NAM",
          "NER",
          "SMR",
          "SYC",
          "SLB",
          "VCT",
          "SWZ",
          "TZA"
         ],
         "name": "",
         "showlegend": true,
         "showscale": false,
         "type": "choropleth",
         "z": [
          1,
          1,
          1,
          1,
          1,
          1,
          1,
          1,
          1,
          1,
          1,
          1,
          1,
          1,
          1,
          1,
          1,
          1
         ]
        },
        {
         "colorscale": [
          [
           0,
           "#FFA15A"
          ],
          [
           1,
           "#FFA15A"
          ]
         ],
         "geo": "geo",
         "hovertemplate": "<b>%{hovertext}</b><br><br>value=AAA<br>iso3=%{location}<extra></extra>",
         "hovertext": [
          "Australia",
          "Canada",
          "Denmark",
          "Germany",
          "Liechtenstein",
          "Luxembourg",
          "Netherlands",
          "Norway",
          "Singapore",
          "Sweden",
          "Switzerland"
         ],
         "locations": [
          "AUS",
          "CAN",
          "DNK",
          "DEU",
          "LIE",
          "LUX",
          "NLD",
          "NOR",
          "SGP",
          "SWE",
          "CHE"
         ],
         "name": "AAA",
         "showlegend": true,
         "showscale": false,
         "type": "choropleth",
         "z": [
          1,
          1,
          1,
          1,
          1,
          1,
          1,
          1,
          1,
          1,
          1
         ]
        },
        {
         "colorscale": [
          [
           0,
           "#19d3f3"
          ],
          [
           1,
           "#19d3f3"
          ]
         ],
         "geo": "geo",
         "hovertemplate": "<b>%{hovertext}</b><br><br>value=AA+<br>iso3=%{location}<extra></extra>",
         "hovertext": [
          "Austria",
          "Finland",
          "Hong Kong",
          "New Zealand",
          "United States"
         ],
         "locations": [
          "AUT",
          "FIN",
          "HKG",
          "NZL",
          "USA"
         ],
         "name": "AA+",
         "showlegend": true,
         "showscale": false,
         "type": "choropleth",
         "z": [
          1,
          1,
          1,
          1,
          1
         ]
        },
        {
         "colorscale": [
          [
           0,
           "#FF6692"
          ],
          [
           1,
           "#FF6692"
          ]
         ],
         "geo": "geo",
         "hovertemplate": "<b>%{hovertext}</b><br><br>value=BB+<br>iso3=%{location}<extra></extra>",
         "hovertext": [
          "Azerbaijan",
          "Colombia",
          "Morocco",
          "Serbia"
         ],
         "locations": [
          "AZE",
          "COL",
          "MAR",
          "SRB"
         ],
         "name": "BB+",
         "showlegend": true,
         "showscale": false,
         "type": "choropleth",
         "z": [
          1,
          1,
          1,
          1
         ]
        },
        {
         "colorscale": [
          [
           0,
           "#B6E880"
          ],
          [
           1,
           "#B6E880"
          ]
         ],
         "geo": "geo",
         "hovertemplate": "<b>%{hovertext}</b><br><br>value=BB-<br>iso3=%{location}<extra></extra>",
         "hovertext": [
          "Bahamas",
          "Bangladesh",
          "Brazil",
          "Dominican Republic",
          "Fiji",
          "Guatemala",
          "Honduras",
          "Côte d'Ivoire",
          "North Macedonia",
          "South Africa",
          "Uzbekistan"
         ],
         "locations": [
          "BHS",
          "BGD",
          "BRA",
          "DOM",
          "FJI",
          "GTM",
          "HND",
          "CIV",
          "MKD",
          "ZAF",
          "UZB"
         ],
         "name": "BB-",
         "showlegend": true,
         "showscale": false,
         "type": "choropleth",
         "z": [
          1,
          1,
          1,
          1,
          1,
          1,
          1,
          1,
          1,
          1,
          1
         ]
        },
        {
         "colorscale": [
          [
           0,
           "#FF97FF"
          ],
          [
           1,
           "#FF97FF"
          ]
         ],
         "geo": "geo",
         "hovertemplate": "<b>%{hovertext}</b><br><br>value=B-<br>iso3=%{location}<extra></extra>",
         "hovertext": [
          "Barbados",
          "Cameroon",
          "Cabo Verde",
          "Ecuador",
          "El Salvador",
          "Ethiopia",
          "Ghana",
          "Iraq",
          "Nicaragua",
          "Nigeria",
          "Pakistan",
          "Papua New Guinea",
          "Tajikistan"
         ],
         "locations": [
          "BRB",
          "CMR",
          "CPV",
          "ECU",
          "SLV",
          "ETH",
          "GHA",
          "IRQ",
          "NIC",
          "NGA",
          "PAK",
          "PNG",
          "TJK"
         ],
         "name": "B-",
         "showlegend": true,
         "showscale": false,
         "type": "choropleth",
         "z": [
          1,
          1,
          1,
          1,
          1,
          1,
          1,
          1,
          1,
          1,
          1,
          1,
          1
         ]
        },
        {
         "colorscale": [
          [
           0,
           "#FECB52"
          ],
          [
           1,
           "#FECB52"
          ]
         ],
         "geo": "geo",
         "hovertemplate": "<b>%{hovertext}</b><br><br>value=B<br>iso3=%{location}<extra></extra>",
         "hovertext": [
          "Belarus",
          "Bosnia and Herzegovina",
          "Burkina Faso",
          "Costa Rica",
          "Egypt",
          "Kenya",
          "Mongolia",
          "Montenegro",
          "Togo",
          "Uganda",
          "Ukraine"
         ],
         "locations": [
          "BLR",
          "BIH",
          "BFA",
          "CRI",
          "EGY",
          "KEN",
          "MNG",
          "MNE",
          "TGO",
          "UGA",
          "UKR"
         ],
         "name": "B",
         "showlegend": true,
         "showscale": false,
         "type": "choropleth",
         "z": [
          1,
          1,
          1,
          1,
          1,
          1,
          1,
          1,
          1,
          1,
          1
         ]
        },
        {
         "colorscale": [
          [
           0,
           "#636efa"
          ],
          [
           1,
           "#636efa"
          ]
         ],
         "geo": "geo",
         "hovertemplate": "<b>%{hovertext}</b><br><br>value=AA<br>iso3=%{location}<extra></extra>",
         "hovertext": [
          "Belgium",
          "European Union",
          "France",
          "Korea, Republic of",
          "Taiwan, Province of China",
          "United Arab Emirates",
          "United Kingdom"
         ],
         "locations": [
          "BEL",
          null,
          "FRA",
          "KOR",
          "TWN",
          "ARE",
          "GBR"
         ],
         "name": "AA",
         "showlegend": true,
         "showscale": false,
         "type": "choropleth",
         "z": [
          1,
          1,
          1,
          1,
          1,
          1,
          1
         ]
        },
        {
         "colorscale": [
          [
           0,
           "#EF553B"
          ],
          [
           1,
           "#EF553B"
          ]
         ],
         "geo": "geo",
         "hovertemplate": "<b>%{hovertext}</b><br><br>value=SD<br>iso3=%{location}<extra></extra>",
         "hovertext": [
          "Belize",
          "Grenada",
          "Suriname",
          "Venezuela, Bolivarian Republic of",
          "Zambia"
         ],
         "locations": [
          "BLZ",
          "GRD",
          "SUR",
          "VEN",
          "ZMB"
         ],
         "name": "SD",
         "showlegend": true,
         "showscale": false,
         "type": "choropleth",
         "z": [
          1,
          1,
          1,
          1,
          1
         ]
        },
        {
         "colorscale": [
          [
           0,
           "#00cc96"
          ],
          [
           1,
           "#00cc96"
          ]
         ],
         "geo": "geo",
         "hovertemplate": "<b>%{hovertext}</b><br><br>value=A+<br>iso3=%{location}<extra></extra>",
         "hovertext": [
          "Bermuda",
          "China",
          "Japan",
          "Kuwait",
          "Latvia",
          "Lithuania",
          "Slovakia"
         ],
         "locations": [
          "BMU",
          "CHN",
          "JPN",
          "KWT",
          "LVA",
          "LTU",
          "SVK"
         ],
         "name": "A+",
         "showlegend": true,
         "showscale": false,
         "type": "choropleth",
         "z": [
          1,
          1,
          1,
          1,
          1,
          1,
          1
         ]
        },
        {
         "colorscale": [
          [
           0,
           "#ab63fa"
          ],
          [
           1,
           "#ab63fa"
          ]
         ],
         "geo": "geo",
         "hovertemplate": "<b>%{hovertext}</b><br><br>value=BBB+<br>iso3=%{location}<extra></extra>",
         "hovertext": [
          "Botswana",
          "Peru",
          "Philippines",
          "Thailand"
         ],
         "locations": [
          "BWA",
          "PER",
          "PHL",
          "THA"
         ],
         "name": "BBB+",
         "showlegend": true,
         "showscale": false,
         "type": "choropleth",
         "z": [
          1,
          1,
          1,
          1
         ]
        },
        {
         "colorscale": [
          [
           0,
           "#FFA15A"
          ],
          [
           1,
           "#FFA15A"
          ]
         ],
         "geo": "geo",
         "hovertemplate": "<b>%{hovertext}</b><br><br>value=N/A<br>iso3=%{location}<extra></extra>",
         "hovertext": [
          "Cambodia",
          "Gabon",
          "Isle of Man",
          "Tunisia"
         ],
         "locations": [
          "KHM",
          "GAB",
          "IMN",
          "TUN"
         ],
         "name": "N/A",
         "showlegend": true,
         "showscale": false,
         "type": "choropleth",
         "z": [
          1,
          1,
          1,
          1
         ]
        },
        {
         "colorscale": [
          [
           0,
           "#19d3f3"
          ],
          [
           1,
           "#19d3f3"
          ]
         ],
         "geo": "geo",
         "hovertemplate": "<b>%{hovertext}</b><br><br>value=A<br>iso3=%{location}<extra></extra>",
         "hovertext": [
          "Chile",
          "Iceland",
          "Spain"
         ],
         "locations": [
          "CHL",
          "ISL",
          "ESP"
         ],
         "name": "A",
         "showlegend": true,
         "showscale": false,
         "type": "choropleth",
         "z": [
          1,
          1,
          1
         ]
        },
        {
         "colorscale": [
          [
           0,
           "#FF6692"
          ],
          [
           1,
           "#FF6692"
          ]
         ],
         "geo": "geo",
         "hovertemplate": "<b>%{hovertext}</b><br><br>value=BBB-<br>iso3=%{location}<extra></extra>",
         "hovertext": [
          "Croatia",
          "Cyprus",
          "India",
          "Kazakhstan",
          "Montserrat",
          "Romania",
          "Russian Federation",
          "Trinidad and Tobago"
         ],
         "locations": [
          "HRV",
          "CYP",
          "IND",
          "KAZ",
          "MSR",
          "ROU",
          "RUS",
          "TTO"
         ],
         "name": "BBB-",
         "showlegend": true,
         "showscale": false,
         "type": "choropleth",
         "z": [
          1,
          1,
          1,
          1,
          1,
          1,
          1,
          1
         ]
        },
        {
         "colorscale": [
          [
           0,
           "#B6E880"
          ],
          [
           1,
           "#B6E880"
          ]
         ],
         "geo": "geo",
         "hovertemplate": "<b>%{hovertext}</b><br><br>value=AA-<br>iso3=%{location}<extra></extra>",
         "hovertext": [
          "Czechia",
          "Estonia",
          "Ireland",
          "Israel",
          "Qatar",
          "Slovenia"
         ],
         "locations": [
          "CZE",
          "EST",
          "IRL",
          "ISR",
          "QAT",
          "SVN"
         ],
         "name": "AA-",
         "showlegend": true,
         "showscale": false,
         "type": "choropleth",
         "z": [
          1,
          1,
          1,
          1,
          1,
          1
         ]
        },
        {
         "colorscale": [
          [
           0,
           "#FF97FF"
          ],
          [
           1,
           "#FF97FF"
          ]
         ],
         "geo": "geo",
         "hovertemplate": "<b>%{hovertext}</b><br><br>value=BB<br>iso3=%{location}<extra></extra>",
         "hovertext": [
          "Georgia",
          "Greece",
          "Paraguay",
          "Viet Nam"
         ],
         "locations": [
          "GEO",
          "GRC",
          "PRY",
          "VNM"
         ],
         "name": "BB",
         "showlegend": true,
         "showscale": false,
         "type": "choropleth",
         "z": [
          1,
          1,
          1,
          1
         ]
        },
        {
         "colorscale": [
          [
           0,
           "#FECB52"
          ],
          [
           1,
           "#FECB52"
          ]
         ],
         "geo": "geo",
         "hovertemplate": "<b>%{hovertext}</b><br><br>value=NR<br>iso3=%{location}<extra></extra>",
         "hovertext": [
          "Kyrgyzstan"
         ],
         "locations": [
          "KGZ"
         ],
         "name": "NR",
         "showlegend": true,
         "showscale": false,
         "type": "choropleth",
         "z": [
          1
         ]
        },
        {
         "colorscale": [
          [
           0,
           "#636efa"
          ],
          [
           1,
           "#636efa"
          ]
         ],
         "geo": "geo",
         "hovertemplate": "<b>%{hovertext}</b><br><br>value=D<br>iso3=%{location}<extra></extra>",
         "hovertext": [
          "Lebanon",
          "Puerto Rico"
         ],
         "locations": [
          "LBN",
          "PRI"
         ],
         "name": "D",
         "showlegend": true,
         "showscale": false,
         "type": "choropleth",
         "z": [
          1,
          1
         ]
        },
        {
         "colorscale": [
          [
           0,
           "#EF553B"
          ],
          [
           1,
           "#EF553B"
          ]
         ],
         "geo": "geo",
         "hovertemplate": "<b>%{hovertext}</b><br><br>value=A-<br>iso3=%{location}<extra></extra>",
         "hovertext": [
          "Malaysia",
          "Malta",
          "Poland",
          "Saudi Arabia"
         ],
         "locations": [
          "MYS",
          "MLT",
          "POL",
          "SAU"
         ],
         "name": "A-",
         "showlegend": true,
         "showscale": false,
         "type": "choropleth",
         "z": [
          1,
          1,
          1,
          1
         ]
        },
        {
         "colorscale": [
          [
           0,
           "#00cc96"
          ],
          [
           1,
           "#00cc96"
          ]
         ],
         "geo": "geo",
         "hovertemplate": "<b>%{hovertext}</b><br><br>value=\tBBB<br>iso3=%{location}<extra></extra>",
         "hovertext": [
          "Uruguay"
         ],
         "locations": [
          "URY"
         ],
         "name": "\tBBB",
         "showlegend": true,
         "showscale": false,
         "type": "choropleth",
         "z": [
          1
         ]
        }
       ],
       "layout": {
        "geo": {
         "center": {},
         "domain": {
          "x": [
           0,
           1
          ],
          "y": [
           0,
           1
          ]
         }
        },
        "legend": {
         "title": {
          "text": "value"
         },
         "tracegroupgap": 0
        },
        "template": {
         "data": {
          "bar": [
           {
            "error_x": {
             "color": "#2a3f5f"
            },
            "error_y": {
             "color": "#2a3f5f"
            },
            "marker": {
             "line": {
              "color": "#E5ECF6",
              "width": 0.5
             },
             "pattern": {
              "fillmode": "overlay",
              "size": 10,
              "solidity": 0.2
             }
            },
            "type": "bar"
           }
          ],
          "barpolar": [
           {
            "marker": {
             "line": {
              "color": "#E5ECF6",
              "width": 0.5
             },
             "pattern": {
              "fillmode": "overlay",
              "size": 10,
              "solidity": 0.2
             }
            },
            "type": "barpolar"
           }
          ],
          "carpet": [
           {
            "aaxis": {
             "endlinecolor": "#2a3f5f",
             "gridcolor": "white",
             "linecolor": "white",
             "minorgridcolor": "white",
             "startlinecolor": "#2a3f5f"
            },
            "baxis": {
             "endlinecolor": "#2a3f5f",
             "gridcolor": "white",
             "linecolor": "white",
             "minorgridcolor": "white",
             "startlinecolor": "#2a3f5f"
            },
            "type": "carpet"
           }
          ],
          "choropleth": [
           {
            "colorbar": {
             "outlinewidth": 0,
             "ticks": ""
            },
            "type": "choropleth"
           }
          ],
          "contour": [
           {
            "colorbar": {
             "outlinewidth": 0,
             "ticks": ""
            },
            "colorscale": [
             [
              0,
              "#0d0887"
             ],
             [
              0.1111111111111111,
              "#46039f"
             ],
             [
              0.2222222222222222,
              "#7201a8"
             ],
             [
              0.3333333333333333,
              "#9c179e"
             ],
             [
              0.4444444444444444,
              "#bd3786"
             ],
             [
              0.5555555555555556,
              "#d8576b"
             ],
             [
              0.6666666666666666,
              "#ed7953"
             ],
             [
              0.7777777777777778,
              "#fb9f3a"
             ],
             [
              0.8888888888888888,
              "#fdca26"
             ],
             [
              1,
              "#f0f921"
             ]
            ],
            "type": "contour"
           }
          ],
          "contourcarpet": [
           {
            "colorbar": {
             "outlinewidth": 0,
             "ticks": ""
            },
            "type": "contourcarpet"
           }
          ],
          "heatmap": [
           {
            "colorbar": {
             "outlinewidth": 0,
             "ticks": ""
            },
            "colorscale": [
             [
              0,
              "#0d0887"
             ],
             [
              0.1111111111111111,
              "#46039f"
             ],
             [
              0.2222222222222222,
              "#7201a8"
             ],
             [
              0.3333333333333333,
              "#9c179e"
             ],
             [
              0.4444444444444444,
              "#bd3786"
             ],
             [
              0.5555555555555556,
              "#d8576b"
             ],
             [
              0.6666666666666666,
              "#ed7953"
             ],
             [
              0.7777777777777778,
              "#fb9f3a"
             ],
             [
              0.8888888888888888,
              "#fdca26"
             ],
             [
              1,
              "#f0f921"
             ]
            ],
            "type": "heatmap"
           }
          ],
          "heatmapgl": [
           {
            "colorbar": {
             "outlinewidth": 0,
             "ticks": ""
            },
            "colorscale": [
             [
              0,
              "#0d0887"
             ],
             [
              0.1111111111111111,
              "#46039f"
             ],
             [
              0.2222222222222222,
              "#7201a8"
             ],
             [
              0.3333333333333333,
              "#9c179e"
             ],
             [
              0.4444444444444444,
              "#bd3786"
             ],
             [
              0.5555555555555556,
              "#d8576b"
             ],
             [
              0.6666666666666666,
              "#ed7953"
             ],
             [
              0.7777777777777778,
              "#fb9f3a"
             ],
             [
              0.8888888888888888,
              "#fdca26"
             ],
             [
              1,
              "#f0f921"
             ]
            ],
            "type": "heatmapgl"
           }
          ],
          "histogram": [
           {
            "marker": {
             "pattern": {
              "fillmode": "overlay",
              "size": 10,
              "solidity": 0.2
             }
            },
            "type": "histogram"
           }
          ],
          "histogram2d": [
           {
            "colorbar": {
             "outlinewidth": 0,
             "ticks": ""
            },
            "colorscale": [
             [
              0,
              "#0d0887"
             ],
             [
              0.1111111111111111,
              "#46039f"
             ],
             [
              0.2222222222222222,
              "#7201a8"
             ],
             [
              0.3333333333333333,
              "#9c179e"
             ],
             [
              0.4444444444444444,
              "#bd3786"
             ],
             [
              0.5555555555555556,
              "#d8576b"
             ],
             [
              0.6666666666666666,
              "#ed7953"
             ],
             [
              0.7777777777777778,
              "#fb9f3a"
             ],
             [
              0.8888888888888888,
              "#fdca26"
             ],
             [
              1,
              "#f0f921"
             ]
            ],
            "type": "histogram2d"
           }
          ],
          "histogram2dcontour": [
           {
            "colorbar": {
             "outlinewidth": 0,
             "ticks": ""
            },
            "colorscale": [
             [
              0,
              "#0d0887"
             ],
             [
              0.1111111111111111,
              "#46039f"
             ],
             [
              0.2222222222222222,
              "#7201a8"
             ],
             [
              0.3333333333333333,
              "#9c179e"
             ],
             [
              0.4444444444444444,
              "#bd3786"
             ],
             [
              0.5555555555555556,
              "#d8576b"
             ],
             [
              0.6666666666666666,
              "#ed7953"
             ],
             [
              0.7777777777777778,
              "#fb9f3a"
             ],
             [
              0.8888888888888888,
              "#fdca26"
             ],
             [
              1,
              "#f0f921"
             ]
            ],
            "type": "histogram2dcontour"
           }
          ],
          "mesh3d": [
           {
            "colorbar": {
             "outlinewidth": 0,
             "ticks": ""
            },
            "type": "mesh3d"
           }
          ],
          "parcoords": [
           {
            "line": {
             "colorbar": {
              "outlinewidth": 0,
              "ticks": ""
             }
            },
            "type": "parcoords"
           }
          ],
          "pie": [
           {
            "automargin": true,
            "type": "pie"
           }
          ],
          "scatter": [
           {
            "marker": {
             "colorbar": {
              "outlinewidth": 0,
              "ticks": ""
             }
            },
            "type": "scatter"
           }
          ],
          "scatter3d": [
           {
            "line": {
             "colorbar": {
              "outlinewidth": 0,
              "ticks": ""
             }
            },
            "marker": {
             "colorbar": {
              "outlinewidth": 0,
              "ticks": ""
             }
            },
            "type": "scatter3d"
           }
          ],
          "scattercarpet": [
           {
            "marker": {
             "colorbar": {
              "outlinewidth": 0,
              "ticks": ""
             }
            },
            "type": "scattercarpet"
           }
          ],
          "scattergeo": [
           {
            "marker": {
             "colorbar": {
              "outlinewidth": 0,
              "ticks": ""
             }
            },
            "type": "scattergeo"
           }
          ],
          "scattergl": [
           {
            "marker": {
             "colorbar": {
              "outlinewidth": 0,
              "ticks": ""
             }
            },
            "type": "scattergl"
           }
          ],
          "scattermapbox": [
           {
            "marker": {
             "colorbar": {
              "outlinewidth": 0,
              "ticks": ""
             }
            },
            "type": "scattermapbox"
           }
          ],
          "scatterpolar": [
           {
            "marker": {
             "colorbar": {
              "outlinewidth": 0,
              "ticks": ""
             }
            },
            "type": "scatterpolar"
           }
          ],
          "scatterpolargl": [
           {
            "marker": {
             "colorbar": {
              "outlinewidth": 0,
              "ticks": ""
             }
            },
            "type": "scatterpolargl"
           }
          ],
          "scatterternary": [
           {
            "marker": {
             "colorbar": {
              "outlinewidth": 0,
              "ticks": ""
             }
            },
            "type": "scatterternary"
           }
          ],
          "surface": [
           {
            "colorbar": {
             "outlinewidth": 0,
             "ticks": ""
            },
            "colorscale": [
             [
              0,
              "#0d0887"
             ],
             [
              0.1111111111111111,
              "#46039f"
             ],
             [
              0.2222222222222222,
              "#7201a8"
             ],
             [
              0.3333333333333333,
              "#9c179e"
             ],
             [
              0.4444444444444444,
              "#bd3786"
             ],
             [
              0.5555555555555556,
              "#d8576b"
             ],
             [
              0.6666666666666666,
              "#ed7953"
             ],
             [
              0.7777777777777778,
              "#fb9f3a"
             ],
             [
              0.8888888888888888,
              "#fdca26"
             ],
             [
              1,
              "#f0f921"
             ]
            ],
            "type": "surface"
           }
          ],
          "table": [
           {
            "cells": {
             "fill": {
              "color": "#EBF0F8"
             },
             "line": {
              "color": "white"
             }
            },
            "header": {
             "fill": {
              "color": "#C8D4E3"
             },
             "line": {
              "color": "white"
             }
            },
            "type": "table"
           }
          ]
         },
         "layout": {
          "annotationdefaults": {
           "arrowcolor": "#2a3f5f",
           "arrowhead": 0,
           "arrowwidth": 1
          },
          "autotypenumbers": "strict",
          "coloraxis": {
           "colorbar": {
            "outlinewidth": 0,
            "ticks": ""
           }
          },
          "colorscale": {
           "diverging": [
            [
             0,
             "#8e0152"
            ],
            [
             0.1,
             "#c51b7d"
            ],
            [
             0.2,
             "#de77ae"
            ],
            [
             0.3,
             "#f1b6da"
            ],
            [
             0.4,
             "#fde0ef"
            ],
            [
             0.5,
             "#f7f7f7"
            ],
            [
             0.6,
             "#e6f5d0"
            ],
            [
             0.7,
             "#b8e186"
            ],
            [
             0.8,
             "#7fbc41"
            ],
            [
             0.9,
             "#4d9221"
            ],
            [
             1,
             "#276419"
            ]
           ],
           "sequential": [
            [
             0,
             "#0d0887"
            ],
            [
             0.1111111111111111,
             "#46039f"
            ],
            [
             0.2222222222222222,
             "#7201a8"
            ],
            [
             0.3333333333333333,
             "#9c179e"
            ],
            [
             0.4444444444444444,
             "#bd3786"
            ],
            [
             0.5555555555555556,
             "#d8576b"
            ],
            [
             0.6666666666666666,
             "#ed7953"
            ],
            [
             0.7777777777777778,
             "#fb9f3a"
            ],
            [
             0.8888888888888888,
             "#fdca26"
            ],
            [
             1,
             "#f0f921"
            ]
           ],
           "sequentialminus": [
            [
             0,
             "#0d0887"
            ],
            [
             0.1111111111111111,
             "#46039f"
            ],
            [
             0.2222222222222222,
             "#7201a8"
            ],
            [
             0.3333333333333333,
             "#9c179e"
            ],
            [
             0.4444444444444444,
             "#bd3786"
            ],
            [
             0.5555555555555556,
             "#d8576b"
            ],
            [
             0.6666666666666666,
             "#ed7953"
            ],
            [
             0.7777777777777778,
             "#fb9f3a"
            ],
            [
             0.8888888888888888,
             "#fdca26"
            ],
            [
             1,
             "#f0f921"
            ]
           ]
          },
          "colorway": [
           "#636efa",
           "#EF553B",
           "#00cc96",
           "#ab63fa",
           "#FFA15A",
           "#19d3f3",
           "#FF6692",
           "#B6E880",
           "#FF97FF",
           "#FECB52"
          ],
          "font": {
           "color": "#2a3f5f"
          },
          "geo": {
           "bgcolor": "white",
           "lakecolor": "white",
           "landcolor": "#E5ECF6",
           "showlakes": true,
           "showland": true,
           "subunitcolor": "white"
          },
          "hoverlabel": {
           "align": "left"
          },
          "hovermode": "closest",
          "mapbox": {
           "style": "light"
          },
          "paper_bgcolor": "white",
          "plot_bgcolor": "#E5ECF6",
          "polar": {
           "angularaxis": {
            "gridcolor": "white",
            "linecolor": "white",
            "ticks": ""
           },
           "bgcolor": "#E5ECF6",
           "radialaxis": {
            "gridcolor": "white",
            "linecolor": "white",
            "ticks": ""
           }
          },
          "scene": {
           "xaxis": {
            "backgroundcolor": "#E5ECF6",
            "gridcolor": "white",
            "gridwidth": 2,
            "linecolor": "white",
            "showbackground": true,
            "ticks": "",
            "zerolinecolor": "white"
           },
           "yaxis": {
            "backgroundcolor": "#E5ECF6",
            "gridcolor": "white",
            "gridwidth": 2,
            "linecolor": "white",
            "showbackground": true,
            "ticks": "",
            "zerolinecolor": "white"
           },
           "zaxis": {
            "backgroundcolor": "#E5ECF6",
            "gridcolor": "white",
            "gridwidth": 2,
            "linecolor": "white",
            "showbackground": true,
            "ticks": "",
            "zerolinecolor": "white"
           }
          },
          "shapedefaults": {
           "line": {
            "color": "#2a3f5f"
           }
          },
          "ternary": {
           "aaxis": {
            "gridcolor": "white",
            "linecolor": "white",
            "ticks": ""
           },
           "baxis": {
            "gridcolor": "white",
            "linecolor": "white",
            "ticks": ""
           },
           "bgcolor": "#E5ECF6",
           "caxis": {
            "gridcolor": "white",
            "linecolor": "white",
            "ticks": ""
           }
          },
          "title": {
           "x": 0.05
          },
          "xaxis": {
           "automargin": true,
           "gridcolor": "white",
           "linecolor": "white",
           "ticks": "",
           "title": {
            "standoff": 15
           },
           "zerolinecolor": "white",
           "zerolinewidth": 2
          },
          "yaxis": {
           "automargin": true,
           "gridcolor": "white",
           "linecolor": "white",
           "ticks": "",
           "title": {
            "standoff": 15
           },
           "zerolinecolor": "white",
           "zerolinewidth": 2
          }
         }
        },
        "title": {
         "text": "Countries Credit's Rating - Source: Standard & Poor's"
        }
       }
      },
      "text/html": [
       "<div>                            <div id=\"ff40ba1b-dc59-4962-9053-467b59045dd5\" class=\"plotly-graph-div\" style=\"height:525px; width:100%;\"></div>            <script type=\"text/javascript\">                require([\"plotly\"], function(Plotly) {                    window.PLOTLYENV=window.PLOTLYENV || {};                                    if (document.getElementById(\"ff40ba1b-dc59-4962-9053-467b59045dd5\")) {                    Plotly.newPlot(                        \"ff40ba1b-dc59-4962-9053-467b59045dd5\",                        [{\"colorscale\":[[0.0,\"#636efa\"],[1.0,\"#636efa\"]],\"geo\":\"geo\",\"hovertemplate\":\"<b>%{hovertext}</b><br><br>value=B+<br>iso3=%{location}<extra></extra>\",\"hovertext\":[\"Albania\",\"Bahrain\",\"Benin\",\"Bolivia, Plurinational State of\",\"Jamaica\",\"Jordan\",\"Oman\",\"Rwanda\",\"Senegal\",\"Turkey\"],\"locations\":[\"ALB\",\"BHR\",\"BEN\",\"BOL\",\"JAM\",\"JOR\",\"OMN\",\"RWA\",\"SEN\",\"TUR\"],\"name\":\"B+\",\"showlegend\":true,\"showscale\":false,\"type\":\"choropleth\",\"z\":[1,1,1,1,1,1,1,1,1,1]},{\"colorscale\":[[0.0,\"#EF553B\"],[1.0,\"#EF553B\"]],\"geo\":\"geo\",\"hovertemplate\":\"<b>%{hovertext}</b><br><br>value=BBB<br>iso3=%{location}<extra></extra>\",\"hovertext\":[\"Andorra\",\"Aruba\",\"Bulgaria\",\"Hungary\",\"Indonesia\",\"Italy\",\"Mexico\",\"Panama\",\"Portugal\"],\"locations\":[\"AND\",\"ABW\",\"BGR\",\"HUN\",\"IDN\",\"ITA\",\"MEX\",\"PAN\",\"PRT\"],\"name\":\"BBB\",\"showlegend\":true,\"showscale\":false,\"type\":\"choropleth\",\"z\":[1,1,1,1,1,1,1,1,1]},{\"colorscale\":[[0.0,\"#00cc96\"],[1.0,\"#00cc96\"]],\"geo\":\"geo\",\"hovertemplate\":\"<b>%{hovertext}</b><br><br>value=CCC+<br>iso3=%{location}<extra></extra>\",\"hovertext\":[\"Angola\",\"Argentina\",\"Congo\",\"Mozambique\",\"Congo, The Democratic Republic of the\",\"Sri Lanka\"],\"locations\":[\"AGO\",\"ARG\",\"COG\",\"MOZ\",\"COD\",\"LKA\"],\"name\":\"CCC+\",\"showlegend\":true,\"showscale\":false,\"type\":\"choropleth\",\"z\":[1,1,1,1,1,1]},{\"colorscale\":[[0.0,\"#ab63fa\"],[1.0,\"#ab63fa\"]],\"geo\":\"geo\",\"hovertemplate\":\"<b>%{hovertext}</b><br><br>value=<br>iso3=%{location}<extra></extra>\",\"hovertext\":[\"Armenia\",\"Cayman Islands\",\"Cuba\",\"Lao People's Democratic Republic\",\"Lesotho\",\"Macao\",\"Maldives\",\"Mali\",\"Mauritius\",\"Moldova, Republic of\",\"Namibia\",\"Niger\",\"San Marino\",\"Seychelles\",\"Solomon Islands\",\"Saint Vincent and the Grenadines\",\"Eswatini\",\"Tanzania, United Republic of\"],\"locations\":[\"ARM\",\"CYM\",\"CUB\",\"LAO\",\"LSO\",\"MAC\",\"MDV\",\"MLI\",\"MUS\",\"MDA\",\"NAM\",\"NER\",\"SMR\",\"SYC\",\"SLB\",\"VCT\",\"SWZ\",\"TZA\"],\"name\":\"\",\"showlegend\":true,\"showscale\":false,\"type\":\"choropleth\",\"z\":[1,1,1,1,1,1,1,1,1,1,1,1,1,1,1,1,1,1]},{\"colorscale\":[[0.0,\"#FFA15A\"],[1.0,\"#FFA15A\"]],\"geo\":\"geo\",\"hovertemplate\":\"<b>%{hovertext}</b><br><br>value=AAA<br>iso3=%{location}<extra></extra>\",\"hovertext\":[\"Australia\",\"Canada\",\"Denmark\",\"Germany\",\"Liechtenstein\",\"Luxembourg\",\"Netherlands\",\"Norway\",\"Singapore\",\"Sweden\",\"Switzerland\"],\"locations\":[\"AUS\",\"CAN\",\"DNK\",\"DEU\",\"LIE\",\"LUX\",\"NLD\",\"NOR\",\"SGP\",\"SWE\",\"CHE\"],\"name\":\"AAA\",\"showlegend\":true,\"showscale\":false,\"type\":\"choropleth\",\"z\":[1,1,1,1,1,1,1,1,1,1,1]},{\"colorscale\":[[0.0,\"#19d3f3\"],[1.0,\"#19d3f3\"]],\"geo\":\"geo\",\"hovertemplate\":\"<b>%{hovertext}</b><br><br>value=AA+<br>iso3=%{location}<extra></extra>\",\"hovertext\":[\"Austria\",\"Finland\",\"Hong Kong\",\"New Zealand\",\"United States\"],\"locations\":[\"AUT\",\"FIN\",\"HKG\",\"NZL\",\"USA\"],\"name\":\"AA+\",\"showlegend\":true,\"showscale\":false,\"type\":\"choropleth\",\"z\":[1,1,1,1,1]},{\"colorscale\":[[0.0,\"#FF6692\"],[1.0,\"#FF6692\"]],\"geo\":\"geo\",\"hovertemplate\":\"<b>%{hovertext}</b><br><br>value=BB+<br>iso3=%{location}<extra></extra>\",\"hovertext\":[\"Azerbaijan\",\"Colombia\",\"Morocco\",\"Serbia\"],\"locations\":[\"AZE\",\"COL\",\"MAR\",\"SRB\"],\"name\":\"BB+\",\"showlegend\":true,\"showscale\":false,\"type\":\"choropleth\",\"z\":[1,1,1,1]},{\"colorscale\":[[0.0,\"#B6E880\"],[1.0,\"#B6E880\"]],\"geo\":\"geo\",\"hovertemplate\":\"<b>%{hovertext}</b><br><br>value=BB-<br>iso3=%{location}<extra></extra>\",\"hovertext\":[\"Bahamas\",\"Bangladesh\",\"Brazil\",\"Dominican Republic\",\"Fiji\",\"Guatemala\",\"Honduras\",\"C\\u00f4te d'Ivoire\",\"North Macedonia\",\"South Africa\",\"Uzbekistan\"],\"locations\":[\"BHS\",\"BGD\",\"BRA\",\"DOM\",\"FJI\",\"GTM\",\"HND\",\"CIV\",\"MKD\",\"ZAF\",\"UZB\"],\"name\":\"BB-\",\"showlegend\":true,\"showscale\":false,\"type\":\"choropleth\",\"z\":[1,1,1,1,1,1,1,1,1,1,1]},{\"colorscale\":[[0.0,\"#FF97FF\"],[1.0,\"#FF97FF\"]],\"geo\":\"geo\",\"hovertemplate\":\"<b>%{hovertext}</b><br><br>value=B-<br>iso3=%{location}<extra></extra>\",\"hovertext\":[\"Barbados\",\"Cameroon\",\"Cabo Verde\",\"Ecuador\",\"El Salvador\",\"Ethiopia\",\"Ghana\",\"Iraq\",\"Nicaragua\",\"Nigeria\",\"Pakistan\",\"Papua New Guinea\",\"Tajikistan\"],\"locations\":[\"BRB\",\"CMR\",\"CPV\",\"ECU\",\"SLV\",\"ETH\",\"GHA\",\"IRQ\",\"NIC\",\"NGA\",\"PAK\",\"PNG\",\"TJK\"],\"name\":\"B-\",\"showlegend\":true,\"showscale\":false,\"type\":\"choropleth\",\"z\":[1,1,1,1,1,1,1,1,1,1,1,1,1]},{\"colorscale\":[[0.0,\"#FECB52\"],[1.0,\"#FECB52\"]],\"geo\":\"geo\",\"hovertemplate\":\"<b>%{hovertext}</b><br><br>value=B<br>iso3=%{location}<extra></extra>\",\"hovertext\":[\"Belarus\",\"Bosnia and Herzegovina\",\"Burkina Faso\",\"Costa Rica\",\"Egypt\",\"Kenya\",\"Mongolia\",\"Montenegro\",\"Togo\",\"Uganda\",\"Ukraine\"],\"locations\":[\"BLR\",\"BIH\",\"BFA\",\"CRI\",\"EGY\",\"KEN\",\"MNG\",\"MNE\",\"TGO\",\"UGA\",\"UKR\"],\"name\":\"B\",\"showlegend\":true,\"showscale\":false,\"type\":\"choropleth\",\"z\":[1,1,1,1,1,1,1,1,1,1,1]},{\"colorscale\":[[0.0,\"#636efa\"],[1.0,\"#636efa\"]],\"geo\":\"geo\",\"hovertemplate\":\"<b>%{hovertext}</b><br><br>value=AA<br>iso3=%{location}<extra></extra>\",\"hovertext\":[\"Belgium\",\"European Union\",\"France\",\"Korea, Republic of\",\"Taiwan, Province of China\",\"United Arab Emirates\",\"United Kingdom\"],\"locations\":[\"BEL\",null,\"FRA\",\"KOR\",\"TWN\",\"ARE\",\"GBR\"],\"name\":\"AA\",\"showlegend\":true,\"showscale\":false,\"type\":\"choropleth\",\"z\":[1,1,1,1,1,1,1]},{\"colorscale\":[[0.0,\"#EF553B\"],[1.0,\"#EF553B\"]],\"geo\":\"geo\",\"hovertemplate\":\"<b>%{hovertext}</b><br><br>value=SD<br>iso3=%{location}<extra></extra>\",\"hovertext\":[\"Belize\",\"Grenada\",\"Suriname\",\"Venezuela, Bolivarian Republic of\",\"Zambia\"],\"locations\":[\"BLZ\",\"GRD\",\"SUR\",\"VEN\",\"ZMB\"],\"name\":\"SD\",\"showlegend\":true,\"showscale\":false,\"type\":\"choropleth\",\"z\":[1,1,1,1,1]},{\"colorscale\":[[0.0,\"#00cc96\"],[1.0,\"#00cc96\"]],\"geo\":\"geo\",\"hovertemplate\":\"<b>%{hovertext}</b><br><br>value=A+<br>iso3=%{location}<extra></extra>\",\"hovertext\":[\"Bermuda\",\"China\",\"Japan\",\"Kuwait\",\"Latvia\",\"Lithuania\",\"Slovakia\"],\"locations\":[\"BMU\",\"CHN\",\"JPN\",\"KWT\",\"LVA\",\"LTU\",\"SVK\"],\"name\":\"A+\",\"showlegend\":true,\"showscale\":false,\"type\":\"choropleth\",\"z\":[1,1,1,1,1,1,1]},{\"colorscale\":[[0.0,\"#ab63fa\"],[1.0,\"#ab63fa\"]],\"geo\":\"geo\",\"hovertemplate\":\"<b>%{hovertext}</b><br><br>value=BBB+<br>iso3=%{location}<extra></extra>\",\"hovertext\":[\"Botswana\",\"Peru\",\"Philippines\",\"Thailand\"],\"locations\":[\"BWA\",\"PER\",\"PHL\",\"THA\"],\"name\":\"BBB+\",\"showlegend\":true,\"showscale\":false,\"type\":\"choropleth\",\"z\":[1,1,1,1]},{\"colorscale\":[[0.0,\"#FFA15A\"],[1.0,\"#FFA15A\"]],\"geo\":\"geo\",\"hovertemplate\":\"<b>%{hovertext}</b><br><br>value=N/A<br>iso3=%{location}<extra></extra>\",\"hovertext\":[\"Cambodia\",\"Gabon\",\"Isle of Man\",\"Tunisia\"],\"locations\":[\"KHM\",\"GAB\",\"IMN\",\"TUN\"],\"name\":\"N/A\",\"showlegend\":true,\"showscale\":false,\"type\":\"choropleth\",\"z\":[1,1,1,1]},{\"colorscale\":[[0.0,\"#19d3f3\"],[1.0,\"#19d3f3\"]],\"geo\":\"geo\",\"hovertemplate\":\"<b>%{hovertext}</b><br><br>value=A<br>iso3=%{location}<extra></extra>\",\"hovertext\":[\"Chile\",\"Iceland\",\"Spain\"],\"locations\":[\"CHL\",\"ISL\",\"ESP\"],\"name\":\"A\",\"showlegend\":true,\"showscale\":false,\"type\":\"choropleth\",\"z\":[1,1,1]},{\"colorscale\":[[0.0,\"#FF6692\"],[1.0,\"#FF6692\"]],\"geo\":\"geo\",\"hovertemplate\":\"<b>%{hovertext}</b><br><br>value=BBB-<br>iso3=%{location}<extra></extra>\",\"hovertext\":[\"Croatia\",\"Cyprus\",\"India\",\"Kazakhstan\",\"Montserrat\",\"Romania\",\"Russian Federation\",\"Trinidad and Tobago\"],\"locations\":[\"HRV\",\"CYP\",\"IND\",\"KAZ\",\"MSR\",\"ROU\",\"RUS\",\"TTO\"],\"name\":\"BBB-\",\"showlegend\":true,\"showscale\":false,\"type\":\"choropleth\",\"z\":[1,1,1,1,1,1,1,1]},{\"colorscale\":[[0.0,\"#B6E880\"],[1.0,\"#B6E880\"]],\"geo\":\"geo\",\"hovertemplate\":\"<b>%{hovertext}</b><br><br>value=AA-<br>iso3=%{location}<extra></extra>\",\"hovertext\":[\"Czechia\",\"Estonia\",\"Ireland\",\"Israel\",\"Qatar\",\"Slovenia\"],\"locations\":[\"CZE\",\"EST\",\"IRL\",\"ISR\",\"QAT\",\"SVN\"],\"name\":\"AA-\",\"showlegend\":true,\"showscale\":false,\"type\":\"choropleth\",\"z\":[1,1,1,1,1,1]},{\"colorscale\":[[0.0,\"#FF97FF\"],[1.0,\"#FF97FF\"]],\"geo\":\"geo\",\"hovertemplate\":\"<b>%{hovertext}</b><br><br>value=BB<br>iso3=%{location}<extra></extra>\",\"hovertext\":[\"Georgia\",\"Greece\",\"Paraguay\",\"Viet Nam\"],\"locations\":[\"GEO\",\"GRC\",\"PRY\",\"VNM\"],\"name\":\"BB\",\"showlegend\":true,\"showscale\":false,\"type\":\"choropleth\",\"z\":[1,1,1,1]},{\"colorscale\":[[0.0,\"#FECB52\"],[1.0,\"#FECB52\"]],\"geo\":\"geo\",\"hovertemplate\":\"<b>%{hovertext}</b><br><br>value=NR<br>iso3=%{location}<extra></extra>\",\"hovertext\":[\"Kyrgyzstan\"],\"locations\":[\"KGZ\"],\"name\":\"NR\",\"showlegend\":true,\"showscale\":false,\"type\":\"choropleth\",\"z\":[1]},{\"colorscale\":[[0.0,\"#636efa\"],[1.0,\"#636efa\"]],\"geo\":\"geo\",\"hovertemplate\":\"<b>%{hovertext}</b><br><br>value=D<br>iso3=%{location}<extra></extra>\",\"hovertext\":[\"Lebanon\",\"Puerto Rico\"],\"locations\":[\"LBN\",\"PRI\"],\"name\":\"D\",\"showlegend\":true,\"showscale\":false,\"type\":\"choropleth\",\"z\":[1,1]},{\"colorscale\":[[0.0,\"#EF553B\"],[1.0,\"#EF553B\"]],\"geo\":\"geo\",\"hovertemplate\":\"<b>%{hovertext}</b><br><br>value=A-<br>iso3=%{location}<extra></extra>\",\"hovertext\":[\"Malaysia\",\"Malta\",\"Poland\",\"Saudi Arabia\"],\"locations\":[\"MYS\",\"MLT\",\"POL\",\"SAU\"],\"name\":\"A-\",\"showlegend\":true,\"showscale\":false,\"type\":\"choropleth\",\"z\":[1,1,1,1]},{\"colorscale\":[[0.0,\"#00cc96\"],[1.0,\"#00cc96\"]],\"geo\":\"geo\",\"hovertemplate\":\"<b>%{hovertext}</b><br><br>value=\\tBBB<br>iso3=%{location}<extra></extra>\",\"hovertext\":[\"Uruguay\"],\"locations\":[\"URY\"],\"name\":\"\\tBBB\",\"showlegend\":true,\"showscale\":false,\"type\":\"choropleth\",\"z\":[1]}],                        {\"geo\":{\"center\":{},\"domain\":{\"x\":[0.0,1.0],\"y\":[0.0,1.0]}},\"legend\":{\"title\":{\"text\":\"value\"},\"tracegroupgap\":0},\"template\":{\"data\":{\"bar\":[{\"error_x\":{\"color\":\"#2a3f5f\"},\"error_y\":{\"color\":\"#2a3f5f\"},\"marker\":{\"line\":{\"color\":\"#E5ECF6\",\"width\":0.5},\"pattern\":{\"fillmode\":\"overlay\",\"size\":10,\"solidity\":0.2}},\"type\":\"bar\"}],\"barpolar\":[{\"marker\":{\"line\":{\"color\":\"#E5ECF6\",\"width\":0.5},\"pattern\":{\"fillmode\":\"overlay\",\"size\":10,\"solidity\":0.2}},\"type\":\"barpolar\"}],\"carpet\":[{\"aaxis\":{\"endlinecolor\":\"#2a3f5f\",\"gridcolor\":\"white\",\"linecolor\":\"white\",\"minorgridcolor\":\"white\",\"startlinecolor\":\"#2a3f5f\"},\"baxis\":{\"endlinecolor\":\"#2a3f5f\",\"gridcolor\":\"white\",\"linecolor\":\"white\",\"minorgridcolor\":\"white\",\"startlinecolor\":\"#2a3f5f\"},\"type\":\"carpet\"}],\"choropleth\":[{\"colorbar\":{\"outlinewidth\":0,\"ticks\":\"\"},\"type\":\"choropleth\"}],\"contour\":[{\"colorbar\":{\"outlinewidth\":0,\"ticks\":\"\"},\"colorscale\":[[0.0,\"#0d0887\"],[0.1111111111111111,\"#46039f\"],[0.2222222222222222,\"#7201a8\"],[0.3333333333333333,\"#9c179e\"],[0.4444444444444444,\"#bd3786\"],[0.5555555555555556,\"#d8576b\"],[0.6666666666666666,\"#ed7953\"],[0.7777777777777778,\"#fb9f3a\"],[0.8888888888888888,\"#fdca26\"],[1.0,\"#f0f921\"]],\"type\":\"contour\"}],\"contourcarpet\":[{\"colorbar\":{\"outlinewidth\":0,\"ticks\":\"\"},\"type\":\"contourcarpet\"}],\"heatmap\":[{\"colorbar\":{\"outlinewidth\":0,\"ticks\":\"\"},\"colorscale\":[[0.0,\"#0d0887\"],[0.1111111111111111,\"#46039f\"],[0.2222222222222222,\"#7201a8\"],[0.3333333333333333,\"#9c179e\"],[0.4444444444444444,\"#bd3786\"],[0.5555555555555556,\"#d8576b\"],[0.6666666666666666,\"#ed7953\"],[0.7777777777777778,\"#fb9f3a\"],[0.8888888888888888,\"#fdca26\"],[1.0,\"#f0f921\"]],\"type\":\"heatmap\"}],\"heatmapgl\":[{\"colorbar\":{\"outlinewidth\":0,\"ticks\":\"\"},\"colorscale\":[[0.0,\"#0d0887\"],[0.1111111111111111,\"#46039f\"],[0.2222222222222222,\"#7201a8\"],[0.3333333333333333,\"#9c179e\"],[0.4444444444444444,\"#bd3786\"],[0.5555555555555556,\"#d8576b\"],[0.6666666666666666,\"#ed7953\"],[0.7777777777777778,\"#fb9f3a\"],[0.8888888888888888,\"#fdca26\"],[1.0,\"#f0f921\"]],\"type\":\"heatmapgl\"}],\"histogram\":[{\"marker\":{\"pattern\":{\"fillmode\":\"overlay\",\"size\":10,\"solidity\":0.2}},\"type\":\"histogram\"}],\"histogram2d\":[{\"colorbar\":{\"outlinewidth\":0,\"ticks\":\"\"},\"colorscale\":[[0.0,\"#0d0887\"],[0.1111111111111111,\"#46039f\"],[0.2222222222222222,\"#7201a8\"],[0.3333333333333333,\"#9c179e\"],[0.4444444444444444,\"#bd3786\"],[0.5555555555555556,\"#d8576b\"],[0.6666666666666666,\"#ed7953\"],[0.7777777777777778,\"#fb9f3a\"],[0.8888888888888888,\"#fdca26\"],[1.0,\"#f0f921\"]],\"type\":\"histogram2d\"}],\"histogram2dcontour\":[{\"colorbar\":{\"outlinewidth\":0,\"ticks\":\"\"},\"colorscale\":[[0.0,\"#0d0887\"],[0.1111111111111111,\"#46039f\"],[0.2222222222222222,\"#7201a8\"],[0.3333333333333333,\"#9c179e\"],[0.4444444444444444,\"#bd3786\"],[0.5555555555555556,\"#d8576b\"],[0.6666666666666666,\"#ed7953\"],[0.7777777777777778,\"#fb9f3a\"],[0.8888888888888888,\"#fdca26\"],[1.0,\"#f0f921\"]],\"type\":\"histogram2dcontour\"}],\"mesh3d\":[{\"colorbar\":{\"outlinewidth\":0,\"ticks\":\"\"},\"type\":\"mesh3d\"}],\"parcoords\":[{\"line\":{\"colorbar\":{\"outlinewidth\":0,\"ticks\":\"\"}},\"type\":\"parcoords\"}],\"pie\":[{\"automargin\":true,\"type\":\"pie\"}],\"scatter\":[{\"marker\":{\"colorbar\":{\"outlinewidth\":0,\"ticks\":\"\"}},\"type\":\"scatter\"}],\"scatter3d\":[{\"line\":{\"colorbar\":{\"outlinewidth\":0,\"ticks\":\"\"}},\"marker\":{\"colorbar\":{\"outlinewidth\":0,\"ticks\":\"\"}},\"type\":\"scatter3d\"}],\"scattercarpet\":[{\"marker\":{\"colorbar\":{\"outlinewidth\":0,\"ticks\":\"\"}},\"type\":\"scattercarpet\"}],\"scattergeo\":[{\"marker\":{\"colorbar\":{\"outlinewidth\":0,\"ticks\":\"\"}},\"type\":\"scattergeo\"}],\"scattergl\":[{\"marker\":{\"colorbar\":{\"outlinewidth\":0,\"ticks\":\"\"}},\"type\":\"scattergl\"}],\"scattermapbox\":[{\"marker\":{\"colorbar\":{\"outlinewidth\":0,\"ticks\":\"\"}},\"type\":\"scattermapbox\"}],\"scatterpolar\":[{\"marker\":{\"colorbar\":{\"outlinewidth\":0,\"ticks\":\"\"}},\"type\":\"scatterpolar\"}],\"scatterpolargl\":[{\"marker\":{\"colorbar\":{\"outlinewidth\":0,\"ticks\":\"\"}},\"type\":\"scatterpolargl\"}],\"scatterternary\":[{\"marker\":{\"colorbar\":{\"outlinewidth\":0,\"ticks\":\"\"}},\"type\":\"scatterternary\"}],\"surface\":[{\"colorbar\":{\"outlinewidth\":0,\"ticks\":\"\"},\"colorscale\":[[0.0,\"#0d0887\"],[0.1111111111111111,\"#46039f\"],[0.2222222222222222,\"#7201a8\"],[0.3333333333333333,\"#9c179e\"],[0.4444444444444444,\"#bd3786\"],[0.5555555555555556,\"#d8576b\"],[0.6666666666666666,\"#ed7953\"],[0.7777777777777778,\"#fb9f3a\"],[0.8888888888888888,\"#fdca26\"],[1.0,\"#f0f921\"]],\"type\":\"surface\"}],\"table\":[{\"cells\":{\"fill\":{\"color\":\"#EBF0F8\"},\"line\":{\"color\":\"white\"}},\"header\":{\"fill\":{\"color\":\"#C8D4E3\"},\"line\":{\"color\":\"white\"}},\"type\":\"table\"}]},\"layout\":{\"annotationdefaults\":{\"arrowcolor\":\"#2a3f5f\",\"arrowhead\":0,\"arrowwidth\":1},\"autotypenumbers\":\"strict\",\"coloraxis\":{\"colorbar\":{\"outlinewidth\":0,\"ticks\":\"\"}},\"colorscale\":{\"diverging\":[[0,\"#8e0152\"],[0.1,\"#c51b7d\"],[0.2,\"#de77ae\"],[0.3,\"#f1b6da\"],[0.4,\"#fde0ef\"],[0.5,\"#f7f7f7\"],[0.6,\"#e6f5d0\"],[0.7,\"#b8e186\"],[0.8,\"#7fbc41\"],[0.9,\"#4d9221\"],[1,\"#276419\"]],\"sequential\":[[0.0,\"#0d0887\"],[0.1111111111111111,\"#46039f\"],[0.2222222222222222,\"#7201a8\"],[0.3333333333333333,\"#9c179e\"],[0.4444444444444444,\"#bd3786\"],[0.5555555555555556,\"#d8576b\"],[0.6666666666666666,\"#ed7953\"],[0.7777777777777778,\"#fb9f3a\"],[0.8888888888888888,\"#fdca26\"],[1.0,\"#f0f921\"]],\"sequentialminus\":[[0.0,\"#0d0887\"],[0.1111111111111111,\"#46039f\"],[0.2222222222222222,\"#7201a8\"],[0.3333333333333333,\"#9c179e\"],[0.4444444444444444,\"#bd3786\"],[0.5555555555555556,\"#d8576b\"],[0.6666666666666666,\"#ed7953\"],[0.7777777777777778,\"#fb9f3a\"],[0.8888888888888888,\"#fdca26\"],[1.0,\"#f0f921\"]]},\"colorway\":[\"#636efa\",\"#EF553B\",\"#00cc96\",\"#ab63fa\",\"#FFA15A\",\"#19d3f3\",\"#FF6692\",\"#B6E880\",\"#FF97FF\",\"#FECB52\"],\"font\":{\"color\":\"#2a3f5f\"},\"geo\":{\"bgcolor\":\"white\",\"lakecolor\":\"white\",\"landcolor\":\"#E5ECF6\",\"showlakes\":true,\"showland\":true,\"subunitcolor\":\"white\"},\"hoverlabel\":{\"align\":\"left\"},\"hovermode\":\"closest\",\"mapbox\":{\"style\":\"light\"},\"paper_bgcolor\":\"white\",\"plot_bgcolor\":\"#E5ECF6\",\"polar\":{\"angularaxis\":{\"gridcolor\":\"white\",\"linecolor\":\"white\",\"ticks\":\"\"},\"bgcolor\":\"#E5ECF6\",\"radialaxis\":{\"gridcolor\":\"white\",\"linecolor\":\"white\",\"ticks\":\"\"}},\"scene\":{\"xaxis\":{\"backgroundcolor\":\"#E5ECF6\",\"gridcolor\":\"white\",\"gridwidth\":2,\"linecolor\":\"white\",\"showbackground\":true,\"ticks\":\"\",\"zerolinecolor\":\"white\"},\"yaxis\":{\"backgroundcolor\":\"#E5ECF6\",\"gridcolor\":\"white\",\"gridwidth\":2,\"linecolor\":\"white\",\"showbackground\":true,\"ticks\":\"\",\"zerolinecolor\":\"white\"},\"zaxis\":{\"backgroundcolor\":\"#E5ECF6\",\"gridcolor\":\"white\",\"gridwidth\":2,\"linecolor\":\"white\",\"showbackground\":true,\"ticks\":\"\",\"zerolinecolor\":\"white\"}},\"shapedefaults\":{\"line\":{\"color\":\"#2a3f5f\"}},\"ternary\":{\"aaxis\":{\"gridcolor\":\"white\",\"linecolor\":\"white\",\"ticks\":\"\"},\"baxis\":{\"gridcolor\":\"white\",\"linecolor\":\"white\",\"ticks\":\"\"},\"bgcolor\":\"#E5ECF6\",\"caxis\":{\"gridcolor\":\"white\",\"linecolor\":\"white\",\"ticks\":\"\"}},\"title\":{\"x\":0.05},\"xaxis\":{\"automargin\":true,\"gridcolor\":\"white\",\"linecolor\":\"white\",\"ticks\":\"\",\"title\":{\"standoff\":15},\"zerolinecolor\":\"white\",\"zerolinewidth\":2},\"yaxis\":{\"automargin\":true,\"gridcolor\":\"white\",\"linecolor\":\"white\",\"ticks\":\"\",\"title\":{\"standoff\":15},\"zerolinecolor\":\"white\",\"zerolinewidth\":2}}},\"title\":{\"text\":\"Countries Credit's Rating - Source: Standard & Poor's\"}},                        {\"responsive\": true}                    ).then(function(){\n",
       "                            \n",
       "var gd = document.getElementById('ff40ba1b-dc59-4962-9053-467b59045dd5');\n",
       "var x = new MutationObserver(function (mutations, observer) {{\n",
       "        var display = window.getComputedStyle(gd).display;\n",
       "        if (!display || display === 'none') {{\n",
       "            console.log([gd, 'removed!']);\n",
       "            Plotly.purge(gd);\n",
       "            observer.disconnect();\n",
       "        }}\n",
       "}});\n",
       "\n",
       "// Listen for the removal of the full notebook cells\n",
       "var notebookContainer = gd.closest('#notebook-container');\n",
       "if (notebookContainer) {{\n",
       "    x.observe(notebookContainer, {childList: true});\n",
       "}}\n",
       "\n",
       "// Listen for the clearing of the current output cell\n",
       "var outputEl = gd.closest('.output');\n",
       "if (outputEl) {{\n",
       "    x.observe(outputEl, {childList: true});\n",
       "}}\n",
       "\n",
       "                        })                };                });            </script>        </div>"
      ]
     },
     "metadata": {},
     "output_type": "display_data"
    }
   ],
   "source": [
    "\n",
    "fig = px.choropleth(df_corrected_countries_names, locations=\"iso3\",title= \"Countries Credit's Rating - Source: Standard & Poor's\" ,\n",
    "                    color=\"value\", \n",
    "                    hover_name=\"Country\", # column to add to hover information\n",
    "                    color_continuous_scale=px.colors.sequential.Plasma)\n",
    "fig.show()"
   ]
  },
  {
   "cell_type": "code",
   "execution_count": null,
   "id": "e53e4f5f",
   "metadata": {},
   "outputs": [],
   "source": []
  }
 ],
 "metadata": {
  "kernelspec": {
   "display_name": "Python 3",
   "language": "python",
   "name": "python3"
  },
  "language_info": {
   "codemirror_mode": {
    "name": "ipython",
    "version": 3
   },
   "file_extension": ".py",
   "mimetype": "text/x-python",
   "name": "python",
   "nbconvert_exporter": "python",
   "pygments_lexer": "ipython3",
   "version": "3.9.5"
  }
 },
 "nbformat": 4,
 "nbformat_minor": 5
}
