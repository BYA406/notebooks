{
 "cells": [
  {
   "cell_type": "raw",
   "id": "primary-bachelor",
   "metadata": {},
   "source": [
    "Importing dependencies"
   ]
  },
  {
   "cell_type": "code",
   "execution_count": 76,
   "id": "derived-violence",
   "metadata": {},
   "outputs": [],
   "source": [
    "import tradingeconomics as te\n",
    "import matplotlib.pyplot as plt\n",
    "import pandas as pd"
   ]
  },
  {
   "cell_type": "raw",
   "id": "initial-mambo",
   "metadata": {},
   "source": [
    "API login"
   ]
  },
  {
   "cell_type": "code",
   "execution_count": 77,
   "id": "monthly-style",
   "metadata": {},
   "outputs": [
    {
     "data": {
      "text/plain": [
       "'You are logged in as a jupyter:jupyter'"
      ]
     },
     "execution_count": 77,
     "metadata": {},
     "output_type": "execute_result"
    }
   ],
   "source": [
    "te.login('jupyter:jupyter'); # Signup for a free API key at https://developer.tradingeconomics.com/"
   ]
  },
  {
   "cell_type": "raw",
   "id": "fantastic-butter",
   "metadata": {},
   "source": [
    "Importing data"
   ]
  },
  {
   "cell_type": "code",
   "execution_count": 78,
   "id": "incorrect-thumb",
   "metadata": {},
   "outputs": [
    {
     "data": {
      "text/html": [
       "<div>\n",
       "<style scoped>\n",
       "    .dataframe tbody tr th:only-of-type {\n",
       "        vertical-align: middle;\n",
       "    }\n",
       "\n",
       "    .dataframe tbody tr th {\n",
       "        vertical-align: top;\n",
       "    }\n",
       "\n",
       "    .dataframe thead th {\n",
       "        text-align: right;\n",
       "    }\n",
       "</style>\n",
       "<table border=\"1\" class=\"dataframe\">\n",
       "  <thead>\n",
       "    <tr style=\"text-align: right;\">\n",
       "      <th></th>\n",
       "      <th>ID</th>\n",
       "      <th>Date</th>\n",
       "      <th>Value</th>\n",
       "      <th>LastUpdate</th>\n",
       "    </tr>\n",
       "  </thead>\n",
       "  <tbody>\n",
       "    <tr>\n",
       "      <th>0</th>\n",
       "      <td>78963</td>\n",
       "      <td>2021-05-31T00:00:00</td>\n",
       "      <td>90.94</td>\n",
       "      <td>2021-06-17T11:40:00</td>\n",
       "    </tr>\n",
       "    <tr>\n",
       "      <th>1</th>\n",
       "      <td>78963</td>\n",
       "      <td>2021-04-30T00:00:00</td>\n",
       "      <td>89.68</td>\n",
       "      <td>2021-05-19T11:43:00</td>\n",
       "    </tr>\n",
       "    <tr>\n",
       "      <th>2</th>\n",
       "      <td>78963</td>\n",
       "      <td>2021-03-31T00:00:00</td>\n",
       "      <td>90.09</td>\n",
       "      <td>2021-04-16T12:11:00</td>\n",
       "    </tr>\n",
       "    <tr>\n",
       "      <th>3</th>\n",
       "      <td>78963</td>\n",
       "      <td>2021-02-28T00:00:00</td>\n",
       "      <td>89.51</td>\n",
       "      <td>2021-03-17T11:31:00</td>\n",
       "    </tr>\n",
       "    <tr>\n",
       "      <th>4</th>\n",
       "      <td>78963</td>\n",
       "      <td>2021-01-31T00:00:00</td>\n",
       "      <td>91.31</td>\n",
       "      <td>2021-02-23T11:46:00</td>\n",
       "    </tr>\n",
       "  </tbody>\n",
       "</table>\n",
       "</div>"
      ],
      "text/plain": [
       "      ID                 Date  Value           LastUpdate\n",
       "0  78963  2021-05-31T00:00:00  90.94  2021-06-17T11:40:00\n",
       "1  78963  2021-04-30T00:00:00  89.68  2021-05-19T11:43:00\n",
       "2  78963  2021-03-31T00:00:00  90.09  2021-04-16T12:11:00\n",
       "3  78963  2021-02-28T00:00:00  89.51  2021-03-17T11:31:00\n",
       "4  78963  2021-01-31T00:00:00  91.31  2021-02-23T11:46:00"
      ]
     },
     "execution_count": 78,
     "metadata": {},
     "output_type": "execute_result"
    }
   ],
   "source": [
    "raw_hist_general_df = te.getHistoricalEurostat(ID = '78963', initDate = '2018-01-01', endDate = '2021-12-31', output_type = 'df')\n",
    "raw_hist_general_df.head()"
   ]
  },
  {
   "cell_type": "code",
   "execution_count": 79,
   "id": "exceptional-classic",
   "metadata": {},
   "outputs": [
    {
     "data": {
      "text/html": [
       "<div>\n",
       "<style scoped>\n",
       "    .dataframe tbody tr th:only-of-type {\n",
       "        vertical-align: middle;\n",
       "    }\n",
       "\n",
       "    .dataframe tbody tr th {\n",
       "        vertical-align: top;\n",
       "    }\n",
       "\n",
       "    .dataframe thead th {\n",
       "        text-align: right;\n",
       "    }\n",
       "</style>\n",
       "<table border=\"1\" class=\"dataframe\">\n",
       "  <thead>\n",
       "    <tr style=\"text-align: right;\">\n",
       "      <th></th>\n",
       "      <th>ID</th>\n",
       "      <th>Date</th>\n",
       "      <th>Value</th>\n",
       "      <th>LastUpdate</th>\n",
       "    </tr>\n",
       "  </thead>\n",
       "  <tbody>\n",
       "    <tr>\n",
       "      <th>0</th>\n",
       "      <td>75708</td>\n",
       "      <td>2021-05-31T00:00:00</td>\n",
       "      <td>83.14</td>\n",
       "      <td>2021-06-17T11:38:00</td>\n",
       "    </tr>\n",
       "    <tr>\n",
       "      <th>1</th>\n",
       "      <td>75708</td>\n",
       "      <td>2021-04-30T00:00:00</td>\n",
       "      <td>76.41</td>\n",
       "      <td>2021-05-19T11:41:00</td>\n",
       "    </tr>\n",
       "    <tr>\n",
       "      <th>2</th>\n",
       "      <td>75708</td>\n",
       "      <td>2021-03-31T00:00:00</td>\n",
       "      <td>85.46</td>\n",
       "      <td>2021-04-16T12:08:00</td>\n",
       "    </tr>\n",
       "    <tr>\n",
       "      <th>3</th>\n",
       "      <td>75708</td>\n",
       "      <td>2021-02-28T00:00:00</td>\n",
       "      <td>82.28</td>\n",
       "      <td>2021-03-17T11:30:00</td>\n",
       "    </tr>\n",
       "    <tr>\n",
       "      <th>4</th>\n",
       "      <td>75708</td>\n",
       "      <td>2021-01-31T00:00:00</td>\n",
       "      <td>91.91</td>\n",
       "      <td>2021-02-23T11:45:00</td>\n",
       "    </tr>\n",
       "  </tbody>\n",
       "</table>\n",
       "</div>"
      ],
      "text/plain": [
       "      ID                 Date  Value           LastUpdate\n",
       "0  75708  2021-05-31T00:00:00  83.14  2021-06-17T11:38:00\n",
       "1  75708  2021-04-30T00:00:00  76.41  2021-05-19T11:41:00\n",
       "2  75708  2021-03-31T00:00:00  85.46  2021-04-16T12:08:00\n",
       "3  75708  2021-02-28T00:00:00  82.28  2021-03-17T11:30:00\n",
       "4  75708  2021-01-31T00:00:00  91.91  2021-02-23T11:45:00"
      ]
     },
     "execution_count": 79,
     "metadata": {},
     "output_type": "execute_result"
    }
   ],
   "source": [
    "raw_hist_air_df=te.getHistoricalEurostat(ID = '75708', initDate = '2018-01-01', endDate = '2021-12-31', output_type = 'df')\n",
    "raw_hist_air_df.head()"
   ]
  },
  {
   "cell_type": "code",
   "execution_count": 80,
   "id": "9d84a060-a96b-48f3-a83b-a7b75b4527cb",
   "metadata": {},
   "outputs": [
    {
     "data": {
      "text/html": [
       "<div>\n",
       "<style scoped>\n",
       "    .dataframe tbody tr th:only-of-type {\n",
       "        vertical-align: middle;\n",
       "    }\n",
       "\n",
       "    .dataframe tbody tr th {\n",
       "        vertical-align: top;\n",
       "    }\n",
       "\n",
       "    .dataframe thead th {\n",
       "        text-align: right;\n",
       "    }\n",
       "</style>\n",
       "<table border=\"1\" class=\"dataframe\">\n",
       "  <thead>\n",
       "    <tr style=\"text-align: right;\">\n",
       "      <th></th>\n",
       "      <th>ID</th>\n",
       "      <th>Date</th>\n",
       "      <th>Value</th>\n",
       "      <th>LastUpdate</th>\n",
       "    </tr>\n",
       "  </thead>\n",
       "  <tbody>\n",
       "    <tr>\n",
       "      <th>0</th>\n",
       "      <td>78493</td>\n",
       "      <td>2021-05-31T00:00:00</td>\n",
       "      <td>96.53</td>\n",
       "      <td>2021-06-17T11:40:00</td>\n",
       "    </tr>\n",
       "    <tr>\n",
       "      <th>1</th>\n",
       "      <td>78493</td>\n",
       "      <td>2021-04-30T00:00:00</td>\n",
       "      <td>96.53</td>\n",
       "      <td>2021-05-19T11:43:00</td>\n",
       "    </tr>\n",
       "    <tr>\n",
       "      <th>2</th>\n",
       "      <td>78493</td>\n",
       "      <td>2021-03-31T00:00:00</td>\n",
       "      <td>96.53</td>\n",
       "      <td>2021-04-16T12:11:00</td>\n",
       "    </tr>\n",
       "    <tr>\n",
       "      <th>3</th>\n",
       "      <td>78493</td>\n",
       "      <td>2021-02-28T00:00:00</td>\n",
       "      <td>96.53</td>\n",
       "      <td>2021-03-17T11:31:00</td>\n",
       "    </tr>\n",
       "    <tr>\n",
       "      <th>4</th>\n",
       "      <td>78493</td>\n",
       "      <td>2021-01-31T00:00:00</td>\n",
       "      <td>96.46</td>\n",
       "      <td>2021-02-23T11:46:00</td>\n",
       "    </tr>\n",
       "  </tbody>\n",
       "</table>\n",
       "</div>"
      ],
      "text/plain": [
       "      ID                 Date  Value           LastUpdate\n",
       "0  78493  2021-05-31T00:00:00  96.53  2021-06-17T11:40:00\n",
       "1  78493  2021-04-30T00:00:00  96.53  2021-05-19T11:43:00\n",
       "2  78493  2021-03-31T00:00:00  96.53  2021-04-16T12:11:00\n",
       "3  78493  2021-02-28T00:00:00  96.53  2021-03-17T11:31:00\n",
       "4  78493  2021-01-31T00:00:00  96.46  2021-02-23T11:46:00"
      ]
     },
     "execution_count": 80,
     "metadata": {},
     "output_type": "execute_result"
    }
   ],
   "source": [
    "raw_hist_train_df=te.getHistoricalEurostat(ID = '78493', initDate = '2018-01-01', endDate = '2021-12-31', output_type = 'df')\n",
    "raw_hist_train_df.head()"
   ]
  },
  {
   "cell_type": "code",
   "execution_count": 81,
   "id": "meaningful-canon",
   "metadata": {},
   "outputs": [
    {
     "data": {
      "text/html": [
       "<div>\n",
       "<style scoped>\n",
       "    .dataframe tbody tr th:only-of-type {\n",
       "        vertical-align: middle;\n",
       "    }\n",
       "\n",
       "    .dataframe tbody tr th {\n",
       "        vertical-align: top;\n",
       "    }\n",
       "\n",
       "    .dataframe thead th {\n",
       "        text-align: right;\n",
       "    }\n",
       "</style>\n",
       "<table border=\"1\" class=\"dataframe\">\n",
       "  <thead>\n",
       "    <tr style=\"text-align: right;\">\n",
       "      <th></th>\n",
       "      <th>ID</th>\n",
       "      <th>Date</th>\n",
       "      <th>Value</th>\n",
       "      <th>LastUpdate</th>\n",
       "    </tr>\n",
       "  </thead>\n",
       "  <tbody>\n",
       "    <tr>\n",
       "      <th>0</th>\n",
       "      <td>77769</td>\n",
       "      <td>2021-05-31T00:00:00</td>\n",
       "      <td>90.58</td>\n",
       "      <td>2021-06-17T11:39:00</td>\n",
       "    </tr>\n",
       "    <tr>\n",
       "      <th>1</th>\n",
       "      <td>77769</td>\n",
       "      <td>2021-04-30T00:00:00</td>\n",
       "      <td>90.57</td>\n",
       "      <td>2021-05-19T11:43:00</td>\n",
       "    </tr>\n",
       "    <tr>\n",
       "      <th>2</th>\n",
       "      <td>77769</td>\n",
       "      <td>2021-03-31T00:00:00</td>\n",
       "      <td>90.56</td>\n",
       "      <td>2021-04-16T12:11:00</td>\n",
       "    </tr>\n",
       "    <tr>\n",
       "      <th>3</th>\n",
       "      <td>77769</td>\n",
       "      <td>2021-02-28T00:00:00</td>\n",
       "      <td>90.58</td>\n",
       "      <td>2021-03-17T11:30:00</td>\n",
       "    </tr>\n",
       "    <tr>\n",
       "      <th>4</th>\n",
       "      <td>77769</td>\n",
       "      <td>2021-01-31T00:00:00</td>\n",
       "      <td>90.67</td>\n",
       "      <td>2021-02-23T11:46:00</td>\n",
       "    </tr>\n",
       "  </tbody>\n",
       "</table>\n",
       "</div>"
      ],
      "text/plain": [
       "      ID                 Date  Value           LastUpdate\n",
       "0  77769  2021-05-31T00:00:00  90.58  2021-06-17T11:39:00\n",
       "1  77769  2021-04-30T00:00:00  90.57  2021-05-19T11:43:00\n",
       "2  77769  2021-03-31T00:00:00  90.56  2021-04-16T12:11:00\n",
       "3  77769  2021-02-28T00:00:00  90.58  2021-03-17T11:30:00\n",
       "4  77769  2021-01-31T00:00:00  90.67  2021-02-23T11:46:00"
      ]
     },
     "execution_count": 81,
     "metadata": {},
     "output_type": "execute_result"
    }
   ],
   "source": [
    "raw_hist_bus_df=te.getHistoricalEurostat(ID = '77769', initDate = '2018-01-01', endDate = '2021-12-31', output_type = 'df')\n",
    "raw_hist_bus_df.head()"
   ]
  },
  {
   "cell_type": "code",
   "execution_count": 82,
   "id": "f98d5443-5212-4a50-b9db-d9f5c657427d",
   "metadata": {},
   "outputs": [
    {
     "data": {
      "text/html": [
       "<div>\n",
       "<style scoped>\n",
       "    .dataframe tbody tr th:only-of-type {\n",
       "        vertical-align: middle;\n",
       "    }\n",
       "\n",
       "    .dataframe tbody tr th {\n",
       "        vertical-align: top;\n",
       "    }\n",
       "\n",
       "    .dataframe thead th {\n",
       "        text-align: right;\n",
       "    }\n",
       "</style>\n",
       "<table border=\"1\" class=\"dataframe\">\n",
       "  <thead>\n",
       "    <tr style=\"text-align: right;\">\n",
       "      <th></th>\n",
       "      <th>ID</th>\n",
       "      <th>Date</th>\n",
       "      <th>Value</th>\n",
       "      <th>LastUpdate</th>\n",
       "    </tr>\n",
       "  </thead>\n",
       "  <tbody>\n",
       "    <tr>\n",
       "      <th>0</th>\n",
       "      <td>85533</td>\n",
       "      <td>2021-05-31T00:00:00</td>\n",
       "      <td>91.86</td>\n",
       "      <td>2021-06-17T11:42:00</td>\n",
       "    </tr>\n",
       "    <tr>\n",
       "      <th>1</th>\n",
       "      <td>85533</td>\n",
       "      <td>2021-04-30T00:00:00</td>\n",
       "      <td>91.86</td>\n",
       "      <td>2021-05-19T11:47:00</td>\n",
       "    </tr>\n",
       "    <tr>\n",
       "      <th>2</th>\n",
       "      <td>85533</td>\n",
       "      <td>2021-03-31T00:00:00</td>\n",
       "      <td>91.86</td>\n",
       "      <td>2021-04-16T12:15:00</td>\n",
       "    </tr>\n",
       "    <tr>\n",
       "      <th>3</th>\n",
       "      <td>85533</td>\n",
       "      <td>2021-02-28T00:00:00</td>\n",
       "      <td>91.86</td>\n",
       "      <td>2021-03-17T11:33:00</td>\n",
       "    </tr>\n",
       "    <tr>\n",
       "      <th>4</th>\n",
       "      <td>85533</td>\n",
       "      <td>2021-01-31T00:00:00</td>\n",
       "      <td>91.86</td>\n",
       "      <td>2021-02-23T11:49:00</td>\n",
       "    </tr>\n",
       "  </tbody>\n",
       "</table>\n",
       "</div>"
      ],
      "text/plain": [
       "      ID                 Date  Value           LastUpdate\n",
       "0  85533  2021-05-31T00:00:00  91.86  2021-06-17T11:42:00\n",
       "1  85533  2021-04-30T00:00:00  91.86  2021-05-19T11:47:00\n",
       "2  85533  2021-03-31T00:00:00  91.86  2021-04-16T12:15:00\n",
       "3  85533  2021-02-28T00:00:00  91.86  2021-03-17T11:33:00\n",
       "4  85533  2021-01-31T00:00:00  91.86  2021-02-23T11:49:00"
      ]
     },
     "execution_count": 82,
     "metadata": {},
     "output_type": "execute_result"
    }
   ],
   "source": [
    "raw_hist_underground_df=te.getHistoricalEurostat(ID = '85533', initDate = '2018-01-01', endDate = '2021-12-31', output_type = 'df')\n",
    "raw_hist_underground_df.head()"
   ]
  },
  {
   "cell_type": "raw",
   "id": "outdoor-twist",
   "metadata": {},
   "source": [
    "Data Manipulation"
   ]
  },
  {
   "cell_type": "code",
   "execution_count": 84,
   "id": "prompt-declaration",
   "metadata": {},
   "outputs": [
    {
     "data": {
      "text/html": [
       "<div>\n",
       "<style scoped>\n",
       "    .dataframe tbody tr th:only-of-type {\n",
       "        vertical-align: middle;\n",
       "    }\n",
       "\n",
       "    .dataframe tbody tr th {\n",
       "        vertical-align: top;\n",
       "    }\n",
       "\n",
       "    .dataframe thead th {\n",
       "        text-align: right;\n",
       "    }\n",
       "</style>\n",
       "<table border=\"1\" class=\"dataframe\">\n",
       "  <thead>\n",
       "    <tr style=\"text-align: right;\">\n",
       "      <th></th>\n",
       "      <th>Air</th>\n",
       "      <th>Train</th>\n",
       "      <th>Bus</th>\n",
       "      <th>Underground</th>\n",
       "      <th>General</th>\n",
       "    </tr>\n",
       "    <tr>\n",
       "      <th>formatted_date</th>\n",
       "      <th></th>\n",
       "      <th></th>\n",
       "      <th></th>\n",
       "      <th></th>\n",
       "      <th></th>\n",
       "    </tr>\n",
       "  </thead>\n",
       "  <tbody>\n",
       "    <tr>\n",
       "      <th>2021-05-31</th>\n",
       "      <td>NaN</td>\n",
       "      <td>NaN</td>\n",
       "      <td>NaN</td>\n",
       "      <td>NaN</td>\n",
       "      <td>NaN</td>\n",
       "    </tr>\n",
       "    <tr>\n",
       "      <th>2021-04-30</th>\n",
       "      <td>NaN</td>\n",
       "      <td>NaN</td>\n",
       "      <td>NaN</td>\n",
       "      <td>NaN</td>\n",
       "      <td>NaN</td>\n",
       "    </tr>\n",
       "    <tr>\n",
       "      <th>2021-03-31</th>\n",
       "      <td>NaN</td>\n",
       "      <td>NaN</td>\n",
       "      <td>NaN</td>\n",
       "      <td>NaN</td>\n",
       "      <td>NaN</td>\n",
       "    </tr>\n",
       "    <tr>\n",
       "      <th>2021-02-28</th>\n",
       "      <td>NaN</td>\n",
       "      <td>NaN</td>\n",
       "      <td>NaN</td>\n",
       "      <td>NaN</td>\n",
       "      <td>NaN</td>\n",
       "    </tr>\n",
       "    <tr>\n",
       "      <th>2021-01-31</th>\n",
       "      <td>NaN</td>\n",
       "      <td>NaN</td>\n",
       "      <td>NaN</td>\n",
       "      <td>NaN</td>\n",
       "      <td>NaN</td>\n",
       "    </tr>\n",
       "  </tbody>\n",
       "</table>\n",
       "</div>"
      ],
      "text/plain": [
       "                Air  Train  Bus  Underground  General\n",
       "formatted_date                                       \n",
       "2021-05-31      NaN    NaN  NaN          NaN      NaN\n",
       "2021-04-30      NaN    NaN  NaN          NaN      NaN\n",
       "2021-03-31      NaN    NaN  NaN          NaN      NaN\n",
       "2021-02-28      NaN    NaN  NaN          NaN      NaN\n",
       "2021-01-31      NaN    NaN  NaN          NaN      NaN"
      ]
     },
     "execution_count": 84,
     "metadata": {},
     "output_type": "execute_result"
    }
   ],
   "source": [
    "general_df = raw_hist_general_df[['Date', 'Value']].rename(columns = {'Value': 'General'}).set_index('Date')\n",
    "air_df = raw_hist_air_df[['Date', 'Value']].rename(columns = {'Value': 'Air'}).set_index('Date')\n",
    "train_df = raw_hist_train_df[['Date', 'Value']].rename(columns = {'Value': 'Train'}).set_index('Date')\n",
    "bus_df = raw_hist_bus_df[['Date', 'Value']].rename(columns = {'Value': 'Bus'}).set_index('Date')\n",
    "underground_df = raw_hist_underground_df[['Date', 'Value']].rename(columns = {'Value': 'Underground'}).set_index('Date')\n",
    "df = pd.merge(pd.merge(air_df, train_df, on ='Date'), bus_df, on='Date')\n",
    "df = pd.merge(pd.merge(df, underground_df, on='Date'), general_df, on='Date')\n",
    "df['formatted_date'] = pd.to_datetime(df.index)\n",
    "df=df.reindex(df['formatted_date'])\n",
    "del df['formatted_date']\n",
    "df.head()\n"
   ]
  },
  {
   "cell_type": "raw",
   "id": "neither-falls",
   "metadata": {},
   "source": [
    "Plotting"
   ]
  },
  {
   "cell_type": "code",
   "execution_count": 85,
   "id": "confused-burden",
   "metadata": {},
   "outputs": [
    {
     "data": {
      "image/png": "[encoded data removed]",
      "text/plain": [
       "<Figure size 1224x504 with 1 Axes>"
      ]
     },
     "metadata": {
      "needs_background": "light"
     },
     "output_type": "display_data"
    }
   ],
   "source": [
    "plt.subplots(figsize=(17, 7))\n",
    "\n",
    "plt.plot( df.index.tolist(), df['Air'].values.tolist(), color='lightcoral', linewidth=4, label=\"Air\")\n",
    "plt.plot( df.index.tolist(), df['Train'].values.tolist(), color='sandybrown', linewidth=4, label=\"Train\")\n",
    "plt.plot( df.index.tolist(), df['Underground'].values.tolist(),  color='olivedrab', linewidth=4, label=\"Underground\")\n",
    "plt.plot( df.index.tolist(), df['General'].values.tolist(),  color='steelblue', linewidth=4, label=\"General\")\n",
    "\n",
    "plt.legend(\n",
    "          loc=\"center left\",\n",
    "          bbox_to_anchor=(1, 0, 0.5, 1),\n",
    "          fontsize=12,\n",
    "          ncol=1,\n",
    "          title_fontsize=14,\n",
    "          borderpad=1)\n",
    "plt.grid(True)\n",
    "plt.ylabel('HICP* points', fontsize=13)\n",
    "plt.xlabel('*Harmonised index of consumer prices', fontsize=10)\n",
    "plt.title(\"Transport services prices\", size=20)\n",
    "plt.show()"
   ]
  },
  {
   "cell_type": "code",
   "execution_count": null,
   "id": "3ac02601-2454-4b41-8704-91fc00f0f819",
   "metadata": {},
   "outputs": [],
   "source": []
  },
  {
   "cell_type": "code",
   "execution_count": null,
   "id": "41574fb6-3de8-476c-a5ae-f4ed944c8559",
   "metadata": {},
   "outputs": [],
   "source": []
  },
  {
   "cell_type": "code",
   "execution_count": null,
   "id": "e5f47f14-8077-4429-ab1d-02d10d87599c",
   "metadata": {},
   "outputs": [],
   "source": []
  }
 ],
 "metadata": {
  "kernelspec": {
   "display_name": "Python 3",
   "language": "python",
   "name": "python3"
  },
  "language_info": {
   "codemirror_mode": {
    "name": "ipython",
    "version": 3
   },
   "file_extension": ".py",
   "mimetype": "text/x-python",
   "name": "python",
   "nbconvert_exporter": "python",
   "pygments_lexer": "ipython3",
   "version": "3.7.3"
  }
 },
 "nbformat": 4,
 "nbformat_minor": 5
}
