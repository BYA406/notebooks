{
 "cells": [
  {
   "cell_type": "code",
   "execution_count": 1,
   "id": "cbfb6634",
   "metadata": {},
   "outputs": [],
   "source": [
    "import tradingeconomics as te"
   ]
  },
  {
   "cell_type": "code",
   "execution_count": 2,
   "id": "af82d62c",
   "metadata": {},
   "outputs": [
    {
     "data": {
      "text/plain": [
       "'You are logged in as a guest:guest'"
      ]
     },
     "execution_count": 2,
     "metadata": {},
     "output_type": "execute_result"
    }
   ],
   "source": [
    "te.login()"
   ]
  },
  {
   "cell_type": "markdown",
   "id": "47b9954b",
   "metadata": {},
   "source": [
    "## News"
   ]
  },
  {
   "cell_type": "markdown",
   "id": "5c097833",
   "metadata": {},
   "source": [
    "##### by start and end date and indicator"
   ]
  },
  {
   "cell_type": "code",
   "execution_count": 10,
   "id": "d49694ac",
   "metadata": {
    "scrolled": true
   },
   "outputs": [
    {
     "name": "stdout",
     "output_type": "stream",
     "text": [
      "https://api.tradingeconomics.com/news/indicator/inflation%20rate?c=guest:guest&d1=2021-02-02&d2=2021-03-03\n"
     ]
    },
    {
     "data": {
      "text/html": [
       "<div>\n",
       "<style scoped>\n",
       "    .dataframe tbody tr th:only-of-type {\n",
       "        vertical-align: middle;\n",
       "    }\n",
       "\n",
       "    .dataframe tbody tr th {\n",
       "        vertical-align: top;\n",
       "    }\n",
       "\n",
       "    .dataframe thead th {\n",
       "        text-align: right;\n",
       "    }\n",
       "</style>\n",
       "<table border=\"1\" class=\"dataframe\">\n",
       "  <thead>\n",
       "    <tr style=\"text-align: right;\">\n",
       "      <th></th>\n",
       "      <th>id</th>\n",
       "      <th>title</th>\n",
       "      <th>date</th>\n",
       "      <th>description</th>\n",
       "      <th>country</th>\n",
       "      <th>category</th>\n",
       "      <th>symbol</th>\n",
       "      <th>url</th>\n",
       "    </tr>\n",
       "  </thead>\n",
       "  <tbody>\n",
       "    <tr>\n",
       "      <th>0</th>\n",
       "      <td>140204</td>\n",
       "      <td>Australia Current Account Surplus Widens in Q4</td>\n",
       "      <td>2021-03-02T00:42:00</td>\n",
       "      <td>Australia's current account surplus widened to...</td>\n",
       "      <td>Australia</td>\n",
       "      <td>Current Account</td>\n",
       "      <td>AUCABAL</td>\n",
       "      <td>/australia/current-account</td>\n",
       "    </tr>\n",
       "    <tr>\n",
       "      <th>1</th>\n",
       "      <td>140154</td>\n",
       "      <td>Canada Current Account Gap Lower than Expected</td>\n",
       "      <td>2021-03-01T13:37:00</td>\n",
       "      <td>Canada's current account deficit narrowed by C...</td>\n",
       "      <td>Canada</td>\n",
       "      <td>Current Account</td>\n",
       "      <td>CACURENT</td>\n",
       "      <td>/canada/current-account</td>\n",
       "    </tr>\n",
       "    <tr>\n",
       "      <th>2</th>\n",
       "      <td>139959</td>\n",
       "      <td>Taiwan Posts 2nd Largest Current Account Surpl...</td>\n",
       "      <td>2021-02-26T10:46:00</td>\n",
       "      <td>The current account surplus in Taiwan rose by ...</td>\n",
       "      <td>Taiwan</td>\n",
       "      <td>Current Account</td>\n",
       "      <td>TaiwanCA</td>\n",
       "      <td>/taiwan/current-account</td>\n",
       "    </tr>\n",
       "    <tr>\n",
       "      <th>3</th>\n",
       "      <td>139945</td>\n",
       "      <td>Spain Current Account Surplus Narrows in December</td>\n",
       "      <td>2021-02-26T09:45:20.03</td>\n",
       "      <td>Spain's current account surplus fell to EUR 0....</td>\n",
       "      <td>Spain</td>\n",
       "      <td>Current Account</td>\n",
       "      <td>SPCAEURO</td>\n",
       "      <td>/spain/current-account</td>\n",
       "    </tr>\n",
       "    <tr>\n",
       "      <th>4</th>\n",
       "      <td>139833</td>\n",
       "      <td>Mexico Current Account Surplus Second-Largest ...</td>\n",
       "      <td>2021-02-25T15:18:00</td>\n",
       "      <td>Mexico’s current account surplus widened sharp...</td>\n",
       "      <td>Mexico</td>\n",
       "      <td>Current Account</td>\n",
       "      <td>OEMXB039</td>\n",
       "      <td>/mexico/current-account</td>\n",
       "    </tr>\n",
       "    <tr>\n",
       "      <th>5</th>\n",
       "      <td>139674</td>\n",
       "      <td>Brazil Current Account Gap Narrows in January</td>\n",
       "      <td>2021-02-24T13:04:00</td>\n",
       "      <td>Brazil's current account deficit fell to USD 7...</td>\n",
       "      <td>Brazil</td>\n",
       "      <td>Current Account</td>\n",
       "      <td>BZCACURR</td>\n",
       "      <td>/brazil/current-account</td>\n",
       "    </tr>\n",
       "    <tr>\n",
       "      <th>6</th>\n",
       "      <td>139417</td>\n",
       "      <td>Slovakia Current Account Gap Narrows in December</td>\n",
       "      <td>2021-02-22T14:28:38.17</td>\n",
       "      <td>Slovakia’s current account deficit narrowed to...</td>\n",
       "      <td>Slovakia</td>\n",
       "      <td>Current Account</td>\n",
       "      <td>SlovakiaCA</td>\n",
       "      <td>/slovakia/current-account</td>\n",
       "    </tr>\n",
       "    <tr>\n",
       "      <th>7</th>\n",
       "      <td>139395</td>\n",
       "      <td>Greece Current Account Gap Widens in December</td>\n",
       "      <td>2021-02-22T09:53:36.437</td>\n",
       "      <td>Greece's current account deficit widened to EU...</td>\n",
       "      <td>Greece</td>\n",
       "      <td>Current Account</td>\n",
       "      <td>GKCAEUR</td>\n",
       "      <td>/greece/current-account</td>\n",
       "    </tr>\n",
       "    <tr>\n",
       "      <th>8</th>\n",
       "      <td>139287</td>\n",
       "      <td>Italy Current Account Surplus Rises in December</td>\n",
       "      <td>2021-02-19T10:45:45.24</td>\n",
       "      <td>Italy’s current account surplus widened to EUR...</td>\n",
       "      <td>Italy</td>\n",
       "      <td>Current Account</td>\n",
       "      <td>ITCAEUR</td>\n",
       "      <td>/italy/current-account</td>\n",
       "    </tr>\n",
       "    <tr>\n",
       "      <th>9</th>\n",
       "      <td>139283</td>\n",
       "      <td>Bulgaria Current Account Narrows in 2020</td>\n",
       "      <td>2021-02-19T10:23:00</td>\n",
       "      <td>Bulgaria’s current account surplus narrowed to...</td>\n",
       "      <td>Bulgaria</td>\n",
       "      <td>Current Account</td>\n",
       "      <td>BulgariaCA</td>\n",
       "      <td>/bulgaria/current-account</td>\n",
       "    </tr>\n",
       "  </tbody>\n",
       "</table>\n",
       "</div>"
      ],
      "text/plain": [
       "       id                                              title  \\\n",
       "0  140204     Australia Current Account Surplus Widens in Q4   \n",
       "1  140154     Canada Current Account Gap Lower than Expected   \n",
       "2  139959  Taiwan Posts 2nd Largest Current Account Surpl...   \n",
       "3  139945  Spain Current Account Surplus Narrows in December   \n",
       "4  139833  Mexico Current Account Surplus Second-Largest ...   \n",
       "5  139674      Brazil Current Account Gap Narrows in January   \n",
       "6  139417   Slovakia Current Account Gap Narrows in December   \n",
       "7  139395      Greece Current Account Gap Widens in December   \n",
       "8  139287    Italy Current Account Surplus Rises in December   \n",
       "9  139283           Bulgaria Current Account Narrows in 2020   \n",
       "\n",
       "                      date                                        description  \\\n",
       "0      2021-03-02T00:42:00  Australia's current account surplus widened to...   \n",
       "1      2021-03-01T13:37:00  Canada's current account deficit narrowed by C...   \n",
       "2      2021-02-26T10:46:00  The current account surplus in Taiwan rose by ...   \n",
       "3   2021-02-26T09:45:20.03  Spain's current account surplus fell to EUR 0....   \n",
       "4      2021-02-25T15:18:00  Mexico’s current account surplus widened sharp...   \n",
       "5      2021-02-24T13:04:00  Brazil's current account deficit fell to USD 7...   \n",
       "6   2021-02-22T14:28:38.17  Slovakia’s current account deficit narrowed to...   \n",
       "7  2021-02-22T09:53:36.437  Greece's current account deficit widened to EU...   \n",
       "8   2021-02-19T10:45:45.24  Italy’s current account surplus widened to EUR...   \n",
       "9      2021-02-19T10:23:00  Bulgaria’s current account surplus narrowed to...   \n",
       "\n",
       "     country         category      symbol                         url  \n",
       "0  Australia  Current Account     AUCABAL  /australia/current-account  \n",
       "1     Canada  Current Account    CACURENT     /canada/current-account  \n",
       "2     Taiwan  Current Account    TaiwanCA     /taiwan/current-account  \n",
       "3      Spain  Current Account    SPCAEURO      /spain/current-account  \n",
       "4     Mexico  Current Account    OEMXB039     /mexico/current-account  \n",
       "5     Brazil  Current Account    BZCACURR     /brazil/current-account  \n",
       "6   Slovakia  Current Account  SlovakiaCA   /slovakia/current-account  \n",
       "7     Greece  Current Account     GKCAEUR     /greece/current-account  \n",
       "8      Italy  Current Account     ITCAEUR      /italy/current-account  \n",
       "9   Bulgaria  Current Account  BulgariaCA   /bulgaria/current-account  "
      ]
     },
     "execution_count": 10,
     "metadata": {},
     "output_type": "execute_result"
    }
   ],
   "source": [
    "te.getNews(indicator='inflation rate', start_date='2021-02-02', end_date='2021-03-03',output_type='df')"
   ]
  }
 ],
 "metadata": {
  "kernelspec": {
   "display_name": "Python 3",
   "language": "python",
   "name": "python3"
  },
  "language_info": {
   "codemirror_mode": {
    "name": "ipython",
    "version": 3
   },
   "file_extension": ".py",
   "mimetype": "text/x-python",
   "name": "python",
   "nbconvert_exporter": "python",
   "pygments_lexer": "ipython3",
   "version": "3.9.5"
  }
 },
 "nbformat": 4,
 "nbformat_minor": 5
}
