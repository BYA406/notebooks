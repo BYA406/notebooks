{
 "cells": [
  {
   "cell_type": "code",
   "execution_count": 1,
   "id": "cbfb6634",
   "metadata": {},
   "outputs": [],
   "source": [
    "import tradingeconomics as te"
   ]
  },
  {
   "cell_type": "code",
   "execution_count": 2,
   "id": "af82d62c",
   "metadata": {},
   "outputs": [
    {
     "data": {
      "text/plain": [
       "'You are logged in as a guest:guest'"
      ]
     },
     "execution_count": 2,
     "metadata": {},
     "output_type": "execute_result"
    }
   ],
   "source": [
    "te.login()"
   ]
  },
  {
   "cell_type": "markdown",
   "id": "47b9954b",
   "metadata": {},
   "source": [
    "## News"
   ]
  },
  {
   "cell_type": "markdown",
   "id": "dd343e68",
   "metadata": {},
   "source": [
    "##### By multiple countries and multiple indicators"
   ]
  },
  {
   "cell_type": "code",
   "execution_count": 12,
   "id": "caf99e69",
   "metadata": {
    "scrolled": true
   },
   "outputs": [
    {
     "name": "stdout",
     "output_type": "stream",
     "text": [
      "https://api.tradingeconomics.com/news/country/brazil%2Ccanada/Housing%20Starts%2CStock%20Market?c=guest:guest&d1=2021-02-02&d2=2021-03-03\n"
     ]
    },
    {
     "data": {
      "text/html": [
       "<div>\n",
       "<style scoped>\n",
       "    .dataframe tbody tr th:only-of-type {\n",
       "        vertical-align: middle;\n",
       "    }\n",
       "\n",
       "    .dataframe tbody tr th {\n",
       "        vertical-align: top;\n",
       "    }\n",
       "\n",
       "    .dataframe thead th {\n",
       "        text-align: right;\n",
       "    }\n",
       "</style>\n",
       "<table border=\"1\" class=\"dataframe\">\n",
       "  <thead>\n",
       "    <tr style=\"text-align: right;\">\n",
       "      <th></th>\n",
       "      <th>id</th>\n",
       "      <th>title</th>\n",
       "      <th>date</th>\n",
       "      <th>description</th>\n",
       "      <th>country</th>\n",
       "      <th>category</th>\n",
       "      <th>symbol</th>\n",
       "      <th>url</th>\n",
       "    </tr>\n",
       "  </thead>\n",
       "  <tbody>\n",
       "    <tr>\n",
       "      <th>0</th>\n",
       "      <td>140307</td>\n",
       "      <td>US Stocks Give Up Gains</td>\n",
       "      <td>2021-03-02T21:05:00</td>\n",
       "      <td>Wall Street closed in the red erasing some of ...</td>\n",
       "      <td>United States</td>\n",
       "      <td>Stock Market</td>\n",
       "      <td>INDU</td>\n",
       "      <td>/united-states/stock-market</td>\n",
       "    </tr>\n",
       "    <tr>\n",
       "      <th>1</th>\n",
       "      <td>140299</td>\n",
       "      <td>Wall Street Falls after Big Rally</td>\n",
       "      <td>2021-03-02T17:10:46.19</td>\n",
       "      <td>US stocks fell on Tuesday, following big gains...</td>\n",
       "      <td>United States</td>\n",
       "      <td>Stock Market</td>\n",
       "      <td>INDU</td>\n",
       "      <td>/united-states/stock-market</td>\n",
       "    </tr>\n",
       "    <tr>\n",
       "      <th>2</th>\n",
       "      <td>140282</td>\n",
       "      <td>Wall Street Lacks Direction</td>\n",
       "      <td>2021-03-02T14:33:32.207</td>\n",
       "      <td>US stocks were little changed on Tuesday, as i...</td>\n",
       "      <td>United States</td>\n",
       "      <td>Stock Market</td>\n",
       "      <td>INDU</td>\n",
       "      <td>/united-states/stock-market</td>\n",
       "    </tr>\n",
       "    <tr>\n",
       "      <th>3</th>\n",
       "      <td>140257</td>\n",
       "      <td>US Futures Little Changed after Big Rally</td>\n",
       "      <td>2021-03-02T09:21:00</td>\n",
       "      <td>US futures were flat to lower on Tuesday as in...</td>\n",
       "      <td>United States</td>\n",
       "      <td>Stock Market</td>\n",
       "      <td>INDU</td>\n",
       "      <td>/united-states/stock-market</td>\n",
       "    </tr>\n",
       "    <tr>\n",
       "      <th>4</th>\n",
       "      <td>140232</td>\n",
       "      <td>US Stock Futures Point to Lower Open</td>\n",
       "      <td>2021-03-02T07:29:00</td>\n",
       "      <td>US stock futures traded lower on Tuesday as tr...</td>\n",
       "      <td>United States</td>\n",
       "      <td>Stock Market</td>\n",
       "      <td>INDU</td>\n",
       "      <td>/united-states/stock-market</td>\n",
       "    </tr>\n",
       "    <tr>\n",
       "      <th>5</th>\n",
       "      <td>140191</td>\n",
       "      <td>US Stocks Rally on Monday</td>\n",
       "      <td>2021-03-01T21:04:00</td>\n",
       "      <td>Wall Street closed deeply in the green on Mond...</td>\n",
       "      <td>United States</td>\n",
       "      <td>Stock Market</td>\n",
       "      <td>INDU</td>\n",
       "      <td>/united-states/stock-market</td>\n",
       "    </tr>\n",
       "    <tr>\n",
       "      <th>6</th>\n",
       "      <td>140188</td>\n",
       "      <td>The Dow Jones Index rising 2.16%</td>\n",
       "      <td>2021-03-01T20:30:03.43</td>\n",
       "      <td>United States Stock Market is gaining 669 poin...</td>\n",
       "      <td>United States</td>\n",
       "      <td>Stock Market</td>\n",
       "      <td>INDU</td>\n",
       "      <td>/united-states/stock-market</td>\n",
       "    </tr>\n",
       "    <tr>\n",
       "      <th>7</th>\n",
       "      <td>140159</td>\n",
       "      <td>US Stocks Rally as Yields Retreat</td>\n",
       "      <td>2021-03-01T14:32:00</td>\n",
       "      <td>Wall Street started the March month on a posit...</td>\n",
       "      <td>United States</td>\n",
       "      <td>Stock Market</td>\n",
       "      <td>INDU</td>\n",
       "      <td>/united-states/stock-market</td>\n",
       "    </tr>\n",
       "    <tr>\n",
       "      <th>8</th>\n",
       "      <td>140105</td>\n",
       "      <td>US Futures Rally to Start March</td>\n",
       "      <td>2021-03-01T08:53:00</td>\n",
       "      <td>US futures started the March month on a positi...</td>\n",
       "      <td>United States</td>\n",
       "      <td>Stock Market</td>\n",
       "      <td>INDU</td>\n",
       "      <td>/united-states/stock-market</td>\n",
       "    </tr>\n",
       "    <tr>\n",
       "      <th>9</th>\n",
       "      <td>140078</td>\n",
       "      <td>US Stocks Rises Sharply to Start the Week</td>\n",
       "      <td>2021-03-01T06:34:00</td>\n",
       "      <td>US stock futures rose sharply to start the wee...</td>\n",
       "      <td>United States</td>\n",
       "      <td>Stock Market</td>\n",
       "      <td>INDU</td>\n",
       "      <td>/united-states/stock-market</td>\n",
       "    </tr>\n",
       "  </tbody>\n",
       "</table>\n",
       "</div>"
      ],
      "text/plain": [
       "       id                                      title                     date  \\\n",
       "0  140307                    US Stocks Give Up Gains      2021-03-02T21:05:00   \n",
       "1  140299          Wall Street Falls after Big Rally   2021-03-02T17:10:46.19   \n",
       "2  140282                Wall Street Lacks Direction  2021-03-02T14:33:32.207   \n",
       "3  140257  US Futures Little Changed after Big Rally      2021-03-02T09:21:00   \n",
       "4  140232       US Stock Futures Point to Lower Open      2021-03-02T07:29:00   \n",
       "5  140191                  US Stocks Rally on Monday      2021-03-01T21:04:00   \n",
       "6  140188           The Dow Jones Index rising 2.16%   2021-03-01T20:30:03.43   \n",
       "7  140159          US Stocks Rally as Yields Retreat      2021-03-01T14:32:00   \n",
       "8  140105            US Futures Rally to Start March      2021-03-01T08:53:00   \n",
       "9  140078  US Stocks Rises Sharply to Start the Week      2021-03-01T06:34:00   \n",
       "\n",
       "                                         description        country  \\\n",
       "0  Wall Street closed in the red erasing some of ...  United States   \n",
       "1  US stocks fell on Tuesday, following big gains...  United States   \n",
       "2  US stocks were little changed on Tuesday, as i...  United States   \n",
       "3  US futures were flat to lower on Tuesday as in...  United States   \n",
       "4  US stock futures traded lower on Tuesday as tr...  United States   \n",
       "5  Wall Street closed deeply in the green on Mond...  United States   \n",
       "6  United States Stock Market is gaining 669 poin...  United States   \n",
       "7  Wall Street started the March month on a posit...  United States   \n",
       "8  US futures started the March month on a positi...  United States   \n",
       "9  US stock futures rose sharply to start the wee...  United States   \n",
       "\n",
       "       category symbol                          url  \n",
       "0  Stock Market   INDU  /united-states/stock-market  \n",
       "1  Stock Market   INDU  /united-states/stock-market  \n",
       "2  Stock Market   INDU  /united-states/stock-market  \n",
       "3  Stock Market   INDU  /united-states/stock-market  \n",
       "4  Stock Market   INDU  /united-states/stock-market  \n",
       "5  Stock Market   INDU  /united-states/stock-market  \n",
       "6  Stock Market   INDU  /united-states/stock-market  \n",
       "7  Stock Market   INDU  /united-states/stock-market  \n",
       "8  Stock Market   INDU  /united-states/stock-market  \n",
       "9  Stock Market   INDU  /united-states/stock-market  "
      ]
     },
     "execution_count": 12,
     "metadata": {},
     "output_type": "execute_result"
    }
   ],
   "source": [
    "te.getNews(country=['brazil','canada'], indicator=['Housing Starts', 'Stock Market'], start_date='2021-02-02', end_date='2021-03-03', output_type='df')"
   ]
  },
  {
   "cell_type": "code",
   "execution_count": null,
   "id": "84492ed8",
   "metadata": {},
   "outputs": [],
   "source": []
  }
 ],
 "metadata": {
  "kernelspec": {
   "display_name": "Python 3",
   "language": "python",
   "name": "python3"
  },
  "language_info": {
   "codemirror_mode": {
    "name": "ipython",
    "version": 3
   },
   "file_extension": ".py",
   "mimetype": "text/x-python",
   "name": "python",
   "nbconvert_exporter": "python",
   "pygments_lexer": "ipython3",
   "version": "3.9.5"
  }
 },
 "nbformat": 4,
 "nbformat_minor": 5
}
