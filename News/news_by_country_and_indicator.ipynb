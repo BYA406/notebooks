{
 "cells": [
  {
   "cell_type": "code",
   "execution_count": 1,
   "id": "cbfb6634",
   "metadata": {},
   "outputs": [],
   "source": [
    "import tradingeconomics as te"
   ]
  },
  {
   "cell_type": "code",
   "execution_count": 2,
   "id": "af82d62c",
   "metadata": {},
   "outputs": [
    {
     "data": {
      "text/plain": [
       "'You are logged in as a guest:guest'"
      ]
     },
     "execution_count": 2,
     "metadata": {},
     "output_type": "execute_result"
    }
   ],
   "source": [
    "te.login()"
   ]
  },
  {
   "cell_type": "markdown",
   "id": "47b9954b",
   "metadata": {},
   "source": [
    "## News"
   ]
  },
  {
   "cell_type": "markdown",
   "id": "bb326920",
   "metadata": {},
   "source": [
    "##### Get news by country and indicator\n",
    "/news/country/{countries}/{indicators}\n",
    "https://api.tradingeconomics.com/news/country/united%20states/inflation%20rate?c=guest:guest"
   ]
  },
  {
   "cell_type": "code",
   "execution_count": 7,
   "id": "a9ad15ee",
   "metadata": {
    "scrolled": true
   },
   "outputs": [
    {
     "name": "stdout",
     "output_type": "stream",
     "text": [
      "https://api.tradingeconomics.com/news/country/united%20states/inflation%20rate?c=guest:guest\n"
     ]
    },
    {
     "data": {
      "text/html": [
       "<div>\n",
       "<style scoped>\n",
       "    .dataframe tbody tr th:only-of-type {\n",
       "        vertical-align: middle;\n",
       "    }\n",
       "\n",
       "    .dataframe tbody tr th {\n",
       "        vertical-align: top;\n",
       "    }\n",
       "\n",
       "    .dataframe thead th {\n",
       "        text-align: right;\n",
       "    }\n",
       "</style>\n",
       "<table border=\"1\" class=\"dataframe\">\n",
       "  <thead>\n",
       "    <tr style=\"text-align: right;\">\n",
       "      <th></th>\n",
       "      <th>id</th>\n",
       "      <th>title</th>\n",
       "      <th>date</th>\n",
       "      <th>description</th>\n",
       "      <th>country</th>\n",
       "      <th>category</th>\n",
       "      <th>symbol</th>\n",
       "      <th>url</th>\n",
       "    </tr>\n",
       "  </thead>\n",
       "  <tbody>\n",
       "    <tr>\n",
       "      <th>0</th>\n",
       "      <td>206950</td>\n",
       "      <td>US Inflation Rate Slows to 5.3% as Expected</td>\n",
       "      <td>2021-09-14T12:33:00</td>\n",
       "      <td>The annual inflation rate in the US eased to 5...</td>\n",
       "      <td>United States</td>\n",
       "      <td>Inflation Rate</td>\n",
       "      <td>CPI YOY</td>\n",
       "      <td>/united-states/inflation-cpi</td>\n",
       "    </tr>\n",
       "    <tr>\n",
       "      <th>1</th>\n",
       "      <td>206931</td>\n",
       "      <td>US Inflation is Seen Slowing Down</td>\n",
       "      <td>2021-09-14T08:20:00</td>\n",
       "      <td>The annual inflation rate in the US likely eas...</td>\n",
       "      <td>United States</td>\n",
       "      <td>Inflation Rate</td>\n",
       "      <td>CPI YOY</td>\n",
       "      <td>/united-states/inflation-cpi</td>\n",
       "    </tr>\n",
       "    <tr>\n",
       "      <th>2</th>\n",
       "      <td>159341</td>\n",
       "      <td>US Inflation Rate Holds Steady at 13-Year High</td>\n",
       "      <td>2021-08-11T12:31:00</td>\n",
       "      <td>The US consumer price inflation rate stood at ...</td>\n",
       "      <td>United States</td>\n",
       "      <td>Inflation Rate</td>\n",
       "      <td>CPI YOY</td>\n",
       "      <td>/united-states/inflation-cpi</td>\n",
       "    </tr>\n",
       "    <tr>\n",
       "      <th>3</th>\n",
       "      <td>153075</td>\n",
       "      <td>US Inflation Rate Rises to 5.4%, New 13-Year High</td>\n",
       "      <td>2021-07-13T12:32:00</td>\n",
       "      <td>Annual inflation rate in the US accelerated to...</td>\n",
       "      <td>United States</td>\n",
       "      <td>Inflation Rate</td>\n",
       "      <td>CPI YOY</td>\n",
       "      <td>/united-states/inflation-cpi</td>\n",
       "    </tr>\n",
       "    <tr>\n",
       "      <th>4</th>\n",
       "      <td>149352</td>\n",
       "      <td>US Inflation Rate Rises to 5%</td>\n",
       "      <td>2021-06-10T12:32:00</td>\n",
       "      <td>Annual inflation rate in the US accelerated to...</td>\n",
       "      <td>United States</td>\n",
       "      <td>Inflation Rate</td>\n",
       "      <td>CPI YOY</td>\n",
       "      <td>/united-states/inflation-cpi</td>\n",
       "    </tr>\n",
       "  </tbody>\n",
       "</table>\n",
       "</div>"
      ],
      "text/plain": [
       "       id                                              title  \\\n",
       "0  206950        US Inflation Rate Slows to 5.3% as Expected   \n",
       "1  206931                  US Inflation is Seen Slowing Down   \n",
       "2  159341     US Inflation Rate Holds Steady at 13-Year High   \n",
       "3  153075  US Inflation Rate Rises to 5.4%, New 13-Year High   \n",
       "4  149352                      US Inflation Rate Rises to 5%   \n",
       "\n",
       "                  date                                        description  \\\n",
       "0  2021-09-14T12:33:00  The annual inflation rate in the US eased to 5...   \n",
       "1  2021-09-14T08:20:00  The annual inflation rate in the US likely eas...   \n",
       "2  2021-08-11T12:31:00  The US consumer price inflation rate stood at ...   \n",
       "3  2021-07-13T12:32:00  Annual inflation rate in the US accelerated to...   \n",
       "4  2021-06-10T12:32:00  Annual inflation rate in the US accelerated to...   \n",
       "\n",
       "         country        category   symbol                           url  \n",
       "0  United States  Inflation Rate  CPI YOY  /united-states/inflation-cpi  \n",
       "1  United States  Inflation Rate  CPI YOY  /united-states/inflation-cpi  \n",
       "2  United States  Inflation Rate  CPI YOY  /united-states/inflation-cpi  \n",
       "3  United States  Inflation Rate  CPI YOY  /united-states/inflation-cpi  \n",
       "4  United States  Inflation Rate  CPI YOY  /united-states/inflation-cpi  "
      ]
     },
     "execution_count": 7,
     "metadata": {},
     "output_type": "execute_result"
    }
   ],
   "source": [
    "te.getNews(country='united states', indicator='inflation rate', output_type='df')"
   ]
  }
 ],
 "metadata": {
  "kernelspec": {
   "display_name": "Python 3",
   "language": "python",
   "name": "python3"
  },
  "language_info": {
   "codemirror_mode": {
    "name": "ipython",
    "version": 3
   },
   "file_extension": ".py",
   "mimetype": "text/x-python",
   "name": "python",
   "nbconvert_exporter": "python",
   "pygments_lexer": "ipython3",
   "version": "3.9.5"
  }
 },
 "nbformat": 4,
 "nbformat_minor": 5
}
