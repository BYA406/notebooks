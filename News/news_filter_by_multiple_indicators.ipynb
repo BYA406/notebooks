{
 "cells": [
  {
   "cell_type": "code",
   "execution_count": 1,
   "id": "cbfb6634",
   "metadata": {},
   "outputs": [],
   "source": [
    "import tradingeconomics as te"
   ]
  },
  {
   "cell_type": "code",
   "execution_count": 2,
   "id": "af82d62c",
   "metadata": {},
   "outputs": [
    {
     "data": {
      "text/plain": [
       "'You are logged in as a guest:guest'"
      ]
     },
     "execution_count": 2,
     "metadata": {},
     "output_type": "execute_result"
    }
   ],
   "source": [
    "te.login()"
   ]
  },
  {
   "cell_type": "markdown",
   "id": "47b9954b",
   "metadata": {},
   "source": [
    "## News"
   ]
  },
  {
   "cell_type": "markdown",
   "id": "4f404b17",
   "metadata": {},
   "source": [
    "##### By multiple indicators"
   ]
  },
  {
   "cell_type": "code",
   "execution_count": 11,
   "id": "5f802382",
   "metadata": {
    "scrolled": true
   },
   "outputs": [
    {
     "name": "stdout",
     "output_type": "stream",
     "text": [
      "https://api.tradingeconomics.com/news/indicator/inflation%20rate%2Cgdp?c=guest:guest\n"
     ]
    },
    {
     "data": {
      "text/html": [
       "<div>\n",
       "<style scoped>\n",
       "    .dataframe tbody tr th:only-of-type {\n",
       "        vertical-align: middle;\n",
       "    }\n",
       "\n",
       "    .dataframe tbody tr th {\n",
       "        vertical-align: top;\n",
       "    }\n",
       "\n",
       "    .dataframe thead th {\n",
       "        text-align: right;\n",
       "    }\n",
       "</style>\n",
       "<table border=\"1\" class=\"dataframe\">\n",
       "  <thead>\n",
       "    <tr style=\"text-align: right;\">\n",
       "      <th></th>\n",
       "      <th>id</th>\n",
       "      <th>title</th>\n",
       "      <th>date</th>\n",
       "      <th>description</th>\n",
       "      <th>country</th>\n",
       "      <th>category</th>\n",
       "      <th>symbol</th>\n",
       "      <th>url</th>\n",
       "    </tr>\n",
       "  </thead>\n",
       "  <tbody>\n",
       "    <tr>\n",
       "      <th>0</th>\n",
       "      <td>207275</td>\n",
       "      <td>Serbia Current Account Deficit Widens Sharply ...</td>\n",
       "      <td>2021-09-17T13:20:07.897</td>\n",
       "      <td>Serbia’s current account deficit widened to US...</td>\n",
       "      <td>Serbia</td>\n",
       "      <td>Current Account</td>\n",
       "      <td>SerrbiaCurcount</td>\n",
       "      <td>/serbia/current-account</td>\n",
       "    </tr>\n",
       "    <tr>\n",
       "      <th>1</th>\n",
       "      <td>207271</td>\n",
       "      <td>Slovak Current Account Balance Swings to Defic...</td>\n",
       "      <td>2021-09-17T12:20:31.887</td>\n",
       "      <td>Slovakia posted a current deficit of EUR 292.2...</td>\n",
       "      <td>Slovakia</td>\n",
       "      <td>Current Account</td>\n",
       "      <td>SlovakiaCA</td>\n",
       "      <td>/slovakia/current-account</td>\n",
       "    </tr>\n",
       "    <tr>\n",
       "      <th>2</th>\n",
       "      <td>207260</td>\n",
       "      <td>Italy Current Account Surplus Narrows in July</td>\n",
       "      <td>2021-09-17T10:28:08.98</td>\n",
       "      <td>Italy’s current account surplus shrank to EUR ...</td>\n",
       "      <td>Italy</td>\n",
       "      <td>Current Account</td>\n",
       "      <td>ITCAEUR</td>\n",
       "      <td>/italy/current-account</td>\n",
       "    </tr>\n",
       "    <tr>\n",
       "      <th>3</th>\n",
       "      <td>207257</td>\n",
       "      <td>Bulgaria Current Account Surplus Widens in July</td>\n",
       "      <td>2021-09-17T10:02:13.547</td>\n",
       "      <td>Bulgaria’s current account surplus widened to ...</td>\n",
       "      <td>Bulgaria</td>\n",
       "      <td>Current Account</td>\n",
       "      <td>BulgariaCA</td>\n",
       "      <td>/bulgaria/current-account</td>\n",
       "    </tr>\n",
       "    <tr>\n",
       "      <th>4</th>\n",
       "      <td>207251</td>\n",
       "      <td>Eurozone Current Account Surplus Widens in July</td>\n",
       "      <td>2021-09-17T08:13:26.503</td>\n",
       "      <td>The Eurozone current account surplus widened t...</td>\n",
       "      <td>Euro Area</td>\n",
       "      <td>Current Account</td>\n",
       "      <td>EUCQCA11</td>\n",
       "      <td>/euro-area/current-account</td>\n",
       "    </tr>\n",
       "  </tbody>\n",
       "</table>\n",
       "</div>"
      ],
      "text/plain": [
       "       id                                              title  \\\n",
       "0  207275  Serbia Current Account Deficit Widens Sharply ...   \n",
       "1  207271  Slovak Current Account Balance Swings to Defic...   \n",
       "2  207260      Italy Current Account Surplus Narrows in July   \n",
       "3  207257    Bulgaria Current Account Surplus Widens in July   \n",
       "4  207251    Eurozone Current Account Surplus Widens in July   \n",
       "\n",
       "                      date                                        description  \\\n",
       "0  2021-09-17T13:20:07.897  Serbia’s current account deficit widened to US...   \n",
       "1  2021-09-17T12:20:31.887  Slovakia posted a current deficit of EUR 292.2...   \n",
       "2   2021-09-17T10:28:08.98  Italy’s current account surplus shrank to EUR ...   \n",
       "3  2021-09-17T10:02:13.547  Bulgaria’s current account surplus widened to ...   \n",
       "4  2021-09-17T08:13:26.503  The Eurozone current account surplus widened t...   \n",
       "\n",
       "     country         category           symbol                         url  \n",
       "0     Serbia  Current Account  SerrbiaCurcount     /serbia/current-account  \n",
       "1   Slovakia  Current Account       SlovakiaCA   /slovakia/current-account  \n",
       "2      Italy  Current Account          ITCAEUR      /italy/current-account  \n",
       "3   Bulgaria  Current Account       BulgariaCA   /bulgaria/current-account  \n",
       "4  Euro Area  Current Account         EUCQCA11  /euro-area/current-account  "
      ]
     },
     "execution_count": 11,
     "metadata": {},
     "output_type": "execute_result"
    }
   ],
   "source": [
    "te.getNews(indicator=['inflation rate', 'gdp'], output_type='df')"
   ]
  },
  {
   "cell_type": "code",
   "execution_count": null,
   "id": "84492ed8",
   "metadata": {},
   "outputs": [],
   "source": []
  }
 ],
 "metadata": {
  "kernelspec": {
   "display_name": "Python 3",
   "language": "python",
   "name": "python3"
  },
  "language_info": {
   "codemirror_mode": {
    "name": "ipython",
    "version": 3
   },
   "file_extension": ".py",
   "mimetype": "text/x-python",
   "name": "python",
   "nbconvert_exporter": "python",
   "pygments_lexer": "ipython3",
   "version": "3.9.5"
  }
 },
 "nbformat": 4,
 "nbformat_minor": 5
}
