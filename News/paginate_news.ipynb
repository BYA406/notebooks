{
 "cells": [
  {
   "cell_type": "code",
   "execution_count": 1,
   "id": "cbfb6634",
   "metadata": {},
   "outputs": [],
   "source": [
    "import tradingeconomics as te"
   ]
  },
  {
   "cell_type": "code",
   "execution_count": 2,
   "id": "af82d62c",
   "metadata": {},
   "outputs": [
    {
     "data": {
      "text/plain": [
       "'You are logged in as a guest:guest'"
      ]
     },
     "execution_count": 2,
     "metadata": {},
     "output_type": "execute_result"
    }
   ],
   "source": [
    "te.login()"
   ]
  },
  {
   "cell_type": "markdown",
   "id": "47b9954b",
   "metadata": {},
   "source": [
    "## News"
   ]
  },
  {
   "cell_type": "markdown",
   "id": "6e03089b",
   "metadata": {},
   "source": [
    "##### Paginate news list by specifying start index and list size\n",
    "/news?c=guest:guest&limit={list_size}&start={start_index}\n",
    "http://api.tradingeconomics.com/news?c=guest:guest&limit=15&start=10"
   ]
  },
  {
   "cell_type": "code",
   "execution_count": 8,
   "id": "1683d0dc",
   "metadata": {},
   "outputs": [
    {
     "name": "stdout",
     "output_type": "stream",
     "text": [
      "https://api.tradingeconomics.com/news?c=guest:guest&limit=15&start=15\n"
     ]
    },
    {
     "data": {
      "text/html": [
       "<div>\n",
       "<style scoped>\n",
       "    .dataframe tbody tr th:only-of-type {\n",
       "        vertical-align: middle;\n",
       "    }\n",
       "\n",
       "    .dataframe tbody tr th {\n",
       "        vertical-align: top;\n",
       "    }\n",
       "\n",
       "    .dataframe thead th {\n",
       "        text-align: right;\n",
       "    }\n",
       "</style>\n",
       "<table border=\"1\" class=\"dataframe\">\n",
       "  <thead>\n",
       "    <tr style=\"text-align: right;\">\n",
       "      <th></th>\n",
       "      <th>id</th>\n",
       "      <th>title</th>\n",
       "      <th>date</th>\n",
       "      <th>description</th>\n",
       "      <th>country</th>\n",
       "      <th>category</th>\n",
       "      <th>symbol</th>\n",
       "      <th>url</th>\n",
       "    </tr>\n",
       "  </thead>\n",
       "  <tbody>\n",
       "    <tr>\n",
       "      <th>0</th>\n",
       "      <td>207288</td>\n",
       "      <td>Iron Ore Prices Sink Further</td>\n",
       "      <td>2021-09-17T15:12:31.28</td>\n",
       "      <td>Iron ore with 63.5% iron content for delivery ...</td>\n",
       "      <td>Commodity</td>\n",
       "      <td>Commodity</td>\n",
       "      <td>IRONORE</td>\n",
       "      <td>/commodity/iron-ore</td>\n",
       "    </tr>\n",
       "    <tr>\n",
       "      <th>1</th>\n",
       "      <td>207287</td>\n",
       "      <td>Azerbaijan Raises Interest Rate by 25 Bps</td>\n",
       "      <td>2021-09-17T15:07:16.457</td>\n",
       "      <td>The Central Bank of Azerbaijan raised its offi...</td>\n",
       "      <td>Azerbaijan</td>\n",
       "      <td>Interest Rate</td>\n",
       "      <td>AZEIJANINTTRATE</td>\n",
       "      <td>/azerbaijan/interest-rate</td>\n",
       "    </tr>\n",
       "    <tr>\n",
       "      <th>2</th>\n",
       "      <td>207286</td>\n",
       "      <td>Baltic Exchange Dry Index Soars to 12-Year High</td>\n",
       "      <td>2021-09-17T14:49:00</td>\n",
       "      <td>The Baltic Exchange Dry Index rose 1.4% to 4,2...</td>\n",
       "      <td>Commodity</td>\n",
       "      <td>Commodity</td>\n",
       "      <td>BALTIC</td>\n",
       "      <td>/commodity/baltic</td>\n",
       "    </tr>\n",
       "    <tr>\n",
       "      <th>3</th>\n",
       "      <td>207285</td>\n",
       "      <td>CAC 40 Hits 4-week Low</td>\n",
       "      <td>2021-09-17T14:45:39.503</td>\n",
       "      <td>FR40 decreased to a 4-week low of 6577</td>\n",
       "      <td>France</td>\n",
       "      <td>Stock Market</td>\n",
       "      <td>CAC</td>\n",
       "      <td>/france/stock-market</td>\n",
       "    </tr>\n",
       "    <tr>\n",
       "      <th>4</th>\n",
       "      <td>207284</td>\n",
       "      <td>S&amp;P/TSX Hits 3-Week Low</td>\n",
       "      <td>2021-09-17T14:36:04.58</td>\n",
       "      <td>The S&amp;P/TSX composite traded in the red on Fri...</td>\n",
       "      <td>Canada</td>\n",
       "      <td>Stock Market</td>\n",
       "      <td>SPTSX</td>\n",
       "      <td>/canada/stock-market</td>\n",
       "    </tr>\n",
       "  </tbody>\n",
       "</table>\n",
       "</div>"
      ],
      "text/plain": [
       "       id                                            title  \\\n",
       "0  207288                     Iron Ore Prices Sink Further   \n",
       "1  207287        Azerbaijan Raises Interest Rate by 25 Bps   \n",
       "2  207286  Baltic Exchange Dry Index Soars to 12-Year High   \n",
       "3  207285                           CAC 40 Hits 4-week Low   \n",
       "4  207284                          S&P/TSX Hits 3-Week Low   \n",
       "\n",
       "                      date                                        description  \\\n",
       "0   2021-09-17T15:12:31.28  Iron ore with 63.5% iron content for delivery ...   \n",
       "1  2021-09-17T15:07:16.457  The Central Bank of Azerbaijan raised its offi...   \n",
       "2      2021-09-17T14:49:00  The Baltic Exchange Dry Index rose 1.4% to 4,2...   \n",
       "3  2021-09-17T14:45:39.503             FR40 decreased to a 4-week low of 6577   \n",
       "4   2021-09-17T14:36:04.58  The S&P/TSX composite traded in the red on Fri...   \n",
       "\n",
       "      country       category           symbol                        url  \n",
       "0   Commodity      Commodity          IRONORE        /commodity/iron-ore  \n",
       "1  Azerbaijan  Interest Rate  AZEIJANINTTRATE  /azerbaijan/interest-rate  \n",
       "2   Commodity      Commodity           BALTIC          /commodity/baltic  \n",
       "3      France   Stock Market              CAC       /france/stock-market  \n",
       "4      Canada   Stock Market            SPTSX       /canada/stock-market  "
      ]
     },
     "execution_count": 8,
     "metadata": {},
     "output_type": "execute_result"
    }
   ],
   "source": [
    "te.getNews(start='15', limit='15', output_type='df')"
   ]
  },
  {
   "cell_type": "code",
   "execution_count": null,
   "id": "84492ed8",
   "metadata": {},
   "outputs": [],
   "source": []
  }
 ],
 "metadata": {
  "kernelspec": {
   "display_name": "Python 3",
   "language": "python",
   "name": "python3"
  },
  "language_info": {
   "codemirror_mode": {
    "name": "ipython",
    "version": 3
   },
   "file_extension": ".py",
   "mimetype": "text/x-python",
   "name": "python",
   "nbconvert_exporter": "python",
   "pygments_lexer": "ipython3",
   "version": "3.9.5"
  }
 },
 "nbformat": 4,
 "nbformat_minor": 5
}
