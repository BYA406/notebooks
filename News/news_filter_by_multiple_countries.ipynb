{
 "cells": [
  {
   "cell_type": "code",
   "execution_count": 1,
   "id": "cbfb6634",
   "metadata": {},
   "outputs": [],
   "source": [
    "import tradingeconomics as te"
   ]
  },
  {
   "cell_type": "code",
   "execution_count": 2,
   "id": "af82d62c",
   "metadata": {},
   "outputs": [
    {
     "data": {
      "text/plain": [
       "'You are logged in as a guest:guest'"
      ]
     },
     "execution_count": 2,
     "metadata": {},
     "output_type": "execute_result"
    }
   ],
   "source": [
    "te.login()"
   ]
  },
  {
   "cell_type": "markdown",
   "id": "47b9954b",
   "metadata": {},
   "source": [
    "## News"
   ]
  },
  {
   "cell_type": "markdown",
   "id": "240205f3",
   "metadata": {},
   "source": [
    "##### By multiple countries"
   ]
  },
  {
   "cell_type": "code",
   "execution_count": 13,
   "id": "3ef0e4e7",
   "metadata": {
    "scrolled": true
   },
   "outputs": [
    {
     "name": "stdout",
     "output_type": "stream",
     "text": [
      "https://api.tradingeconomics.com/news/country/brazil%2Ccanada?c=guest:guest\n"
     ]
    },
    {
     "data": {
      "text/html": [
       "<div>\n",
       "<style scoped>\n",
       "    .dataframe tbody tr th:only-of-type {\n",
       "        vertical-align: middle;\n",
       "    }\n",
       "\n",
       "    .dataframe tbody tr th {\n",
       "        vertical-align: top;\n",
       "    }\n",
       "\n",
       "    .dataframe thead th {\n",
       "        text-align: right;\n",
       "    }\n",
       "</style>\n",
       "<table border=\"1\" class=\"dataframe\">\n",
       "  <thead>\n",
       "    <tr style=\"text-align: right;\">\n",
       "      <th></th>\n",
       "      <th>id</th>\n",
       "      <th>title</th>\n",
       "      <th>date</th>\n",
       "      <th>description</th>\n",
       "      <th>country</th>\n",
       "      <th>category</th>\n",
       "      <th>symbol</th>\n",
       "      <th>url</th>\n",
       "    </tr>\n",
       "  </thead>\n",
       "  <tbody>\n",
       "    <tr>\n",
       "      <th>0</th>\n",
       "      <td>207283</td>\n",
       "      <td>Dollar Rallies to Above 93</td>\n",
       "      <td>2021-09-17T14:27:15.433</td>\n",
       "      <td>The dollar index rallied to around 93.1 on Fri...</td>\n",
       "      <td>United States</td>\n",
       "      <td>Currency</td>\n",
       "      <td>DXY</td>\n",
       "      <td>/united-states/currency</td>\n",
       "    </tr>\n",
       "    <tr>\n",
       "      <th>1</th>\n",
       "      <td>207282</td>\n",
       "      <td>US Stocks Extend Losses</td>\n",
       "      <td>2021-09-17T14:12:00</td>\n",
       "      <td>US stocks extended losses on Friday, with Dow ...</td>\n",
       "      <td>United States</td>\n",
       "      <td>Stock Market</td>\n",
       "      <td>INDU</td>\n",
       "      <td>/united-states/stock-market</td>\n",
       "    </tr>\n",
       "    <tr>\n",
       "      <th>2</th>\n",
       "      <td>207279</td>\n",
       "      <td>US Consumer Sentiment Rises Less than Expected</td>\n",
       "      <td>2021-09-17T14:03:00</td>\n",
       "      <td>The University of Michigan's consumer sentimen...</td>\n",
       "      <td>United States</td>\n",
       "      <td>Consumer Confidence</td>\n",
       "      <td>CONCCONF</td>\n",
       "      <td>/united-states/consumer-confidence</td>\n",
       "    </tr>\n",
       "    <tr>\n",
       "      <th>3</th>\n",
       "      <td>207277</td>\n",
       "      <td>Wall Street Trades Slightly Lower, Fed in Focus</td>\n",
       "      <td>2021-09-17T13:33:42.307</td>\n",
       "      <td>US stocks were lower on Friday as investors ar...</td>\n",
       "      <td>United States</td>\n",
       "      <td>Stock Market</td>\n",
       "      <td>INDU</td>\n",
       "      <td>/united-states/stock-market</td>\n",
       "    </tr>\n",
       "    <tr>\n",
       "      <th>4</th>\n",
       "      <td>207263</td>\n",
       "      <td>US Futures Fall to Finish the Week</td>\n",
       "      <td>2021-09-17T10:55:00</td>\n",
       "      <td>US futures were lower on Friday as investors a...</td>\n",
       "      <td>United States</td>\n",
       "      <td>Stock Market</td>\n",
       "      <td>INDU</td>\n",
       "      <td>/united-states/stock-market</td>\n",
       "    </tr>\n",
       "  </tbody>\n",
       "</table>\n",
       "</div>"
      ],
      "text/plain": [
       "       id                                            title  \\\n",
       "0  207283                       Dollar Rallies to Above 93   \n",
       "1  207282                          US Stocks Extend Losses   \n",
       "2  207279   US Consumer Sentiment Rises Less than Expected   \n",
       "3  207277  Wall Street Trades Slightly Lower, Fed in Focus   \n",
       "4  207263               US Futures Fall to Finish the Week   \n",
       "\n",
       "                      date                                        description  \\\n",
       "0  2021-09-17T14:27:15.433  The dollar index rallied to around 93.1 on Fri...   \n",
       "1      2021-09-17T14:12:00  US stocks extended losses on Friday, with Dow ...   \n",
       "2      2021-09-17T14:03:00  The University of Michigan's consumer sentimen...   \n",
       "3  2021-09-17T13:33:42.307  US stocks were lower on Friday as investors ar...   \n",
       "4      2021-09-17T10:55:00  US futures were lower on Friday as investors a...   \n",
       "\n",
       "         country             category    symbol  \\\n",
       "0  United States             Currency       DXY   \n",
       "1  United States         Stock Market      INDU   \n",
       "2  United States  Consumer Confidence  CONCCONF   \n",
       "3  United States         Stock Market      INDU   \n",
       "4  United States         Stock Market      INDU   \n",
       "\n",
       "                                  url  \n",
       "0             /united-states/currency  \n",
       "1         /united-states/stock-market  \n",
       "2  /united-states/consumer-confidence  \n",
       "3         /united-states/stock-market  \n",
       "4         /united-states/stock-market  "
      ]
     },
     "execution_count": 13,
     "metadata": {},
     "output_type": "execute_result"
    }
   ],
   "source": [
    "te.getNews(country=['brazil','canada'], output_type='df')"
   ]
  },
  {
   "cell_type": "code",
   "execution_count": null,
   "id": "84492ed8",
   "metadata": {},
   "outputs": [],
   "source": []
  }
 ],
 "metadata": {
  "kernelspec": {
   "display_name": "Python 3",
   "language": "python",
   "name": "python3"
  },
  "language_info": {
   "codemirror_mode": {
    "name": "ipython",
    "version": 3
   },
   "file_extension": ".py",
   "mimetype": "text/x-python",
   "name": "python",
   "nbconvert_exporter": "python",
   "pygments_lexer": "ipython3",
   "version": "3.9.5"
  }
 },
 "nbformat": 4,
 "nbformat_minor": 5
}
