{
 "cells": [
  {
   "cell_type": "code",
   "execution_count": 29,
   "id": "c606b52b-696b-4174-bb19-b357fcfe770a",
   "metadata": {},
   "outputs": [],
   "source": [
    "import tradingeconomics as te\n",
    "import pandas as pd\n",
    "import matplotlib.pyplot as plt"
   ]
  },
  {
   "cell_type": "code",
   "execution_count": 30,
   "id": "7085bc7a-8637-41ea-ab15-2a835bb199c6",
   "metadata": {},
   "outputs": [],
   "source": [
    "te.login('jupyter:jupyter');"
   ]
  },
  {
   "cell_type": "code",
   "execution_count": 31,
   "id": "71e8eb8b-40b7-45e8-9675-b620b859b781",
   "metadata": {},
   "outputs": [
    {
     "data": {
      "text/html": [
       "<div>\n",
       "<style scoped>\n",
       "    .dataframe tbody tr th:only-of-type {\n",
       "        vertical-align: middle;\n",
       "    }\n",
       "\n",
       "    .dataframe tbody tr th {\n",
       "        vertical-align: top;\n",
       "    }\n",
       "\n",
       "    .dataframe thead th {\n",
       "        text-align: right;\n",
       "    }\n",
       "</style>\n",
       "<table border=\"1\" class=\"dataframe\">\n",
       "  <thead>\n",
       "    <tr style=\"text-align: right;\">\n",
       "      <th></th>\n",
       "      <th>symbol</th>\n",
       "      <th>open</th>\n",
       "      <th>high</th>\n",
       "      <th>low</th>\n",
       "      <th>close</th>\n",
       "    </tr>\n",
       "  </thead>\n",
       "  <tbody>\n",
       "    <tr>\n",
       "      <th>2021-01-04</th>\n",
       "      <td>INDU:IND</td>\n",
       "      <td>30627.47</td>\n",
       "      <td>30674.28</td>\n",
       "      <td>29881.820</td>\n",
       "      <td>30223.89</td>\n",
       "    </tr>\n",
       "    <tr>\n",
       "      <th>2021-01-03</th>\n",
       "      <td>BTCUSD:CUR</td>\n",
       "      <td>32216.51</td>\n",
       "      <td>34800.00</td>\n",
       "      <td>31977.450</td>\n",
       "      <td>33097.83</td>\n",
       "    </tr>\n",
       "    <tr>\n",
       "      <th>2021-01-02</th>\n",
       "      <td>BTCUSD:CUR</td>\n",
       "      <td>29410.77</td>\n",
       "      <td>33333.00</td>\n",
       "      <td>29050.000</td>\n",
       "      <td>32216.53</td>\n",
       "    </tr>\n",
       "    <tr>\n",
       "      <th>2021-01-01</th>\n",
       "      <td>BTCUSD:CUR</td>\n",
       "      <td>28999.63</td>\n",
       "      <td>29700.00</td>\n",
       "      <td>28720.000</td>\n",
       "      <td>29402.64</td>\n",
       "    </tr>\n",
       "    <tr>\n",
       "      <th>2021-01-01</th>\n",
       "      <td>XAUUSD:CUR</td>\n",
       "      <td>1897.31</td>\n",
       "      <td>1898.44</td>\n",
       "      <td>1896.752</td>\n",
       "      <td>1898.10</td>\n",
       "    </tr>\n",
       "  </tbody>\n",
       "</table>\n",
       "</div>"
      ],
      "text/plain": [
       "                symbol      open      high        low     close\n",
       "2021-01-04    INDU:IND  30627.47  30674.28  29881.820  30223.89\n",
       "2021-01-03  BTCUSD:CUR  32216.51  34800.00  31977.450  33097.83\n",
       "2021-01-02  BTCUSD:CUR  29410.77  33333.00  29050.000  32216.53\n",
       "2021-01-01  BTCUSD:CUR  28999.63  29700.00  28720.000  29402.64\n",
       "2021-01-01  XAUUSD:CUR   1897.31   1898.44   1896.752   1898.10"
      ]
     },
     "execution_count": 31,
     "metadata": {},
     "output_type": "execute_result"
    }
   ],
   "source": [
    "# Get the data\n",
    "symbols=['BTCUSD:CUR', 'XAUUSD:CUR','INDU:IND']\n",
    "dates = ['2021-01-01','2021-12-31']\n",
    "data = te.fetchMarkets(symbol=symbols, initDate=dates[0], endDate=dates[1], output_type='df')\n",
    "data.tail()"
   ]
  },
  {
   "cell_type": "code",
   "execution_count": 32,
   "id": "1c9dfa6a-e6e3-434b-9d69-3e02307aa2c7",
   "metadata": {},
   "outputs": [
    {
     "data": {
      "text/html": [
       "<div>\n",
       "<style scoped>\n",
       "    .dataframe tbody tr th:only-of-type {\n",
       "        vertical-align: middle;\n",
       "    }\n",
       "\n",
       "    .dataframe tbody tr th {\n",
       "        vertical-align: top;\n",
       "    }\n",
       "\n",
       "    .dataframe thead th {\n",
       "        text-align: right;\n",
       "    }\n",
       "</style>\n",
       "<table border=\"1\" class=\"dataframe\">\n",
       "  <thead>\n",
       "    <tr style=\"text-align: right;\">\n",
       "      <th></th>\n",
       "      <th>BTCUSD:CUR</th>\n",
       "      <th>XAUUSD:CUR</th>\n",
       "      <th>INDU:IND</th>\n",
       "    </tr>\n",
       "    <tr>\n",
       "      <th>Date</th>\n",
       "      <th></th>\n",
       "      <th></th>\n",
       "      <th></th>\n",
       "    </tr>\n",
       "  </thead>\n",
       "  <tbody>\n",
       "    <tr>\n",
       "      <th>2021-06-23</th>\n",
       "      <td>33652.28000</td>\n",
       "      <td>1778.73047</td>\n",
       "      <td>33874.24000</td>\n",
       "    </tr>\n",
       "    <tr>\n",
       "      <th>2021-06-24</th>\n",
       "      <td>34649.32000</td>\n",
       "      <td>1775.18274</td>\n",
       "      <td>34196.82000</td>\n",
       "    </tr>\n",
       "    <tr>\n",
       "      <th>2021-06-25</th>\n",
       "      <td>31597.75000</td>\n",
       "      <td>1780.34000</td>\n",
       "      <td>34433.84000</td>\n",
       "    </tr>\n",
       "    <tr>\n",
       "      <th>2021-06-28</th>\n",
       "      <td>34487.11000</td>\n",
       "      <td>1778.17500</td>\n",
       "      <td>34283.27000</td>\n",
       "    </tr>\n",
       "    <tr>\n",
       "      <th>2021-06-29</th>\n",
       "      <td>36241.48047</td>\n",
       "      <td>1754.68994</td>\n",
       "      <td>34478.96875</td>\n",
       "    </tr>\n",
       "  </tbody>\n",
       "</table>\n",
       "</div>"
      ],
      "text/plain": [
       "             BTCUSD:CUR  XAUUSD:CUR     INDU:IND\n",
       "Date                                            \n",
       "2021-06-23  33652.28000  1778.73047  33874.24000\n",
       "2021-06-24  34649.32000  1775.18274  34196.82000\n",
       "2021-06-25  31597.75000  1780.34000  34433.84000\n",
       "2021-06-28  34487.11000  1778.17500  34283.27000\n",
       "2021-06-29  36241.48047  1754.68994  34478.96875"
      ]
     },
     "execution_count": 32,
     "metadata": {},
     "output_type": "execute_result"
    }
   ],
   "source": [
    "# Transpose symbols into columns\n",
    "df = pd.DataFrame()\n",
    "for s in symbols:\n",
    "    dx = data.loc[data['symbol'] == s][['close']]\n",
    "    dx = dx.rename(columns={'close': s})\n",
    "    dx.index.name = 'Date'\n",
    "    if df.empty: df = dx\n",
    "    else: df = pd.merge(df, dx, on='Date')      \n",
    "df.sort_values(by='Date', inplace=True, ascending=True)\n",
    "df.tail()\n"
   ]
  },
  {
   "cell_type": "code",
   "execution_count": 33,
   "id": "870c3b52-fce7-4510-8010-08bcd5b50e42",
   "metadata": {},
   "outputs": [
    {
     "data": {
      "text/plain": [
       "<AxesSubplot:xlabel='Date', ylabel='BTCUSD:CUR'>"
      ]
     },
     "execution_count": 33,
     "metadata": {},
     "output_type": "execute_result"
    },
    {
     "data": {
      "image/png": "[encoded data removed]",
      "text/plain": [
       "<Figure size 432x288 with 3 Axes>"
      ]
     },
     "metadata": {
      "needs_background": "light"
     },
     "output_type": "display_data"
    }
   ],
   "source": [
    "from helper import plot_multi\n",
    "plot_multi(df)"
   ]
  },
  {
   "cell_type": "code",
   "execution_count": 34,
   "id": "0a5fc66e-a1ea-465c-8a34-8e52baeb6c0f",
   "metadata": {},
   "outputs": [
    {
     "data": {
      "text/html": [
       "<style  type=\"text/css\" >\n",
       "#T_3f666_row0_col0,#T_3f666_row1_col1,#T_3f666_row2_col2{\n",
       "            background-color:  #b40426;\n",
       "            color:  #f1f1f1;\n",
       "        }#T_3f666_row0_col1,#T_3f666_row1_col0,#T_3f666_row1_col2{\n",
       "            background-color:  #3b4cc0;\n",
       "            color:  #f1f1f1;\n",
       "        }#T_3f666_row0_col2{\n",
       "            background-color:  #85a8fc;\n",
       "            color:  #000000;\n",
       "        }#T_3f666_row2_col0{\n",
       "            background-color:  #e8d6cc;\n",
       "            color:  #000000;\n",
       "        }#T_3f666_row2_col1{\n",
       "            background-color:  #c4d5f3;\n",
       "            color:  #000000;\n",
       "        }</style><table id=\"T_3f666_\" ><thead>    <tr>        <th class=\"blank level0\" ></th>        <th class=\"col_heading level0 col0\" >BTCUSD:CUR</th>        <th class=\"col_heading level0 col1\" >XAUUSD:CUR</th>        <th class=\"col_heading level0 col2\" >INDU:IND</th>    </tr></thead><tbody>\n",
       "                <tr>\n",
       "                        <th id=\"T_3f666_level0_row0\" class=\"row_heading level0 row0\" >BTCUSD:CUR</th>\n",
       "                        <td id=\"T_3f666_row0_col0\" class=\"data row0 col0\" >1.000000</td>\n",
       "                        <td id=\"T_3f666_row0_col1\" class=\"data row0 col1\" >-0.692736</td>\n",
       "                        <td id=\"T_3f666_row0_col2\" class=\"data row0 col2\" >0.231139</td>\n",
       "            </tr>\n",
       "            <tr>\n",
       "                        <th id=\"T_3f666_level0_row1\" class=\"row_heading level0 row1\" >XAUUSD:CUR</th>\n",
       "                        <td id=\"T_3f666_row1_col0\" class=\"data row1 col0\" >-0.692736</td>\n",
       "                        <td id=\"T_3f666_row1_col1\" class=\"data row1 col1\" >1.000000</td>\n",
       "                        <td id=\"T_3f666_row1_col2\" class=\"data row1 col2\" >0.005635</td>\n",
       "            </tr>\n",
       "            <tr>\n",
       "                        <th id=\"T_3f666_level0_row2\" class=\"row_heading level0 row2\" >INDU:IND</th>\n",
       "                        <td id=\"T_3f666_row2_col0\" class=\"data row2 col0\" >0.231139</td>\n",
       "                        <td id=\"T_3f666_row2_col1\" class=\"data row2 col1\" >0.005635</td>\n",
       "                        <td id=\"T_3f666_row2_col2\" class=\"data row2 col2\" >1.000000</td>\n",
       "            </tr>\n",
       "    </tbody></table>"
      ],
      "text/plain": [
       "<pandas.io.formats.style.Styler at 0x7fdfcf62b0b8>"
      ]
     },
     "execution_count": 34,
     "metadata": {},
     "output_type": "execute_result"
    }
   ],
   "source": [
    "# Correlation Matrix\n",
    "corr = df.corr() \n",
    "corr.style.background_gradient(cmap='coolwarm') "
   ]
  },
  {
   "cell_type": "code",
   "execution_count": null,
   "id": "3d6de645-44e6-4de6-b2a2-3826c713d807",
   "metadata": {},
   "outputs": [],
   "source": []
  },
  {
   "cell_type": "code",
   "execution_count": null,
   "id": "fa0002e0-b3f5-4f36-9bd5-176ea41165a1",
   "metadata": {},
   "outputs": [],
   "source": []
  },
  {
   "cell_type": "code",
   "execution_count": null,
   "id": "bcdc9662-54f9-49b0-9e58-50a3904e4d7b",
   "metadata": {},
   "outputs": [],
   "source": []
  },
  {
   "cell_type": "code",
   "execution_count": null,
   "id": "252c496b-e6b7-4612-bf4c-a70cbe49fde6",
   "metadata": {},
   "outputs": [],
   "source": []
  },
  {
   "cell_type": "code",
   "execution_count": null,
   "id": "7b509d0f-8d55-4602-91c5-ff8369445b18",
   "metadata": {},
   "outputs": [],
   "source": []
  },
  {
   "cell_type": "code",
   "execution_count": null,
   "id": "49ff6017-7195-4b21-bc55-0a1a872108e3",
   "metadata": {},
   "outputs": [],
   "source": []
  }
 ],
 "metadata": {
  "kernelspec": {
   "display_name": "Python 3",
   "language": "python",
   "name": "python3"
  },
  "language_info": {
   "codemirror_mode": {
    "name": "ipython",
    "version": 3
   },
   "file_extension": ".py",
   "mimetype": "text/x-python",
   "name": "python",
   "nbconvert_exporter": "python",
   "pygments_lexer": "ipython3",
   "version": "3.7.3"
  }
 },
 "nbformat": 4,
 "nbformat_minor": 5
}
