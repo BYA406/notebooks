{
 "cells": [
  {
   "cell_type": "raw",
   "id": "indoor-mustang",
   "metadata": {},
   "source": [
    "Importing dependencies"
   ]
  },
  {
   "cell_type": "code",
   "execution_count": 1,
   "id": "demonstrated-wright",
   "metadata": {},
   "outputs": [],
   "source": [
    "import tradingeconomics as te\n",
    "import matplotlib.pyplot as plt\n",
    "import pandas as pd\n",
    "import numpy as np\n",
    "\n",
    "import os\n",
    "os.chdir('..')\n",
    "from helper import get_api_key"
   ]
  },
  {
   "cell_type": "raw",
   "id": "impaired-mechanism",
   "metadata": {},
   "source": [
    "API login"
   ]
  },
  {
   "cell_type": "code",
   "execution_count": null,
   "id": "unlikely-northeast",
   "metadata": {},
   "outputs": [],
   "source": [
    "te.login(get_api_key())"
   ]
  },
  {
   "cell_type": "raw",
   "id": "confused-geography",
   "metadata": {},
   "source": [
    "Importing data"
   ]
  },
  {
   "cell_type": "code",
   "execution_count": null,
   "id": "convertible-pursuit",
   "metadata": {},
   "outputs": [],
   "source": [
    "raw_2019_df = te.getHistoricalEurostat(ID = '86520', initDate = '2019-01-01', endDate = '2019-12-31', output_type = 'df')\n",
    "raw_2020_df = te.getHistoricalEurostat(ID = '86520', initDate = '2020-01-01', endDate = '2020-12-31', output_type = 'df')\n"
   ]
  },
  {
   "cell_type": "raw",
   "id": "geographic-dryer",
   "metadata": {},
   "source": [
    "Data Manipulation"
   ]
  },
  {
   "cell_type": "code",
   "execution_count": 4,
   "id": "cubic-trout",
   "metadata": {},
   "outputs": [
    {
     "data": {
      "text/html": [
       "<div>\n",
       "<style scoped>\n",
       "    .dataframe tbody tr th:only-of-type {\n",
       "        vertical-align: middle;\n",
       "    }\n",
       "\n",
       "    .dataframe tbody tr th {\n",
       "        vertical-align: top;\n",
       "    }\n",
       "\n",
       "    .dataframe thead th {\n",
       "        text-align: right;\n",
       "    }\n",
       "</style>\n",
       "<table border=\"1\" class=\"dataframe\">\n",
       "  <thead>\n",
       "    <tr style=\"text-align: right;\">\n",
       "      <th></th>\n",
       "      <th>2019</th>\n",
       "      <th>2020</th>\n",
       "    </tr>\n",
       "    <tr>\n",
       "      <th>Months</th>\n",
       "      <th></th>\n",
       "      <th></th>\n",
       "    </tr>\n",
       "  </thead>\n",
       "  <tbody>\n",
       "    <tr>\n",
       "      <th>January</th>\n",
       "      <td>103.71</td>\n",
       "      <td>106.12</td>\n",
       "    </tr>\n",
       "    <tr>\n",
       "      <th>February</th>\n",
       "      <td>104.09</td>\n",
       "      <td>106.41</td>\n",
       "    </tr>\n",
       "    <tr>\n",
       "      <th>March</th>\n",
       "      <td>104.10</td>\n",
       "      <td>106.57</td>\n",
       "    </tr>\n",
       "    <tr>\n",
       "      <th>April</th>\n",
       "      <td>104.51</td>\n",
       "      <td>111.39</td>\n",
       "    </tr>\n",
       "    <tr>\n",
       "      <th>May</th>\n",
       "      <td>104.65</td>\n",
       "      <td>110.35</td>\n",
       "    </tr>\n",
       "    <tr>\n",
       "      <th>June</th>\n",
       "      <td>104.75</td>\n",
       "      <td>108.85</td>\n",
       "    </tr>\n",
       "    <tr>\n",
       "      <th>July</th>\n",
       "      <td>105.18</td>\n",
       "      <td>108.61</td>\n",
       "    </tr>\n",
       "    <tr>\n",
       "      <th>August</th>\n",
       "      <td>105.25</td>\n",
       "      <td>108.72</td>\n",
       "    </tr>\n",
       "    <tr>\n",
       "      <th>September</th>\n",
       "      <td>105.32</td>\n",
       "      <td>108.62</td>\n",
       "    </tr>\n",
       "    <tr>\n",
       "      <th>October</th>\n",
       "      <td>104.86</td>\n",
       "      <td>108.83</td>\n",
       "    </tr>\n",
       "    <tr>\n",
       "      <th>November</th>\n",
       "      <td>105.17</td>\n",
       "      <td>108.67</td>\n",
       "    </tr>\n",
       "    <tr>\n",
       "      <th>December</th>\n",
       "      <td>105.42</td>\n",
       "      <td>108.45</td>\n",
       "    </tr>\n",
       "  </tbody>\n",
       "</table>\n",
       "</div>"
      ],
      "text/plain": [
       "             2019    2020\n",
       "Months                   \n",
       "January    103.71  106.12\n",
       "February   104.09  106.41\n",
       "March      104.10  106.57\n",
       "April      104.51  111.39\n",
       "May        104.65  110.35\n",
       "June       104.75  108.85\n",
       "July       105.18  108.61\n",
       "August     105.25  108.72\n",
       "September  105.32  108.62\n",
       "October    104.86  108.83\n",
       "November   105.17  108.67\n",
       "December   105.42  108.45"
      ]
     },
     "execution_count": 4,
     "metadata": {},
     "output_type": "execute_result"
    }
   ],
   "source": [
    "Months = ['January', 'February','March','April','May','June','July','August','September','October','November','December']\n",
    "\n",
    "df_2019 = raw_2019_df[['Date', 'Value']].rename(columns={'Date':'Order','Value': '2019'}).sort_values(by='Order', ascending=True)\n",
    "df_2019['Months'] = Months\n",
    "\n",
    "\n",
    "df_2020 = raw_2020_df[['Date', 'Value']].rename(columns={'Date':'Order','Value': '2020'}).sort_values(by='Order', ascending=True)\n",
    "df_2020['Months'] = Months\n",
    "\n",
    "df_2019.set_index('Months', inplace=True)\n",
    "df_2020.set_index('Months', inplace=True)\n",
    "\n",
    "df = pd.merge(df_2019,df_2020, on='Months')\n",
    "del df['Order_x']\n",
    "del df['Order_y']\n",
    "df"
   ]
  },
  {
   "cell_type": "raw",
   "id": "irish-anger",
   "metadata": {},
   "source": [
    "Plotting"
   ]
  },
  {
   "cell_type": "code",
   "execution_count": 47,
   "id": "chubby-background",
   "metadata": {},
   "outputs": [
    {
     "data": {
      "image/png": "[encoded data removed]",
      "text/plain": [
       "<Figure size 1224x648 with 1 Axes>"
      ]
     },
     "metadata": {
      "needs_background": "light"
     },
     "output_type": "display_data"
    }
   ],
   "source": [
    "labels = df.index.tolist()\n",
    "values_2019 = df['2019'].values.tolist()\n",
    "values_2020 = df['2020'].values.tolist()\n",
    "\n",
    "x = np.arange(len(labels))  \n",
    "width = 0.40 \n",
    "\n",
    "\n",
    "fig, ax = plt.subplots(figsize=(17, 9))\n",
    "rects1 = ax.bar(x - width/2, values_2019, width, label='2019',color='navy')\n",
    "rects2 = ax.bar(x + width/2, values_2020, width, label='2020', color='firebrick')\n",
    "\n",
    "ax.set_xlabel('* Harmonised index of consumer prices', loc='right', size=12)\n",
    "ax.set_ylabel('HICP* points', size=12)\n",
    "ax.set_title('Take-away food services (2019 vs 2020)', size=20)\n",
    "\n",
    "ax.set_xticks(x)\n",
    "ax.set_xticklabels(labels)\n",
    "\n",
    "ax.legend(fontsize=14,\n",
    "          borderpad=1)\n",
    "\n",
    "ax.set_ylim(ymin=100)\n",
    "\n",
    "fig.tight_layout()\n",
    "\n",
    "ax.yaxis.grid(zorder=0)\n",
    "plt.show()"
   ]
  }
 ],
 "metadata": {
  "kernelspec": {
   "display_name": "conda_mxnet_p36",
   "language": "python",
   "name": "conda_mxnet_p36"
  },
  "language_info": {
   "codemirror_mode": {
    "name": "ipython",
    "version": 3
   },
   "file_extension": ".py",
   "mimetype": "text/x-python",
   "name": "python",
   "nbconvert_exporter": "python",
   "pygments_lexer": "ipython3",
   "version": "3.6.13"
  }
 },
 "nbformat": 4,
 "nbformat_minor": 5
}
