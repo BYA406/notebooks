{
 "cells": [
  {
   "cell_type": "markdown",
   "metadata": {},
   "source": [
    "Importing dependencies"
   ]
  },
  {
   "cell_type": "code",
   "execution_count": 1,
   "metadata": {},
   "outputs": [],
   "source": [
    "import tradingeconomics as te\n",
    "import matplotlib.pyplot as plt"
   ]
  },
  {
   "cell_type": "markdown",
   "metadata": {},
   "source": [
    "API login"
   ]
  },
  {
   "cell_type": "code",
   "execution_count": 2,
   "metadata": {},
   "outputs": [
    {
     "data": {
      "text/plain": [
       "'You are logged in as a jupyter:jupyter'"
      ]
     },
     "execution_count": 2,
     "metadata": {},
     "output_type": "execute_result"
    }
   ],
   "source": [
    "te.login('jupyter:jupyter') # Signup for a free API key at https://developer.tradingeconomics.com/"
   ]
  },
  {
   "cell_type": "markdown",
   "metadata": {},
   "source": [
    "Importing data"
   ]
  },
  {
   "cell_type": "code",
   "execution_count": 3,
   "metadata": {},
   "outputs": [],
   "source": [
    "data = te.getIndicatorData(\n",
    "    country='all',\n",
    "    indicators=['coronavirus deaths', 'coronavirus cases', 'coronavirus recovered'],\n",
    "    output_type='df'\n",
    ")\n",
    "\n",
    "covid_deaths = data[data['Category']=='Coronavirus Deaths']\n",
    "covid_cases = data[data['Category']=='Coronavirus Cases']\n",
    "covid_recovered = data[data['Category']=='Coronavirus Recovered']"
   ]
  },
  {
   "cell_type": "markdown",
   "metadata": {},
   "source": [
    "Data manipulation"
   ]
  },
  {
   "cell_type": "code",
   "execution_count": 4,
   "metadata": {},
   "outputs": [
    {
     "data": {
      "text/html": [
       "<div>\n",
       "<style scoped>\n",
       "    .dataframe tbody tr th:only-of-type {\n",
       "        vertical-align: middle;\n",
       "    }\n",
       "\n",
       "    .dataframe tbody tr th {\n",
       "        vertical-align: top;\n",
       "    }\n",
       "\n",
       "    .dataframe thead th {\n",
       "        text-align: right;\n",
       "    }\n",
       "</style>\n",
       "<table border=\"1\" class=\"dataframe\">\n",
       "  <thead>\n",
       "    <tr style=\"text-align: right;\">\n",
       "      <th></th>\n",
       "      <th>Recovered (millions)</th>\n",
       "      <th>Cases (millions)</th>\n",
       "      <th>Deaths (millions)</th>\n",
       "    </tr>\n",
       "    <tr>\n",
       "      <th>Country</th>\n",
       "      <th></th>\n",
       "      <th></th>\n",
       "      <th></th>\n",
       "    </tr>\n",
       "  </thead>\n",
       "  <tbody>\n",
       "    <tr>\n",
       "      <th>United States</th>\n",
       "      <td>16.273576</td>\n",
       "      <td>33.566052</td>\n",
       "      <td>0.602465</td>\n",
       "    </tr>\n",
       "    <tr>\n",
       "      <th>India</th>\n",
       "      <td>29.063740</td>\n",
       "      <td>30.082778</td>\n",
       "      <td>0.391981</td>\n",
       "    </tr>\n",
       "    <tr>\n",
       "      <th>Brazil</th>\n",
       "      <td>16.483635</td>\n",
       "      <td>18.054653</td>\n",
       "      <td>0.504717</td>\n",
       "    </tr>\n",
       "    <tr>\n",
       "      <th>France</th>\n",
       "      <td>0.381278</td>\n",
       "      <td>5.760002</td>\n",
       "      <td>0.110858</td>\n",
       "    </tr>\n",
       "    <tr>\n",
       "      <th>Russia</th>\n",
       "      <td>4.915615</td>\n",
       "      <td>5.388695</td>\n",
       "      <td>0.131463</td>\n",
       "    </tr>\n",
       "    <tr>\n",
       "      <th>Turkey</th>\n",
       "      <td>3.562556</td>\n",
       "      <td>5.387545</td>\n",
       "      <td>0.049358</td>\n",
       "    </tr>\n",
       "    <tr>\n",
       "      <th>United Kingdom</th>\n",
       "      <td>0.000344</td>\n",
       "      <td>4.651988</td>\n",
       "      <td>0.128008</td>\n",
       "    </tr>\n",
       "    <tr>\n",
       "      <th>Argentina</th>\n",
       "      <td>3.944323</td>\n",
       "      <td>4.298782</td>\n",
       "      <td>0.090281</td>\n",
       "    </tr>\n",
       "    <tr>\n",
       "      <th>Italy</th>\n",
       "      <td>4.059463</td>\n",
       "      <td>4.254294</td>\n",
       "      <td>0.127322</td>\n",
       "    </tr>\n",
       "    <tr>\n",
       "      <th>Colombia</th>\n",
       "      <td>3.741459</td>\n",
       "      <td>3.997021</td>\n",
       "      <td>0.101302</td>\n",
       "    </tr>\n",
       "  </tbody>\n",
       "</table>\n",
       "</div>"
      ],
      "text/plain": [
       "                Recovered (millions)  Cases (millions)  Deaths (millions)\n",
       "Country                                                                  \n",
       "United States              16.273576         33.566052           0.602465\n",
       "India                      29.063740         30.082778           0.391981\n",
       "Brazil                     16.483635         18.054653           0.504717\n",
       "France                      0.381278          5.760002           0.110858\n",
       "Russia                      4.915615          5.388695           0.131463\n",
       "Turkey                      3.562556          5.387545           0.049358\n",
       "United Kingdom              0.000344          4.651988           0.128008\n",
       "Argentina                   3.944323          4.298782           0.090281\n",
       "Italy                       4.059463          4.254294           0.127322\n",
       "Colombia                    3.741459          3.997021           0.101302"
      ]
     },
     "execution_count": 4,
     "metadata": {},
     "output_type": "execute_result"
    }
   ],
   "source": [
    "covid_deaths = covid_deaths[['Country', 'LatestValue']].rename(columns={'LatestValue': 'Deaths (millions)'}).set_index('Country')\n",
    "covid_cases = covid_cases[['Country', 'LatestValue']].rename(columns={'LatestValue': 'Cases (millions)'}).set_index('Country')\n",
    "covid_recovered = covid_recovered[['Country', 'LatestValue']].rename(columns={'LatestValue': 'Recovered (millions)'}).set_index('Country')\n",
    "\n",
    "covid_deaths['Deaths (millions)'] = covid_deaths['Deaths (millions)'].apply(lambda x: x/1000000)\n",
    "covid_cases['Cases (millions)'] = covid_cases['Cases (millions)'].apply(lambda x: x/1000000)\n",
    "covid_recovered['Recovered (millions)'] = covid_recovered['Recovered (millions)'].apply(lambda x: x/1000000)\n",
    "\n",
    "df = covid_deaths.join(covid_cases, lsuffix='_covid_deaths', rsuffix='_covid_cases')\n",
    "df = df.join(covid_recovered, lsuffix='_df', rsuffix='_covid_recovered')\n",
    "\n",
    "df = df[['Recovered (millions)', 'Cases (millions)', 'Deaths (millions)']]\n",
    "\n",
    "df.sort_values(['Cases (millions)', 'Deaths (millions)'], ascending=False, inplace=True)\n",
    "df.drop('World', inplace=True)\n",
    "df = df.head(10)\n",
    "df"
   ]
  },
  {
   "cell_type": "markdown",
   "metadata": {},
   "source": [
    "Plotting"
   ]
  },
  {
   "cell_type": "code",
   "execution_count": 5,
   "metadata": {},
   "outputs": [
    {
     "data": {
      "image/png": "[encoded data removed]",
      "text/plain": [
       "<Figure size 1440x648 with 1 Axes>"
      ]
     },
     "metadata": {
      "needs_background": "light"
     },
     "output_type": "display_data"
    }
   ],
   "source": [
    "color_dict = {'Deaths (millions)': 'black', 'Cases (millions)': 'grey', 'Recovered (millions)': 'green'}\n",
    "\n",
    "df.plot(\n",
    "    figsize=(20, 9),\n",
    "    kind='bar',\n",
    "    zorder=3,\n",
    "    color=[color_dict.get(x, '#333333') for x in df.columns],\n",
    "    fontsize=12\n",
    ")\n",
    "\n",
    "ax = plt.gca()\n",
    "\n",
    "plt.setp(\n",
    "    ax.get_xticklabels(),\n",
    "    rotation=45,\n",
    "    ha='right',\n",
    "    rotation_mode='anchor',\n",
    "    fontsize=12\n",
    ")\n",
    "\n",
    "plt.yticks(list(plt.yticks()[0]) + [0.5, 1, 1.5])\n",
    "ax.yaxis.grid(zorder=0)\n",
    "ax.set_title('Top 10 countries in COVID cases', color='black', size=20)\n",
    "plt.xlabel('Country', fontsize=16)\n",
    "plt.tight_layout()"
   ]
  },
  {
   "cell_type": "code",
   "execution_count": null,
   "metadata": {},
   "outputs": [],
   "source": []
  }
 ],
 "metadata": {
  "kernelspec": {
   "display_name": "Python 3",
   "language": "python",
   "name": "python3"
  },
  "language_info": {
   "codemirror_mode": {
    "name": "ipython",
    "version": 3
   },
   "file_extension": ".py",
   "mimetype": "text/x-python",
   "name": "python",
   "nbconvert_exporter": "python",
   "pygments_lexer": "ipython3",
   "version": "3.7.3"
  }
 },
 "nbformat": 4,
 "nbformat_minor": 4
}
