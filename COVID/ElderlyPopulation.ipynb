{
 "cells": [
  {
   "cell_type": "markdown",
   "metadata": {},
   "source": [
    "Importing dependencies"
   ]
  },
  {
   "cell_type": "code",
   "execution_count": 1,
   "metadata": {},
   "outputs": [],
   "source": [
    "import tradingeconomics as te\n",
    "import time\n",
    "import matplotlib.pyplot as plt\n",
    "import sys\n",
    "import os"
   ]
  },
  {
   "cell_type": "markdown",
   "metadata": {},
   "source": [
    "API authentication"
   ]
  },
  {
   "cell_type": "code",
   "execution_count": 2,
   "metadata": {},
   "outputs": [
    {
     "data": {
      "text/plain": [
       "'You are logged in as a 10D377002D63488:6E8511E3FE804EC'"
      ]
     },
     "execution_count": 2,
     "metadata": {},
     "output_type": "execute_result"
    }
   ],
   "source": [
    "sys.path.insert(1, os.path.join(sys.path[0], '..'))\n",
    "from helper import get_api_key\n",
    "\n",
    "te.login(get_api_key())"
   ]
  },
  {
   "cell_type": "markdown",
   "metadata": {},
   "source": [
    "Importing data"
   ]
  },
  {
   "cell_type": "code",
   "execution_count": 3,
   "metadata": {},
   "outputs": [],
   "source": [
    "elders = te.getWBIndicator(series_code='SP.POP.65UP.TO.ZS', output_type='df')\n",
    "time.sleep(1)\n",
    "\n",
    "covid_deaths = te.getIndicatorData(country='all', indicators='coronavirus deaths', output_type='df')\n",
    "time.sleep(1)\n",
    "\n",
    "population = te.getIndicatorData(country='all', indicators='population', output_type='df')"
   ]
  },
  {
   "cell_type": "markdown",
   "metadata": {},
   "source": [
    "Data manipulation"
   ]
  },
  {
   "cell_type": "code",
   "execution_count": 4,
   "metadata": {},
   "outputs": [
    {
     "data": {
      "text/html": [
       "<div>\n",
       "<style scoped>\n",
       "    .dataframe tbody tr th:only-of-type {\n",
       "        vertical-align: middle;\n",
       "    }\n",
       "\n",
       "    .dataframe tbody tr th {\n",
       "        vertical-align: top;\n",
       "    }\n",
       "\n",
       "    .dataframe thead th {\n",
       "        text-align: right;\n",
       "    }\n",
       "</style>\n",
       "<table border=\"1\" class=\"dataframe\">\n",
       "  <thead>\n",
       "    <tr style=\"text-align: right;\">\n",
       "      <th></th>\n",
       "      <th>Deaths per 10.000 people</th>\n",
       "      <th>Elders (% of total)</th>\n",
       "    </tr>\n",
       "    <tr>\n",
       "      <th>Country</th>\n",
       "      <th></th>\n",
       "      <th></th>\n",
       "    </tr>\n",
       "  </thead>\n",
       "  <tbody>\n",
       "    <tr>\n",
       "      <th>Belgium</th>\n",
       "      <td>15.276614</td>\n",
       "      <td>19.00657</td>\n",
       "    </tr>\n",
       "    <tr>\n",
       "      <th>Peru</th>\n",
       "      <td>11.176615</td>\n",
       "      <td>8.39348</td>\n",
       "    </tr>\n",
       "    <tr>\n",
       "      <th>Italy</th>\n",
       "      <td>10.228463</td>\n",
       "      <td>23.01214</td>\n",
       "    </tr>\n",
       "    <tr>\n",
       "      <th>Spain</th>\n",
       "      <td>9.937367</td>\n",
       "      <td>19.64782</td>\n",
       "    </tr>\n",
       "    <tr>\n",
       "      <th>United Kingdom</th>\n",
       "      <td>9.387247</td>\n",
       "      <td>18.50870</td>\n",
       "    </tr>\n",
       "    <tr>\n",
       "      <th>Argentina</th>\n",
       "      <td>8.902759</td>\n",
       "      <td>11.24311</td>\n",
       "    </tr>\n",
       "    <tr>\n",
       "      <th>Montenegro</th>\n",
       "      <td>8.854839</td>\n",
       "      <td>15.38917</td>\n",
       "    </tr>\n",
       "    <tr>\n",
       "      <th>Bosnia and Herzegovina</th>\n",
       "      <td>8.853448</td>\n",
       "      <td>17.20115</td>\n",
       "    </tr>\n",
       "    <tr>\n",
       "      <th>Mexico</th>\n",
       "      <td>8.759204</td>\n",
       "      <td>7.41666</td>\n",
       "    </tr>\n",
       "    <tr>\n",
       "      <th>United States</th>\n",
       "      <td>8.696776</td>\n",
       "      <td>16.20961</td>\n",
       "    </tr>\n",
       "    <tr>\n",
       "      <th>Czech Republic</th>\n",
       "      <td>8.554307</td>\n",
       "      <td>19.80074</td>\n",
       "    </tr>\n",
       "    <tr>\n",
       "      <th>Brazil</th>\n",
       "      <td>8.477706</td>\n",
       "      <td>9.25161</td>\n",
       "    </tr>\n",
       "    <tr>\n",
       "      <th>France</th>\n",
       "      <td>8.413258</td>\n",
       "      <td>20.39137</td>\n",
       "    </tr>\n",
       "    <tr>\n",
       "      <th>Chile</th>\n",
       "      <td>8.205128</td>\n",
       "      <td>11.88154</td>\n",
       "    </tr>\n",
       "    <tr>\n",
       "      <th>Armenia</th>\n",
       "      <td>8.057239</td>\n",
       "      <td>11.48367</td>\n",
       "    </tr>\n",
       "    <tr>\n",
       "      <th>Ecuador</th>\n",
       "      <td>7.987261</td>\n",
       "      <td>7.37220</td>\n",
       "    </tr>\n",
       "    <tr>\n",
       "      <th>Bolivia</th>\n",
       "      <td>7.848300</td>\n",
       "      <td>7.33863</td>\n",
       "    </tr>\n",
       "    <tr>\n",
       "      <th>Panama</th>\n",
       "      <td>7.680095</td>\n",
       "      <td>8.31384</td>\n",
       "    </tr>\n",
       "    <tr>\n",
       "      <th>Colombia</th>\n",
       "      <td>7.575541</td>\n",
       "      <td>8.76583</td>\n",
       "    </tr>\n",
       "    <tr>\n",
       "      <th>Bulgaria</th>\n",
       "      <td>7.365714</td>\n",
       "      <td>21.25297</td>\n",
       "    </tr>\n",
       "  </tbody>\n",
       "</table>\n",
       "</div>"
      ],
      "text/plain": [
       "                        Deaths per 10.000 people  Elders (% of total)\n",
       "Country                                                              \n",
       "Belgium                                15.276614             19.00657\n",
       "Peru                                   11.176615              8.39348\n",
       "Italy                                  10.228463             23.01214\n",
       "Spain                                   9.937367             19.64782\n",
       "United Kingdom                          9.387247             18.50870\n",
       "Argentina                               8.902759             11.24311\n",
       "Montenegro                              8.854839             15.38917\n",
       "Bosnia and Herzegovina                  8.853448             17.20115\n",
       "Mexico                                  8.759204              7.41666\n",
       "United States                           8.696776             16.20961\n",
       "Czech Republic                          8.554307             19.80074\n",
       "Brazil                                  8.477706              9.25161\n",
       "France                                  8.413258             20.39137\n",
       "Chile                                   8.205128             11.88154\n",
       "Armenia                                 8.057239             11.48367\n",
       "Ecuador                                 7.987261              7.37220\n",
       "Bolivia                                 7.848300              7.33863\n",
       "Panama                                  7.680095              8.31384\n",
       "Colombia                                7.575541              8.76583\n",
       "Bulgaria                                7.365714             21.25297"
      ]
     },
     "execution_count": 4,
     "metadata": {},
     "output_type": "execute_result"
    }
   ],
   "source": [
    "elders = elders[['country', 'last']].rename(columns={'last': 'Elders (% of total)', 'country': 'Country'}).set_index('Country')\n",
    "covid_deaths = covid_deaths[['Country', 'LatestValue']].rename(columns={'LatestValue': 'Deaths'}).set_index('Country')\n",
    "population = population[['Country', 'LatestValue']].rename(columns={'LatestValue': 'Population'}).set_index('Country')\n",
    "\n",
    "df = covid_deaths.join(elders).join(population)\n",
    "\n",
    "df['Deaths per 10.000 people'] = df['Deaths']/(df['Population']*100)\n",
    "df = df[['Deaths per 10.000 people', 'Elders (% of total)']]\n",
    "df.dropna(inplace=True)\n",
    "\n",
    "df.sort_values(['Deaths per 10.000 people', 'Elders (% of total)'], ascending=False, inplace=True)\n",
    "df = df.head(20)\n",
    "df"
   ]
  },
  {
   "cell_type": "markdown",
   "metadata": {},
   "source": [
    "Plotting"
   ]
  },
  {
   "cell_type": "code",
   "execution_count": 5,
   "metadata": {},
   "outputs": [
    {
     "data": {
      "image/png": "[encoded data removed]",
      "text/plain": [
       "<Figure size 1440x648 with 1 Axes>"
      ]
     },
     "metadata": {
      "needs_background": "light"
     },
     "output_type": "display_data"
    }
   ],
   "source": [
    "color_dict = {'Elders (% of total)': 'orange', 'Deaths per 10.000 people': 'black'}\n",
    "\n",
    "df.plot(\n",
    "    figsize=(20, 9),\n",
    "    kind='bar',\n",
    "    zorder=3,\n",
    "    color=[color_dict.get(x, '#333333') for x in df.columns],\n",
    "    fontsize=12\n",
    ")\n",
    "\n",
    "ax = plt.gca()\n",
    "\n",
    "plt.setp(\n",
    "    ax.get_xticklabels(),\n",
    "    rotation=45,\n",
    "    ha='right',\n",
    "    rotation_mode='anchor',\n",
    "    fontsize=12\n",
    ")\n",
    "\n",
    "plt.yticks(list(plt.yticks()[0]) + [7.5])\n",
    "ax.yaxis.grid(zorder=0)\n",
    "ax.set_title('Coronavirus Deaths x Elders', color='black', size=20)\n",
    "plt.xlabel('Country', fontsize=16)\n",
    "plt.tight_layout()"
   ]
  }
 ],
 "metadata": {
  "kernelspec": {
   "display_name": "conda_python3",
   "language": "python",
   "name": "conda_python3"
  },
  "language_info": {
   "codemirror_mode": {
    "name": "ipython",
    "version": 3
   },
   "file_extension": ".py",
   "mimetype": "text/x-python",
   "name": "python",
   "nbconvert_exporter": "python",
   "pygments_lexer": "ipython3",
   "version": "3.6.10"
  }
 },
 "nbformat": 4,
 "nbformat_minor": 4
}
