{
 "cells": [
  {
   "cell_type": "raw",
   "id": "living-color",
   "metadata": {},
   "source": [
    "Importing dependencies"
   ]
  },
  {
   "cell_type": "code",
   "execution_count": 1,
   "id": "killing-george",
   "metadata": {},
   "outputs": [],
   "source": [
    "import tradingeconomics as te\n",
    "import pandas as pd\n",
    "import numpy as np\n",
    "import matplotlib.pyplot as plt"
   ]
  },
  {
   "cell_type": "raw",
   "id": "powered-utility",
   "metadata": {},
   "source": [
    "API login"
   ]
  },
  {
   "cell_type": "code",
   "execution_count": null,
   "id": "adjustable-walter",
   "metadata": {},
   "outputs": [],
   "source": [
    "te.login('jupyter:jupyter') # Signup for a free API key at https://developer.tradingeconomics.com/"
   ]
  },
  {
   "cell_type": "raw",
   "id": "vertical-official",
   "metadata": {},
   "source": [
    "Importing data"
   ]
  },
  {
   "cell_type": "code",
   "execution_count": 4,
   "id": "loose-thousand",
   "metadata": {},
   "outputs": [],
   "source": [
    "       \n",
    "raw_property_ownership_df = te.getWBIndicator(series_code = 'SG.OWN.PRRT.MR', output_type='df').rename(columns={'last': 'Vote Option'})\n",
    "\n",
    "raw_nationalid_df = te.getWBIndicator(series_code = 'SG.OBT.IDCD.MR', output_type='df').rename(columns={'last': 'Vote Option'})\n",
    "\n",
    "raw_court_df = te.getWBIndicator(series_code = 'SG.CRT.TSTM.WT', output_type='df').rename(columns={'last': 'Vote Option'})\n",
    "\n",
    "raw_leg_df = te.getWBIndicator(series_code = 'SG.LEG.MRRP', output_type='df').rename(columns={'last': 'Vote Option'})\n"
   ]
  },
  {
   "cell_type": "raw",
   "id": "charitable-meditation",
   "metadata": {},
   "source": [
    "Data Manipulation"
   ]
  },
  {
   "cell_type": "code",
   "execution_count": 5,
   "id": "caring-cancer",
   "metadata": {},
   "outputs": [
    {
     "data": {
      "text/html": [
       "<div>\n",
       "<style scoped>\n",
       "    .dataframe tbody tr th:only-of-type {\n",
       "        vertical-align: middle;\n",
       "    }\n",
       "\n",
       "    .dataframe tbody tr th {\n",
       "        vertical-align: top;\n",
       "    }\n",
       "\n",
       "    .dataframe thead th {\n",
       "        text-align: right;\n",
       "    }\n",
       "</style>\n",
       "<table border=\"1\" class=\"dataframe\">\n",
       "  <thead>\n",
       "    <tr style=\"text-align: right;\">\n",
       "      <th></th>\n",
       "      <th>Question 1</th>\n",
       "      <th>Question 2</th>\n",
       "      <th>Question 3</th>\n",
       "      <th>Question 4</th>\n",
       "    </tr>\n",
       "    <tr>\n",
       "      <th>Vote Option</th>\n",
       "      <th></th>\n",
       "      <th></th>\n",
       "      <th></th>\n",
       "      <th></th>\n",
       "    </tr>\n",
       "  </thead>\n",
       "  <tbody>\n",
       "    <tr>\n",
       "      <th>0</th>\n",
       "      <td>9</td>\n",
       "      <td>8</td>\n",
       "      <td>10</td>\n",
       "      <td>88</td>\n",
       "    </tr>\n",
       "    <tr>\n",
       "      <th>Null</th>\n",
       "      <td>4</td>\n",
       "      <td>28</td>\n",
       "      <td>0</td>\n",
       "      <td>0</td>\n",
       "    </tr>\n",
       "    <tr>\n",
       "      <th>1</th>\n",
       "      <td>151</td>\n",
       "      <td>128</td>\n",
       "      <td>154</td>\n",
       "      <td>76</td>\n",
       "    </tr>\n",
       "  </tbody>\n",
       "</table>\n",
       "</div>"
      ],
      "text/plain": [
       "             Question 1  Question 2  Question 3  Question 4\n",
       "Vote Option                                                \n",
       "0                     9           8          10          88\n",
       "Null                  4          28           0           0\n",
       "1                   151         128         154          76"
      ]
     },
     "execution_count": 5,
     "metadata": {},
     "output_type": "execute_result"
    }
   ],
   "source": [
    "\n",
    "max_votes = max([len(raw_property_ownership_df),len(raw_nationalid_df),len(raw_court_df)])\n",
    "\n",
    "\n",
    "df = raw_property_ownership_df.groupby(['Vote Option']).count()\n",
    "property_ownership_df = df[['country']].rename(columns = {'country': 'Question 1'})\n",
    "\n",
    "df = raw_nationalid_df.groupby(['Vote Option']).count()\n",
    "nationalid_df = df[['country']].rename(columns = {'country': 'Question 2'})\n",
    "\n",
    "df = raw_court_df.groupby(['Vote Option']).count()\n",
    "court_df = df[['country']].rename(columns = {'country': 'Question 3'})\n",
    "\n",
    "df = raw_leg_df.groupby(['Vote Option']).count()\n",
    "leg_df = df[['country']].rename(columns = {'country': 'Question 4'})\n",
    "\n",
    "\n",
    "df = pd.merge(pd.merge(pd.merge(property_ownership_df,nationalid_df, on='Vote Option'),court_df,on='Vote Option'),leg_df,on='Vote Option')\n",
    "\n",
    "df.loc['Null'] = max_votes - df.sum()\n",
    "df = df.reindex(index = [0,'Null',1])\n",
    "df"
   ]
  },
  {
   "cell_type": "raw",
   "id": "decent-deficit",
   "metadata": {},
   "source": [
    "Plotting"
   ]
  },
  {
   "cell_type": "code",
   "execution_count": 11,
   "id": "instrumental-quantity",
   "metadata": {},
   "outputs": [
    {
     "data": {
      "image/png": "[encoded data removed]",
      "text/plain": [
       "<Figure size 662.4x360 with 1 Axes>"
      ]
     },
     "metadata": {
      "needs_background": "light"
     },
     "output_type": "display_data"
    }
   ],
   "source": [
    "category_names = ['No','Null', 'Y es']\n",
    "results = {\n",
    "    'Married Men And Married Women Have Equal Ownership Rights To Property': df['Question 1'].values.tolist(),\n",
    "    'Married women can obtain a national ID card in the same way as married men': df['Question 2'].values.tolist(),\n",
    "    'Woman\\'s testimony carries the same evidentiary weight in court as a man\\'s': df['Question 3'].values.tolist(),\n",
    "    'Legislation explicitly criminalizes marital rape': df['Question 4'].values.tolist()\n",
    "}\n",
    "\n",
    "\n",
    "def survey(results, category_names):\n",
    "\n",
    "    labels = list(results.keys())\n",
    "    data = np.array(list(results.values()))\n",
    "    data_cum = data.cumsum(axis=1)\n",
    "    category_colors = plt.get_cmap('RdYlGn')(\n",
    "        np.linspace(0.15, 0.85, data.shape[1]))\n",
    "\n",
    "    fig, ax = plt.subplots(figsize=(9.2, 5))\n",
    "    ax.set_title('WB Countries Surveys About Gender', color='black', size=20)\n",
    "    ax.invert_yaxis()\n",
    "    ax.xaxis.set_visible(False)\n",
    "    ax.set_xlim(0, np.sum(data, axis=1).max())\n",
    "\n",
    "    for i, (colname, color) in enumerate(zip(category_names, category_colors)):\n",
    "        widths = data[:, i]\n",
    "        starts = data_cum[:, i] - widths\n",
    "        ax.barh(labels, widths, left=starts, height=0.5,\n",
    "                label=colname, color=color)\n",
    "        xcenters = starts + widths / 2\n",
    "        \n",
    "        r, g, b, _ = color\n",
    "        text_color = 'white' if r * g * b < 0.5 else 'darkgrey'\n",
    "        for y, (x, c) in enumerate(zip(xcenters, widths)):\n",
    "            if str(int(c)) != '0':\n",
    "                ax.text(x, y, str(int(c)), ha='center', va='center',\n",
    "                    color=text_color, fontsize=14)\n",
    "    ax.legend(ncol=2, bbox_to_anchor=(1, 0),\n",
    "              loc='upper right', fontsize='medium')\n",
    "\n",
    "    return fig, ax\n",
    "\n",
    "\n",
    "survey(results, category_names)\n",
    "\n",
    "plt.show()"
   ]
  }
 ],
 "metadata": {
  "kernelspec": {
   "display_name": "conda_mxnet_p36",
   "language": "python",
   "name": "conda_mxnet_p36"
  },
  "language_info": {
   "codemirror_mode": {
    "name": "ipython",
    "version": 3
   },
   "file_extension": ".py",
   "mimetype": "text/x-python",
   "name": "python",
   "nbconvert_exporter": "python",
   "pygments_lexer": "ipython3",
   "version": "3.6.13"
  }
 },
 "nbformat": 4,
 "nbformat_minor": 5
}