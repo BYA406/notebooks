{
 "cells": [
  {
   "cell_type": "markdown",
   "metadata": {},
   "source": [
    "Importing dependencies"
   ]
  },
  {
   "cell_type": "code",
   "execution_count": 19,
   "metadata": {},
   "outputs": [],
   "source": [
    "import tradingeconomics as te\n",
    "import pandas as pd\n",
    "import matplotlib.pyplot as plt\n",
    "%matplotlib inline"
   ]
  },
  {
   "cell_type": "markdown",
   "metadata": {},
   "source": [
    "API login"
   ]
  },
  {
   "cell_type": "code",
   "execution_count": 20,
   "metadata": {},
   "outputs": [
    {
     "data": {
      "text/plain": [
       "'You are logged in as a jupyter:jupyter'"
      ]
     },
     "execution_count": 20,
     "metadata": {},
     "output_type": "execute_result"
    }
   ],
   "source": [
    "te.login('jupyter:jupyter') # Signup for a free API key at https://developer.tradingeconomics.com/"
   ]
  },
  {
   "cell_type": "markdown",
   "metadata": {},
   "source": [
    "Importing data"
   ]
  },
  {
   "cell_type": "code",
   "execution_count": 21,
   "metadata": {},
   "outputs": [],
   "source": [
    "raw_df = te.getHistorical(symbol=['XB1:COM', 'OXY:US', 'NG1:COM', 'CL1:COM'], initDate='2020-01-01')\n",
    "\n",
    "gasoline = raw_df.loc[raw_df['Symbol'] == 'XB1:COM']\n",
    "petroleum = raw_df.loc[raw_df['Symbol'] == 'OXY:US']\n",
    "natural_gas = raw_df.loc[raw_df['Symbol'] == 'NG1:COM']\n",
    "crude_oil = raw_df.loc[raw_df['Symbol'] == 'CL1:COM']"
   ]
  },
  {
   "cell_type": "markdown",
   "metadata": {},
   "source": [
    "Data manipulation"
   ]
  },
  {
   "cell_type": "code",
   "execution_count": 22,
   "metadata": {},
   "outputs": [
    {
     "data": {
      "text/html": [
       "<div>\n",
       "<style scoped>\n",
       "    .dataframe tbody tr th:only-of-type {\n",
       "        vertical-align: middle;\n",
       "    }\n",
       "\n",
       "    .dataframe tbody tr th {\n",
       "        vertical-align: top;\n",
       "    }\n",
       "\n",
       "    .dataframe thead th {\n",
       "        text-align: right;\n",
       "    }\n",
       "</style>\n",
       "<table border=\"1\" class=\"dataframe\">\n",
       "  <thead>\n",
       "    <tr style=\"text-align: right;\">\n",
       "      <th></th>\n",
       "      <th>Gasoline</th>\n",
       "      <th>Petroleum</th>\n",
       "      <th>NaturalGas</th>\n",
       "      <th>CrudeOil</th>\n",
       "    </tr>\n",
       "    <tr>\n",
       "      <th>Date</th>\n",
       "      <th></th>\n",
       "      <th></th>\n",
       "      <th></th>\n",
       "      <th></th>\n",
       "    </tr>\n",
       "  </thead>\n",
       "  <tbody>\n",
       "    <tr>\n",
       "      <th>2020-01-02</th>\n",
       "      <td>1.7155</td>\n",
       "      <td>42.580</td>\n",
       "      <td>2.1020</td>\n",
       "      <td>61.0050</td>\n",
       "    </tr>\n",
       "    <tr>\n",
       "      <th>2020-01-03</th>\n",
       "      <td>1.7628</td>\n",
       "      <td>43.610</td>\n",
       "      <td>2.1012</td>\n",
       "      <td>62.8565</td>\n",
       "    </tr>\n",
       "    <tr>\n",
       "      <th>2020-01-06</th>\n",
       "      <td>1.7591</td>\n",
       "      <td>45.050</td>\n",
       "      <td>2.1532</td>\n",
       "      <td>63.2700</td>\n",
       "    </tr>\n",
       "    <tr>\n",
       "      <th>2020-01-07</th>\n",
       "      <td>1.7858</td>\n",
       "      <td>45.270</td>\n",
       "      <td>2.1376</td>\n",
       "      <td>62.5100</td>\n",
       "    </tr>\n",
       "    <tr>\n",
       "      <th>2020-01-08</th>\n",
       "      <td>1.6676</td>\n",
       "      <td>44.980</td>\n",
       "      <td>2.1427</td>\n",
       "      <td>59.4600</td>\n",
       "    </tr>\n",
       "    <tr>\n",
       "      <th>...</th>\n",
       "      <td>...</td>\n",
       "      <td>...</td>\n",
       "      <td>...</td>\n",
       "      <td>...</td>\n",
       "    </tr>\n",
       "    <tr>\n",
       "      <th>2021-06-18</th>\n",
       "      <td>2.1683</td>\n",
       "      <td>27.990</td>\n",
       "      <td>3.2150</td>\n",
       "      <td>71.6400</td>\n",
       "    </tr>\n",
       "    <tr>\n",
       "      <th>2021-06-21</th>\n",
       "      <td>2.1969</td>\n",
       "      <td>29.500</td>\n",
       "      <td>3.1910</td>\n",
       "      <td>73.1200</td>\n",
       "    </tr>\n",
       "    <tr>\n",
       "      <th>2021-06-22</th>\n",
       "      <td>2.2243</td>\n",
       "      <td>30.010</td>\n",
       "      <td>3.2580</td>\n",
       "      <td>72.8500</td>\n",
       "    </tr>\n",
       "    <tr>\n",
       "      <th>2021-06-23</th>\n",
       "      <td>2.2669</td>\n",
       "      <td>30.960</td>\n",
       "      <td>3.3330</td>\n",
       "      <td>73.0800</td>\n",
       "    </tr>\n",
       "    <tr>\n",
       "      <th>2021-06-24</th>\n",
       "      <td>2.2780</td>\n",
       "      <td>31.425</td>\n",
       "      <td>3.4230</td>\n",
       "      <td>73.0400</td>\n",
       "    </tr>\n",
       "  </tbody>\n",
       "</table>\n",
       "<p>373 rows × 4 columns</p>\n",
       "</div>"
      ],
      "text/plain": [
       "            Gasoline  Petroleum  NaturalGas  CrudeOil\n",
       "Date                                                 \n",
       "2020-01-02    1.7155     42.580      2.1020   61.0050\n",
       "2020-01-03    1.7628     43.610      2.1012   62.8565\n",
       "2020-01-06    1.7591     45.050      2.1532   63.2700\n",
       "2020-01-07    1.7858     45.270      2.1376   62.5100\n",
       "2020-01-08    1.6676     44.980      2.1427   59.4600\n",
       "...              ...        ...         ...       ...\n",
       "2021-06-18    2.1683     27.990      3.2150   71.6400\n",
       "2021-06-21    2.1969     29.500      3.1910   73.1200\n",
       "2021-06-22    2.2243     30.010      3.2580   72.8500\n",
       "2021-06-23    2.2669     30.960      3.3330   73.0800\n",
       "2021-06-24    2.2780     31.425      3.4230   73.0400\n",
       "\n",
       "[373 rows x 4 columns]"
      ]
     },
     "execution_count": 22,
     "metadata": {},
     "output_type": "execute_result"
    }
   ],
   "source": [
    "gasoline = gasoline[['Date', 'Close']].rename(columns={'Close': 'Gasoline'}, inplace=False)\n",
    "petroleum = petroleum[['Date', 'Close']].rename(columns={'Close': 'Petroleum'}, inplace=False)\n",
    "natural_gas = natural_gas[['Date', 'Close']].rename(columns={'Close': 'NaturalGas'}, inplace=False)\n",
    "crude_oil = crude_oil[['Date', 'Close']].rename(columns={'Close': 'CrudeOil'}, inplace=False)\n",
    "\n",
    "df = pd.merge(gasoline, petroleum, on='Date')\n",
    "df = pd.merge(df, natural_gas, on='Date')\n",
    "\n",
    "df['Date'] = pd.to_datetime(df['Date'], format=\"%d/%m/%Y\")\n",
    "\n",
    "df.sort_values(['Date'], inplace=True)\n",
    "df.set_index('Date', inplace=True)\n",
    "\n",
    "df"
   ]
  },
  {
   "cell_type": "markdown",
   "metadata": {},
   "source": [
    "Plotting"
   ]
  },
  {
   "cell_type": "code",
   "execution_count": 23,
   "metadata": {},
   "outputs": [
    {
     "ename": "NameError",
     "evalue": "name 'plot_multi' is not defined",
     "output_type": "error",
     "traceback": [
      "\u001b[0;31m---------------------------------------------------------------------------\u001b[0m",
      "\u001b[0;31mNameError\u001b[0m                                 Traceback (most recent call last)",
      "\u001b[0;32m<ipython-input-23-f6d0c4c061ab>\u001b[0m in \u001b[0;36m<module>\u001b[0;34m\u001b[0m\n\u001b[0;32m----> 1\u001b[0;31m \u001b[0max\u001b[0m \u001b[0;34m=\u001b[0m \u001b[0mplot_multi\u001b[0m\u001b[0;34m(\u001b[0m\u001b[0mdf\u001b[0m\u001b[0;34m,\u001b[0m \u001b[0mfigsize\u001b[0m\u001b[0;34m=\u001b[0m\u001b[0;34m(\u001b[0m\u001b[0;36m15\u001b[0m\u001b[0;34m,\u001b[0m \u001b[0;36m5\u001b[0m\u001b[0;34m)\u001b[0m\u001b[0;34m)\u001b[0m\u001b[0;34m\u001b[0m\u001b[0;34m\u001b[0m\u001b[0m\n\u001b[0m\u001b[1;32m      2\u001b[0m \u001b[0max\u001b[0m\u001b[0;34m.\u001b[0m\u001b[0mset_title\u001b[0m\u001b[0;34m(\u001b[0m\u001b[0;34m'Gasoline/Petroleum/Natual Gas Comparison'\u001b[0m\u001b[0;34m,\u001b[0m \u001b[0mcolor\u001b[0m\u001b[0;34m=\u001b[0m\u001b[0;34m'black'\u001b[0m\u001b[0;34m,\u001b[0m \u001b[0msize\u001b[0m\u001b[0;34m=\u001b[0m\u001b[0;36m20\u001b[0m\u001b[0;34m)\u001b[0m\u001b[0;34m\u001b[0m\u001b[0;34m\u001b[0m\u001b[0m\n\u001b[1;32m      3\u001b[0m \u001b[0mplt\u001b[0m\u001b[0;34m.\u001b[0m\u001b[0mtight_layout\u001b[0m\u001b[0;34m(\u001b[0m\u001b[0;34m)\u001b[0m\u001b[0;34m\u001b[0m\u001b[0;34m\u001b[0m\u001b[0m\n",
      "\u001b[0;31mNameError\u001b[0m: name 'plot_multi' is not defined"
     ]
    }
   ],
   "source": [
    "ax = plot_multi(df, figsize=(15, 5))\n",
    "ax.set_title('Gasoline/Petroleum/Natual Gas Comparison', color='black', size=20)\n",
    "plt.tight_layout()"
   ]
  },
  {
   "cell_type": "code",
   "execution_count": null,
   "metadata": {},
   "outputs": [],
   "source": []
  },
  {
   "cell_type": "code",
   "execution_count": null,
   "metadata": {},
   "outputs": [],
   "source": []
  }
 ],
 "metadata": {
  "kernelspec": {
   "display_name": "Python 3",
   "language": "python",
   "name": "python3"
  },
  "language_info": {
   "codemirror_mode": {
    "name": "ipython",
    "version": 3
   },
   "file_extension": ".py",
   "mimetype": "text/x-python",
   "name": "python",
   "nbconvert_exporter": "python",
   "pygments_lexer": "ipython3",
   "version": "3.7.3"
  }
 },
 "nbformat": 4,
 "nbformat_minor": 4
}
