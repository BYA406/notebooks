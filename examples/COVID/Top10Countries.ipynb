{
 "cells": [
  {
   "cell_type": "markdown",
   "metadata": {},
   "source": [
    "Importing dependencies"
   ]
  },
  {
   "cell_type": "code",
   "execution_count": 24,
   "metadata": {},
   "outputs": [],
   "source": [
    "import tradingeconomics as te\n",
    "import time\n",
    "import matplotlib.pyplot as plt"
   ]
  },
  {
   "cell_type": "markdown",
   "metadata": {},
   "source": [
    "Importing data"
   ]
  },
  {
   "cell_type": "code",
   "execution_count": 25,
   "metadata": {},
   "outputs": [],
   "source": [
    "te.login('10D377002D63488:6E8511E3FE804EC')\n",
    "\n",
    "covid_deaths = te.getIndicatorData(country='all', indicators = 'coronavirus deaths', output_type='df')\n",
    "time.sleep(1)\n",
    "\n",
    "covid_cases = te.getIndicatorData(country='all', indicators = 'coronavirus cases', output_type='df')\n",
    "time.sleep(1)\n",
    "\n",
    "covid_recovered = te.getIndicatorData(country='all', indicators = 'coronavirus recovered', output_type='df')"
   ]
  },
  {
   "cell_type": "markdown",
   "metadata": {},
   "source": [
    "Data manipulation"
   ]
  },
  {
   "cell_type": "code",
   "execution_count": 26,
   "metadata": {},
   "outputs": [
    {
     "data": {
      "text/html": [
       "<div>\n",
       "<style scoped>\n",
       "    .dataframe tbody tr th:only-of-type {\n",
       "        vertical-align: middle;\n",
       "    }\n",
       "\n",
       "    .dataframe tbody tr th {\n",
       "        vertical-align: top;\n",
       "    }\n",
       "\n",
       "    .dataframe thead th {\n",
       "        text-align: right;\n",
       "    }\n",
       "</style>\n",
       "<table border=\"1\" class=\"dataframe\">\n",
       "  <thead>\n",
       "    <tr style=\"text-align: right;\">\n",
       "      <th></th>\n",
       "      <th>Recovered (millions)</th>\n",
       "      <th>Cases (millions)</th>\n",
       "      <th>Deaths (millions)</th>\n",
       "    </tr>\n",
       "    <tr>\n",
       "      <th>Country</th>\n",
       "      <th></th>\n",
       "      <th></th>\n",
       "      <th></th>\n",
       "    </tr>\n",
       "  </thead>\n",
       "  <tbody>\n",
       "    <tr>\n",
       "      <th>United States</th>\n",
       "      <td>5.634683</td>\n",
       "      <td>13.721304</td>\n",
       "      <td>0.270642</td>\n",
       "    </tr>\n",
       "    <tr>\n",
       "      <th>India</th>\n",
       "      <td>8.932647</td>\n",
       "      <td>9.499413</td>\n",
       "      <td>0.138122</td>\n",
       "    </tr>\n",
       "    <tr>\n",
       "      <th>Brazil</th>\n",
       "      <td>5.601804</td>\n",
       "      <td>6.386787</td>\n",
       "      <td>0.173817</td>\n",
       "    </tr>\n",
       "    <tr>\n",
       "      <th>Russia</th>\n",
       "      <td>1.803467</td>\n",
       "      <td>2.347401</td>\n",
       "      <td>0.041053</td>\n",
       "    </tr>\n",
       "    <tr>\n",
       "      <th>France</th>\n",
       "      <td>0.164029</td>\n",
       "      <td>2.230571</td>\n",
       "      <td>0.053506</td>\n",
       "    </tr>\n",
       "    <tr>\n",
       "      <th>Spain</th>\n",
       "      <td>0.150376</td>\n",
       "      <td>1.648187</td>\n",
       "      <td>0.045069</td>\n",
       "    </tr>\n",
       "    <tr>\n",
       "      <th>United Kingdom</th>\n",
       "      <td>0.000344</td>\n",
       "      <td>1.643086</td>\n",
       "      <td>0.059051</td>\n",
       "    </tr>\n",
       "    <tr>\n",
       "      <th>Italy</th>\n",
       "      <td>0.784595</td>\n",
       "      <td>1.620901</td>\n",
       "      <td>0.056361</td>\n",
       "    </tr>\n",
       "    <tr>\n",
       "      <th>Argentina</th>\n",
       "      <td>1.257227</td>\n",
       "      <td>1.432570</td>\n",
       "      <td>0.038928</td>\n",
       "    </tr>\n",
       "    <tr>\n",
       "      <th>Colombia</th>\n",
       "      <td>1.210489</td>\n",
       "      <td>1.324792</td>\n",
       "      <td>0.036934</td>\n",
       "    </tr>\n",
       "  </tbody>\n",
       "</table>\n",
       "</div>"
      ],
      "text/plain": [
       "                Recovered (millions)  Cases (millions)  Deaths (millions)\n",
       "Country                                                                  \n",
       "United States               5.634683         13.721304           0.270642\n",
       "India                       8.932647          9.499413           0.138122\n",
       "Brazil                      5.601804          6.386787           0.173817\n",
       "Russia                      1.803467          2.347401           0.041053\n",
       "France                      0.164029          2.230571           0.053506\n",
       "Spain                       0.150376          1.648187           0.045069\n",
       "United Kingdom              0.000344          1.643086           0.059051\n",
       "Italy                       0.784595          1.620901           0.056361\n",
       "Argentina                   1.257227          1.432570           0.038928\n",
       "Colombia                    1.210489          1.324792           0.036934"
      ]
     },
     "execution_count": 26,
     "metadata": {},
     "output_type": "execute_result"
    }
   ],
   "source": [
    "covid_deaths = covid_deaths[['Country', 'LatestValue']].rename(columns={'LatestValue': 'Deaths (millions)'}).set_index('Country')\n",
    "covid_cases = covid_cases[['Country', 'LatestValue']].rename(columns={'LatestValue': 'Cases (millions)'}).set_index('Country')\n",
    "covid_recovered = covid_recovered[['Country', 'LatestValue']].rename(columns={'LatestValue': 'Recovered (millions)'}).set_index('Country')\n",
    "\n",
    "covid_deaths['Deaths (millions)'] = covid_deaths['Deaths (millions)'].apply(lambda x: x/1000000)\n",
    "covid_cases['Cases (millions)'] = covid_cases['Cases (millions)'].apply(lambda x: x/1000000)\n",
    "covid_recovered['Recovered (millions)'] = covid_recovered['Recovered (millions)'].apply(lambda x: x/1000000)\n",
    "\n",
    "df = covid_deaths.join(covid_cases, lsuffix='_covid_deaths', rsuffix='_covid_cases')\n",
    "df = df.join(covid_recovered, lsuffix='_df', rsuffix='_covid_recovered')\n",
    "df = df[['Recovered (millions)', 'Cases (millions)', 'Deaths (millions)']]\n",
    "df.sort_values(['Cases (millions)', 'Deaths (millions)'], ascending=False, inplace=True)\n",
    "df.drop('World', inplace=True)\n",
    "df = df.head(10)\n",
    "df"
   ]
  },
  {
   "cell_type": "markdown",
   "metadata": {},
   "source": [
    "Plotting"
   ]
  },
  {
   "cell_type": "code",
   "execution_count": 27,
   "metadata": {},
   "outputs": [
    {
     "data": {
      "image/png": "[encoded data removed]",
      "text/plain": [
       "<Figure size 1440x648 with 1 Axes>"
      ]
     },
     "metadata": {
      "needs_background": "light"
     },
     "output_type": "display_data"
    }
   ],
   "source": [
    "color_dict = {'Deaths (millions)': 'black', 'Cases (millions)': 'grey', 'Recovered (millions)': 'green'}\n",
    "\n",
    "df.plot(\n",
    "    figsize=(20, 9),\n",
    "    kind='bar',\n",
    "    zorder=3,\n",
    "    color=[color_dict.get(x, '#333333') for x in df.columns],\n",
    "    fontsize=12\n",
    ")\n",
    "\n",
    "ax = plt.gca()\n",
    "\n",
    "plt.setp(\n",
    "    ax.get_xticklabels(),\n",
    "    rotation=45,\n",
    "    ha='right',\n",
    "    rotation_mode='anchor',\n",
    "    fontsize=12\n",
    ")\n",
    "\n",
    "# ax.labelsize=40\n",
    "plt.yticks(list(plt.yticks()[0]) + [0.5, 1, 1.5])\n",
    "ax.yaxis.grid(zorder=0)\n",
    "ax.set_title('Top 10 countries in COVID cases', color='black', size=20)\n",
    "plt.xlabel('Country', fontsize=16)\n",
    "plt.tight_layout()"
   ]
  }
 ],
 "metadata": {
  "kernelspec": {
   "display_name": "conda_python3",
   "language": "python",
   "name": "conda_python3"
  },
  "language_info": {
   "codemirror_mode": {
    "name": "ipython",
    "version": 3
   },
   "file_extension": ".py",
   "mimetype": "text/x-python",
   "name": "python",
   "nbconvert_exporter": "python",
   "pygments_lexer": "ipython3",
   "version": "3.6.10"
  }
 },
 "nbformat": 4,
 "nbformat_minor": 4
}
