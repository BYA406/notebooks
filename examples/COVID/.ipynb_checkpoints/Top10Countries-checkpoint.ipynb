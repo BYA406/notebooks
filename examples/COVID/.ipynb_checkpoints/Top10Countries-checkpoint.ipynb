{
 "cells": [
  {
   "cell_type": "markdown",
   "metadata": {},
   "source": [
    "Importing dependencies"
   ]
  },
  {
   "cell_type": "code",
   "execution_count": 1,
   "metadata": {},
   "outputs": [],
   "source": [
    "import tradingeconomics as te\n",
    "import time\n",
    "import matplotlib.pyplot as plt\n",
    "import configparser as cp\n",
    "import os"
   ]
  },
  {
   "cell_type": "markdown",
   "metadata": {},
   "source": [
    "Importing data"
   ]
  },
  {
   "cell_type": "code",
   "execution_count": 2,
   "metadata": {},
   "outputs": [],
   "source": [
    "config_file = os.path.abspath(os.path.join(os.path.dirname('__file__'), '..', 'tradingeconomics.cfg'))\n",
    "\n",
    "cfg = cp.ConfigParser()\n",
    "cfg.read(config_file)\n",
    "key = cfg['API']['key']\n",
    "te.login(key)\n",
    "\n",
    "covid_deaths = te.getIndicatorData(country='all', indicators = 'coronavirus deaths', output_type='df')\n",
    "time.sleep(1)\n",
    "\n",
    "covid_cases = te.getIndicatorData(country='all', indicators = 'coronavirus cases', output_type='df')\n",
    "time.sleep(1)\n",
    "\n",
    "covid_recovered = te.getIndicatorData(country='all', indicators = 'coronavirus recovered', output_type='df')"
   ]
  },
  {
   "cell_type": "markdown",
   "metadata": {},
   "source": [
    "Data manipulation"
   ]
  },
  {
   "cell_type": "code",
   "execution_count": 3,
   "metadata": {},
   "outputs": [
    {
     "data": {
      "text/html": [
       "<div>\n",
       "<style scoped>\n",
       "    .dataframe tbody tr th:only-of-type {\n",
       "        vertical-align: middle;\n",
       "    }\n",
       "\n",
       "    .dataframe tbody tr th {\n",
       "        vertical-align: top;\n",
       "    }\n",
       "\n",
       "    .dataframe thead th {\n",
       "        text-align: right;\n",
       "    }\n",
       "</style>\n",
       "<table border=\"1\" class=\"dataframe\">\n",
       "  <thead>\n",
       "    <tr style=\"text-align: right;\">\n",
       "      <th></th>\n",
       "      <th>Recovered (millions)</th>\n",
       "      <th>Cases (millions)</th>\n",
       "      <th>Deaths (millions)</th>\n",
       "    </tr>\n",
       "    <tr>\n",
       "      <th>Country</th>\n",
       "      <th></th>\n",
       "      <th></th>\n",
       "      <th></th>\n",
       "    </tr>\n",
       "  </thead>\n",
       "  <tbody>\n",
       "    <tr>\n",
       "      <th>United States</th>\n",
       "      <td>5.899718</td>\n",
       "      <td>14.139577</td>\n",
       "      <td>0.276325</td>\n",
       "    </tr>\n",
       "    <tr>\n",
       "      <th>India</th>\n",
       "      <td>9.016289</td>\n",
       "      <td>9.571559</td>\n",
       "      <td>0.139188</td>\n",
       "    </tr>\n",
       "    <tr>\n",
       "      <th>Brazil</th>\n",
       "      <td>5.725010</td>\n",
       "      <td>6.487084</td>\n",
       "      <td>0.175270</td>\n",
       "    </tr>\n",
       "    <tr>\n",
       "      <th>Russia</th>\n",
       "      <td>1.859851</td>\n",
       "      <td>2.402949</td>\n",
       "      <td>0.042176</td>\n",
       "    </tr>\n",
       "    <tr>\n",
       "      <th>France</th>\n",
       "      <td>0.166940</td>\n",
       "      <td>2.257331</td>\n",
       "      <td>0.054140</td>\n",
       "    </tr>\n",
       "    <tr>\n",
       "      <th>Spain</th>\n",
       "      <td>0.150376</td>\n",
       "      <td>1.675902</td>\n",
       "      <td>0.046038</td>\n",
       "    </tr>\n",
       "    <tr>\n",
       "      <th>United Kingdom</th>\n",
       "      <td>0.000344</td>\n",
       "      <td>1.674134</td>\n",
       "      <td>0.060113</td>\n",
       "    </tr>\n",
       "    <tr>\n",
       "      <th>Italy</th>\n",
       "      <td>0.846809</td>\n",
       "      <td>1.664829</td>\n",
       "      <td>0.058038</td>\n",
       "    </tr>\n",
       "    <tr>\n",
       "      <th>Argentina</th>\n",
       "      <td>1.274675</td>\n",
       "      <td>1.447732</td>\n",
       "      <td>0.039305</td>\n",
       "    </tr>\n",
       "    <tr>\n",
       "      <th>Colombia</th>\n",
       "      <td>1.233115</td>\n",
       "      <td>1.343332</td>\n",
       "      <td>0.037305</td>\n",
       "    </tr>\n",
       "  </tbody>\n",
       "</table>\n",
       "</div>"
      ],
      "text/plain": [
       "                Recovered (millions)  Cases (millions)  Deaths (millions)\n",
       "Country                                                                  \n",
       "United States               5.899718         14.139577           0.276325\n",
       "India                       9.016289          9.571559           0.139188\n",
       "Brazil                      5.725010          6.487084           0.175270\n",
       "Russia                      1.859851          2.402949           0.042176\n",
       "France                      0.166940          2.257331           0.054140\n",
       "Spain                       0.150376          1.675902           0.046038\n",
       "United Kingdom              0.000344          1.674134           0.060113\n",
       "Italy                       0.846809          1.664829           0.058038\n",
       "Argentina                   1.274675          1.447732           0.039305\n",
       "Colombia                    1.233115          1.343332           0.037305"
      ]
     },
     "execution_count": 3,
     "metadata": {},
     "output_type": "execute_result"
    }
   ],
   "source": [
    "covid_deaths = covid_deaths[['Country', 'LatestValue']].rename(columns={'LatestValue': 'Deaths (millions)'}).set_index('Country')\n",
    "covid_cases = covid_cases[['Country', 'LatestValue']].rename(columns={'LatestValue': 'Cases (millions)'}).set_index('Country')\n",
    "covid_recovered = covid_recovered[['Country', 'LatestValue']].rename(columns={'LatestValue': 'Recovered (millions)'}).set_index('Country')\n",
    "\n",
    "covid_deaths['Deaths (millions)'] = covid_deaths['Deaths (millions)'].apply(lambda x: x/1000000)\n",
    "covid_cases['Cases (millions)'] = covid_cases['Cases (millions)'].apply(lambda x: x/1000000)\n",
    "covid_recovered['Recovered (millions)'] = covid_recovered['Recovered (millions)'].apply(lambda x: x/1000000)\n",
    "\n",
    "df = covid_deaths.join(covid_cases, lsuffix='_covid_deaths', rsuffix='_covid_cases')\n",
    "df = df.join(covid_recovered, lsuffix='_df', rsuffix='_covid_recovered')\n",
    "\n",
    "df = df[['Recovered (millions)', 'Cases (millions)', 'Deaths (millions)']]\n",
    "\n",
    "df.sort_values(['Cases (millions)', 'Deaths (millions)'], ascending=False, inplace=True)\n",
    "df.drop('World', inplace=True)\n",
    "df = df.head(10)\n",
    "df"
   ]
  },
  {
   "cell_type": "markdown",
   "metadata": {},
   "source": [
    "Plotting"
   ]
  },
  {
   "cell_type": "code",
   "execution_count": 4,
   "metadata": {},
   "outputs": [
    {
     "data": {
      "image/png": "[encoded data removed]",
      "text/plain": [
       "<Figure size 1440x648 with 1 Axes>"
      ]
     },
     "metadata": {
      "needs_background": "light"
     },
     "output_type": "display_data"
    }
   ],
   "source": [
    "color_dict = {'Deaths (millions)': 'black', 'Cases (millions)': 'grey', 'Recovered (millions)': 'green'}\n",
    "\n",
    "df.plot(\n",
    "    figsize=(20, 9),\n",
    "    kind='bar',\n",
    "    zorder=3,\n",
    "    color=[color_dict.get(x, '#333333') for x in df.columns],\n",
    "    fontsize=12\n",
    ")\n",
    "\n",
    "ax = plt.gca()\n",
    "\n",
    "plt.setp(\n",
    "    ax.get_xticklabels(),\n",
    "    rotation=45,\n",
    "    ha='right',\n",
    "    rotation_mode='anchor',\n",
    "    fontsize=12\n",
    ")\n",
    "\n",
    "plt.yticks(list(plt.yticks()[0]) + [0.5, 1, 1.5])\n",
    "ax.yaxis.grid(zorder=0)\n",
    "ax.set_title('Top 10 countries in COVID cases', color='black', size=20)\n",
    "plt.xlabel('Country', fontsize=16)\n",
    "plt.tight_layout()"
   ]
  }
 ],
 "metadata": {
  "kernelspec": {
   "display_name": "conda_python3",
   "language": "python",
   "name": "conda_python3"
  },
  "language_info": {
   "codemirror_mode": {
    "name": "ipython",
    "version": 3
   },
   "file_extension": ".py",
   "mimetype": "text/x-python",
   "name": "python",
   "nbconvert_exporter": "python",
   "pygments_lexer": "ipython3",
   "version": "3.6.10"
  }
 },
 "nbformat": 4,
 "nbformat_minor": 4
}
