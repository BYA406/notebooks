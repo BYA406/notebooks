{
 "cells": [
  {
   "cell_type": "markdown",
   "metadata": {},
   "source": [
    "Importing dependencies"
   ]
  },
  {
   "cell_type": "code",
   "execution_count": 226,
   "metadata": {},
   "outputs": [],
   "source": [
    "import tradingeconomics as te\n",
    "import time\n",
    "import matplotlib.pyplot as plt"
   ]
  },
  {
   "cell_type": "markdown",
   "metadata": {},
   "source": [
    "Importing data"
   ]
  },
  {
   "cell_type": "code",
   "execution_count": 227,
   "metadata": {},
   "outputs": [],
   "source": [
    "te.login('10D377002D63488:6E8511E3FE804EC')\n",
    "\n",
    "elders = te.getWBIndicator(series_code = 'SP.POP.65UP.TO.ZS', output_type='df')\n",
    "time.sleep(1)\n",
    "\n",
    "covid_deaths = te.getIndicatorData(country='all', indicators = 'coronavirus deaths', output_type='df')\n",
    "# covid_deaths"
   ]
  },
  {
   "cell_type": "markdown",
   "metadata": {},
   "source": [
    "Treating data"
   ]
  },
  {
   "cell_type": "code",
   "execution_count": 228,
   "metadata": {},
   "outputs": [
    {
     "data": {
      "text/html": [
       "<div>\n",
       "<style scoped>\n",
       "    .dataframe tbody tr th:only-of-type {\n",
       "        vertical-align: middle;\n",
       "    }\n",
       "\n",
       "    .dataframe tbody tr th {\n",
       "        vertical-align: top;\n",
       "    }\n",
       "\n",
       "    .dataframe thead th {\n",
       "        text-align: right;\n",
       "    }\n",
       "</style>\n",
       "<table border=\"1\" class=\"dataframe\">\n",
       "  <thead>\n",
       "    <tr style=\"text-align: right;\">\n",
       "      <th></th>\n",
       "      <th>Deaths (10.000)</th>\n",
       "      <th>Elders (% of total)</th>\n",
       "    </tr>\n",
       "    <tr>\n",
       "      <th>Country</th>\n",
       "      <th></th>\n",
       "      <th></th>\n",
       "    </tr>\n",
       "  </thead>\n",
       "  <tbody>\n",
       "    <tr>\n",
       "      <th>United States</th>\n",
       "      <td>27.0642</td>\n",
       "      <td>16.20961</td>\n",
       "    </tr>\n",
       "    <tr>\n",
       "      <th>Brazil</th>\n",
       "      <td>17.3817</td>\n",
       "      <td>9.25161</td>\n",
       "    </tr>\n",
       "    <tr>\n",
       "      <th>India</th>\n",
       "      <td>13.8122</td>\n",
       "      <td>6.37792</td>\n",
       "    </tr>\n",
       "    <tr>\n",
       "      <th>Mexico</th>\n",
       "      <td>10.6765</td>\n",
       "      <td>7.41666</td>\n",
       "    </tr>\n",
       "    <tr>\n",
       "      <th>United Kingdom</th>\n",
       "      <td>5.9051</td>\n",
       "      <td>18.50870</td>\n",
       "    </tr>\n",
       "    <tr>\n",
       "      <th>Italy</th>\n",
       "      <td>5.6361</td>\n",
       "      <td>23.01214</td>\n",
       "    </tr>\n",
       "    <tr>\n",
       "      <th>France</th>\n",
       "      <td>5.3506</td>\n",
       "      <td>20.39137</td>\n",
       "    </tr>\n",
       "    <tr>\n",
       "      <th>Spain</th>\n",
       "      <td>4.5069</td>\n",
       "      <td>19.64782</td>\n",
       "    </tr>\n",
       "    <tr>\n",
       "      <th>Argentina</th>\n",
       "      <td>3.8928</td>\n",
       "      <td>11.24311</td>\n",
       "    </tr>\n",
       "    <tr>\n",
       "      <th>Colombia</th>\n",
       "      <td>3.6934</td>\n",
       "      <td>8.76583</td>\n",
       "    </tr>\n",
       "    <tr>\n",
       "      <th>Peru</th>\n",
       "      <td>3.5923</td>\n",
       "      <td>8.39348</td>\n",
       "    </tr>\n",
       "    <tr>\n",
       "      <th>South Africa</th>\n",
       "      <td>2.1535</td>\n",
       "      <td>5.41526</td>\n",
       "    </tr>\n",
       "    <tr>\n",
       "      <th>Poland</th>\n",
       "      <td>1.7150</td>\n",
       "      <td>18.11690</td>\n",
       "    </tr>\n",
       "    <tr>\n",
       "      <th>Germany</th>\n",
       "      <td>1.7123</td>\n",
       "      <td>21.56299</td>\n",
       "    </tr>\n",
       "    <tr>\n",
       "      <th>Indonesia</th>\n",
       "      <td>1.6945</td>\n",
       "      <td>6.05030</td>\n",
       "    </tr>\n",
       "    <tr>\n",
       "      <th>Belgium</th>\n",
       "      <td>1.6645</td>\n",
       "      <td>19.00657</td>\n",
       "    </tr>\n",
       "    <tr>\n",
       "      <th>Chile</th>\n",
       "      <td>1.5410</td>\n",
       "      <td>11.88154</td>\n",
       "    </tr>\n",
       "    <tr>\n",
       "      <th>Turkey</th>\n",
       "      <td>1.3936</td>\n",
       "      <td>8.72628</td>\n",
       "    </tr>\n",
       "    <tr>\n",
       "      <th>Ecuador</th>\n",
       "      <td>1.3461</td>\n",
       "      <td>7.37220</td>\n",
       "    </tr>\n",
       "    <tr>\n",
       "      <th>Ukraine</th>\n",
       "      <td>1.2548</td>\n",
       "      <td>16.70499</td>\n",
       "    </tr>\n",
       "  </tbody>\n",
       "</table>\n",
       "</div>"
      ],
      "text/plain": [
       "                Deaths (10.000)  Elders (% of total)\n",
       "Country                                             \n",
       "United States           27.0642             16.20961\n",
       "Brazil                  17.3817              9.25161\n",
       "India                   13.8122              6.37792\n",
       "Mexico                  10.6765              7.41666\n",
       "United Kingdom           5.9051             18.50870\n",
       "Italy                    5.6361             23.01214\n",
       "France                   5.3506             20.39137\n",
       "Spain                    4.5069             19.64782\n",
       "Argentina                3.8928             11.24311\n",
       "Colombia                 3.6934              8.76583\n",
       "Peru                     3.5923              8.39348\n",
       "South Africa             2.1535              5.41526\n",
       "Poland                   1.7150             18.11690\n",
       "Germany                  1.7123             21.56299\n",
       "Indonesia                1.6945              6.05030\n",
       "Belgium                  1.6645             19.00657\n",
       "Chile                    1.5410             11.88154\n",
       "Turkey                   1.3936              8.72628\n",
       "Ecuador                  1.3461              7.37220\n",
       "Ukraine                  1.2548             16.70499"
      ]
     },
     "execution_count": 228,
     "metadata": {},
     "output_type": "execute_result"
    }
   ],
   "source": [
    "elders = elders[['last', 'country']].rename(columns={'last': 'Elders (% of total)', 'country': 'Country'})\n",
    "elders.set_index('Country', inplace=True)\n",
    "\n",
    "covid_deaths = covid_deaths[['Country', 'LatestValue']].rename(columns={'LatestValue': 'Deaths (10.000)'}).set_index('Country')\n",
    "covid_deaths['Deaths (10.000)'] = covid_deaths['Deaths (10.000)'].apply(lambda x: x/10000)\n",
    "\n",
    "df = covid_deaths.join(elders, lsuffix='_covid_deaths', rsuffix='_elders')\n",
    "# df = df[['Population in big cities (% of total)', 'Cases (millions)']]\n",
    "df.dropna(inplace=True)\n",
    "\n",
    "df.sort_values(['Deaths (10.000)', 'Elders (% of total)'], ascending=False, inplace=True)\n",
    "df.drop('World', inplace=True)\n",
    "df = df.head(20)\n",
    "df"
   ]
  },
  {
   "cell_type": "markdown",
   "metadata": {},
   "source": [
    "Plotting"
   ]
  },
  {
   "cell_type": "code",
   "execution_count": 229,
   "metadata": {},
   "outputs": [
    {
     "data": {
      "image/png": "[encoded data removed]",
      "text/plain": [
       "<Figure size 1440x648 with 1 Axes>"
      ]
     },
     "metadata": {
      "needs_background": "light"
     },
     "output_type": "display_data"
    }
   ],
   "source": [
    "color_dict = {'Elders (% of total)': 'orange', 'Deaths (10.000)': 'black'}\n",
    "\n",
    "df.plot(\n",
    "    figsize=(20, 9),\n",
    "    kind='bar',\n",
    "    zorder=3,\n",
    "    color=[color_dict.get(x, '#333333') for x in df.columns],\n",
    "    fontsize=12\n",
    "#     titlesize=14\n",
    ")\n",
    "\n",
    "ax = plt.gca()\n",
    "\n",
    "plt.setp(\n",
    "    ax.get_xticklabels(),\n",
    "    rotation=45,\n",
    "    ha='right',\n",
    "    rotation_mode='anchor',\n",
    "    fontsize=12\n",
    ")\n",
    "\n",
    "# ax.labelsize=40\n",
    "plt.yticks(list(plt.yticks()[0]) + [2.5, 5, 7.5, 15])\n",
    "ax.yaxis.grid(zorder=0)\n",
    "ax.set_title('Coronavirus Deaths x Elders', color='black', size=20)\n",
    "plt.xlabel('Country', fontsize=16)\n",
    "plt.tight_layout()\n"
   ]
  }
 ],
 "metadata": {
  "kernelspec": {
   "display_name": "conda_python3",
   "language": "python",
   "name": "conda_python3"
  },
  "language_info": {
   "codemirror_mode": {
    "name": "ipython",
    "version": 3
   },
   "file_extension": ".py",
   "mimetype": "text/x-python",
   "name": "python",
   "nbconvert_exporter": "python",
   "pygments_lexer": "ipython3",
   "version": "3.6.10"
  }
 },
 "nbformat": 4,
 "nbformat_minor": 4
}
