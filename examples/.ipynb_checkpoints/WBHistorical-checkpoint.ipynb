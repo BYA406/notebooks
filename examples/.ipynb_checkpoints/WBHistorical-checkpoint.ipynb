{
 "cells": [
  {
   "cell_type": "code",
   "execution_count": 8,
   "metadata": {},
   "outputs": [
    {
     "data": {
      "text/plain": [
       "'You are logged in as a guest:guest'"
      ]
     },
     "execution_count": 8,
     "metadata": {},
     "output_type": "execute_result"
    }
   ],
   "source": [
    "import tradingeconomics as te\n",
    "import pandas as pd\n",
    "import plotly.graph_objects as go\n",
    "\n",
    "te.login()"
   ]
  },
  {
   "cell_type": "code",
   "execution_count": null,
   "metadata": {},
   "outputs": [],
   "source": [
    "\n",
    "data = te.getWBHistorical(series_code = 'AGO.1.1_ACCESS.ELECTRICITY.TOT', output_type='df')\n",
    "\n",
    "\n",
    "dates = pd.DatetimeIndex(data['date'])\n",
    "\n",
    "labels = dates.year\n",
    "values = data['value']\n",
    "layout = go.Layout(\n",
    "   {\n",
    "      \"title\":\"Angola's access to electricity (% of total population)\",\n",
    "\n",
    "   }\n",
    ")\n",
    "fig = go.Figure(data=[go.Pie(labels=labels, values=values)],layout = layout)\n",
    "fig.show();"
   ]
  }
 ],
 "metadata": {
  "kernelspec": {
   "display_name": "conda_python3",
   "language": "python",
   "name": "conda_python3"
  },
  "language_info": {
   "codemirror_mode": {
    "name": "ipython",
    "version": 3
   },
   "file_extension": ".py",
   "mimetype": "text/x-python",
   "name": "python",
   "nbconvert_exporter": "python",
   "pygments_lexer": "ipython3",
   "version": "3.6.10"
  }
 },
 "nbformat": 4,
 "nbformat_minor": 4
}
