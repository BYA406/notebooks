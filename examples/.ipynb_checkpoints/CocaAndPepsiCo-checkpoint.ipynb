{
 "cells": [
  {
   "cell_type": "markdown",
   "metadata": {},
   "source": [
    "Importing dependencies"
   ]
  },
  {
   "cell_type": "code",
   "execution_count": 1,
   "metadata": {},
   "outputs": [],
   "source": [
    "import tradingeconomics as te\n",
    "import matplotlib.pyplot as plt\n",
    "import pandas as pd\n",
    "import time\n",
    "from random import shuffle\n",
    "\n",
    "%matplotlib inline"
   ]
  },
  {
   "cell_type": "markdown",
   "metadata": {},
   "source": [
    "Importing data"
   ]
  },
  {
   "cell_type": "code",
   "execution_count": 2,
   "metadata": {},
   "outputs": [],
   "source": [
    "te.login()\n",
    "\n",
    "coca_cola = te.getHistorical('XB1:COM', initDate='2020-01-01')\n",
    "time.sleep(1)\n",
    "pepsico = te.getHistorical('PEP:US', initDate='2020-01-01')"
   ]
  },
  {
   "cell_type": "markdown",
   "metadata": {},
   "source": [
    "Data manipulation and creation of the dataframe to be plotted"
   ]
  },
  {
   "cell_type": "code",
   "execution_count": 3,
   "metadata": {},
   "outputs": [
    {
     "data": {
      "text/html": [
       "<div>\n",
       "<style scoped>\n",
       "    .dataframe tbody tr th:only-of-type {\n",
       "        vertical-align: middle;\n",
       "    }\n",
       "\n",
       "    .dataframe tbody tr th {\n",
       "        vertical-align: top;\n",
       "    }\n",
       "\n",
       "    .dataframe thead th {\n",
       "        text-align: right;\n",
       "    }\n",
       "</style>\n",
       "<table border=\"1\" class=\"dataframe\">\n",
       "  <thead>\n",
       "    <tr style=\"text-align: right;\">\n",
       "      <th></th>\n",
       "      <th>Coca-Cola</th>\n",
       "      <th>PepsiCo</th>\n",
       "    </tr>\n",
       "    <tr>\n",
       "      <th>Date</th>\n",
       "      <th></th>\n",
       "      <th></th>\n",
       "    </tr>\n",
       "  </thead>\n",
       "  <tbody>\n",
       "    <tr>\n",
       "      <th>2020-11-11</th>\n",
       "      <td>1.1759</td>\n",
       "      <td>143.92000</td>\n",
       "    </tr>\n",
       "    <tr>\n",
       "      <th>2020-11-12</th>\n",
       "      <td>1.1571</td>\n",
       "      <td>143.78999</td>\n",
       "    </tr>\n",
       "    <tr>\n",
       "      <th>2020-11-13</th>\n",
       "      <td>1.1254</td>\n",
       "      <td>144.78000</td>\n",
       "    </tr>\n",
       "    <tr>\n",
       "      <th>2020-11-16</th>\n",
       "      <td>1.1468</td>\n",
       "      <td>145.47501</td>\n",
       "    </tr>\n",
       "    <tr>\n",
       "      <th>2020-11-17</th>\n",
       "      <td>1.1532</td>\n",
       "      <td>145.23000</td>\n",
       "    </tr>\n",
       "    <tr>\n",
       "      <th>2020-11-18</th>\n",
       "      <td>1.1629</td>\n",
       "      <td>143.56000</td>\n",
       "    </tr>\n",
       "    <tr>\n",
       "      <th>2020-11-19</th>\n",
       "      <td>1.1625</td>\n",
       "      <td>143.45000</td>\n",
       "    </tr>\n",
       "    <tr>\n",
       "      <th>2020-11-20</th>\n",
       "      <td>1.1752</td>\n",
       "      <td>143.50000</td>\n",
       "    </tr>\n",
       "    <tr>\n",
       "      <th>2020-11-23</th>\n",
       "      <td>1.2040</td>\n",
       "      <td>143.03000</td>\n",
       "    </tr>\n",
       "    <tr>\n",
       "      <th>2020-11-24</th>\n",
       "      <td>1.2585</td>\n",
       "      <td>143.06000</td>\n",
       "    </tr>\n",
       "  </tbody>\n",
       "</table>\n",
       "</div>"
      ],
      "text/plain": [
       "            Coca-Cola    PepsiCo\n",
       "Date                            \n",
       "2020-11-11     1.1759  143.92000\n",
       "2020-11-12     1.1571  143.78999\n",
       "2020-11-13     1.1254  144.78000\n",
       "2020-11-16     1.1468  145.47501\n",
       "2020-11-17     1.1532  145.23000\n",
       "2020-11-18     1.1629  143.56000\n",
       "2020-11-19     1.1625  143.45000\n",
       "2020-11-20     1.1752  143.50000\n",
       "2020-11-23     1.2040  143.03000\n",
       "2020-11-24     1.2585  143.06000"
      ]
     },
     "execution_count": 3,
     "metadata": {},
     "output_type": "execute_result"
    }
   ],
   "source": [
    "coca_cola = coca_cola[['Date', 'Close']].rename(columns={'Close': 'Coca-Cola'}, inplace=False)\n",
    "pepsico = pepsico[['Date', 'Close']].rename(columns={'Close': 'PepsiCo'}, inplace=False)\n",
    "\n",
    "df = pd.merge(coca_cola, pepsico, on='Date')\n",
    "\n",
    "df['Date'] = pd.to_datetime(df['Date'], format=\"%d/%m/%Y\")\n",
    "df.sort_values(['Date'], inplace=True)\n",
    "df.set_index('Date', inplace=True)\n",
    "df"
   ]
  },
  {
   "cell_type": "markdown",
   "metadata": {},
   "source": [
    "Creating a useful function for plotting the graph"
   ]
  },
  {
   "cell_type": "code",
   "execution_count": 4,
   "metadata": {},
   "outputs": [],
   "source": [
    "# the easiest thing is that you don’t need to touch the function unless you want to configure the legend settings\n",
    "def plot_multi(data, cols=None, spacing=.1, **kwargs):\n",
    "    from pandas import plotting\n",
    "    import matplotlib.colors as mcolors\n",
    "\n",
    "    # Get default color style from pandas - can be changed to any other color list\n",
    "    if cols is None: cols = data.columns\n",
    "    if len(cols) == 0: return\n",
    "\n",
    "    colors = list(mcolors.BASE_COLORS.keys())\n",
    "    ## ['b', 'c', 'g', 'k', 'm', 'r', 'w', 'y']\n",
    "    shuffle(colors)\n",
    "\n",
    "    # First axis\n",
    "    ax = data.loc[:, cols[0]].plot(label=cols[0], color=colors[0], **kwargs)\n",
    "    ax.set_ylabel(ylabel=cols[0])\n",
    "    lines, labels = ax.get_legend_handles_labels()\n",
    "\n",
    "    for n in range(1, len(cols)):\n",
    "        # Multiple y-axes\n",
    "        ax_new = ax.twinx()\n",
    "        ax_new.spines['right'].set_position(('axes', 1 + spacing * (n - 1)))\n",
    "        data.loc[:, cols[n]].plot(ax=ax_new, label=cols[n], color=colors[n % len(colors)], **kwargs)\n",
    "        ax_new.set_ylabel(ylabel=cols[n])\n",
    "\n",
    "        # Proper legend position\n",
    "        line, label = ax_new.get_legend_handles_labels()\n",
    "        lines += line\n",
    "        labels += label\n",
    "\n",
    "    ax.legend(lines, labels, loc='lower right', bbox_to_anchor=(1, 1))\n",
    "    return ax"
   ]
  },
  {
   "cell_type": "markdown",
   "metadata": {},
   "source": [
    "Plotting"
   ]
  },
  {
   "cell_type": "code",
   "execution_count": 5,
   "metadata": {},
   "outputs": [
    {
     "data": {
      "image/png": "[encoded data removed]",
      "text/plain": [
       "<Figure size 1080x360 with 2 Axes>"
      ]
     },
     "metadata": {
      "needs_background": "light"
     },
     "output_type": "display_data"
    }
   ],
   "source": [
    "# for s in plt.style.available: print(s) # If you want to know what styles are available\n",
    "plt.style.use('seaborn-paper')\n",
    "ax = plot_multi(df, figsize=(15, 5))\n",
    "ax.set_title('Coca-Cola/PepsiCo Comparison', color='black', size=20)\n",
    "plt.tight_layout()\n",
    "\n",
    "# PS: the colors of the lines are random, if one of them does not appear it is probably because it has the same color as the background, run the script again if applicable"
   ]
  }
 ],
 "metadata": {
  "kernelspec": {
   "display_name": "conda_python3",
   "language": "python",
   "name": "conda_python3"
  },
  "language_info": {
   "codemirror_mode": {
    "name": "ipython",
    "version": 3
   },
   "file_extension": ".py",
   "mimetype": "text/x-python",
   "name": "python",
   "nbconvert_exporter": "python",
   "pygments_lexer": "ipython3",
   "version": "3.6.10"
  }
 },
 "nbformat": 4,
 "nbformat_minor": 4
}
