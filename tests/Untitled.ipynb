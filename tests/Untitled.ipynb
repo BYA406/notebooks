{
 "cells": [
  {
   "cell_type": "code",
   "execution_count": 1,
   "metadata": {},
   "outputs": [],
   "source": [
    "import tradingeconomics as te"
   ]
  },
  {
   "cell_type": "code",
   "execution_count": 2,
   "metadata": {},
   "outputs": [
    {
     "data": {
      "text/plain": [
       "'You are logged in as a yu06vzmlllju1qz:mtvmbg847pwz3jn'"
      ]
     },
     "execution_count": 2,
     "metadata": {},
     "output_type": "execute_result"
    }
   ],
   "source": [
    "te.login('yu06vzmlllju1qz:mtvmbg847pwz3jn')"
   ]
  },
  {
   "cell_type": "code",
   "execution_count": 3,
   "metadata": {},
   "outputs": [
    {
     "name": "stdout",
     "output_type": "stream",
     "text": [
      "           Country                  Category             DateTime     Value  \\\n",
      "0           Brazil  Consumer Price Index CPI  2017-01-31T00:00:00  4793.850   \n",
      "1            China  Consumer Price Index CPI  2017-01-31T00:00:00   103.700   \n",
      "2          Germany  Consumer Price Index CPI  2017-01-31T00:00:00   100.600   \n",
      "3            India  Consumer Price Index CPI  2017-01-31T00:00:00   130.300   \n",
      "4           Mexico  Consumer Price Index CPI  2017-01-31T00:00:00    93.600   \n",
      "..             ...                       ...                  ...       ...   \n",
      "379          India  Consumer Price Index CPI  2020-12-31T00:00:00   157.300   \n",
      "380         Mexico  Consumer Price Index CPI  2020-12-31T00:00:00   109.271   \n",
      "381         Russia  Consumer Price Index CPI  2020-12-31T00:00:00   621.200   \n",
      "382         Turkey  Consumer Price Index CPI  2020-12-31T00:00:00   504.810   \n",
      "383  United States  Consumer Price Index CPI  2020-12-31T00:00:00   261.775   \n",
      "\n",
      "    Frequency  HistoricalDataSymbol           LastUpdate  \n",
      "0     Monthly    BRAZILCONPRIINDCPI  2017-02-08T11:19:00  \n",
      "1     Monthly     CHINACONPRIINDCPI  2020-06-01T13:33:00  \n",
      "2     Monthly   GERMANYCONPRIINDCPI  2019-02-21T07:43:00  \n",
      "3     Monthly     INDIACONPRIINDCPI  2017-02-13T12:11:00  \n",
      "4     Monthly    MEXICOCONPRIINDCPI  2018-09-07T14:47:00  \n",
      "..        ...                   ...                  ...  \n",
      "379   Monthly     INDIACONPRIINDCPI  2021-01-12T12:55:00  \n",
      "380   Monthly    MEXICOCONPRIINDCPI  2021-01-07T12:22:00  \n",
      "381   Monthly    RUSSIACONPRIINDCPI  2021-01-02T10:04:00  \n",
      "382   Monthly    TURKEYCONPRIINDCPI  2021-01-04T07:23:00  \n",
      "383   Monthly  UNITEDSTACONPRIINDCP  2021-01-13T13:36:00  \n",
      "\n",
      "[384 rows x 7 columns]\n"
     ]
    }
   ],
   "source": [
    "\n",
    "mydata = te.getHistoricalData(country=['united states', 'china', 'mexico', 'brazil', 'india', 'turkey', 'russia', 'germany'], \n",
    "                              indicator='Consumer Price Index CPI', initDate='2017-01-01', endDate='2021-01-12', output_type='df')\n",
    "print(mydata)\n"
   ]
  },
  {
   "cell_type": "code",
   "execution_count": null,
   "metadata": {},
   "outputs": [],
   "source": []
  }
 ],
 "metadata": {
  "kernelspec": {
   "display_name": "conda_python3",
   "language": "python",
   "name": "conda_python3"
  },
  "language_info": {
   "codemirror_mode": {
    "name": "ipython",
    "version": 3
   },
   "file_extension": ".py",
   "mimetype": "text/x-python",
   "name": "python",
   "nbconvert_exporter": "python",
   "pygments_lexer": "ipython3",
   "version": "3.6.10"
  }
 },
 "nbformat": 4,
 "nbformat_minor": 4
}
