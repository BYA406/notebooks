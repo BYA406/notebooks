{
 "cells": [
  {
   "cell_type": "markdown",
   "id": "02de4adc",
   "metadata": {},
   "source": [
    "## Getting Moving Average Convergence Divergence For Markets"
   ]
  },
  {
   "cell_type": "markdown",
   "id": "9ab393b9",
   "metadata": {},
   "source": [
    "#### Importing Dependencies"
   ]
  },
  {
   "cell_type": "code",
   "execution_count": 1,
   "id": "ba3e973f",
   "metadata": {},
   "outputs": [],
   "source": [
    "import tradingeconomics as te\n",
    "from stockstats import StockDataFrame\n",
    "from datetime import datetime, timedelta\n",
    "import matplotlib.pyplot as plt"
   ]
  },
  {
   "cell_type": "markdown",
   "id": "d03b499a",
   "metadata": {},
   "source": [
    "#### API login\n"
   ]
  },
  {
   "cell_type": "code",
   "execution_count": 27,
   "id": "4b416966",
   "metadata": {},
   "outputs": [
    {
     "data": {
      "text/plain": [
       "'You are logged in as a jupyter:jupyter'"
      ]
     },
     "execution_count": 27,
     "metadata": {},
     "output_type": "execute_result"
    }
   ],
   "source": [
    "te.login(\"jupyter:jupyter\") # Signup for a free API key at https://developer.tradingeconomics.com/"
   ]
  },
  {
   "cell_type": "markdown",
   "id": "36989706",
   "metadata": {},
   "source": [
    "### Importing and Treating Data"
   ]
  },
  {
   "cell_type": "code",
   "execution_count": 3,
   "id": "cefd7331",
   "metadata": {},
   "outputs": [],
   "source": [
    "symbol=\"EURUSD:CUR\"\n",
    "total_days_interval = 180\n",
    "initDate = str((datetime.today() - timedelta(days=total_days_interval)).date())\n",
    "endDate = str((datetime.now() + timedelta(days=1)).date())\n"
   ]
  },
  {
   "cell_type": "code",
   "execution_count": 4,
   "id": "fe52034f",
   "metadata": {},
   "outputs": [],
   "source": [
    "df = te.fetchMarkets(symbol=symbol, initDate=initDate, endDate=endDate, output_type=\"df\")"
   ]
  },
  {
   "cell_type": "code",
   "execution_count": 5,
   "id": "4654fe56",
   "metadata": {},
   "outputs": [],
   "source": [
    "stock_df = StockDataFrame.retype(df)"
   ]
  },
  {
   "cell_type": "code",
   "execution_count": 6,
   "id": "ff598ad1",
   "metadata": {
    "scrolled": true
   },
   "outputs": [
    {
     "data": {
      "text/html": [
       "<div>\n",
       "<style scoped>\n",
       "    .dataframe tbody tr th:only-of-type {\n",
       "        vertical-align: middle;\n",
       "    }\n",
       "\n",
       "    .dataframe tbody tr th {\n",
       "        vertical-align: top;\n",
       "    }\n",
       "\n",
       "    .dataframe thead th {\n",
       "        text-align: right;\n",
       "    }\n",
       "</style>\n",
       "<table border=\"1\" class=\"dataframe\">\n",
       "  <thead>\n",
       "    <tr style=\"text-align: right;\">\n",
       "      <th></th>\n",
       "      <th>symbol</th>\n",
       "      <th>open</th>\n",
       "      <th>high</th>\n",
       "      <th>low</th>\n",
       "      <th>close</th>\n",
       "    </tr>\n",
       "  </thead>\n",
       "  <tbody>\n",
       "    <tr>\n",
       "      <th>2021-08-05</th>\n",
       "      <td>EURUSD:CUR</td>\n",
       "      <td>1.18432</td>\n",
       "      <td>1.18557</td>\n",
       "      <td>1.18291</td>\n",
       "      <td>1.18358</td>\n",
       "    </tr>\n",
       "    <tr>\n",
       "      <th>2021-08-04</th>\n",
       "      <td>EURUSD:CUR</td>\n",
       "      <td>1.18663</td>\n",
       "      <td>1.18991</td>\n",
       "      <td>1.18333</td>\n",
       "      <td>1.18376</td>\n",
       "    </tr>\n",
       "    <tr>\n",
       "      <th>2021-08-03</th>\n",
       "      <td>EURUSD:CUR</td>\n",
       "      <td>1.18663</td>\n",
       "      <td>1.18928</td>\n",
       "      <td>1.18539</td>\n",
       "      <td>1.18692</td>\n",
       "    </tr>\n",
       "    <tr>\n",
       "      <th>2021-08-02</th>\n",
       "      <td>EURUSD:CUR</td>\n",
       "      <td>1.18663</td>\n",
       "      <td>1.18958</td>\n",
       "      <td>1.18592</td>\n",
       "      <td>1.18730</td>\n",
       "    </tr>\n",
       "    <tr>\n",
       "      <th>2021-08-01</th>\n",
       "      <td>EURUSD:CUR</td>\n",
       "      <td>1.18856</td>\n",
       "      <td>1.18856</td>\n",
       "      <td>1.18622</td>\n",
       "      <td>1.18638</td>\n",
       "    </tr>\n",
       "    <tr>\n",
       "      <th>...</th>\n",
       "      <td>...</td>\n",
       "      <td>...</td>\n",
       "      <td>...</td>\n",
       "      <td>...</td>\n",
       "      <td>...</td>\n",
       "    </tr>\n",
       "    <tr>\n",
       "      <th>2021-02-11</th>\n",
       "      <td>EURUSD:CUR</td>\n",
       "      <td>1.21242</td>\n",
       "      <td>1.21482</td>\n",
       "      <td>1.21138</td>\n",
       "      <td>1.21306</td>\n",
       "    </tr>\n",
       "    <tr>\n",
       "      <th>2021-02-10</th>\n",
       "      <td>EURUSD:CUR</td>\n",
       "      <td>1.20915</td>\n",
       "      <td>1.21434</td>\n",
       "      <td>1.20915</td>\n",
       "      <td>1.21178</td>\n",
       "    </tr>\n",
       "    <tr>\n",
       "      <th>2021-02-09</th>\n",
       "      <td>EURUSD:CUR</td>\n",
       "      <td>1.20565</td>\n",
       "      <td>1.21209</td>\n",
       "      <td>1.20498</td>\n",
       "      <td>1.21177</td>\n",
       "    </tr>\n",
       "    <tr>\n",
       "      <th>2021-02-08</th>\n",
       "      <td>EURUSD:CUR</td>\n",
       "      <td>1.20348</td>\n",
       "      <td>1.20646</td>\n",
       "      <td>1.20205</td>\n",
       "      <td>1.20521</td>\n",
       "    </tr>\n",
       "    <tr>\n",
       "      <th>2021-02-07</th>\n",
       "      <td>EURUSD:CUR</td>\n",
       "      <td>1.20239</td>\n",
       "      <td>1.20504</td>\n",
       "      <td>1.20239</td>\n",
       "      <td>1.20471</td>\n",
       "    </tr>\n",
       "  </tbody>\n",
       "</table>\n",
       "<p>153 rows × 5 columns</p>\n",
       "</div>"
      ],
      "text/plain": [
       "                symbol     open     high      low    close\n",
       "2021-08-05  EURUSD:CUR  1.18432  1.18557  1.18291  1.18358\n",
       "2021-08-04  EURUSD:CUR  1.18663  1.18991  1.18333  1.18376\n",
       "2021-08-03  EURUSD:CUR  1.18663  1.18928  1.18539  1.18692\n",
       "2021-08-02  EURUSD:CUR  1.18663  1.18958  1.18592  1.18730\n",
       "2021-08-01  EURUSD:CUR  1.18856  1.18856  1.18622  1.18638\n",
       "...                ...      ...      ...      ...      ...\n",
       "2021-02-11  EURUSD:CUR  1.21242  1.21482  1.21138  1.21306\n",
       "2021-02-10  EURUSD:CUR  1.20915  1.21434  1.20915  1.21178\n",
       "2021-02-09  EURUSD:CUR  1.20565  1.21209  1.20498  1.21177\n",
       "2021-02-08  EURUSD:CUR  1.20348  1.20646  1.20205  1.20521\n",
       "2021-02-07  EURUSD:CUR  1.20239  1.20504  1.20239  1.20471\n",
       "\n",
       "[153 rows x 5 columns]"
      ]
     },
     "execution_count": 6,
     "metadata": {},
     "output_type": "execute_result"
    }
   ],
   "source": [
    "stock_df"
   ]
  },
  {
   "cell_type": "markdown",
   "id": "cda756dc",
   "metadata": {},
   "source": [
    "#### Plot Request\n"
   ]
  },
  {
   "cell_type": "code",
   "execution_count": 26,
   "id": "e8e2394d",
   "metadata": {},
   "outputs": [
    {
     "data": {
      "text/plain": [
       "<matplotlib.legend.Legend at 0x13370bf9a90>"
      ]
     },
     "execution_count": 26,
     "metadata": {},
     "output_type": "execute_result"
    },
    {
     "data": {
      "image/png": "[encoded data removed]",
      "text/plain": [
       "<Figure size 1080x360 with 1 Axes>"
      ]
     },
     "metadata": {
      "needs_background": "light"
     },
     "output_type": "display_data"
    }
   ],
   "source": [
    "fig, ax = plt.subplots(figsize=(15,5))  # Create a figure and an axes.\n",
    "ax.plot(stock_df['macd'], label='MACD')  # Plot some data on the axes.\n",
    "ax.plot(stock_df['macds'], label='MACD signal line')  # Plot some data on the axes.\n",
    "\n",
    "ax.set_xlabel('Date')  # Add an x-label to the axes.\n",
    "ax.set_ylabel('')  # Add a y-label to the axes.\n",
    "ax.set_title(\"Moving Average Convergence Divergence (MACD)\")  # Add a title to the axes.\n",
    "ax.legend()  # Add a legend."
   ]
  },
  {
   "cell_type": "code",
   "execution_count": null,
   "id": "af635679",
   "metadata": {},
   "outputs": [],
   "source": []
  }
 ],
 "metadata": {
  "kernelspec": {
   "display_name": "Python 3",
   "language": "python",
   "name": "python3"
  },
  "language_info": {
   "codemirror_mode": {
    "name": "ipython",
    "version": 3
   },
   "file_extension": ".py",
   "mimetype": "text/x-python",
   "name": "python",
   "nbconvert_exporter": "python",
   "pygments_lexer": "ipython3",
   "version": "3.8.8"
  }
 },
 "nbformat": 4,
 "nbformat_minor": 5
}
